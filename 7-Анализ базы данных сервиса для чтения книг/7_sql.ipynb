{
 "cells": [
  {
   "cell_type": "markdown",
   "metadata": {},
   "source": [
    "# Проектная работа\n",
    "# Тема: \"SQL\" Анализ базы данных сервиса для чтения книг"
   ]
  },
  {
   "cell_type": "markdown",
   "metadata": {},
   "source": [
    "**Описание проекта**\n",
    "\n",
    "Коронавирус застал мир врасплох, изменив привычный порядок вещей. В свободное время жители городов больше не выходят на улицу, не посещают кафе и торговые центры. Зато стало больше времени для книг. Это заметили стартаперы — и бросились создавать приложения для тех, кто любит читать.\n",
    "\n",
    "Ваша компания решила быть на волне и купила крупный сервис для чтения книг по подписке. Ваша первая задача как аналитика — проанализировать базу данных.\n",
    "В ней — информация о книгах, издательствах, авторах, а также пользовательские обзоры книг. Эти данные помогут сформулировать ценностное предложение для нового продукта.\n",
    "\n",
    "**Задания**\n",
    "- Посчитайте, сколько книг вышло после 1 января 2000 года;\n",
    "- Для каждой книги посчитайте количество обзоров и среднюю оценку;\n",
    "- Определите издательство, которое выпустило наибольшее число книг толще 50 страниц — так вы исключите из анализа брошюры;\n",
    "- Определите автора с самой высокой средней оценкой книг — учитывайте только книги с 50 и более оценками;\n",
    "- Посчитайте среднее количество обзоров от пользователей, которые поставили больше 48 оценок.\n",
    "\n",
    "**Задачи проекта**\n",
    "- Описать цели исследования;\n",
    "- Исследовать таблицы — вывести первые строки;\n",
    "- Сделать по одному SQL-запросу для решения каждого задания;\n",
    "- Вывести результат каждого запроса в тетрадке;\n",
    "- Описать выводы по каждой из решённых задач.\n",
    "\n",
    "**Описание данных**\n",
    "\n",
    "**Таблица `books`**\n",
    "\n",
    "Содержит данные о книгах:\n",
    "\n",
    "- `book_id` — идентификатор книги;\n",
    "- `author_id` — идентификатор автора;\n",
    "- `title` — название книги;\n",
    "- `num_pages` — количество страниц;\n",
    "- `publication_date` — дата публикации книги;\n",
    "- `publisher_id` — идентификатор издателя.\n",
    "\n",
    "**Таблица `authors`**\n",
    "\n",
    "Содержит данные об авторах:\n",
    "\n",
    "- `author_id` — идентификатор автора;\n",
    "- `author` — имя автора.\n",
    "\n",
    "**Таблица `publishers`**\n",
    "\n",
    "Содержит данные об издательствах:\n",
    "\n",
    "- `publisher_id` — идентификатор издательства;\n",
    "- `publisher` — название издательства;\n",
    "\n",
    "**Таблица `ratings`**\n",
    "\n",
    "Содержит данные о пользовательских оценках книг:\n",
    "\n",
    "- `rating_id` — идентификатор оценки;\n",
    "- `book_id` — идентификатор книги;\n",
    "- `username` — имя пользователя, оставившего оценку;\n",
    "- `rating` — оценка книги.\n",
    "\n",
    "**Таблица `reviews`**\n",
    "\n",
    "Содержит данные о пользовательских обзорах на книги:\n",
    "\n",
    "- `review_id` — идентификатор обзора;\n",
    "- `book_id` — идентификатор книги;\n",
    "- `username` — имя пользователя, написавшего обзор;\n",
    "- `text` — текст обзора."
   ]
  },
  {
   "cell_type": "markdown",
   "metadata": {},
   "source": [
    "![Описание изображения](https://concrete-web-bad.notion.site/image/https%3A%2F%2Fs3-us-west-2.amazonaws.com%2Fsecure.notion-static.com%2F069818d1-0e5c-4d87-a461-0de584ab9c33%2FUntitled_(33).png?id=bd53c8db-b4fd-49eb-8cc9-572ebb3c9163&table=block&spaceId=9e4bd47b-c6e6-4ca3-bcee-279794b47315&width=2000&userId=&cache=v2)"
   ]
  },
  {
   "cell_type": "markdown",
   "metadata": {
    "toc": true
   },
   "source": [
    "<h1>План работы<span class=\"tocSkip\"></span></h1>\n",
    "<div class=\"toc\"><ul class=\"toc-item\"><li><span><a href=\"#Загрузка-данных\" data-toc-modified-id=\"Загрузка-данных-1\"><span class=\"toc-item-num\">1&nbsp;&nbsp;</span>Загрузка данных</a></span></li><li><span><a href=\"#Исследование-таблиц\" data-toc-modified-id=\"Исследование-таблиц-2\"><span class=\"toc-item-num\">2&nbsp;&nbsp;</span>Исследование таблиц</a></span></li><li><span><a href=\"#Решение-задач\" data-toc-modified-id=\"Решение-задач-3\"><span class=\"toc-item-num\">3&nbsp;&nbsp;</span>Решение задач</a></span><ul class=\"toc-item\"><li><span><a href=\"#Задача-№1\" data-toc-modified-id=\"Задача-№1-3.1\"><span class=\"toc-item-num\">3.1&nbsp;&nbsp;</span>Задача №1</a></span></li><li><span><a href=\"#Задача-№2\" data-toc-modified-id=\"Задача-№2-3.2\"><span class=\"toc-item-num\">3.2&nbsp;&nbsp;</span>Задача №2</a></span></li><li><span><a href=\"#Задача-№3\" data-toc-modified-id=\"Задача-№3-3.3\"><span class=\"toc-item-num\">3.3&nbsp;&nbsp;</span>Задача №3</a></span></li><li><span><a href=\"#Задача-№4\" data-toc-modified-id=\"Задача-№4-3.4\"><span class=\"toc-item-num\">3.4&nbsp;&nbsp;</span>Задача №4</a></span></li><li><span><a href=\"#Задача-№5\" data-toc-modified-id=\"Задача-№5-3.5\"><span class=\"toc-item-num\">3.5&nbsp;&nbsp;</span>Задача №5</a></span></li></ul></li><li><span><a href=\"#Общий-вывод\" data-toc-modified-id=\"Общий-вывод-4\"><span class=\"toc-item-num\">4&nbsp;&nbsp;</span>Общий вывод</a></span></li><li><span><a href=\"#Рекомендации\" data-toc-modified-id=\"Рекомендации-5\"><span class=\"toc-item-num\">5&nbsp;&nbsp;</span>Рекомендации</a></span></li></ul></div>"
   ]
  },
  {
   "cell_type": "markdown",
   "metadata": {},
   "source": [
    "## Загрузка данных"
   ]
  },
  {
   "cell_type": "code",
   "execution_count": 6,
   "metadata": {},
   "outputs": [],
   "source": [
    "# импортируем библиотеки\n",
    "import pandas as pd\n",
    "from sqlalchemy import text, create_engine\n",
    "\n",
    "pd.set_option('display.max_columns', 30)"
   ]
  },
  {
   "cell_type": "code",
   "execution_count": 7,
   "metadata": {},
   "outputs": [],
   "source": [
    "# устанавливаем параметры\n",
    "db_config = {'user': 'praktikum_student', # имя пользователя\n",
    "'pwd': 'Sdf4$2;d-d30pp', # пароль\n",
    "'host': 'rc1b-wcoijxj3yxfsf3fs.mdb.yandexcloud.net',\n",
    "'port': 6432, # порт подключения\n",
    "'db': 'data-analyst-final-project-db'} # название базы данных\n",
    "connection_string = 'postgresql://{user}:{pwd}@{host}:{port}/{db}'.format(**db_config)\n",
    "\n",
    "# сохраняем коннектор\n",
    "engine = create_engine(connection_string, connect_args={'sslmode':'require'})"
   ]
  },
  {
   "cell_type": "markdown",
   "metadata": {},
   "source": [
    "## Исследование таблиц"
   ]
  },
  {
   "cell_type": "markdown",
   "metadata": {},
   "source": [
    "Выведем первые 5 строк каждой таблицы:"
   ]
  },
  {
   "cell_type": "code",
   "execution_count": 11,
   "metadata": {},
   "outputs": [
    {
     "data": {
      "text/html": [
       "<div>\n",
       "<style scoped>\n",
       "    .dataframe tbody tr th:only-of-type {\n",
       "        vertical-align: middle;\n",
       "    }\n",
       "\n",
       "    .dataframe tbody tr th {\n",
       "        vertical-align: top;\n",
       "    }\n",
       "\n",
       "    .dataframe thead th {\n",
       "        text-align: right;\n",
       "    }\n",
       "</style>\n",
       "<table border=\"1\" class=\"dataframe\">\n",
       "  <thead>\n",
       "    <tr style=\"text-align: right;\">\n",
       "      <th></th>\n",
       "      <th>book_id</th>\n",
       "      <th>author_id</th>\n",
       "      <th>title</th>\n",
       "      <th>num_pages</th>\n",
       "      <th>publication_date</th>\n",
       "      <th>publisher_id</th>\n",
       "    </tr>\n",
       "  </thead>\n",
       "  <tbody>\n",
       "    <tr>\n",
       "      <th>0</th>\n",
       "      <td>1</td>\n",
       "      <td>546</td>\n",
       "      <td>'Salem's Lot</td>\n",
       "      <td>594</td>\n",
       "      <td>2005-11-01</td>\n",
       "      <td>93</td>\n",
       "    </tr>\n",
       "    <tr>\n",
       "      <th>1</th>\n",
       "      <td>2</td>\n",
       "      <td>465</td>\n",
       "      <td>1 000 Places to See Before You Die</td>\n",
       "      <td>992</td>\n",
       "      <td>2003-05-22</td>\n",
       "      <td>336</td>\n",
       "    </tr>\n",
       "    <tr>\n",
       "      <th>2</th>\n",
       "      <td>3</td>\n",
       "      <td>407</td>\n",
       "      <td>13 Little Blue Envelopes (Little Blue Envelope...</td>\n",
       "      <td>322</td>\n",
       "      <td>2010-12-21</td>\n",
       "      <td>135</td>\n",
       "    </tr>\n",
       "    <tr>\n",
       "      <th>3</th>\n",
       "      <td>4</td>\n",
       "      <td>82</td>\n",
       "      <td>1491: New Revelations of the Americas Before C...</td>\n",
       "      <td>541</td>\n",
       "      <td>2006-10-10</td>\n",
       "      <td>309</td>\n",
       "    </tr>\n",
       "    <tr>\n",
       "      <th>4</th>\n",
       "      <td>5</td>\n",
       "      <td>125</td>\n",
       "      <td>1776</td>\n",
       "      <td>386</td>\n",
       "      <td>2006-07-04</td>\n",
       "      <td>268</td>\n",
       "    </tr>\n",
       "  </tbody>\n",
       "</table>\n",
       "</div>"
      ],
      "text/plain": [
       "   book_id  author_id                                              title  \\\n",
       "0        1        546                                       'Salem's Lot   \n",
       "1        2        465                 1 000 Places to See Before You Die   \n",
       "2        3        407  13 Little Blue Envelopes (Little Blue Envelope...   \n",
       "3        4         82  1491: New Revelations of the Americas Before C...   \n",
       "4        5        125                                               1776   \n",
       "\n",
       "   num_pages publication_date  publisher_id  \n",
       "0        594       2005-11-01            93  \n",
       "1        992       2003-05-22           336  \n",
       "2        322       2010-12-21           135  \n",
       "3        541       2006-10-10           309  \n",
       "4        386       2006-07-04           268  "
      ]
     },
     "execution_count": 11,
     "metadata": {},
     "output_type": "execute_result"
    }
   ],
   "source": [
    "#таблица books\n",
    "books = '''SELECT * FROM books LIMIT 5'''\n",
    "\n",
    "con = engine.connect()\n",
    "pd.io.sql.read_sql(sql=text(books), con = con)"
   ]
  },
  {
   "cell_type": "code",
   "execution_count": 12,
   "metadata": {},
   "outputs": [
    {
     "data": {
      "text/html": [
       "<div>\n",
       "<style scoped>\n",
       "    .dataframe tbody tr th:only-of-type {\n",
       "        vertical-align: middle;\n",
       "    }\n",
       "\n",
       "    .dataframe tbody tr th {\n",
       "        vertical-align: top;\n",
       "    }\n",
       "\n",
       "    .dataframe thead th {\n",
       "        text-align: right;\n",
       "    }\n",
       "</style>\n",
       "<table border=\"1\" class=\"dataframe\">\n",
       "  <thead>\n",
       "    <tr style=\"text-align: right;\">\n",
       "      <th></th>\n",
       "      <th>author_id</th>\n",
       "      <th>author</th>\n",
       "    </tr>\n",
       "  </thead>\n",
       "  <tbody>\n",
       "    <tr>\n",
       "      <th>0</th>\n",
       "      <td>1</td>\n",
       "      <td>A.S. Byatt</td>\n",
       "    </tr>\n",
       "    <tr>\n",
       "      <th>1</th>\n",
       "      <td>2</td>\n",
       "      <td>Aesop/Laura Harris/Laura Gibbs</td>\n",
       "    </tr>\n",
       "    <tr>\n",
       "      <th>2</th>\n",
       "      <td>3</td>\n",
       "      <td>Agatha Christie</td>\n",
       "    </tr>\n",
       "    <tr>\n",
       "      <th>3</th>\n",
       "      <td>4</td>\n",
       "      <td>Alan Brennert</td>\n",
       "    </tr>\n",
       "    <tr>\n",
       "      <th>4</th>\n",
       "      <td>5</td>\n",
       "      <td>Alan Moore/David   Lloyd</td>\n",
       "    </tr>\n",
       "  </tbody>\n",
       "</table>\n",
       "</div>"
      ],
      "text/plain": [
       "   author_id                          author\n",
       "0          1                      A.S. Byatt\n",
       "1          2  Aesop/Laura Harris/Laura Gibbs\n",
       "2          3                 Agatha Christie\n",
       "3          4                   Alan Brennert\n",
       "4          5        Alan Moore/David   Lloyd"
      ]
     },
     "execution_count": 12,
     "metadata": {},
     "output_type": "execute_result"
    }
   ],
   "source": [
    "#таблица authors\n",
    "authors = '''SELECT * FROM authors LIMIT 5'''\n",
    "\n",
    "pd.io.sql.read_sql(sql=text(authors), con = con)"
   ]
  },
  {
   "cell_type": "code",
   "execution_count": 13,
   "metadata": {},
   "outputs": [
    {
     "data": {
      "text/html": [
       "<div>\n",
       "<style scoped>\n",
       "    .dataframe tbody tr th:only-of-type {\n",
       "        vertical-align: middle;\n",
       "    }\n",
       "\n",
       "    .dataframe tbody tr th {\n",
       "        vertical-align: top;\n",
       "    }\n",
       "\n",
       "    .dataframe thead th {\n",
       "        text-align: right;\n",
       "    }\n",
       "</style>\n",
       "<table border=\"1\" class=\"dataframe\">\n",
       "  <thead>\n",
       "    <tr style=\"text-align: right;\">\n",
       "      <th></th>\n",
       "      <th>publisher_id</th>\n",
       "      <th>publisher</th>\n",
       "    </tr>\n",
       "  </thead>\n",
       "  <tbody>\n",
       "    <tr>\n",
       "      <th>0</th>\n",
       "      <td>1</td>\n",
       "      <td>Ace</td>\n",
       "    </tr>\n",
       "    <tr>\n",
       "      <th>1</th>\n",
       "      <td>2</td>\n",
       "      <td>Ace Book</td>\n",
       "    </tr>\n",
       "    <tr>\n",
       "      <th>2</th>\n",
       "      <td>3</td>\n",
       "      <td>Ace Books</td>\n",
       "    </tr>\n",
       "    <tr>\n",
       "      <th>3</th>\n",
       "      <td>4</td>\n",
       "      <td>Ace Hardcover</td>\n",
       "    </tr>\n",
       "    <tr>\n",
       "      <th>4</th>\n",
       "      <td>5</td>\n",
       "      <td>Addison Wesley Publishing Company</td>\n",
       "    </tr>\n",
       "  </tbody>\n",
       "</table>\n",
       "</div>"
      ],
      "text/plain": [
       "   publisher_id                          publisher\n",
       "0             1                                Ace\n",
       "1             2                           Ace Book\n",
       "2             3                          Ace Books\n",
       "3             4                      Ace Hardcover\n",
       "4             5  Addison Wesley Publishing Company"
      ]
     },
     "execution_count": 13,
     "metadata": {},
     "output_type": "execute_result"
    }
   ],
   "source": [
    "#таблица publishers\n",
    "publishers = '''SELECT * FROM publishers LIMIT 5'''\n",
    "\n",
    "pd.io.sql.read_sql(sql=text(publishers), con = con)"
   ]
  },
  {
   "cell_type": "code",
   "execution_count": 14,
   "metadata": {},
   "outputs": [
    {
     "data": {
      "text/html": [
       "<div>\n",
       "<style scoped>\n",
       "    .dataframe tbody tr th:only-of-type {\n",
       "        vertical-align: middle;\n",
       "    }\n",
       "\n",
       "    .dataframe tbody tr th {\n",
       "        vertical-align: top;\n",
       "    }\n",
       "\n",
       "    .dataframe thead th {\n",
       "        text-align: right;\n",
       "    }\n",
       "</style>\n",
       "<table border=\"1\" class=\"dataframe\">\n",
       "  <thead>\n",
       "    <tr style=\"text-align: right;\">\n",
       "      <th></th>\n",
       "      <th>rating_id</th>\n",
       "      <th>book_id</th>\n",
       "      <th>username</th>\n",
       "      <th>rating</th>\n",
       "    </tr>\n",
       "  </thead>\n",
       "  <tbody>\n",
       "    <tr>\n",
       "      <th>0</th>\n",
       "      <td>1</td>\n",
       "      <td>1</td>\n",
       "      <td>ryanfranco</td>\n",
       "      <td>4</td>\n",
       "    </tr>\n",
       "    <tr>\n",
       "      <th>1</th>\n",
       "      <td>2</td>\n",
       "      <td>1</td>\n",
       "      <td>grantpatricia</td>\n",
       "      <td>2</td>\n",
       "    </tr>\n",
       "    <tr>\n",
       "      <th>2</th>\n",
       "      <td>3</td>\n",
       "      <td>1</td>\n",
       "      <td>brandtandrea</td>\n",
       "      <td>5</td>\n",
       "    </tr>\n",
       "    <tr>\n",
       "      <th>3</th>\n",
       "      <td>4</td>\n",
       "      <td>2</td>\n",
       "      <td>lorichen</td>\n",
       "      <td>3</td>\n",
       "    </tr>\n",
       "    <tr>\n",
       "      <th>4</th>\n",
       "      <td>5</td>\n",
       "      <td>2</td>\n",
       "      <td>mariokeller</td>\n",
       "      <td>2</td>\n",
       "    </tr>\n",
       "  </tbody>\n",
       "</table>\n",
       "</div>"
      ],
      "text/plain": [
       "   rating_id  book_id       username  rating\n",
       "0          1        1     ryanfranco       4\n",
       "1          2        1  grantpatricia       2\n",
       "2          3        1   brandtandrea       5\n",
       "3          4        2       lorichen       3\n",
       "4          5        2    mariokeller       2"
      ]
     },
     "execution_count": 14,
     "metadata": {},
     "output_type": "execute_result"
    }
   ],
   "source": [
    "#таблица ratings\n",
    "ratings = '''SELECT * FROM ratings LIMIT 5'''\n",
    "\n",
    "pd.io.sql.read_sql(sql=text(ratings), con = con)"
   ]
  },
  {
   "cell_type": "code",
   "execution_count": 15,
   "metadata": {},
   "outputs": [
    {
     "data": {
      "text/html": [
       "<div>\n",
       "<style scoped>\n",
       "    .dataframe tbody tr th:only-of-type {\n",
       "        vertical-align: middle;\n",
       "    }\n",
       "\n",
       "    .dataframe tbody tr th {\n",
       "        vertical-align: top;\n",
       "    }\n",
       "\n",
       "    .dataframe thead th {\n",
       "        text-align: right;\n",
       "    }\n",
       "</style>\n",
       "<table border=\"1\" class=\"dataframe\">\n",
       "  <thead>\n",
       "    <tr style=\"text-align: right;\">\n",
       "      <th></th>\n",
       "      <th>review_id</th>\n",
       "      <th>book_id</th>\n",
       "      <th>username</th>\n",
       "      <th>text</th>\n",
       "    </tr>\n",
       "  </thead>\n",
       "  <tbody>\n",
       "    <tr>\n",
       "      <th>0</th>\n",
       "      <td>1</td>\n",
       "      <td>1</td>\n",
       "      <td>brandtandrea</td>\n",
       "      <td>Mention society tell send professor analysis. ...</td>\n",
       "    </tr>\n",
       "    <tr>\n",
       "      <th>1</th>\n",
       "      <td>2</td>\n",
       "      <td>1</td>\n",
       "      <td>ryanfranco</td>\n",
       "      <td>Foot glass pretty audience hit themselves. Amo...</td>\n",
       "    </tr>\n",
       "    <tr>\n",
       "      <th>2</th>\n",
       "      <td>3</td>\n",
       "      <td>2</td>\n",
       "      <td>lorichen</td>\n",
       "      <td>Listen treat keep worry. Miss husband tax but ...</td>\n",
       "    </tr>\n",
       "    <tr>\n",
       "      <th>3</th>\n",
       "      <td>4</td>\n",
       "      <td>3</td>\n",
       "      <td>johnsonamanda</td>\n",
       "      <td>Finally month interesting blue could nature cu...</td>\n",
       "    </tr>\n",
       "    <tr>\n",
       "      <th>4</th>\n",
       "      <td>5</td>\n",
       "      <td>3</td>\n",
       "      <td>scotttamara</td>\n",
       "      <td>Nation purpose heavy give wait song will. List...</td>\n",
       "    </tr>\n",
       "  </tbody>\n",
       "</table>\n",
       "</div>"
      ],
      "text/plain": [
       "   review_id  book_id       username  \\\n",
       "0          1        1   brandtandrea   \n",
       "1          2        1     ryanfranco   \n",
       "2          3        2       lorichen   \n",
       "3          4        3  johnsonamanda   \n",
       "4          5        3    scotttamara   \n",
       "\n",
       "                                                text  \n",
       "0  Mention society tell send professor analysis. ...  \n",
       "1  Foot glass pretty audience hit themselves. Amo...  \n",
       "2  Listen treat keep worry. Miss husband tax but ...  \n",
       "3  Finally month interesting blue could nature cu...  \n",
       "4  Nation purpose heavy give wait song will. List...  "
      ]
     },
     "execution_count": 15,
     "metadata": {},
     "output_type": "execute_result"
    }
   ],
   "source": [
    "#таблица reviews\n",
    "reviews = '''SELECT * FROM reviews LIMIT 5'''\n",
    "\n",
    "pd.io.sql.read_sql(sql=text(reviews), con = con)"
   ]
  },
  {
   "cell_type": "markdown",
   "metadata": {},
   "source": [
    "## Решение задач"
   ]
  },
  {
   "cell_type": "markdown",
   "metadata": {},
   "source": [
    "### Задача №1"
   ]
  },
  {
   "cell_type": "markdown",
   "metadata": {},
   "source": [
    "Посчитайте, сколько книг вышло после 1 января 2000 года"
   ]
  },
  {
   "cell_type": "code",
   "execution_count": 19,
   "metadata": {},
   "outputs": [
    {
     "data": {
      "text/html": [
       "<div>\n",
       "<style scoped>\n",
       "    .dataframe tbody tr th:only-of-type {\n",
       "        vertical-align: middle;\n",
       "    }\n",
       "\n",
       "    .dataframe tbody tr th {\n",
       "        vertical-align: top;\n",
       "    }\n",
       "\n",
       "    .dataframe thead th {\n",
       "        text-align: right;\n",
       "    }\n",
       "</style>\n",
       "<table border=\"1\" class=\"dataframe\">\n",
       "  <thead>\n",
       "    <tr style=\"text-align: right;\">\n",
       "      <th></th>\n",
       "      <th>book_count</th>\n",
       "    </tr>\n",
       "  </thead>\n",
       "  <tbody>\n",
       "    <tr>\n",
       "      <th>0</th>\n",
       "      <td>819</td>\n",
       "    </tr>\n",
       "  </tbody>\n",
       "</table>\n",
       "</div>"
      ],
      "text/plain": [
       "   book_count\n",
       "0         819"
      ]
     },
     "execution_count": 19,
     "metadata": {},
     "output_type": "execute_result"
    }
   ],
   "source": [
    "query_1 = '''\n",
    "SELECT COUNT(*) AS book_count\n",
    "FROM books\n",
    "WHERE publication_date > '2000-01-01';\n",
    "'''\n",
    "\n",
    "pd.io.sql.read_sql(sql=text(query_1), con = con)"
   ]
  },
  {
   "cell_type": "markdown",
   "metadata": {},
   "source": [
    "**Вывод:**\n",
    "\n",
    "После 1 января 2000 года вышло 819 книг."
   ]
  },
  {
   "cell_type": "markdown",
   "metadata": {},
   "source": [
    "### Задача №2"
   ]
  },
  {
   "cell_type": "markdown",
   "metadata": {},
   "source": [
    "Для каждой книги посчитайте количество обзоров и среднюю оценку"
   ]
  },
  {
   "cell_type": "code",
   "execution_count": 23,
   "metadata": {},
   "outputs": [
    {
     "data": {
      "text/html": [
       "<div>\n",
       "<style scoped>\n",
       "    .dataframe tbody tr th:only-of-type {\n",
       "        vertical-align: middle;\n",
       "    }\n",
       "\n",
       "    .dataframe tbody tr th {\n",
       "        vertical-align: top;\n",
       "    }\n",
       "\n",
       "    .dataframe thead th {\n",
       "        text-align: right;\n",
       "    }\n",
       "</style>\n",
       "<table border=\"1\" class=\"dataframe\">\n",
       "  <thead>\n",
       "    <tr style=\"text-align: right;\">\n",
       "      <th></th>\n",
       "      <th>book_id</th>\n",
       "      <th>title</th>\n",
       "      <th>review_count</th>\n",
       "      <th>average_rating</th>\n",
       "    </tr>\n",
       "  </thead>\n",
       "  <tbody>\n",
       "    <tr>\n",
       "      <th>0</th>\n",
       "      <td>948</td>\n",
       "      <td>Twilight (Twilight  #1)</td>\n",
       "      <td>7</td>\n",
       "      <td>3.662500</td>\n",
       "    </tr>\n",
       "    <tr>\n",
       "      <th>1</th>\n",
       "      <td>302</td>\n",
       "      <td>Harry Potter and the Prisoner of Azkaban (Harr...</td>\n",
       "      <td>6</td>\n",
       "      <td>4.414634</td>\n",
       "    </tr>\n",
       "    <tr>\n",
       "      <th>2</th>\n",
       "      <td>299</td>\n",
       "      <td>Harry Potter and the Chamber of Secrets (Harry...</td>\n",
       "      <td>6</td>\n",
       "      <td>4.287500</td>\n",
       "    </tr>\n",
       "    <tr>\n",
       "      <th>3</th>\n",
       "      <td>656</td>\n",
       "      <td>The Book Thief</td>\n",
       "      <td>6</td>\n",
       "      <td>4.264151</td>\n",
       "    </tr>\n",
       "    <tr>\n",
       "      <th>4</th>\n",
       "      <td>734</td>\n",
       "      <td>The Glass Castle</td>\n",
       "      <td>6</td>\n",
       "      <td>4.206897</td>\n",
       "    </tr>\n",
       "    <tr>\n",
       "      <th>...</th>\n",
       "      <td>...</td>\n",
       "      <td>...</td>\n",
       "      <td>...</td>\n",
       "      <td>...</td>\n",
       "    </tr>\n",
       "    <tr>\n",
       "      <th>995</th>\n",
       "      <td>191</td>\n",
       "      <td>Disney's Beauty and the Beast (A Little Golden...</td>\n",
       "      <td>0</td>\n",
       "      <td>4.000000</td>\n",
       "    </tr>\n",
       "    <tr>\n",
       "      <th>996</th>\n",
       "      <td>387</td>\n",
       "      <td>Leonardo's Notebooks</td>\n",
       "      <td>0</td>\n",
       "      <td>4.000000</td>\n",
       "    </tr>\n",
       "    <tr>\n",
       "      <th>997</th>\n",
       "      <td>221</td>\n",
       "      <td>Essential Tales and Poems</td>\n",
       "      <td>0</td>\n",
       "      <td>4.000000</td>\n",
       "    </tr>\n",
       "    <tr>\n",
       "      <th>998</th>\n",
       "      <td>83</td>\n",
       "      <td>Anne Rice's The Vampire Lestat: A Graphic Novel</td>\n",
       "      <td>0</td>\n",
       "      <td>3.666667</td>\n",
       "    </tr>\n",
       "    <tr>\n",
       "      <th>999</th>\n",
       "      <td>808</td>\n",
       "      <td>The Natural Way to Draw</td>\n",
       "      <td>0</td>\n",
       "      <td>3.000000</td>\n",
       "    </tr>\n",
       "  </tbody>\n",
       "</table>\n",
       "<p>1000 rows × 4 columns</p>\n",
       "</div>"
      ],
      "text/plain": [
       "     book_id                                              title  review_count  \\\n",
       "0        948                            Twilight (Twilight  #1)             7   \n",
       "1        302  Harry Potter and the Prisoner of Azkaban (Harr...             6   \n",
       "2        299  Harry Potter and the Chamber of Secrets (Harry...             6   \n",
       "3        656                                     The Book Thief             6   \n",
       "4        734                                   The Glass Castle             6   \n",
       "..       ...                                                ...           ...   \n",
       "995      191  Disney's Beauty and the Beast (A Little Golden...             0   \n",
       "996      387                               Leonardo's Notebooks             0   \n",
       "997      221                          Essential Tales and Poems             0   \n",
       "998       83    Anne Rice's The Vampire Lestat: A Graphic Novel             0   \n",
       "999      808                            The Natural Way to Draw             0   \n",
       "\n",
       "     average_rating  \n",
       "0          3.662500  \n",
       "1          4.414634  \n",
       "2          4.287500  \n",
       "3          4.264151  \n",
       "4          4.206897  \n",
       "..              ...  \n",
       "995        4.000000  \n",
       "996        4.000000  \n",
       "997        4.000000  \n",
       "998        3.666667  \n",
       "999        3.000000  \n",
       "\n",
       "[1000 rows x 4 columns]"
      ]
     },
     "execution_count": 23,
     "metadata": {},
     "output_type": "execute_result"
    }
   ],
   "source": [
    "query_2 = '''\n",
    "SELECT b.book_id, \n",
    "       b.title,\n",
    "       COUNT(DISTINCT r.review_id) AS review_count,\n",
    "       AVG(rt.rating) AS average_rating\n",
    "FROM books AS b\n",
    "LEFT JOIN reviews AS r ON b.book_id = r.book_id\n",
    "LEFT JOIN ratings AS rt ON b.book_id = rt.book_id\n",
    "GROUP BY b.book_id\n",
    "ORDER BY review_count DESC, average_rating DESC;\n",
    "'''\n",
    "\n",
    "pd.io.sql.read_sql(sql=text(query_2), con=con)"
   ]
  },
  {
   "cell_type": "markdown",
   "metadata": {},
   "source": [
    "**Вывод:**\n",
    "\n",
    "Распределение книг по среднему рейтингу:\n",
    "- количество книг со средним рейтингом 5 баллов - 44,\n",
    "- со средним рейтингом от 4 баллов до 4.9 - 520,\n",
    "- со средним рейтингом от 3 баллов до 3.9 - 401,\n",
    "- со средним рейтингом от 2 баллов до 2.9 - 34,\n",
    "- со средним рейтингом от 0 баллов до 1.9 - 1,\n",
    "\n",
    "Распределение книг по количеству отзывов:\n",
    "- 7 отзывов - наибольшее количество отзывов у книги Twilight (Twilight #1), средний рейтинг - 3.6\n",
    "- 6 отзывов - 15 книг, с разными рейтингами, среди них, например, Water for Elephants (рейтинг 3.9), The Glass Castle (рейтинг 4.2), Harry Potter and the Prisoner of Azkaban (рейтинг 4.4), The Curious Incident of the Dog in the Night-Time (рейтинг 4.4)\n",
    "- 5 отзывов - 60 книг\n",
    "- 4 отзыва - 160 книг\n",
    "- 3 отзыва - 277 книг\n",
    "- 2 отзыва - 444 книги\n",
    "- 1 отзыв - 37 книг\n",
    "- 0 отзывов - 6 книг\n",
    "\n",
    "Также есть книги без отзывов, но с рейтингом."
   ]
  },
  {
   "cell_type": "markdown",
   "metadata": {},
   "source": [
    "### Задача №3"
   ]
  },
  {
   "cell_type": "markdown",
   "metadata": {},
   "source": [
    "Определите издательство, которое выпустило наибольшее число книг толще 50 страниц — так вы исключите из анализа брошюры"
   ]
  },
  {
   "cell_type": "code",
   "execution_count": 27,
   "metadata": {},
   "outputs": [
    {
     "data": {
      "text/html": [
       "<div>\n",
       "<style scoped>\n",
       "    .dataframe tbody tr th:only-of-type {\n",
       "        vertical-align: middle;\n",
       "    }\n",
       "\n",
       "    .dataframe tbody tr th {\n",
       "        vertical-align: top;\n",
       "    }\n",
       "\n",
       "    .dataframe thead th {\n",
       "        text-align: right;\n",
       "    }\n",
       "</style>\n",
       "<table border=\"1\" class=\"dataframe\">\n",
       "  <thead>\n",
       "    <tr style=\"text-align: right;\">\n",
       "      <th></th>\n",
       "      <th>publisher_id</th>\n",
       "      <th>publisher</th>\n",
       "      <th>book_count</th>\n",
       "    </tr>\n",
       "  </thead>\n",
       "  <tbody>\n",
       "    <tr>\n",
       "      <th>0</th>\n",
       "      <td>212</td>\n",
       "      <td>Penguin Books</td>\n",
       "      <td>42</td>\n",
       "    </tr>\n",
       "  </tbody>\n",
       "</table>\n",
       "</div>"
      ],
      "text/plain": [
       "   publisher_id      publisher  book_count\n",
       "0           212  Penguin Books          42"
      ]
     },
     "execution_count": 27,
     "metadata": {},
     "output_type": "execute_result"
    }
   ],
   "source": [
    "query_3 = '''\n",
    "SELECT p.publisher_id,\n",
    "       p.publisher,\n",
    "       COUNT(b.book_id) AS book_count\n",
    "FROM publishers AS p\n",
    "JOIN books AS b ON p.publisher_id = b.publisher_id\n",
    "WHERE b.num_pages > 50\n",
    "GROUP BY p.publisher_id, p.publisher\n",
    "ORDER BY book_count DESC\n",
    "LIMIT 1;\n",
    "'''\n",
    "\n",
    "pd.io.sql.read_sql(sql=text(query_3), con = con)"
   ]
  },
  {
   "cell_type": "markdown",
   "metadata": {},
   "source": [
    "**Вывод:**\n",
    "\n",
    "Наибольшее количество книг толще 50 страниц выпустило издательство Penguin Books - оно выпустило 42 такие книги."
   ]
  },
  {
   "cell_type": "markdown",
   "metadata": {},
   "source": [
    "### Задача №4"
   ]
  },
  {
   "cell_type": "markdown",
   "metadata": {},
   "source": [
    "Определите автора с самой высокой средней оценкой книг — учитывайте только книги с 50 и более оценками"
   ]
  },
  {
   "cell_type": "code",
   "execution_count": 31,
   "metadata": {},
   "outputs": [
    {
     "data": {
      "text/html": [
       "<div>\n",
       "<style scoped>\n",
       "    .dataframe tbody tr th:only-of-type {\n",
       "        vertical-align: middle;\n",
       "    }\n",
       "\n",
       "    .dataframe tbody tr th {\n",
       "        vertical-align: top;\n",
       "    }\n",
       "\n",
       "    .dataframe thead th {\n",
       "        text-align: right;\n",
       "    }\n",
       "</style>\n",
       "<table border=\"1\" class=\"dataframe\">\n",
       "  <thead>\n",
       "    <tr style=\"text-align: right;\">\n",
       "      <th></th>\n",
       "      <th>author_id</th>\n",
       "      <th>author</th>\n",
       "      <th>avg_rating</th>\n",
       "    </tr>\n",
       "  </thead>\n",
       "  <tbody>\n",
       "    <tr>\n",
       "      <th>0</th>\n",
       "      <td>236</td>\n",
       "      <td>J.K. Rowling/Mary GrandPré</td>\n",
       "      <td>4.283844</td>\n",
       "    </tr>\n",
       "  </tbody>\n",
       "</table>\n",
       "</div>"
      ],
      "text/plain": [
       "   author_id                      author  avg_rating\n",
       "0        236  J.K. Rowling/Mary GrandPré    4.283844"
      ]
     },
     "execution_count": 31,
     "metadata": {},
     "output_type": "execute_result"
    }
   ],
   "source": [
    "query_4 = '''\n",
    "SELECT a.author_id,\n",
    "       a.author,\n",
    "       AVG(bb.average_rating) AS avg_rating\n",
    "FROM books AS b\n",
    "JOIN (\n",
    "    SELECT b.book_id, \n",
    "           b.title,\n",
    "           COUNT(rt.rating) AS count_rating,\n",
    "           AVG(rt.rating) AS average_rating\n",
    "    FROM books AS b\n",
    "    LEFT JOIN ratings AS rt ON b.book_id = rt.book_id\n",
    "    GROUP BY b.book_id\n",
    "    HAVING COUNT(rt.rating) >= 50\n",
    "    ORDER BY average_rating DESC\n",
    ") AS bb ON b.book_id = bb.book_id\n",
    "JOIN authors AS a ON b.author_id = a.author_id\n",
    "GROUP BY a.author_id\n",
    "ORDER BY avg_rating DESC\n",
    "LIMIT 1;\n",
    "'''\n",
    "\n",
    "pd.io.sql.read_sql(sql=text(query_4), con=con)"
   ]
  },
  {
   "cell_type": "markdown",
   "metadata": {},
   "source": [
    "**Вывод:**\n",
    "\n",
    "Автор с самой высокой средней оценкой книг (учитывая только книги с 50 и более оценками) - J.K. Rowling. Средний рейтинг её книг составляет 4.28."
   ]
  },
  {
   "cell_type": "markdown",
   "metadata": {},
   "source": [
    "### Задача №5"
   ]
  },
  {
   "cell_type": "markdown",
   "metadata": {},
   "source": [
    "Посчитайте среднее количество обзоров от пользователей, которые поставили больше 48 оценок"
   ]
  },
  {
   "cell_type": "code",
   "execution_count": 35,
   "metadata": {},
   "outputs": [
    {
     "data": {
      "text/html": [
       "<div>\n",
       "<style scoped>\n",
       "    .dataframe tbody tr th:only-of-type {\n",
       "        vertical-align: middle;\n",
       "    }\n",
       "\n",
       "    .dataframe tbody tr th {\n",
       "        vertical-align: top;\n",
       "    }\n",
       "\n",
       "    .dataframe thead th {\n",
       "        text-align: right;\n",
       "    }\n",
       "</style>\n",
       "<table border=\"1\" class=\"dataframe\">\n",
       "  <thead>\n",
       "    <tr style=\"text-align: right;\">\n",
       "      <th></th>\n",
       "      <th>average_review_count</th>\n",
       "    </tr>\n",
       "  </thead>\n",
       "  <tbody>\n",
       "    <tr>\n",
       "      <th>0</th>\n",
       "      <td>24.0</td>\n",
       "    </tr>\n",
       "  </tbody>\n",
       "</table>\n",
       "</div>"
      ],
      "text/plain": [
       "   average_review_count\n",
       "0                  24.0"
      ]
     },
     "execution_count": 35,
     "metadata": {},
     "output_type": "execute_result"
    }
   ],
   "source": [
    "query_5 = '''\n",
    "SELECT AVG(review_count) AS average_review_count\n",
    "FROM (\n",
    "  SELECT username,\n",
    "         COUNT(review_id) AS review_count\n",
    "  FROM reviews\n",
    "  WHERE username IN (\n",
    "    SELECT username\n",
    "    FROM ratings\n",
    "    GROUP BY username\n",
    "    HAVING COUNT(rating_id) > 48\n",
    "  )\n",
    "  GROUP BY username\n",
    ") AS subquery;\n",
    "'''\n",
    "\n",
    "pd.io.sql.read_sql(sql=text(query_5), con = con)"
   ]
  },
  {
   "cell_type": "markdown",
   "metadata": {},
   "source": [
    "**Вывод:**\n",
    "\n",
    "Среднее количество обзоров от пользователей, которые поставили больше 48 оценок, - 24."
   ]
  },
  {
   "cell_type": "markdown",
   "metadata": {},
   "source": [
    "## Общий вывод"
   ]
  },
  {
   "cell_type": "markdown",
   "metadata": {},
   "source": [
    "1) После 1 января 2000 года вышло 819 книг.\n",
    "\n",
    "2) В базе данных содержится 1000 книг\n",
    "\n",
    "Распределение книг по среднему рейтингу:\n",
    "- количество книг со средним рейтингом 5 баллов - 44,\n",
    "- со средним рейтингом от 4 баллов до 4.9 - 520,\n",
    "- со средним рейтингом от 3 баллов до 3.9 - 401,\n",
    "- со средним рейтингом от 2 баллов до 2.9 - 34,\n",
    "- со средним рейтингом от 0 баллов до 1.9 - 1,\n",
    "\n",
    "Распределение книг по количеству отзывов:\n",
    "- 7 отзывов - наибольшее количество отзывов у книги Twilight (Twilight #1), средний рейтинг - 3.6\n",
    "- 6 отзывов - 15 книг, с разными рейтингами, среди них, например, Water for Elephants (рейтинг 3.9), The Glass Castle (рейтинг 4.2), Harry Potter and the Prisoner of Azkaban (рейтинг 4.4), The Curious Incident of the Dog in the Night-Time (рейтинг 4.4)\n",
    "- 5 отзывов - 60 книг\n",
    "- 4 отзыва - 160 книг\n",
    "- 3 отзыва - 277 книг\n",
    "- 2 отзыва - 444 книги\n",
    "- 1 отзыв - 37 книг\n",
    "- 0 отзывов - 6 книг\n",
    "\n",
    "Также есть книги без отзывов, но с рейтингом.\n",
    "\n",
    "3) Наибольшее количество книг толще 50 страниц выпустило издательство Penguin Books - оно выпустило 42 такие книги.\n",
    "\n",
    "4) Автор с самой высокой средней оценкой книг (учитывая только книги с 50 и более оценками) - J.K. Rowling. Средний рейтинг её книг составляет 4.28.\n",
    "\n",
    "5) Среднее количество обзоров от пользователей, которые поставили больше 48 оценок, - 24."
   ]
  },
  {
   "cell_type": "markdown",
   "metadata": {},
   "source": [
    "## Рекомендации\n",
    "\n",
    "- Исходя из анализа данных, можно сделать вывод, что пользователи предпочитают книги с высоким рейтингом. Рекомендуется уделить внимание и продвижению книг с рейтингом 4 и выше, так как они имеют наибольшее количество отзывов и высокую оценку. \n",
    "\n",
    "- Стоит обратить внимание на книги с небольшим количеством отзывов или без отзывов, но с хорошим рейтингом, и предложить пользователям ознакомиться с ними.\n",
    "\n",
    "- Издательство Penguin Books выпустило наибольшее количество книг, которые превышают 50 страниц. Рекомендуется рассмотреть возможность установления партнерства с такими издательствами для обеспечения разнообразия и качества предлагаемых книг подписчикам сервиса.\n",
    "\n",
    "- Пользователи, которые оставляют больше 48 оценок, имеют среднее количество обзоров 24. Рекомендуется разработать механизмы стимулирования активности пользователей, например, предоставление бонусов, рейтинговых систем или возможности получения дополнительных преимуществ, чтобы поощрить пользователей оставлять больше обзоров и рейтингов.\n",
    "\n",
    "- Популярный автор: J.K. Rowling имеет самую высокую среднюю оценку книг. Рекомендуется выделить работы этого автора и активно продвигать его книги в сервисе.\n",
    "\n",
    "Учитывая выводы из проведенного анализа, эти рекомендации помогут определить стратегию развития сервиса чтения книг по подписке, привлечь больше пользователей и удовлетворить их интересы и предпочтения."
   ]
  }
 ],
 "metadata": {
  "ExecuteTimeLog": [
   {
    "duration": 768,
    "start_time": "2023-06-08T08:14:09.309Z"
   },
   {
    "duration": 7824,
    "start_time": "2023-06-08T08:14:10.083Z"
   },
   {
    "duration": 88,
    "start_time": "2023-06-08T08:14:17.909Z"
   },
   {
    "duration": 14,
    "start_time": "2023-06-08T08:14:17.999Z"
   },
   {
    "duration": 23,
    "start_time": "2023-06-08T08:14:18.016Z"
   },
   {
    "duration": 30,
    "start_time": "2023-06-08T08:14:18.042Z"
   },
   {
    "duration": 19,
    "start_time": "2023-06-08T08:14:18.074Z"
   },
   {
    "duration": 12,
    "start_time": "2023-06-08T08:14:18.095Z"
   },
   {
    "duration": 46,
    "start_time": "2023-06-08T08:14:18.110Z"
   },
   {
    "duration": 13,
    "start_time": "2023-06-08T08:14:18.159Z"
   },
   {
    "duration": 25,
    "start_time": "2023-06-08T08:14:18.174Z"
   },
   {
    "duration": 15,
    "start_time": "2023-06-08T08:14:18.201Z"
   },
   {
    "duration": 613,
    "start_time": "2023-06-08T17:43:35.344Z"
   },
   {
    "duration": 12989,
    "start_time": "2023-06-08T17:43:35.959Z"
   },
   {
    "duration": 228,
    "start_time": "2023-06-08T17:43:48.950Z"
   },
   {
    "duration": 30,
    "start_time": "2023-06-08T17:43:49.182Z"
   },
   {
    "duration": 30,
    "start_time": "2023-06-08T17:43:49.214Z"
   },
   {
    "duration": 32,
    "start_time": "2023-06-08T17:43:49.245Z"
   },
   {
    "duration": 33,
    "start_time": "2023-06-08T17:43:49.279Z"
   },
   {
    "duration": 30,
    "start_time": "2023-06-08T17:43:49.314Z"
   },
   {
    "duration": 75,
    "start_time": "2023-06-08T17:43:49.346Z"
   },
   {
    "duration": 32,
    "start_time": "2023-06-08T17:43:49.423Z"
   },
   {
    "duration": 34,
    "start_time": "2023-06-08T17:43:49.457Z"
   },
   {
    "duration": 32,
    "start_time": "2023-06-08T17:43:49.493Z"
   },
   {
    "duration": 534,
    "start_time": "2023-06-08T18:11:22.152Z"
   },
   {
    "duration": 5073,
    "start_time": "2023-06-08T18:11:22.688Z"
   },
   {
    "duration": 80,
    "start_time": "2023-06-08T18:11:27.763Z"
   },
   {
    "duration": 9,
    "start_time": "2023-06-08T18:11:27.845Z"
   },
   {
    "duration": 8,
    "start_time": "2023-06-08T18:11:27.856Z"
   },
   {
    "duration": 10,
    "start_time": "2023-06-08T18:11:27.866Z"
   },
   {
    "duration": 10,
    "start_time": "2023-06-08T18:11:27.878Z"
   },
   {
    "duration": 8,
    "start_time": "2023-06-08T18:11:27.890Z"
   },
   {
    "duration": 28,
    "start_time": "2023-06-08T18:11:27.900Z"
   },
   {
    "duration": 10,
    "start_time": "2023-06-08T18:11:27.930Z"
   },
   {
    "duration": 18,
    "start_time": "2023-06-08T18:11:27.942Z"
   },
   {
    "duration": 12,
    "start_time": "2023-06-08T18:11:27.976Z"
   },
   {
    "duration": 16,
    "start_time": "2023-06-08T18:14:13.758Z"
   },
   {
    "duration": 21,
    "start_time": "2023-06-08T18:14:29.817Z"
   },
   {
    "duration": 10,
    "start_time": "2023-06-08T18:18:31.550Z"
   },
   {
    "duration": 29,
    "start_time": "2023-06-08T18:19:06.859Z"
   },
   {
    "duration": 78,
    "start_time": "2023-06-08T18:22:10.145Z"
   },
   {
    "duration": 75,
    "start_time": "2023-06-08T18:22:59.336Z"
   },
   {
    "duration": 39,
    "start_time": "2023-06-08T18:23:08.563Z"
   },
   {
    "duration": 28,
    "start_time": "2023-06-08T18:29:06.762Z"
   },
   {
    "duration": 25,
    "start_time": "2023-06-08T18:34:35.180Z"
   },
   {
    "duration": 25,
    "start_time": "2023-06-08T18:35:06.854Z"
   },
   {
    "duration": 27,
    "start_time": "2023-06-08T18:35:19.025Z"
   },
   {
    "duration": 28,
    "start_time": "2023-06-08T18:35:48.043Z"
   },
   {
    "duration": 33,
    "start_time": "2023-06-08T18:36:06.151Z"
   },
   {
    "duration": 35,
    "start_time": "2023-06-08T18:38:24.124Z"
   },
   {
    "duration": 28,
    "start_time": "2023-06-08T18:38:32.451Z"
   },
   {
    "duration": 30,
    "start_time": "2023-06-08T18:41:32.215Z"
   },
   {
    "duration": 19,
    "start_time": "2023-06-08T18:42:54.143Z"
   },
   {
    "duration": 25,
    "start_time": "2023-06-08T18:43:04.203Z"
   },
   {
    "duration": 17,
    "start_time": "2023-06-08T18:43:08.211Z"
   },
   {
    "duration": 19,
    "start_time": "2023-06-08T18:43:16.603Z"
   },
   {
    "duration": 19,
    "start_time": "2023-06-08T18:43:26.496Z"
   },
   {
    "duration": 19,
    "start_time": "2023-06-08T18:44:02.254Z"
   },
   {
    "duration": 19,
    "start_time": "2023-06-08T18:44:11.228Z"
   },
   {
    "duration": 39,
    "start_time": "2023-06-08T18:44:21.756Z"
   },
   {
    "duration": 27,
    "start_time": "2023-06-08T18:45:37.433Z"
   },
   {
    "duration": 30,
    "start_time": "2023-06-08T18:46:00.641Z"
   },
   {
    "duration": 32,
    "start_time": "2023-06-08T18:47:52.936Z"
   },
   {
    "duration": 10,
    "start_time": "2023-06-08T18:48:28.096Z"
   },
   {
    "duration": 25,
    "start_time": "2023-06-08T18:48:35.648Z"
   },
   {
    "duration": 11,
    "start_time": "2023-06-08T18:49:11.819Z"
   },
   {
    "duration": 20,
    "start_time": "2023-06-08T18:50:03.543Z"
   },
   {
    "duration": 19,
    "start_time": "2023-06-08T18:50:23.138Z"
   },
   {
    "duration": 29,
    "start_time": "2023-06-08T18:50:43.564Z"
   },
   {
    "duration": 23,
    "start_time": "2023-06-08T18:50:52.150Z"
   },
   {
    "duration": 27,
    "start_time": "2023-06-08T18:51:14.266Z"
   },
   {
    "duration": 29,
    "start_time": "2023-06-08T18:51:36.434Z"
   },
   {
    "duration": 93,
    "start_time": "2023-06-08T18:51:53.963Z"
   },
   {
    "duration": 32,
    "start_time": "2023-06-08T18:53:42.977Z"
   },
   {
    "duration": 19,
    "start_time": "2023-06-08T18:54:04.831Z"
   },
   {
    "duration": 28,
    "start_time": "2023-06-08T18:54:21.247Z"
   },
   {
    "duration": 18,
    "start_time": "2023-06-08T18:54:58.355Z"
   },
   {
    "duration": 27,
    "start_time": "2023-06-08T18:55:17.700Z"
   },
   {
    "duration": 30,
    "start_time": "2023-06-08T18:55:46.900Z"
   },
   {
    "duration": 55,
    "start_time": "2023-06-08T18:56:56.072Z"
   },
   {
    "duration": 37,
    "start_time": "2023-06-08T18:57:07.042Z"
   },
   {
    "duration": 19,
    "start_time": "2023-06-08T18:59:55.620Z"
   },
   {
    "duration": 23,
    "start_time": "2023-06-08T19:00:51.799Z"
   },
   {
    "duration": 19,
    "start_time": "2023-06-08T19:01:02.256Z"
   },
   {
    "duration": 21,
    "start_time": "2023-06-08T19:01:09.975Z"
   },
   {
    "duration": 17,
    "start_time": "2023-06-08T19:01:13.299Z"
   },
   {
    "duration": 30,
    "start_time": "2023-06-08T19:01:16.971Z"
   },
   {
    "duration": 18,
    "start_time": "2023-06-08T19:01:42.290Z"
   },
   {
    "duration": 26,
    "start_time": "2023-06-08T19:01:57.201Z"
   },
   {
    "duration": 30,
    "start_time": "2023-06-08T19:02:28.613Z"
   },
   {
    "duration": 20,
    "start_time": "2023-06-08T19:05:17.104Z"
   },
   {
    "duration": 26,
    "start_time": "2023-06-08T19:05:21.823Z"
   },
   {
    "duration": 18,
    "start_time": "2023-06-08T19:06:41.826Z"
   },
   {
    "duration": 19,
    "start_time": "2023-06-08T19:07:51.137Z"
   },
   {
    "duration": 27,
    "start_time": "2023-06-08T19:09:43.068Z"
   },
   {
    "duration": 36,
    "start_time": "2023-06-08T19:09:59.861Z"
   },
   {
    "duration": 20,
    "start_time": "2023-06-08T19:10:22.222Z"
   },
   {
    "duration": 19,
    "start_time": "2023-06-08T19:10:37.201Z"
   },
   {
    "duration": 20,
    "start_time": "2023-06-08T19:10:58.110Z"
   },
   {
    "duration": 20,
    "start_time": "2023-06-08T19:11:16.633Z"
   },
   {
    "duration": 17,
    "start_time": "2023-06-08T19:12:07.823Z"
   },
   {
    "duration": 24,
    "start_time": "2023-06-08T19:12:24.560Z"
   },
   {
    "duration": 33,
    "start_time": "2023-06-08T19:12:42.663Z"
   },
   {
    "duration": 17,
    "start_time": "2023-06-08T19:12:56.207Z"
   },
   {
    "duration": 24,
    "start_time": "2023-06-08T19:13:04.902Z"
   },
   {
    "duration": 19,
    "start_time": "2023-06-08T19:13:08.407Z"
   },
   {
    "duration": 22,
    "start_time": "2023-06-08T19:13:31.205Z"
   },
   {
    "duration": 21,
    "start_time": "2023-06-08T19:14:07.949Z"
   },
   {
    "duration": 31,
    "start_time": "2023-06-08T19:14:58.824Z"
   },
   {
    "duration": 18,
    "start_time": "2023-06-08T19:17:20.911Z"
   },
   {
    "duration": 19,
    "start_time": "2023-06-08T19:17:38.407Z"
   },
   {
    "duration": 17,
    "start_time": "2023-06-08T19:17:58.602Z"
   },
   {
    "duration": 18,
    "start_time": "2023-06-08T19:18:37.507Z"
   },
   {
    "duration": 37,
    "start_time": "2023-06-08T19:18:56.656Z"
   },
   {
    "duration": 21,
    "start_time": "2023-06-08T19:20:18.541Z"
   },
   {
    "duration": 35,
    "start_time": "2023-06-08T19:21:52.266Z"
   },
   {
    "duration": 18,
    "start_time": "2023-06-08T19:22:02.252Z"
   },
   {
    "duration": 20,
    "start_time": "2023-06-08T19:22:11.045Z"
   },
   {
    "duration": 52,
    "start_time": "2023-06-08T19:22:19.763Z"
   },
   {
    "duration": 20,
    "start_time": "2023-06-08T19:22:29.731Z"
   },
   {
    "duration": 18,
    "start_time": "2023-06-08T19:23:22.438Z"
   },
   {
    "duration": 20,
    "start_time": "2023-06-08T19:23:43.835Z"
   },
   {
    "duration": 19,
    "start_time": "2023-06-08T19:24:00.311Z"
   },
   {
    "duration": 27,
    "start_time": "2023-06-08T19:25:03.302Z"
   },
   {
    "duration": 19,
    "start_time": "2023-06-08T19:29:51.303Z"
   },
   {
    "duration": 16,
    "start_time": "2023-06-08T19:30:21.462Z"
   },
   {
    "duration": 33,
    "start_time": "2023-06-08T19:30:56.507Z"
   },
   {
    "duration": 18,
    "start_time": "2023-06-08T19:31:31.303Z"
   },
   {
    "duration": 22,
    "start_time": "2023-06-08T19:32:22.695Z"
   },
   {
    "duration": 15,
    "start_time": "2023-06-08T19:32:46.998Z"
   },
   {
    "duration": 18,
    "start_time": "2023-06-08T19:34:04.423Z"
   },
   {
    "duration": 20,
    "start_time": "2023-06-08T19:34:28.789Z"
   },
   {
    "duration": 14,
    "start_time": "2023-06-08T19:34:43.136Z"
   },
   {
    "duration": 21,
    "start_time": "2023-06-08T19:39:21.672Z"
   },
   {
    "duration": 17,
    "start_time": "2023-06-08T19:40:12.847Z"
   },
   {
    "duration": 60,
    "start_time": "2023-06-08T19:41:29.046Z"
   },
   {
    "duration": 20,
    "start_time": "2023-06-08T19:42:46.375Z"
   },
   {
    "duration": 14,
    "start_time": "2023-06-08T19:43:26.721Z"
   },
   {
    "duration": 13,
    "start_time": "2023-06-08T19:43:44.241Z"
   },
   {
    "duration": 13,
    "start_time": "2023-06-08T19:43:53.654Z"
   },
   {
    "duration": 17,
    "start_time": "2023-06-08T19:44:44.870Z"
   },
   {
    "duration": 502,
    "start_time": "2023-06-08T20:01:55.404Z"
   },
   {
    "duration": 5310,
    "start_time": "2023-06-08T20:01:55.908Z"
   },
   {
    "duration": 53,
    "start_time": "2023-06-08T20:02:01.220Z"
   },
   {
    "duration": 21,
    "start_time": "2023-06-08T20:02:01.274Z"
   },
   {
    "duration": 17,
    "start_time": "2023-06-08T20:02:01.297Z"
   },
   {
    "duration": 61,
    "start_time": "2023-06-08T20:02:01.316Z"
   },
   {
    "duration": 41,
    "start_time": "2023-06-08T20:02:01.378Z"
   },
   {
    "duration": 35,
    "start_time": "2023-06-08T20:02:01.420Z"
   },
   {
    "duration": 45,
    "start_time": "2023-06-08T20:02:01.456Z"
   },
   {
    "duration": 12,
    "start_time": "2023-06-08T20:02:01.503Z"
   },
   {
    "duration": 31,
    "start_time": "2023-06-08T20:02:01.517Z"
   },
   {
    "duration": 32,
    "start_time": "2023-06-08T20:02:01.549Z"
   },
   {
    "duration": 564,
    "start_time": "2023-06-09T06:21:46.464Z"
   },
   {
    "duration": 11896,
    "start_time": "2023-06-09T06:21:47.030Z"
   },
   {
    "duration": 67,
    "start_time": "2023-06-09T06:21:58.928Z"
   },
   {
    "duration": 13,
    "start_time": "2023-06-09T06:21:58.998Z"
   },
   {
    "duration": 12,
    "start_time": "2023-06-09T06:21:59.013Z"
   },
   {
    "duration": 17,
    "start_time": "2023-06-09T06:21:59.027Z"
   },
   {
    "duration": 13,
    "start_time": "2023-06-09T06:21:59.058Z"
   },
   {
    "duration": 13,
    "start_time": "2023-06-09T06:21:59.074Z"
   },
   {
    "duration": 47,
    "start_time": "2023-06-09T06:21:59.090Z"
   },
   {
    "duration": 10,
    "start_time": "2023-06-09T06:21:59.140Z"
   },
   {
    "duration": 25,
    "start_time": "2023-06-09T06:21:59.152Z"
   },
   {
    "duration": 11,
    "start_time": "2023-06-09T06:21:59.179Z"
   },
   {
    "duration": 518,
    "start_time": "2023-06-09T06:51:15.231Z"
   },
   {
    "duration": 13425,
    "start_time": "2023-06-09T06:51:15.751Z"
   },
   {
    "duration": 291,
    "start_time": "2023-06-09T06:51:29.178Z"
   },
   {
    "duration": 32,
    "start_time": "2023-06-09T06:51:29.471Z"
   },
   {
    "duration": 33,
    "start_time": "2023-06-09T06:51:29.506Z"
   },
   {
    "duration": 34,
    "start_time": "2023-06-09T06:51:29.541Z"
   },
   {
    "duration": 31,
    "start_time": "2023-06-09T06:51:29.577Z"
   },
   {
    "duration": 31,
    "start_time": "2023-06-09T06:51:29.611Z"
   },
   {
    "duration": 77,
    "start_time": "2023-06-09T06:51:29.644Z"
   },
   {
    "duration": 35,
    "start_time": "2023-06-09T06:51:29.723Z"
   },
   {
    "duration": 33,
    "start_time": "2023-06-09T06:51:29.760Z"
   },
   {
    "duration": 31,
    "start_time": "2023-06-09T06:51:29.795Z"
   },
   {
    "duration": 39,
    "start_time": "2023-06-09T06:51:51.669Z"
   },
   {
    "duration": 36,
    "start_time": "2023-06-09T06:53:33.519Z"
   },
   {
    "duration": 439,
    "start_time": "2023-06-09T07:05:40.463Z"
   },
   {
    "duration": 11404,
    "start_time": "2023-06-09T07:05:40.904Z"
   },
   {
    "duration": 218,
    "start_time": "2023-06-09T07:05:52.310Z"
   },
   {
    "duration": 29,
    "start_time": "2023-06-09T07:05:52.530Z"
   },
   {
    "duration": 29,
    "start_time": "2023-06-09T07:05:52.560Z"
   },
   {
    "duration": 30,
    "start_time": "2023-06-09T07:05:52.590Z"
   },
   {
    "duration": 33,
    "start_time": "2023-06-09T07:05:52.621Z"
   },
   {
    "duration": 29,
    "start_time": "2023-06-09T07:05:52.656Z"
   },
   {
    "duration": 67,
    "start_time": "2023-06-09T07:05:52.686Z"
   },
   {
    "duration": 29,
    "start_time": "2023-06-09T07:05:52.755Z"
   },
   {
    "duration": 36,
    "start_time": "2023-06-09T07:05:52.786Z"
   },
   {
    "duration": 34,
    "start_time": "2023-06-09T07:05:52.823Z"
   },
   {
    "duration": 35,
    "start_time": "2023-06-09T07:05:52.858Z"
   },
   {
    "duration": 31,
    "start_time": "2023-06-09T07:05:52.894Z"
   },
   {
    "duration": 34,
    "start_time": "2023-06-09T07:08:38.333Z"
   },
   {
    "duration": 34,
    "start_time": "2023-06-09T07:13:12.066Z"
   },
   {
    "duration": 35,
    "start_time": "2023-06-09T07:13:32.312Z"
   },
   {
    "duration": 674,
    "start_time": "2023-06-09T12:06:50.627Z"
   },
   {
    "duration": 13746,
    "start_time": "2023-06-09T12:06:51.303Z"
   },
   {
    "duration": 357,
    "start_time": "2023-06-09T12:07:05.051Z"
   },
   {
    "duration": 21,
    "start_time": "2023-06-09T12:07:05.417Z"
   },
   {
    "duration": 30,
    "start_time": "2023-06-09T12:07:05.441Z"
   },
   {
    "duration": 68,
    "start_time": "2023-06-09T12:07:05.473Z"
   },
   {
    "duration": 21,
    "start_time": "2023-06-09T12:07:05.548Z"
   },
   {
    "duration": 26,
    "start_time": "2023-06-09T12:07:05.571Z"
   },
   {
    "duration": 81,
    "start_time": "2023-06-09T12:07:05.600Z"
   },
   {
    "duration": 67,
    "start_time": "2023-06-09T12:07:05.694Z"
   },
   {
    "duration": 33,
    "start_time": "2023-06-09T12:07:05.764Z"
   },
   {
    "duration": 34,
    "start_time": "2023-06-09T12:07:05.799Z"
   },
   {
    "duration": 37,
    "start_time": "2023-06-09T12:08:24.226Z"
   },
   {
    "duration": 26,
    "start_time": "2023-06-09T12:09:10.732Z"
   },
   {
    "duration": 23,
    "start_time": "2023-06-09T12:10:47.649Z"
   },
   {
    "duration": 43,
    "start_time": "2023-06-09T12:11:42.003Z"
   },
   {
    "duration": 16,
    "start_time": "2023-06-09T12:13:30.835Z"
   },
   {
    "duration": 14,
    "start_time": "2023-06-09T12:14:17.244Z"
   },
   {
    "duration": 559,
    "start_time": "2023-06-09T12:15:08.918Z"
   },
   {
    "duration": 8506,
    "start_time": "2023-06-09T12:15:09.480Z"
   },
   {
    "duration": 111,
    "start_time": "2023-06-09T12:15:17.987Z"
   },
   {
    "duration": 29,
    "start_time": "2023-06-09T12:15:18.108Z"
   },
   {
    "duration": 12,
    "start_time": "2023-06-09T12:15:18.140Z"
   },
   {
    "duration": 10,
    "start_time": "2023-06-09T12:15:18.154Z"
   },
   {
    "duration": 21,
    "start_time": "2023-06-09T12:15:18.165Z"
   },
   {
    "duration": 38,
    "start_time": "2023-06-09T12:15:18.190Z"
   },
   {
    "duration": 39,
    "start_time": "2023-06-09T12:15:18.231Z"
   },
   {
    "duration": 30,
    "start_time": "2023-06-09T12:15:18.271Z"
   },
   {
    "duration": 31,
    "start_time": "2023-06-09T12:15:18.302Z"
   },
   {
    "duration": 14,
    "start_time": "2023-06-09T12:15:18.335Z"
   },
   {
    "duration": 523,
    "start_time": "2023-06-09T17:40:29.690Z"
   },
   {
    "duration": 13260,
    "start_time": "2023-06-09T17:40:30.215Z"
   },
   {
    "duration": 54,
    "start_time": "2023-06-09T17:40:43.476Z"
   },
   {
    "duration": 10,
    "start_time": "2023-06-09T17:40:43.532Z"
   },
   {
    "duration": 8,
    "start_time": "2023-06-09T17:40:43.543Z"
   },
   {
    "duration": 10,
    "start_time": "2023-06-09T17:40:43.553Z"
   },
   {
    "duration": 12,
    "start_time": "2023-06-09T17:40:43.564Z"
   },
   {
    "duration": 9,
    "start_time": "2023-06-09T17:40:43.577Z"
   },
   {
    "duration": 29,
    "start_time": "2023-06-09T17:40:43.587Z"
   },
   {
    "duration": 11,
    "start_time": "2023-06-09T17:40:43.618Z"
   },
   {
    "duration": 14,
    "start_time": "2023-06-09T17:40:43.650Z"
   },
   {
    "duration": 11,
    "start_time": "2023-06-09T17:40:43.666Z"
   }
  ],
  "kernelspec": {
   "display_name": "Python 3 (ipykernel)",
   "language": "python",
   "name": "python3"
  },
  "language_info": {
   "codemirror_mode": {
    "name": "ipython",
    "version": 3
   },
   "file_extension": ".py",
   "mimetype": "text/x-python",
   "name": "python",
   "nbconvert_exporter": "python",
   "pygments_lexer": "ipython3",
   "version": "3.11.5"
  },
  "toc": {
   "base_numbering": 1,
   "nav_menu": {},
   "number_sections": true,
   "sideBar": true,
   "skip_h1_title": true,
   "title_cell": "План работы",
   "title_sidebar": "Contents",
   "toc_cell": true,
   "toc_position": {},
   "toc_section_display": true,
   "toc_window_display": false
  }
 },
 "nbformat": 4,
 "nbformat_minor": 4
}

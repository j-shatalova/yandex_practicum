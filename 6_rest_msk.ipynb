{
 "cells": [
  {
   "cell_type": "markdown",
   "metadata": {},
   "source": [
    "# Исследования рынка общепита в Москве для принятия решения об открытии нового заведения"
   ]
  },
  {
   "cell_type": "markdown",
   "metadata": {},
   "source": [
    "**Описание проекта**\n",
    "\n",
    "Инвесторы из фонда «Shut Up and Take My Money» решили попробовать себя в новой области и открыть заведение общественного питания в Москве. Заказчики ещё не знают, что это будет за место: кафе, ресторан, пиццерия, паб или бар, — и какими будут расположение, меню и цены.\n",
    "\n",
    "Для начала они просят вас — аналитика — подготовить исследование рынка Москвы, найти интересные особенности и презентовать полученные результаты, которые в будущем помогут в выборе подходящего инвесторам места.\n",
    "\n",
    "Вам доступен датасет с заведениями общественного питания Москвы, составленный на основе данных сервисов Яндекс Карты и Яндекс Бизнес на лето 2022 года. Информация, размещённая в сервисе Яндекс Бизнес, могла быть добавлена пользователями или найдена в общедоступных источниках. Она носит исключительно справочный характер."
   ]
  },
  {
   "cell_type": "markdown",
   "metadata": {},
   "source": [
    "**Цель проекта**\n",
    "\n",
    "Необходимо подготовить исследование рынка заведений общественного питания Москвы, дать рекомендации для открытия нового заведения (кофейни), подготовить презентацию исследования для инвесторов.\n",
    "\n",
    "**Задачи проекта**\n",
    "- выполнить предобработку данных\n",
    "- провести исследовательский анализ данных\n",
    "- детализировать исследование на предмет открытия кофейни\n",
    "- подготовить презентацию"
   ]
  },
  {
   "cell_type": "markdown",
   "metadata": {},
   "source": [
    "**Описание данных**\n",
    "\n",
    "*Файл moscow_places.csv:*\n",
    "\n",
    "- name — название заведения;\n",
    "- address — адрес заведения;\n",
    "- category — категория заведения, например «кафе», «пиццерия» или «кофейня»;\n",
    "- hours — информация о днях и часах работы;\n",
    "- lat — широта географической точки, в которой находится заведение;\n",
    "- lng — долгота географической точки, в которой находится заведение;\n",
    "- rating — рейтинг заведения по оценкам пользователей в Яндекс Картах (высшая оценка — 5.0);\n",
    "- price — категория цен в заведении, например «средние», «ниже среднего», «выше среднего» и так далее;\n",
    "- avg_bill — строка, которая хранит среднюю стоимость заказа в виде диапазона, например:\n",
    "     - «Средний счёт: 1000–1500 ₽»;\n",
    "     - «Цена чашки капучино: 130–220 ₽»;\n",
    "     - «Цена бокала пива: 400–600 ₽» и так далее;\n",
    "- middle_avg_bill — число с оценкой среднего чека, которое указано только для значений из столбца avg_bill, начинающихся с подстроки «Средний счёт»:\n",
    "     - Если в строке указан ценовой диапазон из двух значений, в столбец войдёт медиана этих двух значений.\n",
    "     - Если в строке указано одно число — цена без диапазона, то в столбец войдёт это число.\n",
    "     - Если значения нет или оно не начинается с подстроки «Средний счёт», то в столбец ничего не войдёт.\n",
    "- middle_coffee_cup — число с оценкой одной чашки капучино, которое указано только для значений из столбца avg_bill, начинающихся с подстроки «Цена одной чашки капучино»:\n",
    "     - Если в строке указан ценовой диапазон из двух значений, в столбец войдёт медиана этих двух значений.\n",
    "     - Если в строке указано одно число — цена без диапазона, то в столбец войдёт это число.\n",
    "     - Если значения нет или оно не начинается с подстроки «Цена одной чашки капучино», то в столбец ничего не войдёт.\n",
    "- chain — число, выраженное 0 или 1, которое показывает, является ли заведение сетевым (для маленьких сетей могут встречаться ошибки):\n",
    "     - 0 — заведение не является сетевым\n",
    "     - 1 — заведение является сетевым\n",
    "- district — административный район, в котором находится заведение, например Центральный административный округ;\n",
    "- seats — количество посадочных мест."
   ]
  },
  {
   "cell_type": "markdown",
   "metadata": {
    "toc": true
   },
   "source": [
    "<h1>План работы<span class=\"tocSkip\"></span></h1>\n",
    "<div class=\"toc\"><ul class=\"toc-item\"><li><span><a href=\"#Загрузка-данных-и-подготовка-их-к-анализу\" data-toc-modified-id=\"Загрузка-данных-и-подготовка-их-к-анализу-1\"><span class=\"toc-item-num\">1&nbsp;&nbsp;</span>Загрузка данных и подготовка их к анализу</a></span><ul class=\"toc-item\"><li><span><a href=\"#Подключение-библиотек\" data-toc-modified-id=\"Подключение-библиотек-1.1\"><span class=\"toc-item-num\">1.1&nbsp;&nbsp;</span>Подключение библиотек</a></span></li><li><span><a href=\"#Открываем-файл-с-данными-и-изучаем-общую-информацию\" data-toc-modified-id=\"Открываем-файл-с-данными-и-изучаем-общую-информацию-1.2\"><span class=\"toc-item-num\">1.2&nbsp;&nbsp;</span>Открываем файл с данными и изучаем общую информацию</a></span></li><li><span><a href=\"#Предобработка-данных\" data-toc-modified-id=\"Предобработка-данных-1.3\"><span class=\"toc-item-num\">1.3&nbsp;&nbsp;</span>Предобработка данных</a></span><ul class=\"toc-item\"><li><span><a href=\"#Проверка-данных-на-неявные-дубликаты\" data-toc-modified-id=\"Проверка-данных-на-неявные-дубликаты-1.3.1\"><span class=\"toc-item-num\">1.3.1&nbsp;&nbsp;</span>Проверка данных на неявные дубликаты</a></span></li><li><span><a href=\"#Заполнение-пропусков\" data-toc-modified-id=\"Заполнение-пропусков-1.3.2\"><span class=\"toc-item-num\">1.3.2&nbsp;&nbsp;</span>Заполнение пропусков</a></span></li><li><span><a href=\"#Создание-столбца-street\" data-toc-modified-id=\"Создание-столбца-street-1.3.3\"><span class=\"toc-item-num\">1.3.3&nbsp;&nbsp;</span>Создание столбца street</a></span></li><li><span><a href=\"#Создание-столбца-is_24/7\" data-toc-modified-id=\"Создание-столбца-is_24/7-1.3.4\"><span class=\"toc-item-num\">1.3.4&nbsp;&nbsp;</span>Создание столбца is_24/7</a></span></li></ul></li><li><span><a href=\"#Вывод\" data-toc-modified-id=\"Вывод-1.4\"><span class=\"toc-item-num\">1.4&nbsp;&nbsp;</span>Вывод</a></span></li></ul></li><li><span><a href=\"#Исследовательский-анализ-данных\" data-toc-modified-id=\"Исследовательский-анализ-данных-2\"><span class=\"toc-item-num\">2&nbsp;&nbsp;</span>Исследовательский анализ данных</a></span><ul class=\"toc-item\"><li><span><a href=\"#Исследование-количества-объектов-общественного-питания-по-категориям\" data-toc-modified-id=\"Исследование-количества-объектов-общественного-питания-по-категориям-2.1\"><span class=\"toc-item-num\">2.1&nbsp;&nbsp;</span>Исследование количества объектов общественного питания по категориям</a></span></li><li><span><a href=\"#Исследование-количества-посадочных-мест-в-объектах-общественного-питания-по-категориям\" data-toc-modified-id=\"Исследование-количества-посадочных-мест-в-объектах-общественного-питания-по-категориям-2.2\"><span class=\"toc-item-num\">2.2&nbsp;&nbsp;</span>Исследование количества посадочных мест в объектах общественного питания по категориям</a></span></li><li><span><a href=\"#Исследование-соотношения-сетевых-и-несетевых-заведений-в-датасете\" data-toc-modified-id=\"Исследование-соотношения-сетевых-и-несетевых-заведений-в-датасете-2.3\"><span class=\"toc-item-num\">2.3&nbsp;&nbsp;</span>Исследование соотношения сетевых и несетевых заведений в датасете</a></span></li><li><span><a href=\"#Топ-15-популярных-сетей-в-Москве\" data-toc-modified-id=\"Топ-15-популярных-сетей-в-Москве-2.4\"><span class=\"toc-item-num\">2.4&nbsp;&nbsp;</span>Топ-15 популярных сетей в Москве</a></span></li><li><span><a href=\"#Количество-заведений-по-районам-Москвы\" data-toc-modified-id=\"Количество-заведений-по-районам-Москвы-2.5\"><span class=\"toc-item-num\">2.5&nbsp;&nbsp;</span>Количество заведений по районам Москвы</a></span></li><li><span><a href=\"#Распределение-средних-рейтингов-по-категориям-заведений\" data-toc-modified-id=\"Распределение-средних-рейтингов-по-категориям-заведений-2.6\"><span class=\"toc-item-num\">2.6&nbsp;&nbsp;</span>Распределение средних рейтингов по категориям заведений</a></span></li><li><span><a href=\"#Построение-фоновой-картограммы-(хороплет)-со-средним-рейтингом-заведений-каждого-района-Москвы\" data-toc-modified-id=\"Построение-фоновой-картограммы-(хороплет)-со-средним-рейтингом-заведений-каждого-района-Москвы-2.7\"><span class=\"toc-item-num\">2.7&nbsp;&nbsp;</span>Построение фоновой картограммы (хороплет) со средним рейтингом заведений каждого района Москвы</a></span></li><li><span><a href=\"#Отображение-всех-заведений-датасета-на-карте-с-помощью-кластеров\" data-toc-modified-id=\"Отображение-всех-заведений-датасета-на-карте-с-помощью-кластеров-2.8\"><span class=\"toc-item-num\">2.8&nbsp;&nbsp;</span>Отображение всех заведений датасета на карте с помощью кластеров</a></span></li><li><span><a href=\"#Топ-15-улиц-по-количеству-заведений\" data-toc-modified-id=\"Топ-15-улиц-по-количеству-заведений-2.9\"><span class=\"toc-item-num\">2.9&nbsp;&nbsp;</span>Топ-15 улиц по количеству заведений</a></span></li><li><span><a href=\"#Исследование-датасета-на-предмет-улиц,-на-которых-находится-только-один-объект-общепита\" data-toc-modified-id=\"Исследование-датасета-на-предмет-улиц,-на-которых-находится-только-один-объект-общепита-2.10\"><span class=\"toc-item-num\">2.10&nbsp;&nbsp;</span>Исследование датасета на предмет улиц, на которых находится только один объект общепита</a></span></li><li><span><a href=\"#Построение-фоновой-картограммы-(хороплет)-со-значением-ценового-индикатора-каждого-района-Москвы\" data-toc-modified-id=\"Построение-фоновой-картограммы-(хороплет)-со-значением-ценового-индикатора-каждого-района-Москвы-2.11\"><span class=\"toc-item-num\">2.11&nbsp;&nbsp;</span>Построение фоновой картограммы (хороплет) со значением ценового индикатора каждого района Москвы</a></span></li><li><span><a href=\"#Вывод-по-исследовательскому-анализу-данных\" data-toc-modified-id=\"Вывод-по-исследовательскому-анализу-данных-2.12\"><span class=\"toc-item-num\">2.12&nbsp;&nbsp;</span>Вывод по исследовательскому анализу данных</a></span></li></ul></li><li><span><a href=\"#Детализированное-исследование-данных:-открытие-кофейни\" data-toc-modified-id=\"Детализированное-исследование-данных:-открытие-кофейни-3\"><span class=\"toc-item-num\">3&nbsp;&nbsp;</span>Детализированное исследование данных: открытие кофейни</a></span><ul class=\"toc-item\"><li><span><a href=\"#Сколько-всего-кофеен-в-датасете?-В-каких-районах-их-больше-всего,-каковы-особенности-их-расположения?\" data-toc-modified-id=\"Сколько-всего-кофеен-в-датасете?-В-каких-районах-их-больше-всего,-каковы-особенности-их-расположения?-3.1\"><span class=\"toc-item-num\">3.1&nbsp;&nbsp;</span>Сколько всего кофеен в датасете? В каких районах их больше всего, каковы особенности их расположения?</a></span></li><li><span><a href=\"#Есть-ли-круглосуточные-кофейни?\" data-toc-modified-id=\"Есть-ли-круглосуточные-кофейни?-3.2\"><span class=\"toc-item-num\">3.2&nbsp;&nbsp;</span>Есть ли круглосуточные кофейни?</a></span></li><li><span><a href=\"#Какие-у-кофеен-рейтинги?-Как-они-распределяются-по-районам?\" data-toc-modified-id=\"Какие-у-кофеен-рейтинги?-Как-они-распределяются-по-районам?-3.3\"><span class=\"toc-item-num\">3.3&nbsp;&nbsp;</span>Какие у кофеен рейтинги? Как они распределяются по районам?</a></span></li><li><span><a href=\"#На-какую-стоимость-чашки-капучино-стоит-ориентироваться-при-открытии?\" data-toc-modified-id=\"На-какую-стоимость-чашки-капучино-стоит-ориентироваться-при-открытии?-3.4\"><span class=\"toc-item-num\">3.4&nbsp;&nbsp;</span>На какую стоимость чашки капучино стоит ориентироваться при открытии?</a></span></li><li><span><a href=\"#Рекомендации-для-открытия-нового-заведения\" data-toc-modified-id=\"Рекомендации-для-открытия-нового-заведения-3.5\"><span class=\"toc-item-num\">3.5&nbsp;&nbsp;</span>Рекомендации для открытия нового заведения</a></span></li></ul></li><li><span><a href=\"#Подготовка-презентации\" data-toc-modified-id=\"Подготовка-презентации-4\"><span class=\"toc-item-num\">4&nbsp;&nbsp;</span>Подготовка презентации</a></span></li></ul></div>"
   ]
  },
  {
   "cell_type": "markdown",
   "metadata": {},
   "source": [
    "## Загрузка данных и подготовка их к анализу"
   ]
  },
  {
   "cell_type": "markdown",
   "metadata": {},
   "source": [
    "### Подключение библиотек"
   ]
  },
  {
   "cell_type": "code",
   "execution_count": null,
   "metadata": {},
   "outputs": [],
   "source": [
    "import pandas as pd\n",
    "import numpy as np\n",
    "import seaborn as sns\n",
    "\n",
    "import matplotlib.pyplot as plt\n",
    "from matplotlib.pyplot import figure\n",
    "import matplotlib.mlab as mlab\n",
    "from numpy import median\n",
    "from plotly import graph_objects as go\n",
    "import plotly.express as px\n",
    "from plotly.subplots import make_subplots\n",
    "plt.style.use('ggplot')\n",
    "\n",
    "import warnings\n",
    "import math as mth\n",
    "\n",
    "import folium\n",
    "from folium import Map, Choropleth, Marker\n",
    "from folium.plugins import MarkerCluster\n",
    "from folium.features import CustomIcon\n",
    "import json\n",
    "\n",
    "pd.options.mode.chained_assignment = None"
   ]
  },
  {
   "cell_type": "markdown",
   "metadata": {},
   "source": [
    "### Открываем файл с данными и изучаем общую информацию"
   ]
  },
  {
   "cell_type": "code",
   "execution_count": null,
   "metadata": {},
   "outputs": [],
   "source": [
    "path = '/datasets/'\n",
    "\n",
    "try:\n",
    "    data = pd.read_csv('https://code.s3.yandex.net/datasets/moscow_places.csv')\n",
    "except:\n",
    "    data = pd.read_csv(path + 'moscow_places.csv')"
   ]
  },
  {
   "cell_type": "code",
   "execution_count": null,
   "metadata": {},
   "outputs": [],
   "source": [
    "data"
   ]
  },
  {
   "cell_type": "markdown",
   "metadata": {},
   "source": [
    "Напишем функцию для базовой проверки данных:"
   ]
  },
  {
   "cell_type": "code",
   "execution_count": null,
   "metadata": {},
   "outputs": [],
   "source": [
    "import pandas as pd\n",
    "import numpy as np\n",
    "import plotly.express as px\n",
    "\n",
    "def preprocess_data(data):\n",
    "    # Check info\n",
    "    print(f\"Общая информация о датафрейме:\\n\")\n",
    "    \n",
    "    # отбор числовых колонок\n",
    "    df_numeric = data.select_dtypes(include=[np.number])\n",
    "    numeric_cols = df_numeric.columns.values\n",
    "    \n",
    "    # отбор нечисловых колонок\n",
    "    df_non_numeric = data.select_dtypes(exclude=[np.number])\n",
    "    non_numeric_cols = df_non_numeric.columns.values\n",
    "    \n",
    "    print(f\"В датафрейме всего {len(data.columns)} колонок и {len(data)} строк\")\n",
    "    \n",
    "    # Вывод информации о типах данных и уникальных значениях\n",
    "    print(\"\\nКолонки хранят следующие типы данных:\")\n",
    "    print(data.dtypes)\n",
    "    \n",
    "    print(\"\\nКолонки с числовым типом данных:\")\n",
    "    print(numeric_cols)\n",
    "    \n",
    "    print(\"\\nКолонки с нечисловым типом данных:\")\n",
    "    print(non_numeric_cols)\n",
    "    \n",
    "    print(\"\\nУникальные значения в каждой колонке:\")\n",
    "    for column in data.columns:\n",
    "        unique_values = data[column].nunique()\n",
    "        print(f\"{column}: {unique_values} уникальных значений\")\n",
    "    \n",
    "    # Проверка корректности наименований колонок\n",
    "    incorrect_columns = []\n",
    "    for column in data.columns:\n",
    "        if \" \" in column or not column.isidentifier():\n",
    "            incorrect_columns.append(column)\n",
    "    \n",
    "    if len(incorrect_columns) > 0:\n",
    "        print(\"\\nНекорректные наименования колонок обнаружены:\")\n",
    "        print(incorrect_columns)\n",
    "        \n",
    "        # Приведение наименований колонок к нижнему регистру и замена символов на подчеркивания\n",
    "        data.rename(columns=lambda x: x.lower().replace(\" \", \"_\"), inplace=True)\n",
    "        print(\"\\nНаименования колонок приведены к нижнему регистру и заменены символы на подчеркивания.\")\n",
    "    \n",
    "    # Check for duplicates\n",
    "    if data.duplicated().sum() > 0:\n",
    "        print(f\"\\nКоличество строк-дубликатов: {data.duplicated().sum()}\")\n",
    "        print(f\"Дубликаты составляют {round(data.duplicated().sum() / len(data) * 100, 2)}% от всех данных\")\n",
    "    else:\n",
    "        print(\"\\nДубликаты отсутствуют\")\n",
    "    \n",
    "    # Check for NaN-values\n",
    "    nan = pd.DataFrame((data.isna().mean() * 100).round(2).sort_values(ascending=False)).reset_index()\n",
    "    nan.columns = ['name', '%_of_nan_values']\n",
    "    \n",
    "    if sum(nan['%_of_nan_values']) == 0:\n",
    "        print(\"\\nПропуски отсутствуют\")\n",
    "    else:\n",
    "        print(\"\\nВ данных есть пропущенные значения\")\n",
    "        \n",
    "        colors = ['#00876c', '#509673', '#7aa680', '#9db591', '#bcc5a8', '#d6d5c3', '#ebe8e0', '#e2d2ba', '#deba97', '#dca079', '#db8463', '#d96455', '#d43d51']\n",
    "        \n",
    "        # строим столбчатую диаграмму \n",
    "        fig = px.bar(nan.sort_values(by='%_of_nan_values', ascending=False),\n",
    "                     x='%_of_nan_values',  # указываем столбец с данными для оси X\n",
    "                     y='name',  # указываем столбец с данными для оси Y\n",
    "                     color='name',\n",
    "                     color_discrete_sequence=colors,\n",
    "                     text='%_of_nan_values'\n",
    "                    )\n",
    "        # оформляем график\n",
    "        fig.update_layout(title='Доля пропущенных значений по колонкам (в %)',\n",
    "                          xaxis_title='Доля (в %)',\n",
    "                          yaxis_title='Название колонки',\n",
    "                          showlegend=False)\n",
    "        fig.show()  # выводим график\n"
   ]
  },
  {
   "cell_type": "code",
   "execution_count": null,
   "metadata": {},
   "outputs": [],
   "source": [
    "preprocess_data(data)"
   ]
  },
  {
   "cell_type": "code",
   "execution_count": null,
   "metadata": {},
   "outputs": [],
   "source": [
    "def check_data(data):\n",
    "    # Check info\n",
    "    \n",
    "    # отбор числовых колонок\n",
    "    df_numeric = data.select_dtypes(include=[np.number])\n",
    "    numeric_cols = df_numeric.columns.values\n",
    "    # отбор нечисловых колонок\n",
    "    df_non_numeric = data.select_dtypes(exclude=[np.number])\n",
    "    non_numeric_cols = df_non_numeric.columns.values\n",
    "    \n",
    "    print(f\"\"\"\n",
    "    Общая информация о датафрейме:\n",
    "    \n",
    "    В датафрейме всего {len(data.columns)} колонок и {len(data)} строк\n",
    "    \n",
    "    Колонки хранят следующие типы данных: \n",
    "    \n",
    "    {data.dtypes}\n",
    "    \n",
    "    Колонки с числовым типом данных:\n",
    "    \n",
    "    {numeric_cols}\n",
    "    \n",
    "    Колонки с нечисловым типом данных:\n",
    "    \n",
    "    {non_numeric_cols}\n",
    "    \n",
    "    \"\"\")\n",
    "    \n",
    "    # Check for duplicates\n",
    "    if data.duplicated().sum() > 0:\n",
    "        print(f'Количество строк-дубликатов: {data.duplicated().sum()}')\n",
    "        print(f'Дубликаты составляют {round(data.duplicated().sum()/len(data)*100, 2)} % от всех данных')\n",
    "    else:\n",
    "        print('Дубликаты отсутствуют')\n",
    "    \n",
    "    # Check for NaN-values\n",
    "    nan = pd.DataFrame((data.isna().mean()*100).round(2).sort_values(ascending=False)).reset_index()\n",
    "    nan.columns = ['name', '%_of_nan_values']\n",
    "    \n",
    "    if sum(nan['%_of_nan_values']) == 0:\n",
    "        print('Пропуски отсутствуют')\n",
    "    \n",
    "    else:\n",
    "        print('В данных есть пропущенные значения')\n",
    "        \n",
    "        colors = ['#00876c', '#509673', '#7aa680', '#9db591', '#bcc5a8', '#d6d5c3', '#ebe8e0', '#e2d2ba', '#deba97', '#dca079', '#db8463', '#d96455', '#d43d51']\n",
    "        \n",
    "        # строим столбчатую диаграмму \n",
    "        fig = px.bar(nan.sort_values(by='%_of_nan_values', ascending=False),\n",
    "                     x='%_of_nan_values', # указываем столбец с данными для оси X\n",
    "                     y='name', # указываем столбец с данными для оси Y\n",
    "                     color='name',\n",
    "                     color_discrete_sequence=colors,\n",
    "                     text='%_of_nan_values'\n",
    "                    )\n",
    "        # оформляем график\n",
    "        fig.update_layout(title='Доля пропущенных значений по колонкам (в %)',\n",
    "                          xaxis_title='Доля (в %)',\n",
    "                          yaxis_title='Название колонки',\n",
    "                          showlegend=False)\n",
    "        fig.show() # выводим график\n",
    "     "
   ]
  },
  {
   "cell_type": "code",
   "execution_count": null,
   "metadata": {},
   "outputs": [],
   "source": [
    "check_data(data)"
   ]
  },
  {
   "cell_type": "markdown",
   "metadata": {},
   "source": [
    "**Вывод**\n",
    "\n",
    "Типы данных в колонках указаны корректно.\n",
    "\n",
    "Дубликаты отсутствуют. Необходимо проверить датасет на неявные дубликаты.\n",
    "\n",
    "Есть пропущенные значения: \n",
    "- в колонках с числовым типом данных 'middle_avg_bill', 'middle_coffee_cup', 'seats' пропущенные значения заполним \"заглушкой\" с числом -999\n",
    "- пропущенные значения в категориальных колонках 'price', 'avg_bill', 'hours' заполним \"заглушкой\" - '_MISSING_'\n",
    "\n",
    "Далее необходимо выполнить предобработку данных и проверить датасет на неявные дубликаты."
   ]
  },
  {
   "cell_type": "markdown",
   "metadata": {},
   "source": [
    "### Предобработка данных"
   ]
  },
  {
   "cell_type": "markdown",
   "metadata": {},
   "source": [
    "#### Проверка данных на неявные дубликаты"
   ]
  },
  {
   "cell_type": "markdown",
   "metadata": {},
   "source": [
    "Проверим данные на неявные дубликаты по столбцам name и address:"
   ]
  },
  {
   "cell_type": "code",
   "execution_count": null,
   "metadata": {},
   "outputs": [],
   "source": [
    "#приведем столбец name к нижнему регистру\n",
    "data['name']=data['name'].str.lower()\n",
    "#посчитаем кол-во неявных дубликатов\n",
    "duplicated_sum=data[['name', 'address']].duplicated().sum()\n",
    "print(f'Количество неявных дубликатов в датасете: {duplicated_sum}')\n",
    "#выведем строки с неявными дубликатами\n",
    "data[data[['name', 'address']].duplicated()]"
   ]
  },
  {
   "cell_type": "markdown",
   "metadata": {},
   "source": [
    "В данных присутствует 3 неявных дубликата, рассмотрим каждый из них подробнее и решим, что с ними делать:"
   ]
  },
  {
   "cell_type": "code",
   "execution_count": null,
   "metadata": {},
   "outputs": [],
   "source": [
    "data[data['name']=='раковарня клешни и хвосты']"
   ]
  },
  {
   "cell_type": "markdown",
   "metadata": {},
   "source": [
    "Дубликаты с наименованием 'Раковарня клешни и хвосты' отличаются режимом работы, категорией и отнесением к сетевому/несетевому заведению. Такое бывает, когда при ресторане работает отдельно бар, удалять не будем."
   ]
  },
  {
   "cell_type": "code",
   "execution_count": null,
   "metadata": {},
   "outputs": [],
   "source": [
    "data[data['name']=='хлеб да выпечка']"
   ]
  },
  {
   "cell_type": "markdown",
   "metadata": {},
   "source": [
    "Дубликаты с наименованием 'хлеб да выпечка' отличаются режимом работы, категорией и отнесением к сетевому/несетевому заведению. Возможно при булочной отдельно работает кафе, не удаляем."
   ]
  },
  {
   "cell_type": "code",
   "execution_count": null,
   "metadata": {},
   "outputs": [],
   "source": [
    "data[data['name']=='more poke']"
   ]
  },
  {
   "cell_type": "markdown",
   "metadata": {},
   "source": [
    "Дубликаты с наименованием 'More Poke' отличаются режимом работы и отнесением к сетевому/несетевому заведению.\n",
    "Можно было бы удалить один из них, но неизвестно точно, относится ли это заведение к сетевому или нет, а также это не повлияет на общую картину данных, поэтому данные заведения оставим."
   ]
  },
  {
   "cell_type": "markdown",
   "metadata": {},
   "source": [
    "#### Заполнение пропусков"
   ]
  },
  {
   "cell_type": "code",
   "execution_count": null,
   "metadata": {},
   "outputs": [],
   "source": [
    "# категориальные признаки\n",
    "col_non_numeric = ['price', 'avg_bill', 'hours']\n",
    "\n",
    "for column in col_non_numeric:\n",
    "    data[column]=data[column].fillna('_MISSING_')"
   ]
  },
  {
   "cell_type": "code",
   "execution_count": null,
   "metadata": {},
   "outputs": [],
   "source": [
    "# численные признаки\n",
    "col_numeric = ['middle_avg_bill', 'middle_coffee_cup', 'seats']\n",
    "\n",
    "for column in col_numeric:\n",
    "    data[column]=data[column].fillna(-999)  "
   ]
  },
  {
   "cell_type": "code",
   "execution_count": null,
   "metadata": {},
   "outputs": [],
   "source": [
    "nan = pd.DataFrame((data.isna().mean()*100).round(2).sort_values(ascending=False)).reset_index()\n",
    "nan.columns = ['name', '%_of_nan_values']\n",
    "    \n",
    "if sum(nan['%_of_nan_values']) == 0:\n",
    "    print('Пропуски отсутствуют')\n",
    "else:\n",
    "    print('В данных есть пропущенные значения')"
   ]
  },
  {
   "cell_type": "markdown",
   "metadata": {},
   "source": [
    "#### Создание столбца street"
   ]
  },
  {
   "cell_type": "markdown",
   "metadata": {},
   "source": [
    "Создадим столбец street с названиями улиц из столбца с адресом:"
   ]
  },
  {
   "cell_type": "code",
   "execution_count": null,
   "metadata": {},
   "outputs": [],
   "source": [
    "data['street'] = data['address'].str.split(',', expand=True)[1]"
   ]
  },
  {
   "cell_type": "markdown",
   "metadata": {},
   "source": [
    "#### Создание столбца is_24/7"
   ]
  },
  {
   "cell_type": "markdown",
   "metadata": {},
   "source": [
    "Создадим столбец is_24/7 с обозначением, что заведение работает ежедневно и круглосуточно (24/7):\n",
    "- логическое значение True — если заведение работает ежедневно и круглосуточно;\n",
    "- логическое значение False — в противоположном случае."
   ]
  },
  {
   "cell_type": "code",
   "execution_count": null,
   "metadata": {},
   "outputs": [],
   "source": [
    "#напишем функцию для категоризации значений\n",
    "def categorize_hours(hours):\n",
    "    if hours == 'ежедневно, круглосуточно':\n",
    "        return True\n",
    "    else:\n",
    "        return False"
   ]
  },
  {
   "cell_type": "code",
   "execution_count": null,
   "metadata": {},
   "outputs": [],
   "source": [
    "#применим функцию к столбцу hours\n",
    "data['is_24/7'] = data['hours'].apply(categorize_hours)"
   ]
  },
  {
   "cell_type": "markdown",
   "metadata": {},
   "source": [
    "### Вывод"
   ]
  },
  {
   "cell_type": "code",
   "execution_count": null,
   "metadata": {
    "scrolled": true
   },
   "outputs": [],
   "source": [
    "#посмотрим на обновленный датафремй\n",
    "data.head()"
   ]
  },
  {
   "cell_type": "markdown",
   "metadata": {},
   "source": [
    "Была проведена следующая предобратока данных:\n",
    "- типы данных в колонках указаны корректно\n",
    "- дубликаты отсутствуют\n",
    "- в колонках с числовым типом данных 'middle_avg_bill', 'middle_coffee_cup', 'seats' пропущенные значения заполнены \"заглушкой\" с числом -999\n",
    "- пропущенные значения в категориальных колонках 'price', 'avg_bill', 'hours' заполнены \"заглушкой\" - '_MISSING_'\n",
    "- создан столбец street с названиями улиц из столбца с адресом\n",
    "- создан столбец is_24/7 с обозначением, что заведение работает ежедневно и круглосуточно (24/7):\n",
    "        - логическое значение True — если заведение работает ежедневно и круглосуточно\n",
    "        - логическое значение False — в противоположном случае\n",
    "        \n",
    "*Предобработка данных завершена*"
   ]
  },
  {
   "cell_type": "markdown",
   "metadata": {},
   "source": [
    "## Исследовательский анализ данных"
   ]
  },
  {
   "cell_type": "markdown",
   "metadata": {},
   "source": [
    "### Исследование количества объектов общественного питания по категориям"
   ]
  },
  {
   "cell_type": "markdown",
   "metadata": {},
   "source": [
    "Исследуем количество объектов общественного питания по категориям:"
   ]
  },
  {
   "cell_type": "code",
   "execution_count": null,
   "metadata": {},
   "outputs": [],
   "source": [
    "#подготовим данные\n",
    "data_by_cat = data.groupby('category', as_index=False).agg({'name':'count'}).sort_values(by='name', ascending=False)\n",
    "data_by_cat['share']=(data_by_cat['name']/data_by_cat['name'].sum()*100).round(1).astype('str') + '%'\n",
    "data_by_cat.columns = ['category', 'total_count', 'share']\n",
    "data_by_cat=pd.concat([data_by_cat], ignore_index=True)\n",
    "#data_by_cat"
   ]
  },
  {
   "cell_type": "code",
   "execution_count": null,
   "metadata": {},
   "outputs": [],
   "source": [
    "colors = ['#00876c', '#509673', '#7aa680', '#9db591', '#bcc5a8', '#d6d5c3', '#ebe8e0', '#e2d2ba', '#deba97', '#dca079', '#db8463', '#d96455', '#d43d51']\n",
    "\n",
    "\n",
    "# строим столбчатую диаграмму \n",
    "fig = px.bar(data_by_cat.sort_values(by='total_count', ascending=False), # загружаем данные и заново их сортируем\n",
    "             x='total_count', # указываем столбец с данными для оси X\n",
    "             y='category', # указываем столбец с данными для оси Y\n",
    "             color='category',\n",
    "             color_discrete_sequence=colors,\n",
    "             text='total_count'\n",
    "            )\n",
    "# оформляем график\n",
    "fig.update_layout(title='Количество объектов общественного питания по категориям',\n",
    "                   xaxis_title='Количество объектов',\n",
    "                   yaxis_title='Категория объекта')\n",
    "\n",
    "fig.show() # выводим график"
   ]
  },
  {
   "cell_type": "code",
   "execution_count": null,
   "metadata": {
    "scrolled": true
   },
   "outputs": [],
   "source": [
    "colors_fr = [\"#54bebe\", \"#76c8c8\", \"#98d1d1\", \"#badbdb\", \"#dedad2\", \"#e4bcad\", \"#df979e\", \"#d7658b\", \"#c80064\"]\n",
    "\n",
    "data_by_cat2 = pd.DataFrame(data['category'].value_counts()).reset_index()\n",
    "\n",
    "# строим диаграмму с сегментами\n",
    "fig = go.Figure(data=[go.Pie(labels=data_by_cat2['category'], # указываем значения, которые появятся на метках сегментов\n",
    "                             values=data_by_cat2['count'], # указываем данные, которые отобразятся на графике \n",
    "                             pull = [0.1, 0])])\n",
    "\n",
    "fig.update_layout(title='Доли количества объектов общественного питания по категориям (в %)', # указываем заголовок графика\n",
    "                  width=800, # указываем размеры графика\n",
    "                  height=600,\n",
    "                  annotations=[dict(x=1.12, # вручную настраиваем аннотацию легенды\n",
    "                                    y=1.05,\n",
    "                                    text='Категория объекта',\n",
    "                                    showarrow=False)])\n",
    "fig.update_traces(textposition='inside', textinfo='percent+label', marker=dict(colors=colors_fr))\n",
    "fig.show() # выводим график"
   ]
  },
  {
   "cell_type": "markdown",
   "metadata": {},
   "source": [
    "**Вывод:**\n",
    "\n",
    "- в датафрейме больше всего объектов категории \"кафе\" - 2378 шт., или 28,3%\n",
    "- на втором месте категория \"ресторан\" - 2043 объекта (24,3%)\n",
    "- далее идут кофейни (16,8%) - 1413 объектов в этой категории\n",
    "- четвертое место - \"бар,паб\" с 9,1% (765 шт.)\n",
    "- пятое место занимают объекты в категории \"пиццерия\" - всего 633 шт.(7,53%)\n",
    "- последние три места по количеству объектов занимают категории быстрое питание (7%), столовая (3,7%), булочная (3%)."
   ]
  },
  {
   "cell_type": "markdown",
   "metadata": {},
   "source": [
    "### Исследование количества посадочных мест в объектах общественного питания по категориям"
   ]
  },
  {
   "cell_type": "markdown",
   "metadata": {},
   "source": [
    "Исследуем количество посадочных мест в объектах по категориям."
   ]
  },
  {
   "cell_type": "code",
   "execution_count": null,
   "metadata": {},
   "outputs": [],
   "source": [
    "#подготовим данные\n",
    "data_by_seats = data[data['seats']!= -999] #убираем заглушку\n",
    "data_by_seats = data_by_seats.groupby('category', as_index=False).agg({'seats':'sum'}).sort_values(by='seats', ascending=False)\n",
    "data_by_seats['share']=(data_by_seats['seats']/data_by_seats['seats'].sum()*100).round(1).astype('str') + '%'\n",
    "data_by_seats.columns = ['category', 'count_seats', 'share']\n",
    "data_by_seats['count_seats']=data_by_seats['count_seats'].astype(int)\n",
    "data_by_seats=pd.concat([data_by_seats], ignore_index=True)\n",
    "data_by_seats"
   ]
  },
  {
   "cell_type": "code",
   "execution_count": null,
   "metadata": {},
   "outputs": [],
   "source": [
    "# строим столбчатую диаграмму \n",
    "fig = px.bar(data_by_seats.sort_values(by='count_seats', ascending=False), # загружаем данные и заново их сортируем\n",
    "             x='count_seats', # указываем столбец с данными для оси X\n",
    "             y='category', # указываем столбец с данными для оси Y\n",
    "             color='category',\n",
    "             color_discrete_sequence=colors,\n",
    "             text='count_seats'\n",
    "            )\n",
    "# оформляем график\n",
    "fig.update_layout(title='Количество посадочных мест в объектах общественного питания по категориям',\n",
    "                   xaxis_title='Количество посадочных мест',\n",
    "                   yaxis_title='Категория объекта')\n",
    "\n",
    "fig.show() # выводим график"
   ]
  },
  {
   "cell_type": "markdown",
   "metadata": {},
   "source": [
    "Тройка лидеров по количеству посадочных мест выглядит так: \n",
    "- в категории \"ресторан\" всего 154 869 посадочных мест\n",
    "- кафе насчитывают 118770 мест\n",
    "- в кофейнях всего 83511 посадочных места\n",
    "\n",
    "Меньше всего посадочных мест в категориях быстрое питание, столовая, булочная."
   ]
  },
  {
   "cell_type": "markdown",
   "metadata": {},
   "source": [
    "Стоит также рассчитать среднее количество посадочных мест на каждую из категорий заведения:"
   ]
  },
  {
   "cell_type": "code",
   "execution_count": null,
   "metadata": {},
   "outputs": [],
   "source": [
    "#подготовим данные\n",
    "data_by_seats1 = data[data['seats']!= -999]\n",
    "data_by_seats1 = data_by_seats1.groupby('category', as_index=False).agg({'seats':'median'})\n",
    "data_by_seats1 = data_by_seats1.sort_values(by='seats',ascending=False)"
   ]
  },
  {
   "cell_type": "code",
   "execution_count": null,
   "metadata": {},
   "outputs": [],
   "source": [
    "#построим график\n",
    "plt.figure(figsize=(12,6))\n",
    "\n",
    "ax = sns.barplot(data=data_by_seats1, x='category', y='seats', palette = 'crest')\n",
    "for g in ax.patches:\n",
    "    ax.annotate(format(g.get_height(), '.1f'),\n",
    "                   (g.get_x() + g.get_width() / 2., g.get_height()),\n",
    "                   ha = 'center', va = 'center',\n",
    "                   xytext = (0, 9),\n",
    "                   textcoords = 'offset points')\n",
    "plt.title('Медианное количество посадочных мест по категориям заведений', size = 15)\n",
    "plt.xlabel('Категория объекта питания', size = 13)\n",
    "plt.ylabel('Медианное количество посадочных мест', size = 13)\n",
    "plt.show()"
   ]
  },
  {
   "cell_type": "markdown",
   "metadata": {},
   "source": [
    "**Вывод:**\n",
    "\n",
    "- самое большое медианное количество посадочных мест наблюдается в категории \"ресторан\" - 86 мест.\n",
    "- далее идет категория \"бар, паб\" - 82,5 мест.\n",
    "- на третьем месте категория \"кофейня\" с 80 посадочными местами.\n",
    "\n",
    "Категория кафе со второго места опустилась на шестое - медианное количество посадочных мест на заведение - 60.\n",
    "\n",
    "Самое низкое медианное число посадочных мест в категориях \"пиццерия\" и \"булочная\"."
   ]
  },
  {
   "cell_type": "markdown",
   "metadata": {},
   "source": [
    "### Исследование соотношения сетевых и несетевых заведений в датасете"
   ]
  },
  {
   "cell_type": "markdown",
   "metadata": {},
   "source": [
    "Рассмотрим соотношение сетевых и несетевых заведений в датасете:"
   ]
  },
  {
   "cell_type": "code",
   "execution_count": null,
   "metadata": {},
   "outputs": [],
   "source": [
    "#подготовим данные\n",
    "data_by_chain = data.groupby('chain', as_index=False).agg(count=('name', 'count'))\n",
    "data_by_chain['chain'] = data_by_chain['chain'].replace(0, 'несетевые')\n",
    "data_by_chain['chain'] = data_by_chain['chain'].replace(1, 'сетевые')"
   ]
  },
  {
   "cell_type": "code",
   "execution_count": null,
   "metadata": {},
   "outputs": [],
   "source": [
    "colors2 = [\"#54bebe\", \"#d7658b\"]\n",
    "\n",
    "# строим диаграмму с сегментами\n",
    "fig = go.Figure(data=[go.Pie(labels=data_by_chain['chain'], # указываем значения, которые появятся на метках сегментов\n",
    "                             values=data_by_chain['count'])])# указываем данные, которые отобразятся на графике \n",
    "\n",
    "fig.update_layout(title='Cоотношение сетевых и несетевых заведений в датасете', # указываем заголовок графика\n",
    "                  width=600, # указываем размеры графика\n",
    "                  height=400,\n",
    "                  annotations=[dict(x=1.12, # вручную настраиваем аннотацию легенды\n",
    "                                    y=1.05,\n",
    "                                    text='Категория объекта',\n",
    "                                    showarrow=False)])\n",
    "fig.update_traces(textposition='inside', textinfo='percent+label', marker=dict(colors=colors2))\n",
    "fig.show() # выводим график"
   ]
  },
  {
   "cell_type": "code",
   "execution_count": null,
   "metadata": {},
   "outputs": [],
   "source": [
    "print(f\"\"\"\n",
    "Количество сетевых заведений в датасете: {data_by_chain.iloc[1]['count']}\n",
    "Количество несетевых заведений в датасете: {data_by_chain.iloc[0]['count']}\n",
    "\"\"\")"
   ]
  },
  {
   "cell_type": "markdown",
   "metadata": {},
   "source": [
    "**В датасете больше несетевых заведений - 62%, против 38% сетевых заведений.**"
   ]
  },
  {
   "cell_type": "markdown",
   "metadata": {},
   "source": [
    "Исследуем, какие категории заведений чаще являются сетевыми:"
   ]
  },
  {
   "cell_type": "code",
   "execution_count": null,
   "metadata": {},
   "outputs": [],
   "source": [
    "#подготовим данные\n",
    "data_chain=data[data['chain'] == 1].groupby('category', as_index=False).agg(chain=('name', 'count')).sort_values(by='chain', ascending=False)\n",
    "\n",
    "# строим столбчатую диаграмму \n",
    "fig = px.bar(data_chain, # загружаем данные\n",
    "             x='category', # указываем столбец с данными для оси X\n",
    "             y='chain', # указываем столбец с данными для оси Y\n",
    "             color='category',\n",
    "             color_discrete_sequence=colors,\n",
    "             text='chain'# добавляем аргумент, который отобразит текст с информацией\n",
    "                                # о количестве объявлений внутри столбца графика\n",
    "            )\n",
    "# оформляем график\n",
    "fig.update_layout(title='Количество сетевых заведений по категориям',\n",
    "                   xaxis_title='Категория объекта',\n",
    "                   yaxis_title='Количество сетевых заведений')\n",
    "\n",
    "fig.show() # выводим график"
   ]
  },
  {
   "cell_type": "markdown",
   "metadata": {},
   "source": [
    "По количеству объектов в датафрейме больше всего сетевых заведений в категориях кафе (779 об.), ресторан (730 об.), кофейня (720 об.)."
   ]
  },
  {
   "cell_type": "markdown",
   "metadata": {},
   "source": [
    "Построим график доли сетевых заведений от всех заведений по категориям:"
   ]
  },
  {
   "cell_type": "code",
   "execution_count": null,
   "metadata": {},
   "outputs": [],
   "source": [
    "#подготовим данные\n",
    "data_chain2 = data[data['chain'] == 1].groupby('category', as_index=False).agg(chain=('name', 'count')).sort_values(by='chain', ascending=False)\n",
    "data_not_chain = data[data['chain'] == 0].groupby('category').agg(not_chain=('name', 'count')).sort_values(by='not_chain', ascending=False)\n",
    "data_by_chain2 = pd.merge(data_chain2, data_not_chain, on='category')\n",
    "data_by_chain2['total_count']=data_by_chain2['chain']+data_by_chain2['not_chain']\n",
    "data_by_chain2['chain, %'] = round(data_by_chain2['chain']/data_by_chain2['total_count']*100, 1)\n",
    "data_by_chain2['not_chain, %'] = round(data_by_chain2['not_chain']/data_by_chain2['total_count']*100, 1)\n",
    "column_order=['category', 'chain', 'chain, %', 'not_chain', 'not_chain, %', 'total_count']\n",
    "data_by_chain2 = data_by_chain2[column_order]\n",
    "data_by_chain2.sort_values(by='total_count',ascending=False)"
   ]
  },
  {
   "cell_type": "code",
   "execution_count": null,
   "metadata": {},
   "outputs": [],
   "source": [
    "#подготовим данные\n",
    "data_by_chain2=data_by_chain2.sort_values(by='chain, %', ascending=False)\n",
    "\n",
    "# строим столбчатую диаграмму \n",
    "fig = px.bar(data_by_chain2, # загружаем данные\n",
    "             x='category', # указываем столбец с данными для оси X\n",
    "             y='chain, %', # указываем столбец с данными для оси Y\n",
    "             color='category',\n",
    "             color_discrete_sequence=colors,\n",
    "             text='chain, %'# добавляем аргумент, который отобразит текст с информацией\n",
    "                                # о количестве объявлений внутри столбца графика\n",
    "            )\n",
    "# оформляем график\n",
    "fig.update_layout(title='Доли сетевых заведений от всех заведений по категориям',\n",
    "                   xaxis_title='Категория объекта',\n",
    "                   yaxis_title='Доля сетевых заведений от всех заведений в категории')\n",
    "\n",
    "fig.show() # выводим график"
   ]
  },
  {
   "cell_type": "markdown",
   "metadata": {},
   "source": [
    "**Вывод:**\n",
    "\n",
    "- в датасете больше несетевых заведений - 5201 или 62%, против 38% (3205 об.) сетевых заведений.\n",
    "- по количеству объектов в датафрейме больше всего сетевых заведений в категориях кафе (779 об.), ресторан (730 об.), кофейня (720 об.).\n",
    "- самая большая доля сетевых заведений наблюдается в категории \"булочная\" - сетевые заведения составляют 61% от всех заведений.\n",
    "- далее идут пиццерии - 52% являются сетевыми\n",
    "- 51% от всех кофеен в датафрейме - сетевые. третье место\n",
    "- меньше всего сетевых заведений в категориях \"кафе\" (32%), \"столовая\" (28%), \"бар, паб\" (22%)."
   ]
  },
  {
   "cell_type": "markdown",
   "metadata": {},
   "source": [
    "### Топ-15 популярных сетей в Москве"
   ]
  },
  {
   "cell_type": "markdown",
   "metadata": {},
   "source": [
    "Найдем топ-15 популярных сетей в Москве (по количеству точек):"
   ]
  },
  {
   "cell_type": "code",
   "execution_count": null,
   "metadata": {},
   "outputs": [],
   "source": [
    "#подготовим данные\n",
    "data_by_name = data[data['chain'] == 1]\n",
    "data_by_name = data_by_name.groupby('name', as_index=False).agg(count=('name', 'count')).sort_values(by='count', ascending=False).head(15)\n",
    "data_by_name=pd.concat([data_by_name], ignore_index=True)\n",
    "#data_by_name"
   ]
  },
  {
   "cell_type": "code",
   "execution_count": null,
   "metadata": {},
   "outputs": [],
   "source": [
    "colors3 = ['#00876c']\n",
    "\n",
    "# строим столбчатую диаграмму \n",
    "fig = px.bar(data_by_name, # загружаем данные\n",
    "             x='name', # указываем столбец с данными для оси X\n",
    "             y='count', # указываем столбец с данными для оси Y\n",
    "             color='name',\n",
    "             color_discrete_sequence=colors3,\n",
    "             text='count'\n",
    "            )\n",
    "# оформляем график\n",
    "fig.update_layout(title='Топ-15 популярных сетей в Москве (по количеству заведений сети)',\n",
    "                  xaxis_title='Название сети',\n",
    "                  yaxis_title='Количество заведений',\n",
    "                  showlegend=False)\n",
    "\n",
    "fig.show() # выводим график"
   ]
  },
  {
   "cell_type": "markdown",
   "metadata": {},
   "source": [
    "Топ-15 выглядит достаточно правдоподобно - все эти заведения большие, известные сети, пользующиеся популярностью. "
   ]
  },
  {
   "cell_type": "markdown",
   "metadata": {},
   "source": [
    "Посмотрим к каким категориям относятся популярные сетевые заведения:"
   ]
  },
  {
   "cell_type": "code",
   "execution_count": null,
   "metadata": {},
   "outputs": [],
   "source": [
    "#подготовим данные\n",
    "data_by_name1=data[data.chain == 1].groupby(['name', 'category'], as_index=False).agg(count=('name', 'count'))\n",
    "data_by_name1=data_by_name1.sort_values(by='count',ascending=False)\n",
    "top15=pd.merge(data_by_name, data_by_name1, on='name')\n",
    "top15=top15.drop(columns = ['count_x'],axis = 1)\n",
    "top15.columns=['name', 'category', 'count_name']\n",
    "#top15.groupby(['category', 'name']).agg(count=('count_name', 'sum'))"
   ]
  },
  {
   "cell_type": "code",
   "execution_count": null,
   "metadata": {},
   "outputs": [],
   "source": [
    "#построим график\n",
    "fig = px.sunburst(top15, path=['category', 'name'], values='count_name',\n",
    "                  color_discrete_sequence=px.colors.sequential.Sunset)\n",
    "# оформляем график\n",
    "fig.update_layout(title='Топ-15 популярных сетей Москвы по категориям', # указываем заголовок графика\n",
    "                  width=800, # указываем размеры графика\n",
    "                  height=600)\n",
    "fig.show()"
   ]
  },
  {
   "cell_type": "code",
   "execution_count": null,
   "metadata": {},
   "outputs": [],
   "source": [
    "#создадим датафрейм c 15-топ улиц\n",
    "top15_name = top15['name']\n",
    "name_top15_list = top15_name.values.tolist()\n",
    "data_top15_name=data.query('name in @name_top15_list')"
   ]
  },
  {
   "cell_type": "code",
   "execution_count": null,
   "metadata": {},
   "outputs": [],
   "source": [
    "#построим график\n",
    "fig = px.histogram(data_top15_name,\n",
    "                   x='category',\n",
    "                   color='name',\n",
    "                   color_discrete_sequence=px.colors.sequential.Sunset).update_xaxes(categoryorder='total descending')\n",
    "# оформляем график\n",
    "fig.update_layout(title='Топ-15 популярных сетей Москвы по категориям', # указываем заголовок графика\n",
    "                  xaxis_title='Категория заведения',\n",
    "                  yaxis_title='Количество заведений',\n",
    "                  width=1000, # указываем размеры графика\n",
    "                  height=600)\n",
    "\n",
    "fig.show()"
   ]
  },
  {
   "cell_type": "code",
   "execution_count": null,
   "metadata": {},
   "outputs": [],
   "source": [
    "top15_gr=top15.groupby('category').agg(count=('count_name', 'sum')).reset_index()\n",
    "top15_gr=top15_gr.sort_values(by='count',ascending=False)\n",
    "top15_gr"
   ]
  },
  {
   "cell_type": "markdown",
   "metadata": {},
   "source": [
    "**Вывод:**\n",
    "\n",
    "В топ-15 популярных сетей в Москве (по количеству заведений сети) входят крупные и известные сети, такие как:\n",
    "'Шоколадница', \"Домино'с Пицца\", 'Додо Пицца', 'One Price Coffee', 'Яндекс Лавка', 'Cofix', 'Prime', 'Хинкальная', 'КОФЕПОРТ', 'Кулинарная лавка братьев Караваевых', 'Теремок', 'Чайхана', 'CofeFest', 'Буханка', 'Му-Му'.\n",
    "\n",
    "Исходя из графика, самые популярные категории, характерные для топ-15 (по количеству точек) сетевых заведений Москвы, такие:\n",
    "- кофейня (336 объектов)\n",
    "- ресторан (186 об.)\n",
    "- пиццерия (151 об.)\n",
    "- кафе (100 об.)\n",
    "\n",
    "Также стоит обратить внимание на то, что некоторые сетевые заведения причисляют себя к нескольким категориям, например, у сети Чайхана 26 точек открыто в категории кафе, 9 в категории ресторан и 2 точки в категории общественное питание. Разделение также присутсвует у сетей Шоколадница, Prime, Хинкальная, Теремок, CofeFest, Буханка и Му-Му."
   ]
  },
  {
   "cell_type": "markdown",
   "metadata": {},
   "source": [
    "### Количество заведений по районам Москвы"
   ]
  },
  {
   "cell_type": "markdown",
   "metadata": {},
   "source": [
    "Посмотрим, какие административные районы присутствуют в датасете и посчитаем количество заведений в каждом районе:"
   ]
  },
  {
   "cell_type": "code",
   "execution_count": null,
   "metadata": {},
   "outputs": [],
   "source": [
    "#готовим данные\n",
    "data_by_district = data.groupby('district').agg(count=('name', 'count')).sort_values(by='count', ascending=False)\n",
    "data_by_district['share']=round(data_by_district['count']/sum(data_by_district['count'])*100, 1)\n",
    "data_by_district=data_by_district.reset_index()\n",
    "#data_by_district"
   ]
  },
  {
   "cell_type": "code",
   "execution_count": null,
   "metadata": {
    "scrolled": true
   },
   "outputs": [],
   "source": [
    "# строим диаграмму с сегментами\n",
    "fig = go.Figure(data=[go.Pie(labels=data_by_district['district'], # указываем значения, которые появятся на метках сегментов\n",
    "                             values=data_by_district['count'], # указываем данные, которые отобразятся на графике \n",
    "                             pull = [0.1, 0])])\n",
    "\n",
    "fig.update_layout(title='Распределение количества объектов общественного питания по районам Москвы (в %)', # указываем заголовок графика\n",
    "                  width=900, # указываем размеры графика\n",
    "                  height=700,\n",
    "                  annotations=[dict(x=1.12, # вручную настраиваем аннотацию легенды\n",
    "                                    y=1.05,\n",
    "                                    text='Административный район',\n",
    "                                    showarrow=False)])\n",
    "fig.update_traces(textposition='inside', textinfo='percent+label', marker=dict(colors=colors_fr))\n",
    "fig.show() # выводим график"
   ]
  },
  {
   "cell_type": "markdown",
   "metadata": {},
   "source": [
    "Построим гистограмму, отражающую общее количество заведений и количество заведений каждой категории по районам:"
   ]
  },
  {
   "cell_type": "code",
   "execution_count": null,
   "metadata": {},
   "outputs": [],
   "source": [
    "#построим график\n",
    "fig = px.histogram(data,\n",
    "                   x='district',\n",
    "                   color='category',\n",
    "                   color_discrete_sequence=px.colors.sequential.Sunset).update_xaxes(categoryorder='total descending')\n",
    "# оформляем график\n",
    "fig.update_layout(title='Количество заведений по районам Москвы и по категориям', # указываем заголовок графика\n",
    "                  xaxis_title='Административный район',\n",
    "                  yaxis_title='Количество заведений',\n",
    "                  width=1000, # указываем размеры графика\n",
    "                  height=600)\n",
    "\n",
    "fig.show()"
   ]
  },
  {
   "cell_type": "code",
   "execution_count": null,
   "metadata": {},
   "outputs": [],
   "source": [
    "#построим график\n",
    "fig = px.histogram(data,\n",
    "                   x='district',\n",
    "                   color='category',\n",
    "                   facet_col='category',\n",
    "                   facet_col_wrap=3,\n",
    "                   color_discrete_sequence=px.colors.sequential.Sunset).update_xaxes(categoryorder='total ascending')\n",
    "# оформляем график\n",
    "fig.update_layout(title='Количество заведений по районам Москвы и по категориям', # указываем заголовок графика\n",
    "                  xaxis_title='Административный район',\n",
    "                  yaxis_title='Количество заведений',\n",
    "                  width=900, # указываем размеры графика\n",
    "                  height=900)\n",
    "fig.show()"
   ]
  },
  {
   "cell_type": "markdown",
   "metadata": {},
   "source": [
    "**Вывод**\n",
    "\n",
    "Больше всего заведений находится в ЦАО - 2242 объекта (26,7%), далее идут 4 района с примерно одинаковым количеством объектов (в районе 10-11% от всех) - САО, ЮАО, СВАО, ЗАО. Меньше всего объектов находится в СЗАО - всего 409 (4,9%).\n",
    "\n",
    "Из гистограмм мы видим, что распределение категорий заведений по районам примерно одинаково - на первых трех местах стабильно находятся категории кафе, ресторан и кофейня. Рестораны занимают первое место по количеству только в районе ЦАО. В других районах на первых местах чаще заведения категории кафе. Кофейни во всех районах занимают третье место по количеству точек."
   ]
  },
  {
   "cell_type": "markdown",
   "metadata": {},
   "source": [
    "### Распределение средних рейтингов по категориям заведений"
   ]
  },
  {
   "cell_type": "markdown",
   "metadata": {},
   "source": [
    "Визуализируем распределение средних рейтингов по категориям заведений:"
   ]
  },
  {
   "cell_type": "code",
   "execution_count": null,
   "metadata": {},
   "outputs": [],
   "source": [
    "#подготовим данные\n",
    "data_by_rating = data.groupby('category').agg({'rating':'mean'}).sort_values(by='rating',ascending=False)\n",
    "data_by_rating=data_by_rating.reset_index()\n",
    "#data_by_rating"
   ]
  },
  {
   "cell_type": "code",
   "execution_count": null,
   "metadata": {},
   "outputs": [],
   "source": [
    "#построим график\n",
    "plt.figure(figsize=(12,4))\n",
    "\n",
    "ax = sns.barplot(data=data_by_rating, x='category', y='rating', palette = 'crest')\n",
    "for g in ax.patches:\n",
    "    ax.annotate(format(g.get_height(), '.1f'),\n",
    "                   (g.get_x() + g.get_width() / 2., g.get_height()),\n",
    "                   ha = 'center', va = 'center',\n",
    "                   xytext = (0, 9),\n",
    "                   textcoords = 'offset points')\n",
    "plt.title('Средний рейтинг по категориям заведений', size = 15)\n",
    "plt.xlabel('Категория объекта питания', size = 13)\n",
    "plt.ylabel('Средний рейтинг', size = 13)\n",
    "plt.show()"
   ]
  },
  {
   "cell_type": "code",
   "execution_count": null,
   "metadata": {},
   "outputs": [],
   "source": [
    "plt.figure(figsize=(12,6))\n",
    "df5 = sns.boxplot(data=data, x='rating', y='category', palette='crest')\n",
    "df5.set(xlim=(3,5))\n",
    "plt.title('Распределение среднего рейтинга по категориям заведений', size = 15)\n",
    "plt.xlabel('Рейтинг', size = 13)\n",
    "plt.ylabel('Категория объекта питания', size = 13)\n",
    "plt.show()"
   ]
  },
  {
   "cell_type": "markdown",
   "metadata": {},
   "source": [
    "**Вывод**\n",
    "\n",
    "Усредненный рейтинг по разным типах общепита не сильно отличается - от 4,4 у баров/пабов до 4,1 у быстрого питания.\n",
    "\n",
    "Графики boxplot подтверждает эти данные - лучше всех себя показывают заведения категории \"бар, паб\", заведения других категорий - \"ресторан\", \"кафе\", \"кофейня\", \"пиццерия\", \"булочная\" - показывают примерно одинаковые результаты. Хуже других распределение рейтинга у заведений категорий \"быстрое питание\" и \"столовая.\""
   ]
  },
  {
   "cell_type": "markdown",
   "metadata": {},
   "source": [
    "### Построение фоновой картограммы (хороплет) со средним рейтингом заведений каждого района Москвы"
   ]
  },
  {
   "cell_type": "markdown",
   "metadata": {},
   "source": [
    "Построим фоновую картограмму (хороплет) со средним рейтингом заведений каждого района:"
   ]
  },
  {
   "cell_type": "code",
   "execution_count": null,
   "metadata": {},
   "outputs": [],
   "source": [
    "rating_data = data.groupby('district', as_index=False)['rating'].agg('median')\n",
    "#rating_data"
   ]
  },
  {
   "cell_type": "code",
   "execution_count": null,
   "metadata": {},
   "outputs": [],
   "source": [
    "# загружаем JSON-файл с границами округов Москвы\n",
    "state_geo = 'https://code.s3.yandex.net/data-analyst/admin_level_geomap.geojson'\n",
    "# moscow_lat - широта центра Москвы, moscow_lng - долгота центра Москвы\n",
    "moscow_lat, moscow_lng = 55.751244, 37.618423\n",
    "\n",
    "# создаём карту Москвы\n",
    "m_rating = Map(location=[moscow_lat, moscow_lng], zoom_start=10)\n",
    "\n",
    "# создаём хороплет с помощью конструктора Choropleth и добавляем его на карту\n",
    "Choropleth(\n",
    "    geo_data=state_geo,\n",
    "    data=rating_data,\n",
    "    columns=['district', 'rating'],\n",
    "    key_on='feature.name',\n",
    "    fill_color='Oranges',\n",
    "    fill_opacity=0.8,\n",
    "    legend_name='Медианный рейтинг заведений по районам',\n",
    ").add_to(m_rating)\n",
    "\n",
    "# выводим карту\n",
    "m_rating"
   ]
  },
  {
   "cell_type": "markdown",
   "metadata": {},
   "source": [
    "**Вывод:**\n",
    "\n",
    "Из построенной фоновой картограммы мы видим, что самый высокий медианный рейтинг - у заведений в центре Москвы (4,4 балла). Самый низкий - у объектов, находящихся в СВАО и ЮВАО (4,2 балла). У заведений в остальных районах медианный рейтинг примерно одинаков и составляет 4,3 балла."
   ]
  },
  {
   "cell_type": "markdown",
   "metadata": {},
   "source": [
    "### Отображение всех заведений датасета на карте с помощью кластеров"
   ]
  },
  {
   "cell_type": "markdown",
   "metadata": {},
   "source": [
    "Отобразим все заведения датасета на карте с помощью кластеров средствами библиотеки folium:"
   ]
  },
  {
   "cell_type": "code",
   "execution_count": null,
   "metadata": {},
   "outputs": [],
   "source": [
    "# создаём карту Москвы\n",
    "m_all = Map(location=[moscow_lat, moscow_lng], zoom_start=10)\n",
    "# создаём пустой кластер, добавляем его на карту\n",
    "marker_cluster = MarkerCluster().add_to(m_all)\n",
    "\n",
    "def create_clusters(row):\n",
    "    # сохраняем URL-адрес изображения со значком торгового центра с icons8,\n",
    "    # это путь к файлу на сервере icons8\n",
    "    icon_url = 'https://img.icons8.com/?size=512&id=611&format=png'  \n",
    "    # создаём объект с собственной иконкой размером 30x30\n",
    "    icon = CustomIcon(icon_url, icon_size=(30, 30))\n",
    "    \n",
    "    # создаём маркер с иконкой icon и добавляем его в кластер\n",
    "    Marker(\n",
    "        [row['lat'], row['lng']],\n",
    "        popup=f\"{row['name']} {row['rating']}\",\n",
    "        icon=icon,\n",
    "    ).add_to(marker_cluster)\n",
    "\n",
    "# применяем функцию для создания кластеров к каждой строке датафрейма\n",
    "data.apply(create_clusters, axis=1)\n",
    "\n",
    "# выводим карту\n",
    "m_all"
   ]
  },
  {
   "cell_type": "markdown",
   "metadata": {},
   "source": [
    "**Вывод**\n",
    "\n",
    "Отобразили все заведения датасета на карте с помощью библиотеки кластеров и использовли собственную иконку."
   ]
  },
  {
   "cell_type": "markdown",
   "metadata": {},
   "source": [
    "### Топ-15 улиц по количеству заведений"
   ]
  },
  {
   "cell_type": "markdown",
   "metadata": {},
   "source": [
    "Найдем топ-15 улиц по количеству заведений. Построим график распределения количества заведений и их категорий по этим улицам:"
   ]
  },
  {
   "cell_type": "code",
   "execution_count": null,
   "metadata": {},
   "outputs": [],
   "source": [
    "#подготовим данные\n",
    "data_by_street = data.groupby('street', as_index=False).agg(count=('name', 'count')).sort_values(by='count', ascending=False).head(15)\n",
    "data_by_street=pd.concat([data_by_street], ignore_index=True)\n",
    "data_by_street"
   ]
  },
  {
   "cell_type": "code",
   "execution_count": null,
   "metadata": {},
   "outputs": [],
   "source": [
    "#создадим датафрейм c 15-топ улиц\n",
    "street = data_by_street['street']\n",
    "street_list = street.values.tolist()\n",
    "data_top15_street=data.query('street in @street_list')"
   ]
  },
  {
   "cell_type": "code",
   "execution_count": null,
   "metadata": {},
   "outputs": [],
   "source": [
    "#построим график\n",
    "fig = px.histogram(data_top15_street,\n",
    "                   x='street',\n",
    "                   color='category',\n",
    "                   color_discrete_sequence=px.colors.sequential.Sunset).update_xaxes(categoryorder='total descending')\n",
    "# оформляем график\n",
    "fig.update_layout(title='Количество заведений по топ-15 улицам Москвы и по категориям', # указываем заголовок графика\n",
    "                  xaxis_title='Наименование улицы',\n",
    "                  yaxis_title='Количество заведений',\n",
    "                  width=1000, # указываем размеры графика\n",
    "                  height=600)\n",
    "\n",
    "fig.show()"
   ]
  },
  {
   "cell_type": "code",
   "execution_count": null,
   "metadata": {},
   "outputs": [],
   "source": [
    "#построим график\n",
    "fig = px.histogram(data_top15_street,\n",
    "                   x='street',\n",
    "                   color='category',\n",
    "                   facet_col='category',\n",
    "                   facet_col_wrap=3,\n",
    "                   color_discrete_sequence=px.colors.sequential.Sunset)\n",
    "# оформляем график\n",
    "fig.update_layout(title='Количество заведений по топ-15 улицам Москвы и по категориям', # указываем заголовок графика\n",
    "                  xaxis_title='Наименование улицы',\n",
    "                  yaxis_title='Количество заведений',\n",
    "                  width=900, # указываем размеры графика\n",
    "                  height=900)\n",
    "fig.show()"
   ]
  },
  {
   "cell_type": "markdown",
   "metadata": {},
   "source": [
    "Построим карту, на которой отобразим объекты на топ-15 популярных улиц Москвы:"
   ]
  },
  {
   "cell_type": "code",
   "execution_count": null,
   "metadata": {},
   "outputs": [],
   "source": [
    "# создаём карту Москвы\n",
    "m_top15 = Map(location=[moscow_lat, moscow_lng], zoom_start=10)\n",
    "# создаём пустой кластер, добавляем его на карту\n",
    "marker_cluster = MarkerCluster().add_to(m_top15)\n",
    "\n",
    "def create_clusters(row):\n",
    "    # сохраняем URL-адрес изображения со значком торгового центра с icons8,\n",
    "    # это путь к файлу на сервере icons8\n",
    "    icon_url = 'https://img.icons8.com/?size=512&id=611&format=png'  \n",
    "    # создаём объект с собственной иконкой размером 30x30\n",
    "    icon = CustomIcon(icon_url, icon_size=(30, 30))\n",
    "    \n",
    "    # создаём маркер с иконкой icon и добавляем его в кластер\n",
    "    Marker(\n",
    "        [row['lat'], row['lng']],\n",
    "        popup=f\"{row['name']} {row['rating']}\",\n",
    "        icon=icon,\n",
    "    ).add_to(marker_cluster)\n",
    "\n",
    "# применяем функцию для создания кластеров к каждой строке датафрейма\n",
    "data_top15_street.apply(create_clusters, axis=1)\n",
    "\n",
    "# выводим карту\n",
    "m_top15"
   ]
  },
  {
   "cell_type": "code",
   "execution_count": null,
   "metadata": {},
   "outputs": [],
   "source": [
    "#data_top15_street.groupby('category', as_index=False).agg(count=('name', 'count')).sort_values(by='count', ascending=False)"
   ]
  },
  {
   "cell_type": "markdown",
   "metadata": {},
   "source": [
    "**Вывод:**\n",
    "\n",
    "В топ-15 популярных улиц Москвы входят крупные магистрали и шоссе, пронизывающие все районы города.\n",
    "\n",
    "Самое большое количество объектов (184) находится на проспекте Мира. Далее идут длинные и популярные улицы - Профсоюзная улица (122 об.), проспект Вернадского (108 об.), Ленинский проспект (107 об.), Ленинградский проспект (95 об.). Замыкает топ-15 лидеров Пятницкая улица (48 объектов).  \n",
    "\n",
    "- Кафе наиболее популярны на топ-15 улицах Москвы (всего 353 об.): больше всего их на проспекте Мира (53 об.), далее идут МКАД (45 об.), Профсоюзная улица (35 об.).\n",
    "- Потом идет категория рестораны (всего 327 об.) - больше всего ресторанов находится на улицах проспект Мира (45 об.), Ленинский проспект (33 об.), проспект Вернадского (33 об.).\n",
    "- На третьем месте находятся кофейни (220 об.) - проспект Мира (36 об.), Ленинградский проспект (25 об.), Ленинский проспект (23 об.).\n",
    "- Меньше всего на топ-15 улицах Москвы открыто столовых (40 об.) и булочных (26 об.)."
   ]
  },
  {
   "cell_type": "markdown",
   "metadata": {},
   "source": [
    "### Исследование датасета на предмет улиц, на которых находится только один объект общепита"
   ]
  },
  {
   "cell_type": "markdown",
   "metadata": {},
   "source": [
    "Найдем улицы, на которых находится только один объект общепита:"
   ]
  },
  {
   "cell_type": "code",
   "execution_count": null,
   "metadata": {},
   "outputs": [],
   "source": [
    "data_by_street_total = data.groupby('street', as_index=False).agg(count=('name', 'count')).sort_values(by='count', ascending=False)\n",
    "data_by_street_1=pd.concat([data_by_street_total], ignore_index=True)\n",
    "data_by_street_1=data_by_street_1[data_by_street_1['count']==1]\n",
    "#data_by_street_1\n",
    "print(f'Количество улиц, на которых находится только один объект общепита: {len(data_by_street_1)}, что составляет {round((len(data_by_street_1)/len(data_by_street_total))*100, 1)}% от общего числа улиц в датасете')"
   ]
  },
  {
   "cell_type": "code",
   "execution_count": null,
   "metadata": {},
   "outputs": [],
   "source": [
    "#создадим датафрейм, в котором останутся данные по улицам с 1 заведением\n",
    "street_1 = data_by_street_1['street']\n",
    "street_1_list = street_1.values.tolist()\n",
    "data_1_street=data.query('street in @street_1_list')\n",
    "#data_1_street"
   ]
  },
  {
   "cell_type": "markdown",
   "metadata": {},
   "source": [
    "Что можно сказать об этих заведениях?"
   ]
  },
  {
   "cell_type": "code",
   "execution_count": null,
   "metadata": {},
   "outputs": [],
   "source": [
    "street_1_chain=data_1_street.groupby('chain', as_index=False).agg(count=('name', 'count'))\n",
    "print(f\"\"\"\n",
    "Количество сетевых заведений: {street_1_chain.iloc[1]['count']} или {round(street_1_chain.iloc[1]['count']/street_1_chain['count'].sum()*100)}%\n",
    "Количество несетевых заведений: {street_1_chain.iloc[0]['count']} или {round(street_1_chain.iloc[0]['count']/street_1_chain['count'].sum()*100)}%\n",
    "\"\"\")"
   ]
  },
  {
   "cell_type": "markdown",
   "metadata": {},
   "source": [
    "В основном это несетевые заведения - их 71%."
   ]
  },
  {
   "cell_type": "markdown",
   "metadata": {},
   "source": [
    "Построим диаграмму, отражающую распределение категорий среди этих объектов:"
   ]
  },
  {
   "cell_type": "code",
   "execution_count": null,
   "metadata": {},
   "outputs": [],
   "source": [
    "data_by_cat_1str = pd.DataFrame(data_1_street['category'].value_counts()).reset_index()\n",
    "\n",
    "# строим диаграмму с сегментами\n",
    "fig = go.Figure(data=[go.Pie(labels=data_by_cat_1str['category'], # указываем значения, которые появятся на метках сегментов\n",
    "                             values=data_by_cat_1str['count'], # указываем данные, которые отобразятся на графике \n",
    "                             pull = [0.1, 0])])\n",
    "\n",
    "fig.update_layout(title='Категории объектов общепита (единственный объект на улице) (в %)', # указываем заголовок графика\n",
    "                  width=800, # указываем размеры графика\n",
    "                  height=600,\n",
    "                  annotations=[dict(x=1.12, # вручную настраиваем аннотацию легенды\n",
    "                                    y=1.05,\n",
    "                                    text='Категория объекта',\n",
    "                                    showarrow=False)])\n",
    "fig.update_traces(textposition='inside', textinfo='percent+label', marker=dict(colors=colors_fr))\n",
    "fig.show() # выводим график"
   ]
  },
  {
   "cell_type": "markdown",
   "metadata": {},
   "source": [
    "35% объектов, которые являются единственными объектами общепита на улице - это кафе, 20% - рестораны, 18% - кофейни."
   ]
  },
  {
   "cell_type": "markdown",
   "metadata": {},
   "source": [
    "Посчитаем медианные рейтинг и количество посадочных мест:"
   ]
  },
  {
   "cell_type": "code",
   "execution_count": null,
   "metadata": {},
   "outputs": [],
   "source": [
    "data_1_street_medianr=data_1_street['rating'].median()\n",
    "print(f'Медианный рейтинг: {data_1_street_medianr}')\n",
    "data_1_street_seats=data_1_street[data_1_street['seats']!= -999]\n",
    "data_1_street_medians=data_1_street_seats['seats'].median()\n",
    "print(f'Медианное количество посадочных мест: {data_1_street_medians}')"
   ]
  },
  {
   "cell_type": "markdown",
   "metadata": {},
   "source": [
    "Посмотрим на распределение заведений по районам:"
   ]
  },
  {
   "cell_type": "code",
   "execution_count": null,
   "metadata": {},
   "outputs": [],
   "source": [
    "data_1_street_district=data_1_street.groupby('district').agg(count=('name', 'count')).sort_values(by='count', ascending=False).reset_index()\n",
    "data_1_street_district['share']=round((data_1_street_district['count']/data_1_street_district['count'].sum()*100), 1)\n",
    "data_1_street_district"
   ]
  },
  {
   "cell_type": "markdown",
   "metadata": {},
   "source": [
    "32% объектов, которые являются единственными объектами общепита на улице, находятся в ЦАО, 12% - в СВАО, 11% - в ВАО и столько же в САО."
   ]
  },
  {
   "cell_type": "markdown",
   "metadata": {},
   "source": [
    "Построим карту, отображающую единственные заведения на улице:"
   ]
  },
  {
   "cell_type": "code",
   "execution_count": null,
   "metadata": {},
   "outputs": [],
   "source": [
    "# создаём карту Москвы\n",
    "m_one = Map(location=[moscow_lat, moscow_lng], zoom_start=10)\n",
    "# создаём пустой кластер, добавляем его на карту\n",
    "marker_cluster = MarkerCluster().add_to(m_one)\n",
    "\n",
    "def create_clusters(row):\n",
    "    # сохраняем URL-адрес изображения со значком торгового центра с icons8,\n",
    "    # это путь к файлу на сервере icons8\n",
    "    icon_url = 'https://img.icons8.com/?size=512&id=611&format=png'  \n",
    "    # создаём объект с собственной иконкой размером 30x30\n",
    "    icon = CustomIcon(icon_url, icon_size=(30, 30))\n",
    "    \n",
    "    # создаём маркер с иконкой icon и добавляем его в кластер\n",
    "    Marker(\n",
    "        [row['lat'], row['lng']],\n",
    "        popup=f\"{row['name']} {row['rating']}\",\n",
    "        icon=icon,\n",
    "    ).add_to(marker_cluster)\n",
    "\n",
    "# применяем функцию для создания кластеров к каждой строке датафрейма\n",
    "data_1_street.apply(create_clusters, axis=1)\n",
    "\n",
    "# выводим карту\n",
    "m_one"
   ]
  },
  {
   "cell_type": "markdown",
   "metadata": {},
   "source": [
    "Смотря на карту, можно сделать вывод, что если заведение является единственным на улице, то скорее всего оно находится в небольшом переулке или на недлинной улице."
   ]
  },
  {
   "cell_type": "markdown",
   "metadata": {},
   "source": [
    "**Вывод**\n",
    "\n",
    "Количество улиц, на которых находится только один объект общепита: 458, что составляет 31.6% от общего числа улиц в датасете.\n",
    "\n",
    "Чаще всего это заведения, расположенные на небольших улицах или в переулках.\n",
    "\n",
    "Данные объекты общественного питания характеризуются следующими признаками:\n",
    "- В основном это несетевые заведения - 71% (325 об.). Сетевые заведения составляют 29% (133 об.)\n",
    "- Топ-3 категории: кафе - 35% объектов, 20% - рестораны, 18% - кофейни.\n",
    "- Медианный рейтинг: 4.3\n",
    "- Медианное количество посадочных мест: 45.0\n",
    "- Топ-3 района, в которых данные заведения располагаются: 32% - ЦАО, 12% - в СВАО, 11% - в ВАО и столько же в САО."
   ]
  },
  {
   "cell_type": "markdown",
   "metadata": {},
   "source": [
    "### Построение фоновой картограммы (хороплет) со значением ценового индикатора каждого района Москвы"
   ]
  },
  {
   "cell_type": "markdown",
   "metadata": {},
   "source": [
    "Построим фоновую картограмму (хороплет) с медианным значением столбца middle_avg_bill (примерная стоимость заказа в рублях) для каждого района:"
   ]
  },
  {
   "cell_type": "code",
   "execution_count": null,
   "metadata": {},
   "outputs": [],
   "source": [
    "#подготовим данные\n",
    "avg_bill_data = data[data['middle_avg_bill']!= -999] #убираем заглушку\n",
    "avg_bill_data = avg_bill_data.groupby('district', as_index=False)['middle_avg_bill'].agg('median')\n",
    "#avg_bill_data.sort_values(by='middle_avg_bill', ascending=False)"
   ]
  },
  {
   "cell_type": "code",
   "execution_count": null,
   "metadata": {},
   "outputs": [],
   "source": [
    "# создаём карту\n",
    "m_avg_bill = Map(location=[moscow_lat, moscow_lng], zoom_start=10)\n",
    "\n",
    "# создаём хороплет с помощью конструктора Choropleth и добавляем его на карту\n",
    "Choropleth(\n",
    "    geo_data=state_geo,\n",
    "    data=avg_bill_data,\n",
    "    columns=['district', 'middle_avg_bill'],\n",
    "    key_on='feature.name',\n",
    "    fill_color='Oranges',\n",
    "    fill_opacity=0.8,\n",
    "    legend_name='Медианная стоимость заказа по районам',\n",
    ").add_to(m_avg_bill)\n",
    "\n",
    "# выводим карту\n",
    "m_avg_bill"
   ]
  },
  {
   "cell_type": "markdown",
   "metadata": {},
   "source": [
    "**Вывод:**\n",
    "\n",
    "Из построенной фоновой картограммы мы видим, что самая высокая медианная стоимость заказа - в районах ЦАО и ЗАО (1000 р.), самая низкая - в ЮВАО (450 р.) \n",
    "В целом можно сделать вывод о том, что чем дальше от центра, тем медианная стоимость заказа становится ниже."
   ]
  },
  {
   "cell_type": "markdown",
   "metadata": {},
   "source": [
    "### Вывод по исследовательскому анализу данных"
   ]
  },
  {
   "cell_type": "markdown",
   "metadata": {},
   "source": [
    "Проведя исследовательский анализ данных заведений общественного питания Москвы, можно сделать следующие выводы:\n",
    "\n",
    "1) По категориям объекты общественного питания Москвы делятся следующим образом:\n",
    "- \"кафе\" - 2378 об. (28,3%),\n",
    "- \"ресторан\" - 2043 об. (24,3%),\n",
    "- \"кофейня\"- 1413 об. (16,8%),\n",
    "- \"бар,паб\" - 765 об. (9,1%)\n",
    "- \"пиццерия\" - 633 об.(7,53%)\n",
    "- последние три места по количеству объектов занимают категории быстрое питание (7%), столовая (3,7%), булочная (3%).\n",
    "\n",
    "2) По количеству посадочных мест объекты общественного питания Москвы делятся следующим образом:\n",
    "\n",
    "Тройка лидеров по количеству посадочных мест выглядит так:\n",
    "- в категории \"ресторан\" всего 154 869 посадочных мест\n",
    "- кафе насчитывают 118770 мест\n",
    "- в кофейнях всего 83511 посадочных места\n",
    "Меньше всего посадочных мест в категориях быстрое питание, столовая, булочная.\n",
    "\n",
    "По медианному количеству посадочных мест:\n",
    "- самое большое медианное количество посадочных мест наблюдается в категории \"ресторан\" - 86 мест.\n",
    "- далее идет категория \"бар, паб\" - 82,5 мест.\n",
    "- на третьем месте категория \"кофейня\" с 80 посадочными местами.\n",
    "\n",
    "Категория кафе со второго места опустилась на шестое - медианное количество посадочных мест на заведение - 60.\n",
    "\n",
    "Самое низкое медианное число посадочных мест в категориях \"пиццерия\" и \"булочная\".\n",
    "\n",
    "\n",
    "3) Соотношение сетевых и несетевых объектов общественного питания Москвы выглядит так:\n",
    "- в датасете больше несетевых заведений - 5201 или 62%, против 38% (3205 об.) сетевых заведений.\n",
    "- по количеству объектов в датафрейме больше всего сетевых заведений в категориях кафе (779 об.), ресторан (730 об.), кофейня (720 об.).\n",
    "- самая большая доля сетевых заведений наблюдается в категории \"булочная\" - сетевые заведения составляют 61% от всех заведений.\n",
    "- далее идут пиццерии - 52% являются сетевыми\n",
    "- 51% от всех кофеен в датафрейме - сетевые. третье место\n",
    "- меньше всего сетевых заведений в категориях \"кафе\" (32%), \"столовая\" (28%), \"бар, паб\" (22%).\n",
    "\n",
    "\n",
    "4) В топ-15 популярных сетей в Москве (по количеству заведений сети) входят крупные и известные сети, такие как: 'Шоколадница', \"Домино'с Пицца\", 'Додо Пицца', 'One Price Coffee', 'Яндекс Лавка', 'Cofix', 'Prime', 'Хинкальная', 'КОФЕПОРТ', 'Кулинарная лавка братьев Караваевых', 'Теремок', 'Чайхана', 'CofeFest', 'Буханка', 'Му-Му'.\n",
    "\n",
    "Самые популярные категории, характерные для топ-15 (по количеству точек) сетевых заведений Москвы, такие:\n",
    "- кофейня (336 объектов)\n",
    "- ресторан (186 об.)\n",
    "- пиццерия (151 об.)\n",
    "- кафе (100 об.)\n",
    "\n",
    "5) По количеству заведений по районам Москвы разделение выглядит следующим образом:\n",
    "\n",
    "Больше всего заведений находится в ЦАО - 2242 объекта (26,7%), далее идут 4 района с примерно одинаковым количеством объектов (в районе 10-11% от всех) - САО, ЮАО, СВАО, ЗАО. Меньше всего объектов находится в СЗАО - всего 409 (4,9%).\n",
    "\n",
    "Распределение категорий заведений по районам примерно одинаково:\n",
    "- на первых трех местах стабильно находятся категории кафе, ресторан и кофейня.\n",
    "- рестораны занимают первое место по количеству только в районе ЦАО. В других районах на первых местах чаще заведения категории кафе.\n",
    "- кофейни во всех районах занимают третье место по количеству точек.\n",
    "\n",
    "\n",
    "6) Распределение средних рейтингов по категориям заведений:\n",
    "\n",
    "Усредненный рейтинг по разным типах общепита не сильно отличается - от 4,4 у баров/пабов до 4,1 у быстрого питания.\n",
    "\n",
    "По графикам boxplot лучше всех себя показывают заведения категории \"бар, паб\", заведения других категорий - \"ресторан\", \"кафе\", \"кофейня\", \"пиццерия\", \"булочная\" - показывают примерно одинаковые результаты. Хуже других распределение рейтинга у заведений категорий \"быстрое питание\" и \"столовая.\"\n",
    "\n",
    "7) Самый высокий медианный рейтинг - у заведений в центре Москвы (4,4 балла). Самый низкий - у объектов, находящихся в СВАО и ЮВАО (4,2 балла). У заведений в остальных районах медианный рейтинг примерно одинаков и составляет 4,3 балла.\n",
    "\n",
    "8) В топ-15 популярных улиц Москвы входят крупные магистрали и шоссе, пронизывающие все районы города.\n",
    "\n",
    "- Самое большое количество объектов (184) находится на проспекте Мира.\n",
    "- Далее идут длинные и популярные улицы - Профсоюзная улица (122 об.), проспект Вернадского (108 об.), Ленинский проспект (107 об.), Ленинградский проспект (95 об.).\n",
    "- Замыкает топ-15 лидеров Пятницкая улица (48 объектов).\n",
    "\n",
    "9) Распределение категорий заведений на топ-15 популярных улицах Москвы:\n",
    "- Кафе наиболее популярны на топ-15 улицах Москвы (всего 353 об.): больше всего их на проспекте Мира (53 об.), далее идут МКАД (45 об.), Профсоюзная улица (35 об.).\n",
    "- Потом идет категория рестораны (всего 327 об.) - больше всего ресторанов находится на улицах проспект Мира (45 об.), Ленинский проспект (33 об.), проспект Вернадского (33 об.).\n",
    "- На третьем месте находятся кофейни (220 об.) - проспект Мира (36 об.), Ленинградский проспект (25 об.), Ленинский проспект (23 об.).\n",
    "- Меньше всего на топ-15 улицах Москвы открыто столовых (40 об.) и булочных (26 об.).\n",
    "\n",
    "10) Количество улиц, на которых находится только один объект общепита: 458, что составляет 31.6% от общего числа улиц в датасете. Чаще всего это заведения, расположенные на небольших улицах или в переулках.\n",
    "\n",
    "11) Cамая высокая медианная стоимость заказа - в районах ЦАО и ЗАО (1000 р.), самая низкая - в ЮВАО (450 р.) В целом можно сделать вывод о том, что чем дальше от центра, тем медианная стоимость заказа становится ниже."
   ]
  },
  {
   "cell_type": "markdown",
   "metadata": {},
   "source": [
    "## Детализированное исследование данных: открытие кофейни"
   ]
  },
  {
   "cell_type": "markdown",
   "metadata": {},
   "source": [
    "Основателям фонда «Shut Up and Take My Money» не даёт покоя успех сериала «Друзья». Их мечта — открыть такую же крутую и доступную, как «Central Perk», кофейню в Москве.\n",
    "\n",
    "Ответим на вопросы инвесторов:"
   ]
  },
  {
   "cell_type": "markdown",
   "metadata": {},
   "source": [
    "### Сколько всего кофеен в датасете? В каких районах их больше всего, каковы особенности их расположения?"
   ]
  },
  {
   "cell_type": "code",
   "execution_count": null,
   "metadata": {},
   "outputs": [],
   "source": [
    "#сначала подготовим данные\n",
    "data_coffeehouse=data[data['category']=='кофейня']\n",
    "data_coffeehouse=pd.concat([data_coffeehouse], ignore_index=True)"
   ]
  },
  {
   "cell_type": "code",
   "execution_count": null,
   "metadata": {},
   "outputs": [],
   "source": [
    "print(f'Всего кофеен в датасете: {len(data_coffeehouse)}')"
   ]
  },
  {
   "cell_type": "code",
   "execution_count": null,
   "metadata": {},
   "outputs": [],
   "source": [
    "data_coffeehouse_by_district = data_coffeehouse.groupby('district').agg(count=('name', 'count')).sort_values(by='count', ascending=False)\n",
    "data_coffeehouse_by_district['share']=round(data_coffeehouse_by_district['count']/sum(data_coffeehouse_by_district['count'])*100, 1)\n",
    "data_coffeehouse_by_district=data_coffeehouse_by_district.reset_index()\n",
    "print('Распределение кофеен по районам Москвы:')\n",
    "data_coffeehouse_by_district"
   ]
  },
  {
   "cell_type": "code",
   "execution_count": null,
   "metadata": {},
   "outputs": [],
   "source": [
    "# строим диаграмму с сегментами\n",
    "fig = go.Figure(data=[go.Pie(labels=data_coffeehouse_by_district['district'], # указываем значения, которые появятся на метках сегментов\n",
    "                             values=data_coffeehouse_by_district['count'], # указываем данные, которые отобразятся на графике \n",
    "                             pull = [0.1, 0])])\n",
    "\n",
    "fig.update_layout(title='Распределение кофеен по районам Москвы (в %)', # указываем заголовок графика\n",
    "                  width=900, # указываем размеры графика\n",
    "                  height=700,\n",
    "                  annotations=[dict(x=1.12, # вручную настраиваем аннотацию легенды\n",
    "                                    y=1.05,\n",
    "                                    text='Административный район',\n",
    "                                    showarrow=False)])\n",
    "fig.update_traces(textposition='inside', textinfo='percent+label', marker=dict(colors=colors_fr))\n",
    "fig.show() # выводим график"
   ]
  },
  {
   "cell_type": "markdown",
   "metadata": {},
   "source": [
    "Построим карту с указанием всех кофеен:"
   ]
  },
  {
   "cell_type": "code",
   "execution_count": null,
   "metadata": {},
   "outputs": [],
   "source": [
    "# создаём карту Москвы\n",
    "m_coffeehouse = Map(location=[moscow_lat, moscow_lng], zoom_start=10)\n",
    "# создаём пустой кластер, добавляем его на карту\n",
    "marker_cluster = MarkerCluster().add_to(m_coffeehouse)\n",
    "\n",
    "def create_clusters(row):\n",
    "    # сохраняем URL-адрес изображения со значком торгового центра с icons8,\n",
    "    # это путь к файлу на сервере icons8\n",
    "    icon_url = 'https://img.icons8.com/?size=512&id=nqqkFQrmhH3e&format=png'  \n",
    "    # создаём объект с собственной иконкой размером 30x30\n",
    "    icon = CustomIcon(icon_url, icon_size=(30, 30))\n",
    "    \n",
    "    # создаём маркер с иконкой icon и добавляем его в кластер\n",
    "    Marker(\n",
    "        [row['lat'], row['lng']],\n",
    "        popup=f\"{row['name']} {row['rating']}\",\n",
    "        icon=icon,\n",
    "    ).add_to(marker_cluster)\n",
    "\n",
    "# применяем функцию для создания кластеров к каждой строке датафрейма\n",
    "data_coffeehouse.apply(create_clusters, axis=1)\n",
    "\n",
    "# выводим карту\n",
    "m_coffeehouse"
   ]
  },
  {
   "cell_type": "markdown",
   "metadata": {},
   "source": [
    "**Вывод**\n",
    "\n",
    "В датасете всего присутствует 1413 кофеен.\n",
    "\n",
    "Больше всего кофеен находится в ЦАО - 428 об. (30%), далее идет САО - 193 об. (13,7%), на третьем месте СВАО - 159 об.(11%). Меньше всего кофеен в СЗАО - всего 62 об. (4%).\n",
    "\n",
    "Посмотрев на карту с распределением кофеен по Москве можно сделать вывод, что в основном они располагаются либо на либо вблизи крупных, проходимых улиц, рядом с транспортными объектами (станции метро, вокзалы), рядом с культурными или образовательными учреждениями, парками."
   ]
  },
  {
   "cell_type": "markdown",
   "metadata": {},
   "source": [
    "### Есть ли круглосуточные кофейни?"
   ]
  },
  {
   "cell_type": "code",
   "execution_count": null,
   "metadata": {},
   "outputs": [],
   "source": [
    "data_coffeehouse_24 = pd.DataFrame(data_coffeehouse['is_24/7'].value_counts()).reset_index()\n",
    "data_coffeehouse_24_true=data_coffeehouse_24.iloc[1]['is_24/7']\n",
    "\n",
    "print(f'Количество круглосуточных кофеен в датасете: {data_coffeehouse_24_true}')"
   ]
  },
  {
   "cell_type": "code",
   "execution_count": null,
   "metadata": {},
   "outputs": [],
   "source": [
    "data_coffeehouse_24_by_district=data_coffeehouse[data_coffeehouse['is_24/7']==True]\n",
    "data_coffeehouse_24_by_district=data_coffeehouse_24_by_district.groupby('district').agg(count=('name', 'count')).sort_values(by='count', ascending=False)\n",
    "data_coffeehouse_24_by_district['share']=round(data_coffeehouse_24_by_district['count']/sum(data_coffeehouse_24_by_district['count'])*100, 1)\n",
    "data_coffeehouse_24_by_district=data_coffeehouse_24_by_district.reset_index()\n",
    "print('Распределение круглосуточных кофеен по районам Москвы:')\n",
    "data_coffeehouse_24_by_district"
   ]
  },
  {
   "cell_type": "code",
   "execution_count": null,
   "metadata": {},
   "outputs": [],
   "source": [
    "data_coffeehouse_24_by_name = data_coffeehouse[data_coffeehouse['is_24/7']==True]\n",
    "data_coffeehouse_24_by_name=pd.DataFrame(data_coffeehouse_24_by_name['name'].value_counts()).reset_index()\n",
    "print('Группировка круглосуточных кофеен по названиям (первые 5):')\n",
    "data_coffeehouse_24_by_name.head()"
   ]
  },
  {
   "cell_type": "code",
   "execution_count": null,
   "metadata": {},
   "outputs": [],
   "source": [
    "data_coffeehouse_24_by_chain = data_coffeehouse[data_coffeehouse['is_24/7']==True]\n",
    "data_coffeehouse_24_by_chain = pd.DataFrame(data_coffeehouse_24_by_chain['chain'].value_counts())\n",
    "print('Распределение круглосуточных кофеен по признаку сетевые/несетевые:')\n",
    "data_coffeehouse_24_by_chain"
   ]
  },
  {
   "cell_type": "markdown",
   "metadata": {},
   "source": [
    "**Вывод**\n",
    "\n",
    "В датасете присутствует 59 кофеен, работающих круглосуточно. В основном это сетевые заведения (50 об.).\n",
    "\n",
    "Основная их часть находится в ЦАО - 26 об. (44%), далее идет ЗАО - 9 об.(15%), за ним ЮЗАО - 7 об.(12%).\n",
    "\n",
    "Больше всего круглосуточных кофеен сети Шоколадница - 17 об., далее идет Кофемания (8 об.), следом Wild Bean Cafe (6 об.)."
   ]
  },
  {
   "cell_type": "markdown",
   "metadata": {},
   "source": [
    "### Какие у кофеен рейтинги? Как они распределяются по районам?"
   ]
  },
  {
   "cell_type": "markdown",
   "metadata": {},
   "source": [
    "Построим гистограмму распределения рейтинга среди кофеен:"
   ]
  },
  {
   "cell_type": "code",
   "execution_count": null,
   "metadata": {},
   "outputs": [],
   "source": [
    "plt.figure(figsize=(10,5))\n",
    "# строим гистограмму, добавив график кривой KDE\n",
    "sns.histplot(x='rating', data=data_coffeehouse, kde=True)\n",
    "# указываем заголовок графика и подписи осей\n",
    "plt.title('Распределение рейтинга среди кофеен')\n",
    "plt.xlabel('Значение')\n",
    "plt.ylabel('Частота')\n",
    "# отображаем график на экране\n",
    "plt.show()"
   ]
  },
  {
   "cell_type": "code",
   "execution_count": null,
   "metadata": {},
   "outputs": [],
   "source": [
    "data_coffeehouse_rating=data_coffeehouse['rating'].median()\n",
    "print(f'Медианный рейтинг кофеен: {data_coffeehouse_rating}')"
   ]
  },
  {
   "cell_type": "code",
   "execution_count": null,
   "metadata": {},
   "outputs": [],
   "source": [
    "plt.figure(figsize=(12,6))\n",
    "df5 = sns.boxplot(data=data_coffeehouse, x='rating', y='district', palette='crest')\n",
    "df5.set(xlim=(3,5))\n",
    "plt.title('Распределение среднего рейтинга кофеен по районам Москвы', size = 15)\n",
    "plt.xlabel('Рейтинг', size = 13)\n",
    "plt.ylabel('Наименование района', size = 13)\n",
    "plt.show()"
   ]
  },
  {
   "cell_type": "markdown",
   "metadata": {},
   "source": [
    "**Вывод**\n",
    "\n",
    "Медианный рейтинг кофеен в датасете: 4.3.\n",
    "\n",
    "По графику boxplot лучше всего распределение рейтинга у кофеен, находящихся в САО, СЗАО, ЦАО, ЮВАО, ЮЗАО. Хуже других распределение среднего рейтинга у кофеен в ЗАО."
   ]
  },
  {
   "cell_type": "markdown",
   "metadata": {},
   "source": [
    "### На какую стоимость чашки капучино стоит ориентироваться при открытии?"
   ]
  },
  {
   "cell_type": "markdown",
   "metadata": {},
   "source": [
    "Построим график распределения стоимости чашки капучино среди кофеен:"
   ]
  },
  {
   "cell_type": "code",
   "execution_count": null,
   "metadata": {},
   "outputs": [],
   "source": [
    "#подготовим данные\n",
    "data_coffeehouse_cup=data_coffeehouse[data_coffeehouse['middle_coffee_cup']!=-999]\n",
    "\n",
    "plt.figure(figsize=(10,5))\n",
    "# строим гистограмму, добавив график кривой KDE\n",
    "sns.histplot(x='middle_coffee_cup', data=data_coffeehouse_cup, kde=True)\n",
    "# ограничиваем ось X для наглядности\n",
    "plt.xlim(0, 600)\n",
    "# указываем заголовок графика и подписи осей\n",
    "plt.title('Распределение стоимости чашки капучино среди кофеен Москвы')\n",
    "plt.xlabel('Стоимость чашки')\n",
    "plt.ylabel('Частота')\n",
    "# отображаем график на экране\n",
    "plt.show()"
   ]
  },
  {
   "cell_type": "markdown",
   "metadata": {},
   "source": [
    "Стоимость чашки капучино среди кофеен в датасете варьируется от 90 до 300 руб."
   ]
  },
  {
   "cell_type": "code",
   "execution_count": null,
   "metadata": {},
   "outputs": [],
   "source": [
    "data_coffeehouse_cup_med=data_coffeehouse_cup['middle_coffee_cup'].median()\n",
    "print(f'Медианная стоимость чашки капучино в кофейнях Москвы: {data_coffeehouse_cup_med}')"
   ]
  },
  {
   "cell_type": "markdown",
   "metadata": {},
   "source": [
    "Важно отметить, что ценообразование должно определяться на основе глубокого понимания целевого рынка и местной кофейной индустрии. При установлении цен следует учитывать такие факторы, как качество кофе, атмосфера, обслуживание и уникальные предложения. \n",
    "\n",
    "Кроме того, важно проанализировать ценовую стратегию конкурентов, что может дать представление о рыночных нормах и помочь правильно позиционировать свою кофейню.\n",
    "\n",
    "Проведем анализ медианной стоимости кашки капучино по районам Москвы:"
   ]
  },
  {
   "cell_type": "code",
   "execution_count": null,
   "metadata": {},
   "outputs": [],
   "source": [
    "data_coffeehouse_cup_by_district=data_coffeehouse_cup.groupby('district').agg(median=('middle_coffee_cup', 'median')).sort_values(by='median', ascending=False)\n",
    "data_coffeehouse_cup_by_district=data_coffeehouse_cup_by_district.reset_index()\n",
    "#print('Медианная стоимость чашки капучино по районам Москвы:')\n",
    "#data_coffeehouse_cup_by_district"
   ]
  },
  {
   "cell_type": "code",
   "execution_count": null,
   "metadata": {},
   "outputs": [],
   "source": [
    "# строим столбчатую диаграмму \n",
    "fig = px.bar(data_coffeehouse_cup_by_district, # загружаем данные\n",
    "             x='district', # указываем столбец с данными для оси X\n",
    "             y='median', # указываем столбец с данными для оси Y\n",
    "             color_discrete_sequence=colors3,\n",
    "             text='median'\n",
    "            )\n",
    "# оформляем график\n",
    "fig.update_layout(title='Медианная стоимость чашки капучино в кофейнях по районам Москвы',\n",
    "                  xaxis_title='Название района',\n",
    "                  yaxis_title='Медианная стоимость чашки капучино',\n",
    "                  showlegend=False)\n",
    "\n",
    "fig.show() # выводим график"
   ]
  },
  {
   "cell_type": "markdown",
   "metadata": {},
   "source": [
    "Также рассчитаем медианный чек в кофейнях по районам:"
   ]
  },
  {
   "cell_type": "code",
   "execution_count": null,
   "metadata": {},
   "outputs": [],
   "source": [
    "data_coffeehouse_bill=data_coffeehouse[data_coffeehouse['middle_avg_bill']!=-999]\n",
    "data_coffeehouse_bill_by_district=data_coffeehouse_bill.groupby('district').agg(median=('middle_avg_bill', 'median')).sort_values(by='median', ascending=False)\n",
    "data_coffeehouse_bill_by_district=data_coffeehouse_bill_by_district.reset_index()\n",
    "print('Медианный средний чек в кофейнях по районам Москвы:')\n",
    "data_coffeehouse_bill_by_district"
   ]
  },
  {
   "cell_type": "code",
   "execution_count": null,
   "metadata": {},
   "outputs": [],
   "source": [
    "data_coffeehouse_bill_med=data_coffeehouse_bill['middle_avg_bill'].median()\n",
    "print(f'Медианный чек в кофейнях Москвы: {data_coffeehouse_bill_med}')"
   ]
  },
  {
   "cell_type": "markdown",
   "metadata": {},
   "source": [
    "**Вывод**\n",
    "\n",
    "Медианная стоимость чашки капучино по Москве составляет 170 руб.\n",
    "Медианный средний чек в кофейнях Москвы составляет 400 руб.\n",
    "\n",
    "При открытии кофейни стоит ориентироваться также на медианную стоимость чашки капучино и средний чек в планируемом районе открытия кофейни для правильного позиционирования своей кофейни и соответствия ее рыночным нормам."
   ]
  },
  {
   "cell_type": "markdown",
   "metadata": {},
   "source": [
    "### Рекомендации для открытия нового заведения"
   ]
  },
  {
   "cell_type": "markdown",
   "metadata": {},
   "source": [
    "Дадим несколько рекомендаций для открытия кофейни в стиле кофейни \"Central Perk\" из сериала \"Друзья\" в Москве:"
   ]
  },
  {
   "cell_type": "markdown",
   "metadata": {},
   "source": [
    "1) Расположение: \n",
    "\n",
    "Расположение кофейни имеет решающее значение.\n",
    "\n",
    "Кофейня в стиле \"Central Perk\" предполагает формат отдельно стоящей кофейни с посадкой без кухни - заведения с отдельным входом с улицы и небольшим посадочным залом. В ассортименте помимо кофе могут быть замороженные десерты и сэндвичи, которые разогревают на баре. \n",
    "\n",
    "Стоит рассмотреть возможность открытия кофейни в районе с высокой интенсивностью пешеходного движения и легкодоступным общественным транспортом. Лучше всего для этих целей подойдет район ЦАО - район, который привлекает как местных жителей, так и туристов.\n",
    "\n",
    "Нужно найти место рядом с популярным торговым районом, культурным центром или районом рядом с университетами или офисными комплексами."
   ]
  },
  {
   "cell_type": "markdown",
   "metadata": {},
   "source": [
    "2) Ценовая политика:\n",
    "\n",
    "Ценовая политика должна быть доступной, но не в ущерб качеству продукта.\n",
    "\n",
    "- Медианная стоимость чашки капучино в ЦАО составляет 190 руб. Стоит ориентироваться на эту конкурентноспособную цену, соответствующую рыночным нормам.\n",
    "- Медианный средний чек в кофейнях ЦАО составляет 500 руб., эту информацию также стоит учитывать при разработке меню."
   ]
  },
  {
   "cell_type": "markdown",
   "metadata": {},
   "source": [
    "3) Разработка меню:\n",
    "\n",
    "Необходимо разработать меню, которое предлагает различные варианты кофе, включая традиционные фавориты, такие как капучино, латте и эспрессо. А также добавить напитки с названиями, связанными с шоу \"Друзья\", например:\n",
    "- \"Central Perk Special\" - фирменная кофейная смесь с оттенком карамели и взбитых сливок сверху.\n",
    "- \"Smelly Cat Latte\" - ванильный латте с оттенком корицы.\n",
    "- \"Ross' Mocha Madness\" - насыщенный мокко с добавлением орехового сиропа.\n",
    "- \"Phoebe's Caramel Smiles\" - карамельный макиато с капелькой шоколадного сиропа.\n",
    "- \"Joey's Espresso Kick\" - двойная порция эспрессо с щепоткой корицы и ложкой взбитых сливок.\n",
    "- \"Monica's Minty Delight\" - освежающий мокко с перечной мятой, посыпанный шоколадной стружкой.\n",
    "- \"Rachel's Raspberry Dream\" - малиновый латте из белого шоколада с малиновым сиропом.\n",
    "- \"Chandler's Cinnamon Surprise\" - латте с корицей, нотками мускатного ореха и порошком корицы.\n",
    "- \"Gunther's Vanilla Bliss\" - классический ванильный латте с оттенком миндального вкуса."
   ]
  },
  {
   "cell_type": "markdown",
   "metadata": {},
   "source": [
    "4) Разработка дизайна интерьера:\n",
    "\n",
    "Большую роль при открытии кофейни, вдохновленной кофейней \"Central Perk\" из сериала \"Друзья\", является создание удобного и гостеприимного пространства для клиентов, чтобы они могли расслабиться и пообщаться. Необходимо включить такие элементы, как винтажная мебель, декор, связанный с кофе, и памятные вещи, вдохновленные шоу: характерный оранжевый диван, кирпичные стены, меню на доске и другие знаковые детали.\n",
    "\n",
    "Также можно рассмотреть возможность включения живой музыки или вечеров с открытым микрофоном, подобных выступлениям, которые часто проходили в Central Perk. Это может помочь создать живую и привлекательную атмосферу для клиентов."
   ]
  },
  {
   "cell_type": "markdown",
   "metadata": {},
   "source": [
    "Принимая во внимание эти факторы и уделив внимание тщательному финансовому планированию, маркетингу и разработке меню, можно увеличить шансы на успех в открытии своей кофейни в Москве."
   ]
  }
 ],
 "metadata": {
  "ExecuteTimeLog": [
   {
    "duration": 1277,
    "start_time": "2023-04-27T12:42:47.882Z"
   },
   {
    "duration": 195,
    "start_time": "2023-04-27T12:42:51.740Z"
   },
   {
    "duration": 27,
    "start_time": "2023-04-27T12:42:54.984Z"
   },
   {
    "duration": 14,
    "start_time": "2023-04-27T13:08:07.210Z"
   },
   {
    "duration": 5,
    "start_time": "2023-04-27T14:30:56.787Z"
   },
   {
    "duration": 252,
    "start_time": "2023-04-27T14:31:09.970Z"
   },
   {
    "duration": 15,
    "start_time": "2023-04-27T14:35:31.652Z"
   },
   {
    "duration": 5,
    "start_time": "2023-04-27T14:36:20.017Z"
   },
   {
    "duration": 253,
    "start_time": "2023-04-27T14:36:20.761Z"
   },
   {
    "duration": 6,
    "start_time": "2023-04-27T14:37:19.457Z"
   },
   {
    "duration": 223,
    "start_time": "2023-04-27T14:37:21.533Z"
   },
   {
    "duration": 7,
    "start_time": "2023-04-27T14:43:42.990Z"
   },
   {
    "duration": 231,
    "start_time": "2023-04-27T14:43:43.827Z"
   },
   {
    "duration": 26,
    "start_time": "2023-04-27T14:47:09.904Z"
   },
   {
    "duration": 3,
    "start_time": "2023-04-27T14:48:08.055Z"
   },
   {
    "duration": 3,
    "start_time": "2023-04-27T14:48:19.417Z"
   },
   {
    "duration": 8,
    "start_time": "2023-04-27T14:49:59.031Z"
   },
   {
    "duration": 265,
    "start_time": "2023-04-27T14:49:59.686Z"
   },
   {
    "duration": 6,
    "start_time": "2023-04-27T14:51:55.737Z"
   },
   {
    "duration": 225,
    "start_time": "2023-04-27T14:51:56.286Z"
   },
   {
    "duration": 6,
    "start_time": "2023-04-27T14:52:31.046Z"
   },
   {
    "duration": 228,
    "start_time": "2023-04-27T14:52:31.535Z"
   },
   {
    "duration": 7,
    "start_time": "2023-04-27T14:55:51.291Z"
   },
   {
    "duration": 251,
    "start_time": "2023-04-27T14:55:51.750Z"
   },
   {
    "duration": 12,
    "start_time": "2023-04-27T14:56:59.669Z"
   },
   {
    "duration": 247,
    "start_time": "2023-04-27T14:57:00.145Z"
   },
   {
    "duration": 67,
    "start_time": "2023-04-27T14:57:10.444Z"
   },
   {
    "duration": 266,
    "start_time": "2023-04-27T14:57:10.861Z"
   },
   {
    "duration": 1034,
    "start_time": "2023-04-27T16:34:17.820Z"
   },
   {
    "duration": 213,
    "start_time": "2023-04-27T16:34:18.855Z"
   },
   {
    "duration": 22,
    "start_time": "2023-04-27T16:34:19.069Z"
   },
   {
    "duration": 66,
    "start_time": "2023-04-27T16:34:19.093Z"
   },
   {
    "duration": 0,
    "start_time": "2023-04-27T16:34:19.161Z"
   },
   {
    "duration": 7,
    "start_time": "2023-04-27T16:36:52.355Z"
   },
   {
    "duration": 234,
    "start_time": "2023-04-27T16:36:53.581Z"
   },
   {
    "duration": 4,
    "start_time": "2023-04-27T16:43:10.058Z"
   },
   {
    "duration": 4,
    "start_time": "2023-04-27T16:43:54.133Z"
   },
   {
    "duration": 9,
    "start_time": "2023-04-27T16:54:38.766Z"
   },
   {
    "duration": 119,
    "start_time": "2023-04-27T16:55:49.410Z"
   },
   {
    "duration": 85,
    "start_time": "2023-04-27T16:55:59.337Z"
   },
   {
    "duration": 437,
    "start_time": "2023-04-27T16:56:43.809Z"
   },
   {
    "duration": 11,
    "start_time": "2023-04-27T16:58:31.134Z"
   },
   {
    "duration": 6,
    "start_time": "2023-04-27T17:01:02.530Z"
   },
   {
    "duration": 4,
    "start_time": "2023-04-27T17:01:31.299Z"
   },
   {
    "duration": 3,
    "start_time": "2023-04-27T17:02:07.876Z"
   },
   {
    "duration": 7,
    "start_time": "2023-04-27T17:03:47.641Z"
   },
   {
    "duration": 229,
    "start_time": "2023-04-27T17:03:48.375Z"
   },
   {
    "duration": 84,
    "start_time": "2023-04-27T17:05:54.051Z"
   },
   {
    "duration": 152,
    "start_time": "2023-04-27T17:06:03.162Z"
   },
   {
    "duration": 108,
    "start_time": "2023-04-27T17:06:25.727Z"
   },
   {
    "duration": 131,
    "start_time": "2023-04-27T17:06:35.275Z"
   },
   {
    "duration": 77,
    "start_time": "2023-04-27T17:06:44.678Z"
   },
   {
    "duration": 78,
    "start_time": "2023-04-27T17:06:55.447Z"
   },
   {
    "duration": 3,
    "start_time": "2023-04-27T17:07:09.359Z"
   },
   {
    "duration": 21,
    "start_time": "2023-04-27T17:10:25.969Z"
   },
   {
    "duration": 4,
    "start_time": "2023-04-27T17:11:51.637Z"
   },
   {
    "duration": 131,
    "start_time": "2023-04-27T17:12:05.825Z"
   },
   {
    "duration": 4,
    "start_time": "2023-04-27T17:12:11.754Z"
   },
   {
    "duration": 5,
    "start_time": "2023-04-27T17:13:03.484Z"
   },
   {
    "duration": 4,
    "start_time": "2023-04-27T17:13:12.963Z"
   },
   {
    "duration": 3,
    "start_time": "2023-04-27T17:14:46.669Z"
   },
   {
    "duration": 3,
    "start_time": "2023-04-27T17:15:03.714Z"
   },
   {
    "duration": 3,
    "start_time": "2023-04-27T17:15:08.958Z"
   },
   {
    "duration": 4,
    "start_time": "2023-04-27T17:15:34.841Z"
   },
   {
    "duration": 4,
    "start_time": "2023-04-27T17:15:42.789Z"
   },
   {
    "duration": 7,
    "start_time": "2023-04-27T17:19:12.857Z"
   },
   {
    "duration": 252,
    "start_time": "2023-04-27T17:19:13.656Z"
   },
   {
    "duration": 1017,
    "start_time": "2023-04-27T17:26:09.525Z"
   },
   {
    "duration": 341,
    "start_time": "2023-04-27T17:26:10.544Z"
   },
   {
    "duration": 21,
    "start_time": "2023-04-27T17:26:10.886Z"
   },
   {
    "duration": 7,
    "start_time": "2023-04-27T17:26:10.909Z"
   },
   {
    "duration": 273,
    "start_time": "2023-04-27T17:26:10.917Z"
   },
   {
    "duration": 5,
    "start_time": "2023-04-27T17:26:11.191Z"
   },
   {
    "duration": 4,
    "start_time": "2023-04-27T17:26:55.047Z"
   },
   {
    "duration": 1150,
    "start_time": "2023-04-27T17:27:06.290Z"
   },
   {
    "duration": 106,
    "start_time": "2023-04-27T17:27:07.442Z"
   },
   {
    "duration": 22,
    "start_time": "2023-04-27T17:27:07.549Z"
   },
   {
    "duration": 7,
    "start_time": "2023-04-27T17:27:07.573Z"
   },
   {
    "duration": 259,
    "start_time": "2023-04-27T17:27:07.582Z"
   },
   {
    "duration": 6,
    "start_time": "2023-04-27T17:27:07.843Z"
   },
   {
    "duration": 92,
    "start_time": "2023-04-27T17:27:28.556Z"
   },
   {
    "duration": 10,
    "start_time": "2023-04-27T17:27:32.847Z"
   },
   {
    "duration": 4,
    "start_time": "2023-04-27T17:29:26.942Z"
   },
   {
    "duration": 1034,
    "start_time": "2023-04-27T17:30:21.508Z"
   },
   {
    "duration": 147,
    "start_time": "2023-04-27T17:30:22.544Z"
   },
   {
    "duration": 21,
    "start_time": "2023-04-27T17:30:22.692Z"
   },
   {
    "duration": 7,
    "start_time": "2023-04-27T17:30:22.715Z"
   },
   {
    "duration": 249,
    "start_time": "2023-04-27T17:30:22.723Z"
   },
   {
    "duration": 105,
    "start_time": "2023-04-27T17:30:22.973Z"
   },
   {
    "duration": 0,
    "start_time": "2023-04-27T17:30:23.080Z"
   },
   {
    "duration": 5,
    "start_time": "2023-04-27T17:30:41.934Z"
   },
   {
    "duration": 1151,
    "start_time": "2023-04-27T17:31:33.306Z"
   },
   {
    "duration": 6,
    "start_time": "2023-04-27T17:31:47.105Z"
   },
   {
    "duration": 6,
    "start_time": "2023-04-27T17:31:55.330Z"
   },
   {
    "duration": 13,
    "start_time": "2023-04-27T17:41:16.947Z"
   },
   {
    "duration": 8,
    "start_time": "2023-04-27T17:41:19.711Z"
   },
   {
    "duration": 20,
    "start_time": "2023-04-27T17:41:24.677Z"
   },
   {
    "duration": 9,
    "start_time": "2023-04-27T17:44:38.223Z"
   },
   {
    "duration": 20,
    "start_time": "2023-04-27T17:44:39.816Z"
   },
   {
    "duration": 6,
    "start_time": "2023-04-27T17:45:43.972Z"
   },
   {
    "duration": 1143,
    "start_time": "2023-04-27T18:30:22.351Z"
   },
   {
    "duration": 155,
    "start_time": "2023-04-27T18:30:23.496Z"
   },
   {
    "duration": 27,
    "start_time": "2023-04-27T18:30:23.653Z"
   },
   {
    "duration": 7,
    "start_time": "2023-04-27T18:30:23.682Z"
   },
   {
    "duration": 242,
    "start_time": "2023-04-27T18:30:35.847Z"
   },
   {
    "duration": 6,
    "start_time": "2023-04-27T18:31:03.731Z"
   },
   {
    "duration": 22,
    "start_time": "2023-04-27T18:31:12.003Z"
   },
   {
    "duration": 5,
    "start_time": "2023-04-27T18:31:27.004Z"
   },
   {
    "duration": 4,
    "start_time": "2023-04-27T18:31:31.444Z"
   },
   {
    "duration": 5,
    "start_time": "2023-04-27T18:31:41.863Z"
   },
   {
    "duration": 18,
    "start_time": "2023-04-27T18:31:42.850Z"
   },
   {
    "duration": 21,
    "start_time": "2023-04-27T18:32:08.663Z"
   },
   {
    "duration": 9,
    "start_time": "2023-04-27T18:34:01.907Z"
   },
   {
    "duration": 1136,
    "start_time": "2023-04-27T18:35:34.968Z"
   },
   {
    "duration": 234,
    "start_time": "2023-04-27T18:35:36.106Z"
   },
   {
    "duration": 25,
    "start_time": "2023-04-27T18:35:36.342Z"
   },
   {
    "duration": 12,
    "start_time": "2023-04-27T18:35:36.368Z"
   },
   {
    "duration": 330,
    "start_time": "2023-04-27T18:35:36.382Z"
   },
   {
    "duration": 5,
    "start_time": "2023-04-27T18:35:36.714Z"
   },
   {
    "duration": 4,
    "start_time": "2023-04-27T18:35:37.855Z"
   },
   {
    "duration": 10,
    "start_time": "2023-04-27T18:35:43.192Z"
   },
   {
    "duration": 6,
    "start_time": "2023-04-27T18:36:15.320Z"
   },
   {
    "duration": 9,
    "start_time": "2023-04-27T18:40:48.402Z"
   },
   {
    "duration": 25,
    "start_time": "2023-04-27T18:41:24.185Z"
   },
   {
    "duration": 22,
    "start_time": "2023-04-27T18:41:54.713Z"
   },
   {
    "duration": 101,
    "start_time": "2023-04-27T18:51:59.574Z"
   },
   {
    "duration": 9,
    "start_time": "2023-04-27T18:52:43.929Z"
   },
   {
    "duration": 20,
    "start_time": "2023-04-27T18:53:03.860Z"
   },
   {
    "duration": 21,
    "start_time": "2023-04-27T18:53:20.666Z"
   },
   {
    "duration": 23,
    "start_time": "2023-04-27T18:53:22.086Z"
   },
   {
    "duration": 992,
    "start_time": "2023-04-27T18:55:33.880Z"
   },
   {
    "duration": 213,
    "start_time": "2023-04-27T18:55:34.873Z"
   },
   {
    "duration": 22,
    "start_time": "2023-04-27T18:55:35.088Z"
   },
   {
    "duration": 7,
    "start_time": "2023-04-27T18:55:35.112Z"
   },
   {
    "duration": 262,
    "start_time": "2023-04-27T18:55:35.120Z"
   },
   {
    "duration": 11,
    "start_time": "2023-04-27T18:55:35.383Z"
   },
   {
    "duration": 17,
    "start_time": "2023-04-27T18:55:35.396Z"
   },
   {
    "duration": 18,
    "start_time": "2023-04-27T18:55:47.960Z"
   },
   {
    "duration": 21,
    "start_time": "2023-04-27T18:55:49.129Z"
   },
   {
    "duration": 5,
    "start_time": "2023-04-27T18:58:54.680Z"
   },
   {
    "duration": 99,
    "start_time": "2023-04-27T18:59:09.006Z"
   },
   {
    "duration": 6,
    "start_time": "2023-04-27T19:00:05.650Z"
   },
   {
    "duration": 153,
    "start_time": "2023-04-27T19:01:12.430Z"
   },
   {
    "duration": 3,
    "start_time": "2023-04-27T19:01:28.384Z"
   },
   {
    "duration": 7,
    "start_time": "2023-04-27T19:01:58.543Z"
   },
   {
    "duration": 33,
    "start_time": "2023-04-27T19:02:10.712Z"
   },
   {
    "duration": 22,
    "start_time": "2023-04-27T19:02:39.186Z"
   },
   {
    "duration": 22,
    "start_time": "2023-04-27T19:02:49.971Z"
   },
   {
    "duration": 1290,
    "start_time": "2023-04-27T19:03:05.871Z"
   },
   {
    "duration": 6,
    "start_time": "2023-04-27T19:03:11.649Z"
   },
   {
    "duration": 1010,
    "start_time": "2023-04-27T19:03:41.722Z"
   },
   {
    "duration": 189,
    "start_time": "2023-04-27T19:03:42.734Z"
   },
   {
    "duration": 28,
    "start_time": "2023-04-27T19:03:42.929Z"
   },
   {
    "duration": 28,
    "start_time": "2023-04-27T19:03:42.959Z"
   },
   {
    "duration": 275,
    "start_time": "2023-04-27T19:03:42.989Z"
   },
   {
    "duration": 11,
    "start_time": "2023-04-27T19:03:43.265Z"
   },
   {
    "duration": 11,
    "start_time": "2023-04-27T19:03:43.277Z"
   },
   {
    "duration": 19,
    "start_time": "2023-04-27T19:03:47.388Z"
   },
   {
    "duration": 98,
    "start_time": "2023-04-27T19:03:59.422Z"
   },
   {
    "duration": 2,
    "start_time": "2023-04-27T19:04:40.865Z"
   },
   {
    "duration": 5,
    "start_time": "2023-04-27T19:04:42.235Z"
   },
   {
    "duration": 6,
    "start_time": "2023-04-27T19:05:10.913Z"
   },
   {
    "duration": 34,
    "start_time": "2023-04-27T19:05:16.015Z"
   },
   {
    "duration": 12,
    "start_time": "2023-04-27T19:15:06.575Z"
   },
   {
    "duration": 6,
    "start_time": "2023-04-27T20:10:08.043Z"
   },
   {
    "duration": 176,
    "start_time": "2023-04-27T20:14:10.664Z"
   },
   {
    "duration": 6,
    "start_time": "2023-04-27T20:15:18.543Z"
   },
   {
    "duration": 12,
    "start_time": "2023-04-27T20:16:24.564Z"
   },
   {
    "duration": 14,
    "start_time": "2023-04-27T20:18:49.749Z"
   },
   {
    "duration": 114,
    "start_time": "2023-04-27T20:22:45.608Z"
   },
   {
    "duration": 66,
    "start_time": "2023-04-27T20:23:09.462Z"
   },
   {
    "duration": 18,
    "start_time": "2023-04-27T20:23:14.679Z"
   },
   {
    "duration": 15,
    "start_time": "2023-04-27T20:24:09.851Z"
   },
   {
    "duration": 13,
    "start_time": "2023-04-27T20:29:28.442Z"
   },
   {
    "duration": 9,
    "start_time": "2023-04-27T21:07:51.812Z"
   },
   {
    "duration": 3,
    "start_time": "2023-04-27T21:11:32.781Z"
   },
   {
    "duration": 228,
    "start_time": "2023-04-27T21:13:56.576Z"
   },
   {
    "duration": 245,
    "start_time": "2023-04-27T21:15:47.430Z"
   },
   {
    "duration": 244,
    "start_time": "2023-04-27T21:16:51.280Z"
   },
   {
    "duration": 226,
    "start_time": "2023-04-27T21:17:04.415Z"
   },
   {
    "duration": 12,
    "start_time": "2023-04-27T21:20:46.802Z"
   },
   {
    "duration": 12,
    "start_time": "2023-04-27T21:21:08.487Z"
   },
   {
    "duration": 70,
    "start_time": "2023-04-27T21:21:16.653Z"
   },
   {
    "duration": 79,
    "start_time": "2023-04-27T21:21:22.849Z"
   },
   {
    "duration": 212,
    "start_time": "2023-04-27T21:25:41.511Z"
   },
   {
    "duration": 277,
    "start_time": "2023-04-27T21:25:53.599Z"
   },
   {
    "duration": 10105,
    "start_time": "2023-04-27T21:29:10.270Z"
   },
   {
    "duration": 9314,
    "start_time": "2023-04-27T21:29:55.725Z"
   },
   {
    "duration": 216,
    "start_time": "2023-04-27T21:33:49.537Z"
   },
   {
    "duration": 218,
    "start_time": "2023-04-27T21:34:01.314Z"
   },
   {
    "duration": 1129,
    "start_time": "2023-04-27T21:36:24.281Z"
   },
   {
    "duration": 154,
    "start_time": "2023-04-27T21:36:25.412Z"
   },
   {
    "duration": 23,
    "start_time": "2023-04-27T21:36:25.568Z"
   },
   {
    "duration": 8,
    "start_time": "2023-04-27T21:36:25.593Z"
   },
   {
    "duration": 255,
    "start_time": "2023-04-27T21:36:25.603Z"
   },
   {
    "duration": 6,
    "start_time": "2023-04-27T21:36:25.860Z"
   },
   {
    "duration": 7,
    "start_time": "2023-04-27T21:36:25.868Z"
   },
   {
    "duration": 23,
    "start_time": "2023-04-27T21:36:25.876Z"
   },
   {
    "duration": 12,
    "start_time": "2023-04-27T21:36:25.901Z"
   },
   {
    "duration": 9,
    "start_time": "2023-04-27T21:36:25.915Z"
   },
   {
    "duration": 10,
    "start_time": "2023-04-27T21:36:33.518Z"
   },
   {
    "duration": 1312,
    "start_time": "2023-04-27T21:36:42.097Z"
   },
   {
    "duration": 9,
    "start_time": "2023-04-27T21:38:53.859Z"
   },
   {
    "duration": 150,
    "start_time": "2023-04-27T21:39:26.496Z"
   },
   {
    "duration": 245,
    "start_time": "2023-04-27T21:41:16.736Z"
   },
   {
    "duration": 55,
    "start_time": "2023-04-27T21:41:47.945Z"
   },
   {
    "duration": 41,
    "start_time": "2023-04-27T21:42:05.519Z"
   },
   {
    "duration": 40,
    "start_time": "2023-04-27T21:42:58.307Z"
   },
   {
    "duration": 49,
    "start_time": "2023-04-27T21:44:15.562Z"
   },
   {
    "duration": 10,
    "start_time": "2023-04-27T21:44:47.573Z"
   },
   {
    "duration": 11,
    "start_time": "2023-04-27T21:45:05.410Z"
   },
   {
    "duration": 42,
    "start_time": "2023-04-27T21:46:44.602Z"
   },
   {
    "duration": 46,
    "start_time": "2023-04-27T21:46:57.878Z"
   },
   {
    "duration": 41,
    "start_time": "2023-04-27T21:47:04.530Z"
   },
   {
    "duration": 42,
    "start_time": "2023-04-27T21:51:58.424Z"
   },
   {
    "duration": 16,
    "start_time": "2023-04-27T21:53:15.315Z"
   },
   {
    "duration": 15,
    "start_time": "2023-04-27T21:53:37.046Z"
   },
   {
    "duration": 13,
    "start_time": "2023-04-27T21:53:58.107Z"
   },
   {
    "duration": 10,
    "start_time": "2023-04-27T21:54:09.225Z"
   },
   {
    "duration": 46,
    "start_time": "2023-04-27T21:58:56.113Z"
   },
   {
    "duration": 41,
    "start_time": "2023-04-27T21:59:01.521Z"
   },
   {
    "duration": 10,
    "start_time": "2023-04-27T22:00:07.105Z"
   },
   {
    "duration": 11,
    "start_time": "2023-04-27T22:00:16.210Z"
   },
   {
    "duration": 39,
    "start_time": "2023-04-27T22:01:12.818Z"
   },
   {
    "duration": 10,
    "start_time": "2023-04-27T22:01:21.430Z"
   },
   {
    "duration": 1507,
    "start_time": "2023-04-28T09:44:49.948Z"
   },
   {
    "duration": 300,
    "start_time": "2023-04-28T09:44:51.458Z"
   },
   {
    "duration": 28,
    "start_time": "2023-04-28T09:44:51.760Z"
   },
   {
    "duration": 16,
    "start_time": "2023-04-28T09:44:51.790Z"
   },
   {
    "duration": 326,
    "start_time": "2023-04-28T09:44:51.809Z"
   },
   {
    "duration": 6,
    "start_time": "2023-04-28T09:44:52.137Z"
   },
   {
    "duration": 27,
    "start_time": "2023-04-28T09:44:52.145Z"
   },
   {
    "duration": 33,
    "start_time": "2023-04-28T09:44:52.174Z"
   },
   {
    "duration": 18,
    "start_time": "2023-04-28T09:44:52.210Z"
   },
   {
    "duration": 14,
    "start_time": "2023-04-28T09:44:52.230Z"
   },
   {
    "duration": 28,
    "start_time": "2023-04-28T09:44:52.245Z"
   },
   {
    "duration": 489,
    "start_time": "2023-04-28T09:44:52.275Z"
   },
   {
    "duration": 153,
    "start_time": "2023-04-28T09:44:52.765Z"
   },
   {
    "duration": 175,
    "start_time": "2023-04-28T09:44:52.921Z"
   },
   {
    "duration": 0,
    "start_time": "2023-04-28T09:44:53.098Z"
   },
   {
    "duration": 54,
    "start_time": "2023-04-28T09:47:31.109Z"
   },
   {
    "duration": 69,
    "start_time": "2023-04-28T09:51:51.619Z"
   },
   {
    "duration": 55,
    "start_time": "2023-04-28T10:00:07.464Z"
   },
   {
    "duration": 23,
    "start_time": "2023-04-28T10:02:08.423Z"
   },
   {
    "duration": 19,
    "start_time": "2023-04-28T10:02:30.882Z"
   },
   {
    "duration": 4,
    "start_time": "2023-04-28T10:02:51.755Z"
   },
   {
    "duration": 5,
    "start_time": "2023-04-28T10:02:57.890Z"
   },
   {
    "duration": 21,
    "start_time": "2023-04-28T10:03:23.141Z"
   },
   {
    "duration": 5,
    "start_time": "2023-04-28T10:04:23.281Z"
   },
   {
    "duration": 4,
    "start_time": "2023-04-28T10:04:46.858Z"
   },
   {
    "duration": 20,
    "start_time": "2023-04-28T10:04:54.671Z"
   },
   {
    "duration": 4,
    "start_time": "2023-04-28T10:05:17.994Z"
   },
   {
    "duration": 5,
    "start_time": "2023-04-28T10:05:47.531Z"
   },
   {
    "duration": 22,
    "start_time": "2023-04-28T10:05:57.492Z"
   },
   {
    "duration": 20,
    "start_time": "2023-04-28T10:10:45.029Z"
   },
   {
    "duration": 54,
    "start_time": "2023-04-28T10:11:46.532Z"
   },
   {
    "duration": 11,
    "start_time": "2023-04-28T10:12:11.323Z"
   },
   {
    "duration": 13,
    "start_time": "2023-04-28T10:12:45.955Z"
   },
   {
    "duration": 12,
    "start_time": "2023-04-28T10:14:10.500Z"
   },
   {
    "duration": 52,
    "start_time": "2023-04-28T10:14:28.402Z"
   },
   {
    "duration": 12,
    "start_time": "2023-04-28T10:15:35.535Z"
   },
   {
    "duration": 1290,
    "start_time": "2023-04-28T10:16:13.388Z"
   },
   {
    "duration": 300,
    "start_time": "2023-04-28T10:16:14.680Z"
   },
   {
    "duration": 28,
    "start_time": "2023-04-28T10:16:14.982Z"
   },
   {
    "duration": 21,
    "start_time": "2023-04-28T10:16:15.012Z"
   },
   {
    "duration": 382,
    "start_time": "2023-04-28T10:16:15.036Z"
   },
   {
    "duration": 7,
    "start_time": "2023-04-28T10:16:15.420Z"
   },
   {
    "duration": 8,
    "start_time": "2023-04-28T10:16:15.429Z"
   },
   {
    "duration": 25,
    "start_time": "2023-04-28T10:16:15.439Z"
   },
   {
    "duration": 23,
    "start_time": "2023-04-28T10:16:15.466Z"
   },
   {
    "duration": 9,
    "start_time": "2023-04-28T10:16:21.669Z"
   },
   {
    "duration": 10,
    "start_time": "2023-04-28T10:16:24.541Z"
   },
   {
    "duration": 388,
    "start_time": "2023-04-28T10:16:25.683Z"
   },
   {
    "duration": 101,
    "start_time": "2023-04-28T10:16:27.524Z"
   },
   {
    "duration": 17,
    "start_time": "2023-04-28T10:24:32.609Z"
   },
   {
    "duration": 19,
    "start_time": "2023-04-28T10:25:23.010Z"
   },
   {
    "duration": 20,
    "start_time": "2023-04-28T10:25:30.551Z"
   },
   {
    "duration": 29,
    "start_time": "2023-04-28T10:25:58.465Z"
   },
   {
    "duration": 7,
    "start_time": "2023-04-28T10:26:15.389Z"
   },
   {
    "duration": 17,
    "start_time": "2023-04-28T10:26:23.778Z"
   },
   {
    "duration": 19,
    "start_time": "2023-04-28T10:26:30.877Z"
   },
   {
    "duration": 18,
    "start_time": "2023-04-28T10:26:52.257Z"
   },
   {
    "duration": 18,
    "start_time": "2023-04-28T10:27:01.753Z"
   },
   {
    "duration": 5,
    "start_time": "2023-04-28T10:29:17.155Z"
   },
   {
    "duration": 12,
    "start_time": "2023-04-28T10:32:42.387Z"
   },
   {
    "duration": 12,
    "start_time": "2023-04-28T10:33:02.301Z"
   },
   {
    "duration": 5,
    "start_time": "2023-04-28T10:36:07.288Z"
   },
   {
    "duration": 13,
    "start_time": "2023-04-28T10:36:12.770Z"
   },
   {
    "duration": 8,
    "start_time": "2023-04-28T10:36:48.627Z"
   },
   {
    "duration": 10,
    "start_time": "2023-04-28T10:36:54.427Z"
   },
   {
    "duration": 49,
    "start_time": "2023-04-28T10:40:28.117Z"
   },
   {
    "duration": 161,
    "start_time": "2023-04-28T10:40:32.150Z"
   },
   {
    "duration": 18,
    "start_time": "2023-04-28T10:41:21.404Z"
   },
   {
    "duration": 15,
    "start_time": "2023-04-28T10:41:34.172Z"
   },
   {
    "duration": 18,
    "start_time": "2023-04-28T10:42:04.654Z"
   },
   {
    "duration": 24,
    "start_time": "2023-04-28T10:42:10.786Z"
   },
   {
    "duration": 11,
    "start_time": "2023-04-28T10:44:05.841Z"
   },
   {
    "duration": 27,
    "start_time": "2023-04-28T10:45:57.716Z"
   },
   {
    "duration": 28,
    "start_time": "2023-04-28T10:47:13.702Z"
   },
   {
    "duration": 29,
    "start_time": "2023-04-28T10:47:38.350Z"
   },
   {
    "duration": 12,
    "start_time": "2023-04-28T10:50:43.776Z"
   },
   {
    "duration": 32,
    "start_time": "2023-04-28T10:52:00.101Z"
   },
   {
    "duration": 5,
    "start_time": "2023-04-28T10:52:26.873Z"
   },
   {
    "duration": 30,
    "start_time": "2023-04-28T10:52:46.822Z"
   },
   {
    "duration": 44,
    "start_time": "2023-04-28T10:53:00.607Z"
   },
   {
    "duration": 11,
    "start_time": "2023-04-28T10:56:29.018Z"
   },
   {
    "duration": 7,
    "start_time": "2023-04-28T10:56:41.078Z"
   },
   {
    "duration": 16,
    "start_time": "2023-04-28T11:01:56.379Z"
   },
   {
    "duration": 18,
    "start_time": "2023-04-28T11:02:11.502Z"
   },
   {
    "duration": 3,
    "start_time": "2023-04-28T11:06:13.652Z"
   },
   {
    "duration": 4,
    "start_time": "2023-04-28T11:06:20.677Z"
   },
   {
    "duration": 3,
    "start_time": "2023-04-28T11:06:27.744Z"
   },
   {
    "duration": 5,
    "start_time": "2023-04-28T11:06:44.277Z"
   },
   {
    "duration": 788,
    "start_time": "2023-04-28T11:29:02.779Z"
   },
   {
    "duration": 739,
    "start_time": "2023-04-28T11:29:54.548Z"
   },
   {
    "duration": 18,
    "start_time": "2023-04-28T11:31:36.132Z"
   },
   {
    "duration": 75,
    "start_time": "2023-04-28T11:31:50.472Z"
   },
   {
    "duration": 8,
    "start_time": "2023-04-28T11:31:59.622Z"
   },
   {
    "duration": 22,
    "start_time": "2023-04-28T11:33:40.384Z"
   },
   {
    "duration": 9,
    "start_time": "2023-04-28T11:35:33.359Z"
   },
   {
    "duration": 17,
    "start_time": "2023-04-28T11:36:15.254Z"
   },
   {
    "duration": 840,
    "start_time": "2023-04-28T11:36:54.423Z"
   },
   {
    "duration": 0,
    "start_time": "2023-04-28T11:36:55.265Z"
   },
   {
    "duration": 15,
    "start_time": "2023-04-28T11:38:30.710Z"
   },
   {
    "duration": 11,
    "start_time": "2023-04-28T11:38:45.531Z"
   },
   {
    "duration": 1472,
    "start_time": "2023-04-28T11:39:49.116Z"
   },
   {
    "duration": 303,
    "start_time": "2023-04-28T11:39:50.591Z"
   },
   {
    "duration": 37,
    "start_time": "2023-04-28T11:39:50.896Z"
   },
   {
    "duration": 14,
    "start_time": "2023-04-28T11:39:50.935Z"
   },
   {
    "duration": 404,
    "start_time": "2023-04-28T11:39:50.952Z"
   },
   {
    "duration": 7,
    "start_time": "2023-04-28T11:39:51.358Z"
   },
   {
    "duration": 14,
    "start_time": "2023-04-28T11:39:51.366Z"
   },
   {
    "duration": 43,
    "start_time": "2023-04-28T11:39:51.389Z"
   },
   {
    "duration": 17,
    "start_time": "2023-04-28T11:39:51.435Z"
   },
   {
    "duration": 33,
    "start_time": "2023-04-28T11:39:51.454Z"
   },
   {
    "duration": 53,
    "start_time": "2023-04-28T11:39:51.489Z"
   },
   {
    "duration": 467,
    "start_time": "2023-04-28T11:39:51.544Z"
   },
   {
    "duration": 102,
    "start_time": "2023-04-28T11:40:32.563Z"
   },
   {
    "duration": 25,
    "start_time": "2023-04-28T11:40:39.204Z"
   },
   {
    "duration": 10,
    "start_time": "2023-04-28T11:41:35.476Z"
   },
   {
    "duration": 35,
    "start_time": "2023-04-28T11:41:46.175Z"
   },
   {
    "duration": 16,
    "start_time": "2023-04-28T11:42:53.708Z"
   },
   {
    "duration": 21,
    "start_time": "2023-04-28T11:43:14.027Z"
   },
   {
    "duration": 27,
    "start_time": "2023-04-28T11:43:53.623Z"
   },
   {
    "duration": 31,
    "start_time": "2023-04-28T11:44:20.280Z"
   },
   {
    "duration": 53,
    "start_time": "2023-04-28T11:45:05.237Z"
   },
   {
    "duration": 72,
    "start_time": "2023-04-28T11:47:05.568Z"
   },
   {
    "duration": 16,
    "start_time": "2023-04-28T11:47:17.661Z"
   },
   {
    "duration": 191,
    "start_time": "2023-04-28T11:50:19.583Z"
   },
   {
    "duration": 26,
    "start_time": "2023-04-28T11:50:30.311Z"
   },
   {
    "duration": 15,
    "start_time": "2023-04-28T12:02:10.404Z"
   },
   {
    "duration": 14,
    "start_time": "2023-04-28T12:04:55.042Z"
   },
   {
    "duration": 11,
    "start_time": "2023-04-28T12:05:03.633Z"
   },
   {
    "duration": 15,
    "start_time": "2023-04-28T12:05:29.078Z"
   },
   {
    "duration": 16,
    "start_time": "2023-04-28T12:05:48.816Z"
   },
   {
    "duration": 17,
    "start_time": "2023-04-28T12:06:03.507Z"
   },
   {
    "duration": 15,
    "start_time": "2023-04-28T12:06:20.118Z"
   },
   {
    "duration": 20,
    "start_time": "2023-04-28T12:06:31.126Z"
   },
   {
    "duration": 80,
    "start_time": "2023-04-28T12:10:53.320Z"
   },
   {
    "duration": 75,
    "start_time": "2023-04-28T12:11:25.958Z"
   },
   {
    "duration": 83,
    "start_time": "2023-04-28T12:12:47.277Z"
   },
   {
    "duration": 1440,
    "start_time": "2023-04-28T14:30:33.092Z"
   },
   {
    "duration": 246,
    "start_time": "2023-04-28T14:30:34.536Z"
   },
   {
    "duration": 30,
    "start_time": "2023-04-28T14:30:34.785Z"
   },
   {
    "duration": 32,
    "start_time": "2023-04-28T14:30:34.817Z"
   },
   {
    "duration": 296,
    "start_time": "2023-04-28T14:30:34.852Z"
   },
   {
    "duration": 7,
    "start_time": "2023-04-28T14:30:35.149Z"
   },
   {
    "duration": 4,
    "start_time": "2023-04-28T14:30:47.811Z"
   },
   {
    "duration": 143,
    "start_time": "2023-04-28T14:30:47.816Z"
   },
   {
    "duration": 29,
    "start_time": "2023-04-28T14:30:47.961Z"
   },
   {
    "duration": 11,
    "start_time": "2023-04-28T14:30:47.992Z"
   },
   {
    "duration": 287,
    "start_time": "2023-04-28T14:30:48.005Z"
   },
   {
    "duration": 7,
    "start_time": "2023-04-28T14:30:48.293Z"
   },
   {
    "duration": 9,
    "start_time": "2023-04-28T14:30:48.301Z"
   },
   {
    "duration": 44,
    "start_time": "2023-04-28T14:30:48.311Z"
   },
   {
    "duration": 3,
    "start_time": "2023-04-28T14:30:48.357Z"
   },
   {
    "duration": 8,
    "start_time": "2023-04-28T14:30:48.361Z"
   },
   {
    "duration": 15,
    "start_time": "2023-04-28T14:30:48.371Z"
   },
   {
    "duration": 496,
    "start_time": "2023-04-28T14:30:48.387Z"
   },
   {
    "duration": 146,
    "start_time": "2023-04-28T14:30:51.359Z"
   },
   {
    "duration": 17,
    "start_time": "2023-04-28T14:30:58.401Z"
   },
   {
    "duration": 31,
    "start_time": "2023-04-28T14:31:01.728Z"
   },
   {
    "duration": 3,
    "start_time": "2023-04-28T14:31:02.201Z"
   },
   {
    "duration": 15,
    "start_time": "2023-04-28T14:33:55.607Z"
   },
   {
    "duration": 479,
    "start_time": "2023-04-28T14:40:19.088Z"
   },
   {
    "duration": 14,
    "start_time": "2023-04-28T14:40:35.532Z"
   },
   {
    "duration": 218,
    "start_time": "2023-04-28T14:41:39.946Z"
   },
   {
    "duration": 1248,
    "start_time": "2023-04-28T14:42:11.556Z"
   },
   {
    "duration": 117,
    "start_time": "2023-04-28T14:42:12.807Z"
   },
   {
    "duration": 26,
    "start_time": "2023-04-28T14:42:12.926Z"
   },
   {
    "duration": 9,
    "start_time": "2023-04-28T14:42:12.954Z"
   },
   {
    "duration": 294,
    "start_time": "2023-04-28T14:42:12.964Z"
   },
   {
    "duration": 7,
    "start_time": "2023-04-28T14:42:13.260Z"
   },
   {
    "duration": 8,
    "start_time": "2023-04-28T14:42:13.269Z"
   },
   {
    "duration": 33,
    "start_time": "2023-04-28T14:42:13.278Z"
   },
   {
    "duration": 24,
    "start_time": "2023-04-28T14:42:13.312Z"
   },
   {
    "duration": 14,
    "start_time": "2023-04-28T14:42:13.338Z"
   },
   {
    "duration": 15,
    "start_time": "2023-04-28T14:42:13.354Z"
   },
   {
    "duration": 509,
    "start_time": "2023-04-28T14:42:13.371Z"
   },
   {
    "duration": 130,
    "start_time": "2023-04-28T14:42:13.882Z"
   },
   {
    "duration": 0,
    "start_time": "2023-04-28T14:42:14.014Z"
   },
   {
    "duration": 0,
    "start_time": "2023-04-28T14:42:14.016Z"
   },
   {
    "duration": 0,
    "start_time": "2023-04-28T14:42:14.018Z"
   },
   {
    "duration": 0,
    "start_time": "2023-04-28T14:42:14.019Z"
   },
   {
    "duration": 5,
    "start_time": "2023-04-28T14:42:22.697Z"
   },
   {
    "duration": 111,
    "start_time": "2023-04-28T14:42:37.431Z"
   },
   {
    "duration": 16,
    "start_time": "2023-04-28T14:42:58.396Z"
   },
   {
    "duration": 16,
    "start_time": "2023-04-28T14:43:29.000Z"
   },
   {
    "duration": 182,
    "start_time": "2023-04-28T14:46:38.318Z"
   },
   {
    "duration": 17,
    "start_time": "2023-04-28T14:46:49.974Z"
   },
   {
    "duration": 15,
    "start_time": "2023-04-28T14:46:56.974Z"
   },
   {
    "duration": 18,
    "start_time": "2023-04-28T14:48:10.282Z"
   },
   {
    "duration": 23,
    "start_time": "2023-04-28T14:51:14.828Z"
   },
   {
    "duration": 58,
    "start_time": "2023-04-28T14:51:30.160Z"
   },
   {
    "duration": 32,
    "start_time": "2023-04-28T14:52:56.246Z"
   },
   {
    "duration": 160,
    "start_time": "2023-04-28T14:56:53.070Z"
   },
   {
    "duration": 185,
    "start_time": "2023-04-28T14:57:19.413Z"
   },
   {
    "duration": 202,
    "start_time": "2023-04-28T15:01:25.721Z"
   },
   {
    "duration": 178,
    "start_time": "2023-04-28T15:02:24.507Z"
   },
   {
    "duration": 7,
    "start_time": "2023-04-28T15:02:42.700Z"
   },
   {
    "duration": 168,
    "start_time": "2023-04-28T15:03:15.598Z"
   },
   {
    "duration": 811,
    "start_time": "2023-04-28T15:04:11.557Z"
   },
   {
    "duration": 71,
    "start_time": "2023-04-28T15:05:55.333Z"
   },
   {
    "duration": 66,
    "start_time": "2023-04-28T15:06:28.461Z"
   },
   {
    "duration": 58,
    "start_time": "2023-04-28T15:09:43.173Z"
   },
   {
    "duration": 23,
    "start_time": "2023-04-28T15:10:22.479Z"
   },
   {
    "duration": 310,
    "start_time": "2023-04-28T15:13:52.002Z"
   },
   {
    "duration": 220,
    "start_time": "2023-04-28T15:15:26.246Z"
   },
   {
    "duration": 412,
    "start_time": "2023-04-28T15:16:02.752Z"
   },
   {
    "duration": 231,
    "start_time": "2023-04-28T15:16:19.041Z"
   },
   {
    "duration": 240,
    "start_time": "2023-04-28T15:16:33.051Z"
   },
   {
    "duration": 271,
    "start_time": "2023-04-28T15:16:40.076Z"
   },
   {
    "duration": 17,
    "start_time": "2023-04-28T15:18:40.127Z"
   },
   {
    "duration": 27,
    "start_time": "2023-04-28T15:20:13.261Z"
   },
   {
    "duration": 1290,
    "start_time": "2023-04-28T15:20:40.724Z"
   },
   {
    "duration": 180,
    "start_time": "2023-04-28T15:20:42.016Z"
   },
   {
    "duration": 26,
    "start_time": "2023-04-28T15:20:42.198Z"
   },
   {
    "duration": 16,
    "start_time": "2023-04-28T15:20:42.226Z"
   },
   {
    "duration": 327,
    "start_time": "2023-04-28T15:20:42.244Z"
   },
   {
    "duration": 6,
    "start_time": "2023-04-28T15:20:42.573Z"
   },
   {
    "duration": 17,
    "start_time": "2023-04-28T15:20:42.581Z"
   },
   {
    "duration": 25,
    "start_time": "2023-04-28T15:20:42.599Z"
   },
   {
    "duration": 3,
    "start_time": "2023-04-28T15:20:42.626Z"
   },
   {
    "duration": 15,
    "start_time": "2023-04-28T15:20:42.639Z"
   },
   {
    "duration": 60,
    "start_time": "2023-04-28T15:20:42.656Z"
   },
   {
    "duration": 489,
    "start_time": "2023-04-28T15:20:42.718Z"
   },
   {
    "duration": 15,
    "start_time": "2023-04-28T15:20:43.209Z"
   },
   {
    "duration": 233,
    "start_time": "2023-04-28T15:20:43.225Z"
   },
   {
    "duration": 0,
    "start_time": "2023-04-28T15:20:43.460Z"
   },
   {
    "duration": 12,
    "start_time": "2023-04-28T15:20:45.615Z"
   },
   {
    "duration": 21,
    "start_time": "2023-04-28T15:21:01.053Z"
   },
   {
    "duration": 80,
    "start_time": "2023-04-28T15:21:02.382Z"
   },
   {
    "duration": 33,
    "start_time": "2023-04-28T15:21:09.023Z"
   },
   {
    "duration": 346,
    "start_time": "2023-04-28T15:21:42.370Z"
   },
   {
    "duration": 1365,
    "start_time": "2023-04-28T15:22:17.419Z"
   },
   {
    "duration": 12,
    "start_time": "2023-04-28T15:22:36.757Z"
   },
   {
    "duration": 14,
    "start_time": "2023-04-28T15:23:29.622Z"
   },
   {
    "duration": 14,
    "start_time": "2023-04-28T15:23:41.880Z"
   },
   {
    "duration": 16,
    "start_time": "2023-04-28T15:23:54.255Z"
   },
   {
    "duration": 7,
    "start_time": "2023-04-28T15:24:44.253Z"
   },
   {
    "duration": 158,
    "start_time": "2023-04-28T15:25:17.649Z"
   },
   {
    "duration": 346,
    "start_time": "2023-04-28T15:26:14.480Z"
   },
   {
    "duration": 386,
    "start_time": "2023-04-28T15:26:54.502Z"
   },
   {
    "duration": 12,
    "start_time": "2023-04-28T15:27:03.916Z"
   },
   {
    "duration": 13,
    "start_time": "2023-04-28T15:28:18.050Z"
   },
   {
    "duration": 13,
    "start_time": "2023-04-28T15:28:55.546Z"
   },
   {
    "duration": 151,
    "start_time": "2023-04-28T15:29:02.048Z"
   },
   {
    "duration": 5,
    "start_time": "2023-04-28T15:29:23.264Z"
   },
   {
    "duration": 308,
    "start_time": "2023-04-28T15:29:32.567Z"
   },
   {
    "duration": 323,
    "start_time": "2023-04-28T15:30:01.856Z"
   },
   {
    "duration": 18,
    "start_time": "2023-04-28T15:32:21.757Z"
   },
   {
    "duration": 4,
    "start_time": "2023-04-28T15:33:48.516Z"
   },
   {
    "duration": 9,
    "start_time": "2023-04-28T15:33:58.507Z"
   },
   {
    "duration": 13,
    "start_time": "2023-04-28T15:34:37.317Z"
   },
   {
    "duration": 13,
    "start_time": "2023-04-28T15:34:55.185Z"
   },
   {
    "duration": 13,
    "start_time": "2023-04-28T15:36:29.200Z"
   },
   {
    "duration": 46,
    "start_time": "2023-04-28T15:38:50.100Z"
   },
   {
    "duration": 4,
    "start_time": "2023-04-28T15:38:51.056Z"
   },
   {
    "duration": 17,
    "start_time": "2023-04-28T15:40:47.991Z"
   },
   {
    "duration": 11,
    "start_time": "2023-04-28T15:40:59.808Z"
   },
   {
    "duration": 1679,
    "start_time": "2023-04-28T15:41:46.628Z"
   },
   {
    "duration": 15,
    "start_time": "2023-04-28T15:42:32.395Z"
   },
   {
    "duration": 14,
    "start_time": "2023-04-28T15:42:42.809Z"
   },
   {
    "duration": 17,
    "start_time": "2023-04-28T15:43:58.588Z"
   },
   {
    "duration": 19,
    "start_time": "2023-04-28T15:44:03.459Z"
   },
   {
    "duration": 20,
    "start_time": "2023-04-28T15:47:52.684Z"
   },
   {
    "duration": 8,
    "start_time": "2023-04-28T15:48:07.652Z"
   },
   {
    "duration": 4,
    "start_time": "2023-04-28T15:48:21.447Z"
   },
   {
    "duration": 11,
    "start_time": "2023-04-28T15:48:22.572Z"
   },
   {
    "duration": 13,
    "start_time": "2023-04-28T15:48:50.577Z"
   },
   {
    "duration": 20,
    "start_time": "2023-04-28T15:48:58.224Z"
   },
   {
    "duration": 10,
    "start_time": "2023-04-28T15:50:06.966Z"
   },
   {
    "duration": 11,
    "start_time": "2023-04-28T15:50:15.304Z"
   },
   {
    "duration": 10,
    "start_time": "2023-04-28T15:50:29.648Z"
   },
   {
    "duration": 11,
    "start_time": "2023-04-28T15:51:17.508Z"
   },
   {
    "duration": 14,
    "start_time": "2023-04-28T15:51:34.419Z"
   },
   {
    "duration": 14,
    "start_time": "2023-04-28T15:53:47.707Z"
   },
   {
    "duration": 6,
    "start_time": "2023-04-28T15:53:48.504Z"
   },
   {
    "duration": 1333,
    "start_time": "2023-04-28T15:54:42.957Z"
   },
   {
    "duration": 1308,
    "start_time": "2023-04-28T15:57:03.161Z"
   },
   {
    "duration": 4,
    "start_time": "2023-04-28T15:57:19.554Z"
   },
   {
    "duration": 1209,
    "start_time": "2023-04-28T15:57:43.259Z"
   },
   {
    "duration": 136,
    "start_time": "2023-04-28T15:57:44.470Z"
   },
   {
    "duration": 24,
    "start_time": "2023-04-28T15:57:44.607Z"
   },
   {
    "duration": 10,
    "start_time": "2023-04-28T15:57:44.633Z"
   },
   {
    "duration": 320,
    "start_time": "2023-04-28T15:57:44.647Z"
   },
   {
    "duration": 7,
    "start_time": "2023-04-28T15:57:44.969Z"
   },
   {
    "duration": 10,
    "start_time": "2023-04-28T15:57:44.978Z"
   },
   {
    "duration": 38,
    "start_time": "2023-04-28T15:57:44.990Z"
   },
   {
    "duration": 48,
    "start_time": "2023-04-28T15:57:45.030Z"
   },
   {
    "duration": 21,
    "start_time": "2023-04-28T15:57:45.081Z"
   },
   {
    "duration": 66,
    "start_time": "2023-04-28T15:57:45.103Z"
   },
   {
    "duration": 475,
    "start_time": "2023-04-28T15:57:45.171Z"
   },
   {
    "duration": 18,
    "start_time": "2023-04-28T15:57:45.651Z"
   },
   {
    "duration": 291,
    "start_time": "2023-04-28T15:57:45.671Z"
   },
   {
    "duration": 0,
    "start_time": "2023-04-28T15:57:45.964Z"
   },
   {
    "duration": 0,
    "start_time": "2023-04-28T15:57:45.965Z"
   },
   {
    "duration": 1,
    "start_time": "2023-04-28T15:57:45.966Z"
   },
   {
    "duration": 0,
    "start_time": "2023-04-28T15:57:45.968Z"
   },
   {
    "duration": 0,
    "start_time": "2023-04-28T15:57:45.969Z"
   },
   {
    "duration": 0,
    "start_time": "2023-04-28T15:57:45.971Z"
   },
   {
    "duration": 0,
    "start_time": "2023-04-28T15:57:45.972Z"
   },
   {
    "duration": 0,
    "start_time": "2023-04-28T15:57:45.974Z"
   },
   {
    "duration": 0,
    "start_time": "2023-04-28T15:57:45.975Z"
   },
   {
    "duration": 0,
    "start_time": "2023-04-28T15:57:45.976Z"
   },
   {
    "duration": 0,
    "start_time": "2023-04-28T15:57:45.977Z"
   },
   {
    "duration": 1246,
    "start_time": "2023-04-28T15:58:31.006Z"
   },
   {
    "duration": 120,
    "start_time": "2023-04-28T15:58:33.673Z"
   },
   {
    "duration": 31,
    "start_time": "2023-04-28T15:58:34.650Z"
   },
   {
    "duration": 11,
    "start_time": "2023-04-28T15:58:38.119Z"
   },
   {
    "duration": 313,
    "start_time": "2023-04-28T15:58:39.886Z"
   },
   {
    "duration": 6,
    "start_time": "2023-04-28T15:58:44.327Z"
   },
   {
    "duration": 4,
    "start_time": "2023-04-28T15:58:46.170Z"
   },
   {
    "duration": 21,
    "start_time": "2023-04-28T15:58:48.210Z"
   },
   {
    "duration": 2,
    "start_time": "2023-04-28T15:58:49.964Z"
   },
   {
    "duration": 5,
    "start_time": "2023-04-28T15:58:51.509Z"
   },
   {
    "duration": 77,
    "start_time": "2023-04-28T15:59:05.225Z"
   },
   {
    "duration": 20,
    "start_time": "2023-04-28T15:59:24.063Z"
   },
   {
    "duration": 582,
    "start_time": "2023-04-28T15:59:29.710Z"
   },
   {
    "duration": 24,
    "start_time": "2023-04-28T15:59:48.530Z"
   },
   {
    "duration": 15,
    "start_time": "2023-04-28T16:00:46.454Z"
   },
   {
    "duration": 115,
    "start_time": "2023-04-28T16:00:51.433Z"
   },
   {
    "duration": 10,
    "start_time": "2023-04-28T16:00:52.606Z"
   },
   {
    "duration": 1404,
    "start_time": "2023-04-28T16:01:13.819Z"
   },
   {
    "duration": 183,
    "start_time": "2023-04-28T16:01:15.226Z"
   },
   {
    "duration": 30,
    "start_time": "2023-04-28T16:01:15.447Z"
   },
   {
    "duration": 12,
    "start_time": "2023-04-28T16:01:17.229Z"
   },
   {
    "duration": 279,
    "start_time": "2023-04-28T16:01:17.798Z"
   },
   {
    "duration": 10,
    "start_time": "2023-04-28T16:01:21.272Z"
   },
   {
    "duration": 6,
    "start_time": "2023-04-28T16:01:23.447Z"
   },
   {
    "duration": 31,
    "start_time": "2023-04-28T16:01:24.432Z"
   },
   {
    "duration": 5,
    "start_time": "2023-04-28T16:01:25.452Z"
   },
   {
    "duration": 8,
    "start_time": "2023-04-28T16:01:26.232Z"
   },
   {
    "duration": 13,
    "start_time": "2023-04-28T16:01:41.212Z"
   },
   {
    "duration": 470,
    "start_time": "2023-04-28T16:01:58.621Z"
   },
   {
    "duration": 9,
    "start_time": "2023-04-28T16:05:26.609Z"
   },
   {
    "duration": 19,
    "start_time": "2023-04-28T16:05:51.286Z"
   },
   {
    "duration": 17,
    "start_time": "2023-04-28T16:06:57.206Z"
   },
   {
    "duration": 24,
    "start_time": "2023-04-28T16:07:09.717Z"
   },
   {
    "duration": 100,
    "start_time": "2023-04-28T16:07:14.799Z"
   },
   {
    "duration": 10,
    "start_time": "2023-04-28T16:07:42.908Z"
   },
   {
    "duration": 8,
    "start_time": "2023-04-28T16:10:07.481Z"
   },
   {
    "duration": 15,
    "start_time": "2023-04-28T16:10:28.557Z"
   },
   {
    "duration": 15,
    "start_time": "2023-04-28T16:10:39.603Z"
   },
   {
    "duration": 14,
    "start_time": "2023-04-28T16:25:11.905Z"
   },
   {
    "duration": 5,
    "start_time": "2023-04-28T16:25:59.470Z"
   },
   {
    "duration": 83,
    "start_time": "2023-04-28T16:27:09.198Z"
   },
   {
    "duration": 159,
    "start_time": "2023-04-28T16:31:35.902Z"
   },
   {
    "duration": 581,
    "start_time": "2023-04-28T16:31:50.679Z"
   },
   {
    "duration": 574,
    "start_time": "2023-04-28T16:32:27.750Z"
   },
   {
    "duration": 577,
    "start_time": "2023-04-28T16:32:35.399Z"
   },
   {
    "duration": 595,
    "start_time": "2023-04-28T16:34:23.394Z"
   },
   {
    "duration": 624,
    "start_time": "2023-04-28T16:35:17.539Z"
   },
   {
    "duration": 616,
    "start_time": "2023-04-28T16:35:27.181Z"
   },
   {
    "duration": 26,
    "start_time": "2023-04-28T16:36:32.582Z"
   },
   {
    "duration": 27,
    "start_time": "2023-04-28T16:38:03.100Z"
   },
   {
    "duration": 633,
    "start_time": "2023-04-28T16:38:53.489Z"
   },
   {
    "duration": 640,
    "start_time": "2023-04-28T16:39:02.069Z"
   },
   {
    "duration": 622,
    "start_time": "2023-04-28T16:39:28.421Z"
   },
   {
    "duration": 653,
    "start_time": "2023-04-28T16:40:01.914Z"
   },
   {
    "duration": 691,
    "start_time": "2023-04-28T16:40:08.924Z"
   },
   {
    "duration": 681,
    "start_time": "2023-04-28T16:41:34.026Z"
   },
   {
    "duration": 763,
    "start_time": "2023-04-28T16:41:45.018Z"
   },
   {
    "duration": 611,
    "start_time": "2023-04-28T16:42:58.285Z"
   },
   {
    "duration": 296,
    "start_time": "2023-04-28T16:46:15.910Z"
   },
   {
    "duration": 724,
    "start_time": "2023-04-28T16:46:29.264Z"
   },
   {
    "duration": 226,
    "start_time": "2023-04-28T16:47:36.560Z"
   },
   {
    "duration": 214,
    "start_time": "2023-04-28T16:48:06.961Z"
   },
   {
    "duration": 15,
    "start_time": "2023-04-28T16:48:44.203Z"
   },
   {
    "duration": 226,
    "start_time": "2023-04-28T16:48:49.728Z"
   },
   {
    "duration": 209,
    "start_time": "2023-04-28T16:48:59.729Z"
   },
   {
    "duration": 202,
    "start_time": "2023-04-28T16:49:06.132Z"
   },
   {
    "duration": 14,
    "start_time": "2023-04-28T16:49:31.735Z"
   },
   {
    "duration": 314,
    "start_time": "2023-04-28T16:50:54.078Z"
   },
   {
    "duration": 193,
    "start_time": "2023-04-28T16:51:07.054Z"
   },
   {
    "duration": 23,
    "start_time": "2023-04-28T16:53:20.029Z"
   },
   {
    "duration": 16,
    "start_time": "2023-04-28T16:53:21.057Z"
   },
   {
    "duration": 5,
    "start_time": "2023-04-28T16:53:50.955Z"
   },
   {
    "duration": 14,
    "start_time": "2023-04-28T16:54:39.759Z"
   },
   {
    "duration": 34,
    "start_time": "2023-04-28T16:56:58.138Z"
   },
   {
    "duration": 38,
    "start_time": "2023-04-28T16:58:02.333Z"
   },
   {
    "duration": 132,
    "start_time": "2023-04-28T17:01:36.534Z"
   },
   {
    "duration": 36,
    "start_time": "2023-04-28T17:02:22.276Z"
   },
   {
    "duration": 31,
    "start_time": "2023-04-28T17:02:28.527Z"
   },
   {
    "duration": 38,
    "start_time": "2023-04-28T17:02:37.307Z"
   },
   {
    "duration": 135,
    "start_time": "2023-04-28T17:02:42.768Z"
   },
   {
    "duration": 114,
    "start_time": "2023-04-28T17:03:14.979Z"
   },
   {
    "duration": 28,
    "start_time": "2023-04-28T17:05:45.463Z"
   },
   {
    "duration": 42,
    "start_time": "2023-04-28T17:07:34.233Z"
   },
   {
    "duration": 37,
    "start_time": "2023-04-28T17:07:45.702Z"
   },
   {
    "duration": 34,
    "start_time": "2023-04-28T17:10:15.155Z"
   },
   {
    "duration": 141,
    "start_time": "2023-04-28T17:10:17.621Z"
   },
   {
    "duration": 9,
    "start_time": "2023-04-28T17:11:23.478Z"
   },
   {
    "duration": 14,
    "start_time": "2023-04-28T17:11:59.975Z"
   },
   {
    "duration": 10,
    "start_time": "2023-04-28T17:12:09.479Z"
   },
   {
    "duration": 8,
    "start_time": "2023-04-28T17:12:18.603Z"
   },
   {
    "duration": 116,
    "start_time": "2023-04-28T17:12:53.917Z"
   },
   {
    "duration": 31,
    "start_time": "2023-04-28T17:14:41.324Z"
   },
   {
    "duration": 79,
    "start_time": "2023-04-28T17:15:03.063Z"
   },
   {
    "duration": 95,
    "start_time": "2023-04-28T17:15:17.862Z"
   },
   {
    "duration": 27,
    "start_time": "2023-04-28T17:15:46.591Z"
   },
   {
    "duration": 26,
    "start_time": "2023-04-28T17:16:56.675Z"
   },
   {
    "duration": 33,
    "start_time": "2023-04-28T17:17:06.252Z"
   },
   {
    "duration": 85,
    "start_time": "2023-04-28T17:20:49.224Z"
   },
   {
    "duration": 18,
    "start_time": "2023-04-28T17:22:00.163Z"
   },
   {
    "duration": 15,
    "start_time": "2023-04-28T17:22:15.993Z"
   },
   {
    "duration": 16,
    "start_time": "2023-04-28T17:22:20.864Z"
   },
   {
    "duration": 74,
    "start_time": "2023-04-28T17:22:34.124Z"
   },
   {
    "duration": 1268,
    "start_time": "2023-04-28T17:25:28.404Z"
   },
   {
    "duration": 240,
    "start_time": "2023-04-28T17:25:37.212Z"
   },
   {
    "duration": 25,
    "start_time": "2023-04-28T17:25:39.462Z"
   },
   {
    "duration": 8,
    "start_time": "2023-04-28T17:25:42.814Z"
   },
   {
    "duration": 295,
    "start_time": "2023-04-28T17:25:55.368Z"
   },
   {
    "duration": 7,
    "start_time": "2023-04-28T17:27:10.194Z"
   },
   {
    "duration": 10,
    "start_time": "2023-04-28T17:27:11.635Z"
   },
   {
    "duration": 22,
    "start_time": "2023-04-28T17:27:14.376Z"
   },
   {
    "duration": 3,
    "start_time": "2023-04-28T17:27:16.495Z"
   },
   {
    "duration": 7,
    "start_time": "2023-04-28T17:27:19.168Z"
   },
   {
    "duration": 9,
    "start_time": "2023-04-28T17:27:21.477Z"
   },
   {
    "duration": 442,
    "start_time": "2023-04-28T17:27:22.437Z"
   },
   {
    "duration": 16,
    "start_time": "2023-04-28T17:27:36.960Z"
   },
   {
    "duration": 14,
    "start_time": "2023-04-28T17:27:48.646Z"
   },
   {
    "duration": 65,
    "start_time": "2023-04-28T17:27:51.158Z"
   },
   {
    "duration": 9,
    "start_time": "2023-04-28T17:27:57.864Z"
   },
   {
    "duration": 210,
    "start_time": "2023-04-28T17:28:00.063Z"
   },
   {
    "duration": 13,
    "start_time": "2023-04-28T17:28:06.012Z"
   },
   {
    "duration": 10,
    "start_time": "2023-04-28T17:28:06.818Z"
   },
   {
    "duration": 4,
    "start_time": "2023-04-28T17:28:16.462Z"
   },
   {
    "duration": 26,
    "start_time": "2023-04-28T17:28:20.370Z"
   },
   {
    "duration": 78,
    "start_time": "2023-04-28T17:28:23.727Z"
   },
   {
    "duration": 23,
    "start_time": "2023-04-28T17:30:43.249Z"
   },
   {
    "duration": 96,
    "start_time": "2023-04-28T17:31:35.555Z"
   },
   {
    "duration": 1273,
    "start_time": "2023-04-28T17:34:31.258Z"
   },
   {
    "duration": 207,
    "start_time": "2023-04-28T17:34:33.606Z"
   },
   {
    "duration": 29,
    "start_time": "2023-04-28T17:34:35.120Z"
   },
   {
    "duration": 7,
    "start_time": "2023-04-28T17:34:44.375Z"
   },
   {
    "duration": 460,
    "start_time": "2023-04-28T17:34:45.955Z"
   },
   {
    "duration": 7,
    "start_time": "2023-04-28T17:35:24.886Z"
   },
   {
    "duration": 114,
    "start_time": "2023-04-28T17:35:43.556Z"
   },
   {
    "duration": 6,
    "start_time": "2023-04-28T17:37:24.027Z"
   },
   {
    "duration": 115,
    "start_time": "2023-04-28T17:37:24.683Z"
   },
   {
    "duration": 1254,
    "start_time": "2023-04-28T17:37:48.063Z"
   },
   {
    "duration": 222,
    "start_time": "2023-04-28T17:37:50.460Z"
   },
   {
    "duration": 39,
    "start_time": "2023-04-28T17:37:50.931Z"
   },
   {
    "duration": 7,
    "start_time": "2023-04-28T17:37:54.166Z"
   },
   {
    "duration": 477,
    "start_time": "2023-04-28T17:37:55.043Z"
   },
   {
    "duration": 5,
    "start_time": "2023-04-28T17:39:29.962Z"
   },
   {
    "duration": 8,
    "start_time": "2023-04-28T17:39:30.454Z"
   },
   {
    "duration": 22,
    "start_time": "2023-04-28T17:39:31.561Z"
   },
   {
    "duration": 3,
    "start_time": "2023-04-28T17:39:32.526Z"
   },
   {
    "duration": 5,
    "start_time": "2023-04-28T17:39:33.389Z"
   },
   {
    "duration": 8,
    "start_time": "2023-04-28T17:39:35.807Z"
   },
   {
    "duration": 79,
    "start_time": "2023-04-28T17:39:36.086Z"
   },
   {
    "duration": 19,
    "start_time": "2023-04-28T17:39:36.809Z"
   },
   {
    "duration": 15,
    "start_time": "2023-04-28T17:39:46.895Z"
   },
   {
    "duration": 149,
    "start_time": "2023-04-28T17:39:47.530Z"
   },
   {
    "duration": 9,
    "start_time": "2023-04-28T17:39:49.161Z"
   },
   {
    "duration": 236,
    "start_time": "2023-04-28T17:39:49.840Z"
   },
   {
    "duration": 17,
    "start_time": "2023-04-28T17:39:57.452Z"
   },
   {
    "duration": 11,
    "start_time": "2023-04-28T17:39:57.901Z"
   },
   {
    "duration": 4,
    "start_time": "2023-04-28T17:39:58.304Z"
   },
   {
    "duration": 32,
    "start_time": "2023-04-28T17:39:59.715Z"
   },
   {
    "duration": 94,
    "start_time": "2023-04-28T17:40:00.727Z"
   },
   {
    "duration": 33,
    "start_time": "2023-04-28T17:41:13.019Z"
   },
   {
    "duration": 154,
    "start_time": "2023-04-28T17:41:42.798Z"
   },
   {
    "duration": 8,
    "start_time": "2023-04-28T17:41:50.573Z"
   },
   {
    "duration": 45,
    "start_time": "2023-04-28T18:06:04.447Z"
   },
   {
    "duration": 21,
    "start_time": "2023-04-28T18:06:13.467Z"
   },
   {
    "duration": 17,
    "start_time": "2023-04-28T18:06:51.781Z"
   },
   {
    "duration": 16,
    "start_time": "2023-04-28T18:07:33.579Z"
   },
   {
    "duration": 18,
    "start_time": "2023-04-28T18:11:19.707Z"
   },
   {
    "duration": 16,
    "start_time": "2023-04-28T18:11:38.873Z"
   },
   {
    "duration": 15,
    "start_time": "2023-04-28T18:12:02.896Z"
   },
   {
    "duration": 36,
    "start_time": "2023-04-28T18:12:15.025Z"
   },
   {
    "duration": 29,
    "start_time": "2023-04-28T18:13:43.163Z"
   },
   {
    "duration": 80,
    "start_time": "2023-04-28T18:14:00.247Z"
   },
   {
    "duration": 13,
    "start_time": "2023-04-28T18:14:16.402Z"
   },
   {
    "duration": 27,
    "start_time": "2023-04-28T18:15:10.066Z"
   },
   {
    "duration": 79,
    "start_time": "2023-04-28T18:15:16.810Z"
   },
   {
    "duration": 114,
    "start_time": "2023-04-28T18:17:08.060Z"
   },
   {
    "duration": 125,
    "start_time": "2023-04-28T18:17:49.082Z"
   },
   {
    "duration": 17,
    "start_time": "2023-04-28T18:17:59.863Z"
   },
   {
    "duration": 156,
    "start_time": "2023-04-28T18:18:39.626Z"
   },
   {
    "duration": 65,
    "start_time": "2023-04-28T18:21:02.644Z"
   },
   {
    "duration": 123,
    "start_time": "2023-04-28T18:22:05.546Z"
   },
   {
    "duration": 126,
    "start_time": "2023-04-28T18:23:46.496Z"
   },
   {
    "duration": 53,
    "start_time": "2023-04-28T18:23:59.267Z"
   },
   {
    "duration": 125,
    "start_time": "2023-04-28T18:27:45.259Z"
   },
   {
    "duration": 67,
    "start_time": "2023-04-28T18:28:02.764Z"
   },
   {
    "duration": 88,
    "start_time": "2023-04-28T18:28:07.298Z"
   },
   {
    "duration": 77,
    "start_time": "2023-04-28T18:30:52.428Z"
   },
   {
    "duration": 71,
    "start_time": "2023-04-28T18:32:12.658Z"
   },
   {
    "duration": 70,
    "start_time": "2023-04-28T18:33:31.357Z"
   },
   {
    "duration": 8,
    "start_time": "2023-04-28T18:34:27.314Z"
   },
   {
    "duration": 30,
    "start_time": "2023-04-28T18:34:28.201Z"
   },
   {
    "duration": 1230,
    "start_time": "2023-04-28T18:34:43.265Z"
   },
   {
    "duration": 245,
    "start_time": "2023-04-28T18:34:44.497Z"
   },
   {
    "duration": 41,
    "start_time": "2023-04-28T18:34:44.745Z"
   },
   {
    "duration": 11,
    "start_time": "2023-04-28T18:34:44.788Z"
   },
   {
    "duration": 569,
    "start_time": "2023-04-28T18:34:44.802Z"
   },
   {
    "duration": 8,
    "start_time": "2023-04-28T18:34:45.373Z"
   },
   {
    "duration": 16,
    "start_time": "2023-04-28T18:34:45.383Z"
   },
   {
    "duration": 57,
    "start_time": "2023-04-28T18:34:45.401Z"
   },
   {
    "duration": 7,
    "start_time": "2023-04-28T18:34:45.459Z"
   },
   {
    "duration": 7,
    "start_time": "2023-04-28T18:35:04.948Z"
   },
   {
    "duration": 15,
    "start_time": "2023-04-28T18:35:08.860Z"
   },
   {
    "duration": 82,
    "start_time": "2023-04-28T18:35:18.311Z"
   },
   {
    "duration": 24,
    "start_time": "2023-04-28T18:35:23.263Z"
   },
   {
    "duration": 28,
    "start_time": "2023-04-28T18:35:29.547Z"
   },
   {
    "duration": 152,
    "start_time": "2023-04-28T18:35:36.529Z"
   },
   {
    "duration": 10,
    "start_time": "2023-04-28T18:35:41.166Z"
   },
   {
    "duration": 202,
    "start_time": "2023-04-28T18:35:41.822Z"
   },
   {
    "duration": 218,
    "start_time": "2023-04-28T18:37:20.776Z"
   },
   {
    "duration": 232,
    "start_time": "2023-04-28T18:37:39.113Z"
   },
   {
    "duration": 205,
    "start_time": "2023-04-28T18:37:57.660Z"
   },
   {
    "duration": 85,
    "start_time": "2023-04-28T18:39:25.204Z"
   },
   {
    "duration": 76,
    "start_time": "2023-04-28T18:40:05.178Z"
   },
   {
    "duration": 73,
    "start_time": "2023-04-28T18:40:24.428Z"
   },
   {
    "duration": 12,
    "start_time": "2023-04-28T18:41:04.318Z"
   },
   {
    "duration": 12,
    "start_time": "2023-04-28T18:41:05.278Z"
   },
   {
    "duration": 12,
    "start_time": "2023-04-28T18:42:10.784Z"
   },
   {
    "duration": 4,
    "start_time": "2023-04-28T18:42:16.065Z"
   },
   {
    "duration": 34,
    "start_time": "2023-04-28T18:42:19.465Z"
   },
   {
    "duration": 72,
    "start_time": "2023-04-28T18:42:20.281Z"
   },
   {
    "duration": 15,
    "start_time": "2023-04-28T18:42:35.286Z"
   },
   {
    "duration": 49,
    "start_time": "2023-04-28T18:42:36.105Z"
   },
   {
    "duration": 98,
    "start_time": "2023-04-28T18:43:04.720Z"
   },
   {
    "duration": 93,
    "start_time": "2023-04-28T18:47:33.976Z"
   },
   {
    "duration": 71,
    "start_time": "2023-04-28T18:52:03.219Z"
   },
   {
    "duration": 71,
    "start_time": "2023-04-28T18:53:06.455Z"
   },
   {
    "duration": 64,
    "start_time": "2023-04-28T18:53:58.422Z"
   },
   {
    "duration": 79,
    "start_time": "2023-04-28T18:54:46.693Z"
   },
   {
    "duration": 76,
    "start_time": "2023-04-28T18:55:13.743Z"
   },
   {
    "duration": 77,
    "start_time": "2023-04-28T18:57:17.804Z"
   },
   {
    "duration": 66,
    "start_time": "2023-04-28T19:01:57.918Z"
   },
   {
    "duration": 1339,
    "start_time": "2023-04-28T19:03:13.775Z"
   },
   {
    "duration": 172,
    "start_time": "2023-04-28T19:03:15.116Z"
   },
   {
    "duration": 52,
    "start_time": "2023-04-28T19:03:15.290Z"
   },
   {
    "duration": 10,
    "start_time": "2023-04-28T19:03:15.345Z"
   },
   {
    "duration": 499,
    "start_time": "2023-04-28T19:03:15.358Z"
   },
   {
    "duration": 6,
    "start_time": "2023-04-28T19:03:15.859Z"
   },
   {
    "duration": 20,
    "start_time": "2023-04-28T19:03:15.867Z"
   },
   {
    "duration": 53,
    "start_time": "2023-04-28T19:03:15.889Z"
   },
   {
    "duration": 4,
    "start_time": "2023-04-28T19:03:15.944Z"
   },
   {
    "duration": 16,
    "start_time": "2023-04-28T19:03:15.950Z"
   },
   {
    "duration": 18,
    "start_time": "2023-04-28T19:03:15.968Z"
   },
   {
    "duration": 110,
    "start_time": "2023-04-28T19:03:15.988Z"
   },
   {
    "duration": 35,
    "start_time": "2023-04-28T19:03:16.100Z"
   },
   {
    "duration": 21,
    "start_time": "2023-04-28T19:03:16.136Z"
   },
   {
    "duration": 171,
    "start_time": "2023-04-28T19:03:16.159Z"
   },
   {
    "duration": 0,
    "start_time": "2023-04-28T19:03:16.334Z"
   },
   {
    "duration": 0,
    "start_time": "2023-04-28T19:03:16.335Z"
   },
   {
    "duration": 0,
    "start_time": "2023-04-28T19:03:16.336Z"
   },
   {
    "duration": 0,
    "start_time": "2023-04-28T19:03:16.337Z"
   },
   {
    "duration": 0,
    "start_time": "2023-04-28T19:03:16.341Z"
   },
   {
    "duration": 0,
    "start_time": "2023-04-28T19:03:16.342Z"
   },
   {
    "duration": 0,
    "start_time": "2023-04-28T19:03:16.343Z"
   },
   {
    "duration": 0,
    "start_time": "2023-04-28T19:03:16.345Z"
   },
   {
    "duration": 0,
    "start_time": "2023-04-28T19:03:16.346Z"
   },
   {
    "duration": 160,
    "start_time": "2023-04-28T19:03:53.132Z"
   },
   {
    "duration": 10,
    "start_time": "2023-04-28T19:03:57.739Z"
   },
   {
    "duration": 196,
    "start_time": "2023-04-28T19:03:58.511Z"
   },
   {
    "duration": 12,
    "start_time": "2023-04-28T19:04:02.213Z"
   },
   {
    "duration": 11,
    "start_time": "2023-04-28T19:04:02.546Z"
   },
   {
    "duration": 4,
    "start_time": "2023-04-28T19:04:07.779Z"
   },
   {
    "duration": 31,
    "start_time": "2023-04-28T19:04:09.564Z"
   },
   {
    "duration": 92,
    "start_time": "2023-04-28T19:04:09.971Z"
   },
   {
    "duration": 15,
    "start_time": "2023-04-28T19:04:14.845Z"
   },
   {
    "duration": 110,
    "start_time": "2023-04-28T19:04:15.236Z"
   },
   {
    "duration": 83,
    "start_time": "2023-04-28T19:04:28.337Z"
   },
   {
    "duration": 90,
    "start_time": "2023-04-28T19:06:50.895Z"
   },
   {
    "duration": 87,
    "start_time": "2023-04-28T19:08:22.296Z"
   },
   {
    "duration": 87,
    "start_time": "2023-04-28T19:09:20.629Z"
   },
   {
    "duration": 6,
    "start_time": "2023-04-28T19:10:12.971Z"
   },
   {
    "duration": 25,
    "start_time": "2023-04-28T19:10:13.451Z"
   },
   {
    "duration": 7,
    "start_time": "2023-04-28T19:10:34.009Z"
   },
   {
    "duration": 25,
    "start_time": "2023-04-28T19:10:35.048Z"
   },
   {
    "duration": 66,
    "start_time": "2023-04-28T19:10:47.025Z"
   },
   {
    "duration": 18,
    "start_time": "2023-04-28T19:10:53.809Z"
   },
   {
    "duration": 18,
    "start_time": "2023-04-28T19:10:58.760Z"
   },
   {
    "duration": 66,
    "start_time": "2023-04-28T19:10:59.723Z"
   },
   {
    "duration": 9,
    "start_time": "2023-04-28T19:11:03.692Z"
   },
   {
    "duration": 185,
    "start_time": "2023-04-28T19:11:04.137Z"
   },
   {
    "duration": 13,
    "start_time": "2023-04-28T19:11:08.300Z"
   },
   {
    "duration": 13,
    "start_time": "2023-04-28T19:11:08.515Z"
   },
   {
    "duration": 11,
    "start_time": "2023-04-28T19:11:46.297Z"
   },
   {
    "duration": 4,
    "start_time": "2023-04-28T19:11:49.784Z"
   },
   {
    "duration": 27,
    "start_time": "2023-04-28T19:11:51.092Z"
   },
   {
    "duration": 70,
    "start_time": "2023-04-28T19:11:51.837Z"
   },
   {
    "duration": 13,
    "start_time": "2023-04-28T19:11:56.523Z"
   },
   {
    "duration": 85,
    "start_time": "2023-04-28T19:11:57.028Z"
   },
   {
    "duration": 8,
    "start_time": "2023-04-28T19:15:44.631Z"
   },
   {
    "duration": 15,
    "start_time": "2023-04-28T19:20:32.741Z"
   },
   {
    "duration": 14,
    "start_time": "2023-04-28T19:20:55.669Z"
   },
   {
    "duration": 18,
    "start_time": "2023-04-28T19:21:07.549Z"
   },
   {
    "duration": 14,
    "start_time": "2023-04-28T19:21:20.000Z"
   },
   {
    "duration": 21,
    "start_time": "2023-04-28T19:21:44.025Z"
   },
   {
    "duration": 17,
    "start_time": "2023-04-28T19:21:55.159Z"
   },
   {
    "duration": 13,
    "start_time": "2023-04-28T19:23:33.255Z"
   },
   {
    "duration": 15,
    "start_time": "2023-04-28T19:23:40.198Z"
   },
   {
    "duration": 6,
    "start_time": "2023-04-28T19:25:32.994Z"
   },
   {
    "duration": 12,
    "start_time": "2023-04-28T19:25:38.046Z"
   },
   {
    "duration": 12,
    "start_time": "2023-04-28T19:26:30.091Z"
   },
   {
    "duration": 15,
    "start_time": "2023-04-28T19:26:45.461Z"
   },
   {
    "duration": 14,
    "start_time": "2023-04-28T19:27:15.907Z"
   },
   {
    "duration": 13,
    "start_time": "2023-04-28T19:28:58.593Z"
   },
   {
    "duration": 12,
    "start_time": "2023-04-28T19:29:04.608Z"
   },
   {
    "duration": 20,
    "start_time": "2023-04-28T19:29:09.805Z"
   },
   {
    "duration": 11,
    "start_time": "2023-04-28T19:30:50.362Z"
   },
   {
    "duration": 28,
    "start_time": "2023-04-28T19:31:31.616Z"
   },
   {
    "duration": 37,
    "start_time": "2023-04-28T19:32:02.249Z"
   },
   {
    "duration": 1143,
    "start_time": "2023-04-28T19:43:51.270Z"
   },
   {
    "duration": 153,
    "start_time": "2023-04-28T19:43:52.416Z"
   },
   {
    "duration": 31,
    "start_time": "2023-04-28T19:43:52.570Z"
   },
   {
    "duration": 9,
    "start_time": "2023-04-28T19:43:52.603Z"
   },
   {
    "duration": 833,
    "start_time": "2023-04-28T19:43:52.614Z"
   },
   {
    "duration": 7,
    "start_time": "2023-04-28T19:43:53.449Z"
   },
   {
    "duration": 6,
    "start_time": "2023-04-28T19:43:53.458Z"
   },
   {
    "duration": 26,
    "start_time": "2023-04-28T19:43:53.466Z"
   },
   {
    "duration": 44,
    "start_time": "2023-04-28T19:43:53.493Z"
   },
   {
    "duration": 11,
    "start_time": "2023-04-28T19:43:53.540Z"
   },
   {
    "duration": 14,
    "start_time": "2023-04-28T19:43:53.553Z"
   },
   {
    "duration": 127,
    "start_time": "2023-04-28T19:43:53.569Z"
   },
   {
    "duration": 18,
    "start_time": "2023-04-28T19:43:53.698Z"
   },
   {
    "duration": 32,
    "start_time": "2023-04-28T19:43:53.718Z"
   },
   {
    "duration": 150,
    "start_time": "2023-04-28T19:43:53.751Z"
   },
   {
    "duration": 9,
    "start_time": "2023-04-28T19:43:53.903Z"
   },
   {
    "duration": 236,
    "start_time": "2023-04-28T19:43:53.914Z"
   },
   {
    "duration": 12,
    "start_time": "2023-04-28T19:43:54.151Z"
   },
   {
    "duration": 16,
    "start_time": "2023-04-28T19:43:54.165Z"
   },
   {
    "duration": 4,
    "start_time": "2023-04-28T19:43:54.183Z"
   },
   {
    "duration": 57,
    "start_time": "2023-04-28T19:43:54.188Z"
   },
   {
    "duration": 70,
    "start_time": "2023-04-28T19:43:54.246Z"
   },
   {
    "duration": 27,
    "start_time": "2023-04-28T19:43:54.318Z"
   },
   {
    "duration": 102,
    "start_time": "2023-04-28T19:43:54.347Z"
   },
   {
    "duration": 4,
    "start_time": "2023-04-28T19:43:54.451Z"
   },
   {
    "duration": 25,
    "start_time": "2023-04-28T19:43:54.457Z"
   },
   {
    "duration": 21,
    "start_time": "2023-04-28T19:45:31.829Z"
   },
   {
    "duration": 20,
    "start_time": "2023-04-28T19:46:36.305Z"
   },
   {
    "duration": 29,
    "start_time": "2023-04-28T19:46:48.118Z"
   },
   {
    "duration": 32,
    "start_time": "2023-04-28T19:48:38.250Z"
   },
   {
    "duration": 16,
    "start_time": "2023-04-28T19:49:57.459Z"
   },
   {
    "duration": 8,
    "start_time": "2023-04-28T19:51:26.730Z"
   },
   {
    "duration": 5,
    "start_time": "2023-04-28T19:51:34.344Z"
   },
   {
    "duration": 140,
    "start_time": "2023-04-28T19:52:04.520Z"
   },
   {
    "duration": 8,
    "start_time": "2023-04-28T19:52:21.515Z"
   },
   {
    "duration": 4,
    "start_time": "2023-04-28T19:53:10.737Z"
   },
   {
    "duration": 7,
    "start_time": "2023-04-28T20:03:08.085Z"
   },
   {
    "duration": 30,
    "start_time": "2023-04-28T20:04:37.231Z"
   },
   {
    "duration": 13,
    "start_time": "2023-04-28T20:05:44.439Z"
   },
   {
    "duration": 15,
    "start_time": "2023-04-28T20:07:39.420Z"
   },
   {
    "duration": 12,
    "start_time": "2023-04-28T20:07:53.877Z"
   },
   {
    "duration": 13,
    "start_time": "2023-04-28T20:08:10.049Z"
   },
   {
    "duration": 21,
    "start_time": "2023-04-28T20:10:13.320Z"
   },
   {
    "duration": 20,
    "start_time": "2023-04-28T20:10:53.384Z"
   },
   {
    "duration": 22,
    "start_time": "2023-04-28T20:11:17.316Z"
   },
   {
    "duration": 21,
    "start_time": "2023-04-28T20:12:28.356Z"
   },
   {
    "duration": 31,
    "start_time": "2023-04-28T20:12:38.057Z"
   },
   {
    "duration": 14,
    "start_time": "2023-04-28T20:13:30.883Z"
   },
   {
    "duration": 16,
    "start_time": "2023-04-28T20:15:09.195Z"
   },
   {
    "duration": 23,
    "start_time": "2023-04-28T20:15:14.161Z"
   },
   {
    "duration": 22,
    "start_time": "2023-04-28T20:15:52.662Z"
   },
   {
    "duration": 25,
    "start_time": "2023-04-28T20:15:59.432Z"
   },
   {
    "duration": 34,
    "start_time": "2023-04-28T20:16:47.229Z"
   },
   {
    "duration": 18,
    "start_time": "2023-04-28T20:17:05.153Z"
   },
   {
    "duration": 24,
    "start_time": "2023-04-28T20:17:20.300Z"
   },
   {
    "duration": 26,
    "start_time": "2023-04-28T20:19:12.111Z"
   },
   {
    "duration": 24,
    "start_time": "2023-04-28T20:19:20.412Z"
   },
   {
    "duration": 35,
    "start_time": "2023-04-28T20:19:52.868Z"
   },
   {
    "duration": 133,
    "start_time": "2023-04-28T20:24:58.208Z"
   },
   {
    "duration": 286,
    "start_time": "2023-04-28T20:25:09.516Z"
   },
   {
    "duration": 393,
    "start_time": "2023-04-28T20:28:57.692Z"
   },
   {
    "duration": 13,
    "start_time": "2023-04-28T20:31:45.337Z"
   },
   {
    "duration": 4,
    "start_time": "2023-04-28T20:32:29.506Z"
   },
   {
    "duration": 22,
    "start_time": "2023-04-28T20:32:45.109Z"
   },
   {
    "duration": 26,
    "start_time": "2023-04-28T20:33:31.908Z"
   },
   {
    "duration": 10,
    "start_time": "2023-04-28T20:33:43.979Z"
   },
   {
    "duration": 16,
    "start_time": "2023-04-28T20:33:52.106Z"
   },
   {
    "duration": 11,
    "start_time": "2023-04-28T20:34:30.832Z"
   },
   {
    "duration": 20,
    "start_time": "2023-04-28T20:34:37.413Z"
   },
   {
    "duration": 39,
    "start_time": "2023-04-28T20:35:05.282Z"
   },
   {
    "duration": 13,
    "start_time": "2023-04-28T20:35:10.264Z"
   },
   {
    "duration": 16,
    "start_time": "2023-04-28T20:35:47.464Z"
   },
   {
    "duration": 18,
    "start_time": "2023-04-28T20:36:59.261Z"
   },
   {
    "duration": 18,
    "start_time": "2023-04-28T20:37:13.843Z"
   },
   {
    "duration": 16,
    "start_time": "2023-04-28T20:37:25.947Z"
   },
   {
    "duration": 407,
    "start_time": "2023-04-28T20:38:54.645Z"
   },
   {
    "duration": 13,
    "start_time": "2023-04-28T20:40:38.432Z"
   },
   {
    "duration": 20,
    "start_time": "2023-04-28T20:40:47.240Z"
   },
   {
    "duration": 15,
    "start_time": "2023-04-28T20:42:20.536Z"
   },
   {
    "duration": 14,
    "start_time": "2023-04-28T20:42:38.438Z"
   },
   {
    "duration": 18,
    "start_time": "2023-04-28T20:44:23.853Z"
   },
   {
    "duration": 19,
    "start_time": "2023-04-28T20:44:31.278Z"
   },
   {
    "duration": 17,
    "start_time": "2023-04-28T20:44:59.268Z"
   },
   {
    "duration": 14,
    "start_time": "2023-04-28T20:50:21.327Z"
   },
   {
    "duration": 15,
    "start_time": "2023-04-28T20:54:20.544Z"
   },
   {
    "duration": 31,
    "start_time": "2023-04-28T21:04:53.930Z"
   },
   {
    "duration": 857,
    "start_time": "2023-04-28T21:06:38.635Z"
   },
   {
    "duration": 519,
    "start_time": "2023-04-28T21:07:18.361Z"
   },
   {
    "duration": 1484,
    "start_time": "2023-05-01T10:41:07.547Z"
   },
   {
    "duration": 202,
    "start_time": "2023-05-01T10:41:09.034Z"
   },
   {
    "duration": 24,
    "start_time": "2023-05-01T10:41:09.238Z"
   },
   {
    "duration": 7,
    "start_time": "2023-05-01T10:41:09.264Z"
   },
   {
    "duration": 471,
    "start_time": "2023-05-01T10:41:09.273Z"
   },
   {
    "duration": 7,
    "start_time": "2023-05-01T10:41:09.746Z"
   },
   {
    "duration": 36,
    "start_time": "2023-05-01T10:41:09.754Z"
   },
   {
    "duration": 43,
    "start_time": "2023-05-01T10:41:09.792Z"
   },
   {
    "duration": 48,
    "start_time": "2023-05-01T10:41:09.837Z"
   },
   {
    "duration": 27,
    "start_time": "2023-05-01T10:41:09.891Z"
   },
   {
    "duration": 23,
    "start_time": "2023-05-01T10:41:09.920Z"
   },
   {
    "duration": 74,
    "start_time": "2023-05-01T10:41:09.944Z"
   },
   {
    "duration": 25,
    "start_time": "2023-05-01T10:41:10.020Z"
   },
   {
    "duration": 43,
    "start_time": "2023-05-01T10:41:10.047Z"
   },
   {
    "duration": 169,
    "start_time": "2023-05-01T10:41:10.098Z"
   },
   {
    "duration": 32,
    "start_time": "2023-05-01T10:41:10.269Z"
   },
   {
    "duration": 249,
    "start_time": "2023-05-01T10:41:10.303Z"
   },
   {
    "duration": 13,
    "start_time": "2023-05-01T10:41:10.554Z"
   },
   {
    "duration": 40,
    "start_time": "2023-05-01T10:41:10.569Z"
   },
   {
    "duration": 20,
    "start_time": "2023-05-01T10:41:10.611Z"
   },
   {
    "duration": 44,
    "start_time": "2023-05-01T10:41:10.633Z"
   },
   {
    "duration": 90,
    "start_time": "2023-05-01T10:41:10.680Z"
   },
   {
    "duration": 27,
    "start_time": "2023-05-01T10:41:10.772Z"
   },
   {
    "duration": 120,
    "start_time": "2023-05-01T10:41:10.801Z"
   },
   {
    "duration": 28,
    "start_time": "2023-05-01T10:41:10.923Z"
   },
   {
    "duration": 40,
    "start_time": "2023-05-01T10:41:10.953Z"
   },
   {
    "duration": 43,
    "start_time": "2023-05-01T10:45:22.627Z"
   },
   {
    "duration": 43,
    "start_time": "2023-05-01T10:45:47.213Z"
   },
   {
    "duration": 53,
    "start_time": "2023-05-01T10:45:59.415Z"
   },
   {
    "duration": 1386,
    "start_time": "2023-05-01T10:46:19.291Z"
   },
   {
    "duration": 194,
    "start_time": "2023-05-01T10:46:20.679Z"
   },
   {
    "duration": 36,
    "start_time": "2023-05-01T10:46:20.875Z"
   },
   {
    "duration": 15,
    "start_time": "2023-05-01T10:46:20.913Z"
   },
   {
    "duration": 570,
    "start_time": "2023-05-01T10:46:20.930Z"
   },
   {
    "duration": 10,
    "start_time": "2023-05-01T10:46:21.502Z"
   },
   {
    "duration": 14,
    "start_time": "2023-05-01T10:46:21.515Z"
   },
   {
    "duration": 76,
    "start_time": "2023-05-01T10:46:21.531Z"
   },
   {
    "duration": 43,
    "start_time": "2023-05-01T10:46:21.613Z"
   },
   {
    "duration": 25,
    "start_time": "2023-05-01T10:46:21.659Z"
   },
   {
    "duration": 40,
    "start_time": "2023-05-01T10:46:21.691Z"
   },
   {
    "duration": 115,
    "start_time": "2023-05-01T10:46:21.734Z"
   },
   {
    "duration": 34,
    "start_time": "2023-05-01T10:46:21.851Z"
   },
   {
    "duration": 29,
    "start_time": "2023-05-01T10:46:21.893Z"
   },
   {
    "duration": 238,
    "start_time": "2023-05-01T10:46:21.924Z"
   },
   {
    "duration": 32,
    "start_time": "2023-05-01T10:46:22.165Z"
   },
   {
    "duration": 330,
    "start_time": "2023-05-01T10:46:22.207Z"
   },
   {
    "duration": 18,
    "start_time": "2023-05-01T10:46:22.539Z"
   },
   {
    "duration": 39,
    "start_time": "2023-05-01T10:46:22.559Z"
   },
   {
    "duration": 18,
    "start_time": "2023-05-01T10:46:22.600Z"
   },
   {
    "duration": 49,
    "start_time": "2023-05-01T10:46:22.621Z"
   },
   {
    "duration": 158,
    "start_time": "2023-05-01T10:46:22.675Z"
   },
   {
    "duration": 19,
    "start_time": "2023-05-01T10:46:22.837Z"
   },
   {
    "duration": 157,
    "start_time": "2023-05-01T10:46:22.858Z"
   },
   {
    "duration": 30,
    "start_time": "2023-05-01T10:46:23.018Z"
   },
   {
    "duration": 76,
    "start_time": "2023-05-01T10:46:23.050Z"
   },
   {
    "duration": 22,
    "start_time": "2023-05-01T10:46:23.128Z"
   },
   {
    "duration": 111,
    "start_time": "2023-05-01T10:47:25.209Z"
   },
   {
    "duration": 28,
    "start_time": "2023-05-01T10:47:51.821Z"
   },
   {
    "duration": 134,
    "start_time": "2023-05-01T10:48:08.808Z"
   },
   {
    "duration": 111,
    "start_time": "2023-05-01T10:48:18.015Z"
   },
   {
    "duration": 101,
    "start_time": "2023-05-01T10:48:24.109Z"
   },
   {
    "duration": 28,
    "start_time": "2023-05-01T10:49:35.228Z"
   },
   {
    "duration": 16,
    "start_time": "2023-05-01T10:49:43.044Z"
   },
   {
    "duration": 6,
    "start_time": "2023-05-01T10:50:25.821Z"
   },
   {
    "duration": 96,
    "start_time": "2023-05-01T10:50:43.304Z"
   },
   {
    "duration": 90,
    "start_time": "2023-05-01T10:53:11.551Z"
   },
   {
    "duration": 71,
    "start_time": "2023-05-01T10:55:28.923Z"
   },
   {
    "duration": 159,
    "start_time": "2023-05-01T10:56:13.712Z"
   },
   {
    "duration": 14,
    "start_time": "2023-05-01T10:58:22.062Z"
   },
   {
    "duration": 108,
    "start_time": "2023-05-01T11:01:03.150Z"
   },
   {
    "duration": 96,
    "start_time": "2023-05-01T11:01:20.134Z"
   },
   {
    "duration": 74,
    "start_time": "2023-05-01T11:01:25.533Z"
   },
   {
    "duration": 112,
    "start_time": "2023-05-01T11:02:10.502Z"
   },
   {
    "duration": 97,
    "start_time": "2023-05-01T11:02:19.256Z"
   },
   {
    "duration": 71,
    "start_time": "2023-05-01T11:02:28.652Z"
   },
   {
    "duration": 112,
    "start_time": "2023-05-01T11:02:43.714Z"
   },
   {
    "duration": 104,
    "start_time": "2023-05-01T11:02:56.502Z"
   },
   {
    "duration": 104,
    "start_time": "2023-05-01T11:03:40.522Z"
   },
   {
    "duration": 76,
    "start_time": "2023-05-01T11:04:32.903Z"
   },
   {
    "duration": 95,
    "start_time": "2023-05-01T11:04:47.124Z"
   },
   {
    "duration": 73,
    "start_time": "2023-05-01T11:04:53.619Z"
   },
   {
    "duration": 78,
    "start_time": "2023-05-01T11:05:04.341Z"
   },
   {
    "duration": 92,
    "start_time": "2023-05-01T11:05:07.589Z"
   },
   {
    "duration": 1372,
    "start_time": "2023-05-01T11:06:11.552Z"
   },
   {
    "duration": 169,
    "start_time": "2023-05-01T11:06:12.926Z"
   },
   {
    "duration": 49,
    "start_time": "2023-05-01T11:06:13.097Z"
   },
   {
    "duration": 12,
    "start_time": "2023-05-01T11:06:13.149Z"
   },
   {
    "duration": 746,
    "start_time": "2023-05-01T11:06:13.164Z"
   },
   {
    "duration": 7,
    "start_time": "2023-05-01T11:06:13.915Z"
   },
   {
    "duration": 7,
    "start_time": "2023-05-01T11:06:13.924Z"
   },
   {
    "duration": 76,
    "start_time": "2023-05-01T11:06:13.934Z"
   },
   {
    "duration": 6,
    "start_time": "2023-05-01T11:06:14.013Z"
   },
   {
    "duration": 27,
    "start_time": "2023-05-01T11:06:14.021Z"
   },
   {
    "duration": 78,
    "start_time": "2023-05-01T11:06:14.050Z"
   },
   {
    "duration": 94,
    "start_time": "2023-05-01T11:06:14.130Z"
   },
   {
    "duration": 18,
    "start_time": "2023-05-01T11:06:14.226Z"
   },
   {
    "duration": 19,
    "start_time": "2023-05-01T11:06:14.247Z"
   },
   {
    "duration": 185,
    "start_time": "2023-05-01T11:06:14.268Z"
   },
   {
    "duration": 11,
    "start_time": "2023-05-01T11:06:14.455Z"
   },
   {
    "duration": 281,
    "start_time": "2023-05-01T11:06:14.468Z"
   },
   {
    "duration": 12,
    "start_time": "2023-05-01T11:06:14.751Z"
   },
   {
    "duration": 62,
    "start_time": "2023-05-01T11:06:14.765Z"
   },
   {
    "duration": 5,
    "start_time": "2023-05-01T11:06:14.830Z"
   },
   {
    "duration": 35,
    "start_time": "2023-05-01T11:06:14.837Z"
   },
   {
    "duration": 106,
    "start_time": "2023-05-01T11:06:14.874Z"
   },
   {
    "duration": 23,
    "start_time": "2023-05-01T11:06:14.982Z"
   },
   {
    "duration": 138,
    "start_time": "2023-05-01T11:06:15.018Z"
   },
   {
    "duration": 18,
    "start_time": "2023-05-01T11:06:15.158Z"
   },
   {
    "duration": 143,
    "start_time": "2023-05-01T11:06:15.177Z"
   },
   {
    "duration": 4,
    "start_time": "2023-05-01T11:06:15.321Z"
   },
   {
    "duration": 15,
    "start_time": "2023-05-01T11:06:50.312Z"
   },
   {
    "duration": 2,
    "start_time": "2023-05-01T11:10:12.233Z"
   },
   {
    "duration": 194,
    "start_time": "2023-05-01T11:19:28.035Z"
   },
   {
    "duration": 5,
    "start_time": "2023-05-01T11:20:13.126Z"
   },
   {
    "duration": 25,
    "start_time": "2023-05-01T11:20:23.734Z"
   },
   {
    "duration": 30,
    "start_time": "2023-05-01T11:21:20.559Z"
   },
   {
    "duration": 21,
    "start_time": "2023-05-01T11:22:06.658Z"
   },
   {
    "duration": 1514,
    "start_time": "2023-05-01T16:37:39.198Z"
   },
   {
    "duration": 179,
    "start_time": "2023-05-01T16:37:40.714Z"
   },
   {
    "duration": 30,
    "start_time": "2023-05-01T16:37:40.895Z"
   },
   {
    "duration": 7,
    "start_time": "2023-05-01T16:37:40.927Z"
   },
   {
    "duration": 493,
    "start_time": "2023-05-01T16:37:40.937Z"
   },
   {
    "duration": 6,
    "start_time": "2023-05-01T16:37:41.432Z"
   },
   {
    "duration": 22,
    "start_time": "2023-05-01T16:37:41.440Z"
   },
   {
    "duration": 29,
    "start_time": "2023-05-01T16:37:41.464Z"
   },
   {
    "duration": 3,
    "start_time": "2023-05-01T16:37:41.495Z"
   },
   {
    "duration": 7,
    "start_time": "2023-05-01T16:37:41.499Z"
   },
   {
    "duration": 23,
    "start_time": "2023-05-01T16:37:41.561Z"
   },
   {
    "duration": 126,
    "start_time": "2023-05-01T16:37:41.586Z"
   },
   {
    "duration": 24,
    "start_time": "2023-05-01T16:37:41.714Z"
   },
   {
    "duration": 39,
    "start_time": "2023-05-01T16:37:41.741Z"
   },
   {
    "duration": 170,
    "start_time": "2023-05-01T16:37:41.782Z"
   },
   {
    "duration": 23,
    "start_time": "2023-05-01T16:37:41.954Z"
   },
   {
    "duration": 236,
    "start_time": "2023-05-01T16:37:41.979Z"
   },
   {
    "duration": 13,
    "start_time": "2023-05-01T16:37:42.216Z"
   },
   {
    "duration": 14,
    "start_time": "2023-05-01T16:37:42.230Z"
   },
   {
    "duration": 30,
    "start_time": "2023-05-01T16:37:42.246Z"
   },
   {
    "duration": 34,
    "start_time": "2023-05-01T16:37:42.279Z"
   },
   {
    "duration": 112,
    "start_time": "2023-05-01T16:37:42.314Z"
   },
   {
    "duration": 39,
    "start_time": "2023-05-01T16:37:42.428Z"
   },
   {
    "duration": 14,
    "start_time": "2023-05-01T16:37:42.472Z"
   },
   {
    "duration": 109,
    "start_time": "2023-05-01T16:37:42.488Z"
   },
   {
    "duration": 24,
    "start_time": "2023-05-01T16:37:42.598Z"
   },
   {
    "duration": 94,
    "start_time": "2023-05-01T16:37:42.624Z"
   },
   {
    "duration": 4,
    "start_time": "2023-05-01T16:37:42.719Z"
   },
   {
    "duration": 202,
    "start_time": "2023-05-01T16:40:15.482Z"
   },
   {
    "duration": 43,
    "start_time": "2023-05-01T16:40:24.602Z"
   },
   {
    "duration": 4,
    "start_time": "2023-05-01T16:46:32.768Z"
   },
   {
    "duration": 46,
    "start_time": "2023-05-01T16:54:26.793Z"
   },
   {
    "duration": 11,
    "start_time": "2023-05-01T16:54:47.103Z"
   },
   {
    "duration": 24,
    "start_time": "2023-05-01T16:56:33.829Z"
   },
   {
    "duration": 16,
    "start_time": "2023-05-01T16:56:42.508Z"
   },
   {
    "duration": 32,
    "start_time": "2023-05-01T17:16:34.225Z"
   },
   {
    "duration": 34,
    "start_time": "2023-05-01T17:16:45.573Z"
   },
   {
    "duration": 47,
    "start_time": "2023-05-01T17:17:10.652Z"
   },
   {
    "duration": 34,
    "start_time": "2023-05-01T17:18:45.472Z"
   },
   {
    "duration": 106,
    "start_time": "2023-05-01T17:19:49.892Z"
   },
   {
    "duration": 34,
    "start_time": "2023-05-01T17:20:03.881Z"
   },
   {
    "duration": 73,
    "start_time": "2023-05-01T17:20:06.950Z"
   },
   {
    "duration": 38,
    "start_time": "2023-05-01T17:20:18.054Z"
   },
   {
    "duration": 75,
    "start_time": "2023-05-01T17:21:53.059Z"
   },
   {
    "duration": 71,
    "start_time": "2023-05-01T17:24:10.072Z"
   },
   {
    "duration": 17,
    "start_time": "2023-05-01T17:49:49.354Z"
   },
   {
    "duration": 17,
    "start_time": "2023-05-01T17:53:04.335Z"
   },
   {
    "duration": 30,
    "start_time": "2023-05-01T17:58:18.859Z"
   },
   {
    "duration": 18,
    "start_time": "2023-05-01T17:59:42.835Z"
   },
   {
    "duration": 7,
    "start_time": "2023-05-01T17:59:49.693Z"
   },
   {
    "duration": 9,
    "start_time": "2023-05-01T17:59:58.210Z"
   },
   {
    "duration": 155,
    "start_time": "2023-05-01T18:21:58.152Z"
   },
   {
    "duration": 152,
    "start_time": "2023-05-01T18:22:20.872Z"
   },
   {
    "duration": 144,
    "start_time": "2023-05-01T18:22:33.148Z"
   },
   {
    "duration": 155,
    "start_time": "2023-05-01T18:22:46.516Z"
   },
   {
    "duration": 17,
    "start_time": "2023-05-01T18:23:18.892Z"
   },
   {
    "duration": 16,
    "start_time": "2023-05-01T18:23:37.103Z"
   },
   {
    "duration": 6,
    "start_time": "2023-05-01T18:52:16.992Z"
   },
   {
    "duration": 8,
    "start_time": "2023-05-01T18:53:42.298Z"
   },
   {
    "duration": 15,
    "start_time": "2023-05-01T18:55:39.451Z"
   },
   {
    "duration": 22,
    "start_time": "2023-05-01T18:55:46.893Z"
   },
   {
    "duration": 16,
    "start_time": "2023-05-01T18:56:06.882Z"
   },
   {
    "duration": 19,
    "start_time": "2023-05-01T18:56:29.700Z"
   },
   {
    "duration": 14,
    "start_time": "2023-05-01T18:56:43.905Z"
   },
   {
    "duration": 16,
    "start_time": "2023-05-01T18:56:56.537Z"
   },
   {
    "duration": 13,
    "start_time": "2023-05-01T18:58:02.688Z"
   },
   {
    "duration": 19,
    "start_time": "2023-05-01T18:58:08.806Z"
   },
   {
    "duration": 19,
    "start_time": "2023-05-01T18:58:30.499Z"
   },
   {
    "duration": 148,
    "start_time": "2023-05-01T19:01:17.457Z"
   },
   {
    "duration": 257,
    "start_time": "2023-05-01T19:02:59.192Z"
   },
   {
    "duration": 147,
    "start_time": "2023-05-01T19:03:21.755Z"
   },
   {
    "duration": 28,
    "start_time": "2023-05-01T19:04:06.760Z"
   },
   {
    "duration": 85,
    "start_time": "2023-05-01T19:05:17.401Z"
   },
   {
    "duration": 74,
    "start_time": "2023-05-01T19:05:28.160Z"
   },
   {
    "duration": 68,
    "start_time": "2023-05-01T19:05:45.463Z"
   },
   {
    "duration": 156,
    "start_time": "2023-05-01T19:05:53.307Z"
   },
   {
    "duration": 308,
    "start_time": "2023-05-01T19:06:58.360Z"
   },
   {
    "duration": 153,
    "start_time": "2023-05-01T19:07:34.801Z"
   },
   {
    "duration": 143,
    "start_time": "2023-05-01T19:08:05.962Z"
   },
   {
    "duration": 749,
    "start_time": "2023-05-01T19:09:30.259Z"
   },
   {
    "duration": 23,
    "start_time": "2023-05-01T19:10:01.310Z"
   },
   {
    "duration": 18,
    "start_time": "2023-05-01T19:10:11.719Z"
   },
   {
    "duration": 731,
    "start_time": "2023-05-01T19:10:16.214Z"
   },
   {
    "duration": 698,
    "start_time": "2023-05-01T19:10:53.503Z"
   },
   {
    "duration": 7,
    "start_time": "2023-05-01T19:11:10.494Z"
   },
   {
    "duration": 16,
    "start_time": "2023-05-01T19:11:23.356Z"
   },
   {
    "duration": 17,
    "start_time": "2023-05-01T19:11:39.511Z"
   },
   {
    "duration": 4,
    "start_time": "2023-05-01T19:12:11.454Z"
   },
   {
    "duration": 4,
    "start_time": "2023-05-01T19:12:22.976Z"
   },
   {
    "duration": 18,
    "start_time": "2023-05-01T19:12:55.606Z"
   },
   {
    "duration": 4,
    "start_time": "2023-05-01T19:12:58.010Z"
   },
   {
    "duration": 13,
    "start_time": "2023-05-01T19:13:45.444Z"
   },
   {
    "duration": 12,
    "start_time": "2023-05-01T19:13:54.005Z"
   },
   {
    "duration": 11,
    "start_time": "2023-05-01T19:15:13.838Z"
   },
   {
    "duration": 12,
    "start_time": "2023-05-01T19:15:21.540Z"
   },
   {
    "duration": 17,
    "start_time": "2023-05-01T19:16:09.766Z"
   },
   {
    "duration": 12,
    "start_time": "2023-05-01T19:16:25.002Z"
   },
   {
    "duration": 16,
    "start_time": "2023-05-01T19:26:01.533Z"
   },
   {
    "duration": 12,
    "start_time": "2023-05-01T19:27:06.038Z"
   },
   {
    "duration": 12,
    "start_time": "2023-05-01T19:27:10.306Z"
   },
   {
    "duration": 12,
    "start_time": "2023-05-01T19:27:31.697Z"
   },
   {
    "duration": 43,
    "start_time": "2023-05-01T19:29:16.956Z"
   },
   {
    "duration": 11,
    "start_time": "2023-05-01T19:30:04.232Z"
   },
   {
    "duration": 148,
    "start_time": "2023-05-01T19:31:34.035Z"
   },
   {
    "duration": 143,
    "start_time": "2023-05-01T19:31:59.017Z"
   },
   {
    "duration": 168,
    "start_time": "2023-05-01T19:32:58.896Z"
   },
   {
    "duration": 12,
    "start_time": "2023-05-01T19:36:56.838Z"
   },
   {
    "duration": 333,
    "start_time": "2023-05-01T19:37:14.805Z"
   },
   {
    "duration": 219,
    "start_time": "2023-05-01T19:37:35.673Z"
   },
   {
    "duration": 148,
    "start_time": "2023-05-01T19:43:05.507Z"
   },
   {
    "duration": 1248,
    "start_time": "2023-05-01T19:48:06.339Z"
   },
   {
    "duration": 147,
    "start_time": "2023-05-01T19:48:07.589Z"
   },
   {
    "duration": 25,
    "start_time": "2023-05-01T19:48:07.739Z"
   },
   {
    "duration": 8,
    "start_time": "2023-05-01T19:48:07.766Z"
   },
   {
    "duration": 456,
    "start_time": "2023-05-01T19:48:07.775Z"
   },
   {
    "duration": 7,
    "start_time": "2023-05-01T19:48:08.233Z"
   },
   {
    "duration": 6,
    "start_time": "2023-05-01T19:48:08.242Z"
   },
   {
    "duration": 10,
    "start_time": "2023-05-01T19:48:08.260Z"
   },
   {
    "duration": 23,
    "start_time": "2023-05-01T19:48:08.271Z"
   },
   {
    "duration": 3,
    "start_time": "2023-05-01T19:48:08.297Z"
   },
   {
    "duration": 59,
    "start_time": "2023-05-01T19:48:08.301Z"
   },
   {
    "duration": 16,
    "start_time": "2023-05-01T19:48:08.362Z"
   },
   {
    "duration": 14,
    "start_time": "2023-05-01T19:48:08.380Z"
   },
   {
    "duration": 111,
    "start_time": "2023-05-01T19:48:08.396Z"
   },
   {
    "duration": 19,
    "start_time": "2023-05-01T19:48:08.509Z"
   },
   {
    "duration": 40,
    "start_time": "2023-05-01T19:48:08.530Z"
   },
   {
    "duration": 152,
    "start_time": "2023-05-01T19:48:08.571Z"
   },
   {
    "duration": 9,
    "start_time": "2023-05-01T19:48:08.725Z"
   },
   {
    "duration": 227,
    "start_time": "2023-05-01T19:48:08.736Z"
   },
   {
    "duration": 12,
    "start_time": "2023-05-01T19:48:08.965Z"
   },
   {
    "duration": 11,
    "start_time": "2023-05-01T19:48:08.979Z"
   },
   {
    "duration": 4,
    "start_time": "2023-05-01T19:48:08.991Z"
   },
   {
    "duration": 101,
    "start_time": "2023-05-01T19:48:08.997Z"
   },
   {
    "duration": 32,
    "start_time": "2023-05-01T19:48:09.100Z"
   },
   {
    "duration": 86,
    "start_time": "2023-05-01T19:48:09.133Z"
   },
   {
    "duration": 14,
    "start_time": "2023-05-01T19:48:09.221Z"
   },
   {
    "duration": 122,
    "start_time": "2023-05-01T19:48:09.237Z"
   },
   {
    "duration": 20,
    "start_time": "2023-05-01T19:48:09.363Z"
   },
   {
    "duration": 90,
    "start_time": "2023-05-01T19:48:09.385Z"
   },
   {
    "duration": 18,
    "start_time": "2023-05-01T19:48:09.477Z"
   },
   {
    "duration": 12,
    "start_time": "2023-05-01T19:48:09.497Z"
   },
   {
    "duration": 223,
    "start_time": "2023-05-01T19:48:09.511Z"
   },
   {
    "duration": 374,
    "start_time": "2023-05-01T19:48:09.736Z"
   },
   {
    "duration": 14,
    "start_time": "2023-05-01T19:48:27.426Z"
   },
   {
    "duration": 12,
    "start_time": "2023-05-01T19:54:01.421Z"
   },
   {
    "duration": 53,
    "start_time": "2023-05-01T19:56:12.465Z"
   },
   {
    "duration": 20,
    "start_time": "2023-05-01T19:56:31.010Z"
   },
   {
    "duration": 20,
    "start_time": "2023-05-01T19:57:06.522Z"
   },
   {
    "duration": 12,
    "start_time": "2023-05-01T19:57:15.230Z"
   },
   {
    "duration": 13,
    "start_time": "2023-05-01T19:57:25.601Z"
   },
   {
    "duration": 156,
    "start_time": "2023-05-01T19:57:32.901Z"
   },
   {
    "duration": 203,
    "start_time": "2023-05-01T19:57:39.585Z"
   },
   {
    "duration": 20,
    "start_time": "2023-05-01T19:57:49.204Z"
   },
   {
    "duration": 18,
    "start_time": "2023-05-01T19:58:00.176Z"
   },
   {
    "duration": 76,
    "start_time": "2023-05-01T19:58:03.425Z"
   },
   {
    "duration": 151,
    "start_time": "2023-05-01T19:58:13.904Z"
   },
   {
    "duration": 190,
    "start_time": "2023-05-01T20:00:00.429Z"
   },
   {
    "duration": 339,
    "start_time": "2023-05-01T20:00:27.378Z"
   },
   {
    "duration": 226,
    "start_time": "2023-05-01T20:00:42.192Z"
   },
   {
    "duration": 19,
    "start_time": "2023-05-01T20:12:07.532Z"
   },
   {
    "duration": 15,
    "start_time": "2023-05-01T20:12:26.590Z"
   },
   {
    "duration": 27,
    "start_time": "2023-05-01T20:12:36.596Z"
   },
   {
    "duration": 15,
    "start_time": "2023-05-01T20:12:54.745Z"
   },
   {
    "duration": 14,
    "start_time": "2023-05-01T20:13:03.782Z"
   },
   {
    "duration": 18,
    "start_time": "2023-05-01T20:13:35.011Z"
   },
   {
    "duration": 20,
    "start_time": "2023-05-01T20:17:17.677Z"
   },
   {
    "duration": 12,
    "start_time": "2023-05-01T20:17:34.945Z"
   },
   {
    "duration": 13,
    "start_time": "2023-05-01T20:17:45.673Z"
   },
   {
    "duration": 12,
    "start_time": "2023-05-01T20:18:33.645Z"
   },
   {
    "duration": 12,
    "start_time": "2023-05-01T20:18:47.513Z"
   },
   {
    "duration": 207,
    "start_time": "2023-05-01T20:19:10.049Z"
   },
   {
    "duration": 194,
    "start_time": "2023-05-01T20:20:09.125Z"
   },
   {
    "duration": 544,
    "start_time": "2023-05-01T20:24:38.684Z"
   },
   {
    "duration": 266,
    "start_time": "2023-05-01T20:25:52.361Z"
   },
   {
    "duration": 243,
    "start_time": "2023-05-01T20:26:00.321Z"
   },
   {
    "duration": 248,
    "start_time": "2023-05-01T20:26:09.907Z"
   },
   {
    "duration": 328,
    "start_time": "2023-05-01T20:26:21.094Z"
   },
   {
    "duration": 228,
    "start_time": "2023-05-01T20:26:40.685Z"
   },
   {
    "duration": 215,
    "start_time": "2023-05-01T20:32:20.260Z"
   },
   {
    "duration": 217,
    "start_time": "2023-05-01T20:32:31.599Z"
   },
   {
    "duration": 237,
    "start_time": "2023-05-01T20:33:10.854Z"
   },
   {
    "duration": 238,
    "start_time": "2023-05-01T20:33:16.998Z"
   },
   {
    "duration": 241,
    "start_time": "2023-05-01T20:33:59.833Z"
   },
   {
    "duration": 338,
    "start_time": "2023-05-01T20:34:05.327Z"
   },
   {
    "duration": 290,
    "start_time": "2023-05-01T20:35:29.458Z"
   },
   {
    "duration": 6,
    "start_time": "2023-05-01T20:36:07.980Z"
   },
   {
    "duration": 191,
    "start_time": "2023-05-01T20:36:54.353Z"
   },
   {
    "duration": 202,
    "start_time": "2023-05-01T20:37:00.745Z"
   },
   {
    "duration": 1530,
    "start_time": "2023-05-02T19:21:30.554Z"
   },
   {
    "duration": 255,
    "start_time": "2023-05-02T19:21:32.087Z"
   },
   {
    "duration": 27,
    "start_time": "2023-05-02T19:21:32.344Z"
   },
   {
    "duration": 8,
    "start_time": "2023-05-02T19:21:32.373Z"
   },
   {
    "duration": 464,
    "start_time": "2023-05-02T19:21:32.394Z"
   },
   {
    "duration": 6,
    "start_time": "2023-05-02T19:21:32.860Z"
   },
   {
    "duration": 10,
    "start_time": "2023-05-02T19:21:32.868Z"
   },
   {
    "duration": 21,
    "start_time": "2023-05-02T19:21:32.880Z"
   },
   {
    "duration": 33,
    "start_time": "2023-05-02T19:21:32.902Z"
   },
   {
    "duration": 5,
    "start_time": "2023-05-02T19:21:32.936Z"
   },
   {
    "duration": 55,
    "start_time": "2023-05-02T19:21:32.943Z"
   },
   {
    "duration": 36,
    "start_time": "2023-05-02T19:21:33.004Z"
   },
   {
    "duration": 25,
    "start_time": "2023-05-02T19:21:33.042Z"
   },
   {
    "duration": 78,
    "start_time": "2023-05-02T19:21:33.071Z"
   },
   {
    "duration": 20,
    "start_time": "2023-05-02T19:21:33.151Z"
   },
   {
    "duration": 28,
    "start_time": "2023-05-02T19:21:33.194Z"
   },
   {
    "duration": 152,
    "start_time": "2023-05-02T19:21:33.225Z"
   },
   {
    "duration": 26,
    "start_time": "2023-05-02T19:21:33.378Z"
   },
   {
    "duration": 221,
    "start_time": "2023-05-02T19:21:33.406Z"
   },
   {
    "duration": 12,
    "start_time": "2023-05-02T19:21:33.629Z"
   },
   {
    "duration": 12,
    "start_time": "2023-05-02T19:21:33.643Z"
   },
   {
    "duration": 8,
    "start_time": "2023-05-02T19:21:33.656Z"
   },
   {
    "duration": 104,
    "start_time": "2023-05-02T19:21:33.665Z"
   },
   {
    "duration": 42,
    "start_time": "2023-05-02T19:21:33.770Z"
   },
   {
    "duration": 95,
    "start_time": "2023-05-02T19:21:33.813Z"
   },
   {
    "duration": 15,
    "start_time": "2023-05-02T19:21:33.910Z"
   },
   {
    "duration": 126,
    "start_time": "2023-05-02T19:21:33.927Z"
   },
   {
    "duration": 21,
    "start_time": "2023-05-02T19:21:34.054Z"
   },
   {
    "duration": 135,
    "start_time": "2023-05-02T19:21:34.076Z"
   },
   {
    "duration": 13,
    "start_time": "2023-05-02T19:21:34.213Z"
   },
   {
    "duration": 25,
    "start_time": "2023-05-02T19:21:34.228Z"
   },
   {
    "duration": 17,
    "start_time": "2023-05-02T19:21:34.255Z"
   },
   {
    "duration": 180,
    "start_time": "2023-05-02T19:21:34.274Z"
   },
   {
    "duration": 305,
    "start_time": "2023-05-02T19:21:34.456Z"
   },
   {
    "duration": 8,
    "start_time": "2023-05-02T19:21:34.763Z"
   },
   {
    "duration": 239,
    "start_time": "2023-05-02T19:21:34.798Z"
   },
   {
    "duration": 283,
    "start_time": "2023-05-02T19:21:35.039Z"
   },
   {
    "duration": 19,
    "start_time": "2023-05-02T19:23:35.751Z"
   },
   {
    "duration": 5,
    "start_time": "2023-05-02T19:26:00.574Z"
   },
   {
    "duration": 4,
    "start_time": "2023-05-02T19:26:59.354Z"
   },
   {
    "duration": 3,
    "start_time": "2023-05-02T19:27:48.025Z"
   },
   {
    "duration": 59,
    "start_time": "2023-05-02T19:31:38.284Z"
   },
   {
    "duration": 162,
    "start_time": "2023-05-02T19:32:57.706Z"
   },
   {
    "duration": 46,
    "start_time": "2023-05-02T19:43:25.359Z"
   },
   {
    "duration": 32,
    "start_time": "2023-05-02T19:43:44.897Z"
   },
   {
    "duration": 6,
    "start_time": "2023-05-02T19:43:58.110Z"
   },
   {
    "duration": 33,
    "start_time": "2023-05-02T19:44:18.971Z"
   },
   {
    "duration": 82,
    "start_time": "2023-05-02T19:45:13.021Z"
   },
   {
    "duration": 19,
    "start_time": "2023-05-02T19:45:25.488Z"
   },
   {
    "duration": 13,
    "start_time": "2023-05-02T19:45:43.363Z"
   },
   {
    "duration": 1391,
    "start_time": "2023-05-02T20:07:29.121Z"
   },
   {
    "duration": 320,
    "start_time": "2023-05-02T20:07:30.514Z"
   },
   {
    "duration": 30,
    "start_time": "2023-05-02T20:07:30.836Z"
   },
   {
    "duration": 10,
    "start_time": "2023-05-02T20:07:30.868Z"
   },
   {
    "duration": 543,
    "start_time": "2023-05-02T20:07:30.881Z"
   },
   {
    "duration": 6,
    "start_time": "2023-05-02T20:07:31.427Z"
   },
   {
    "duration": 43,
    "start_time": "2023-05-02T20:07:31.434Z"
   },
   {
    "duration": 38,
    "start_time": "2023-05-02T20:07:31.479Z"
   },
   {
    "duration": 47,
    "start_time": "2023-05-02T20:07:31.519Z"
   },
   {
    "duration": 13,
    "start_time": "2023-05-02T20:07:31.568Z"
   },
   {
    "duration": 46,
    "start_time": "2023-05-02T20:07:31.582Z"
   },
   {
    "duration": 44,
    "start_time": "2023-05-02T20:07:31.629Z"
   },
   {
    "duration": 48,
    "start_time": "2023-05-02T20:07:31.675Z"
   },
   {
    "duration": 96,
    "start_time": "2023-05-02T20:07:31.727Z"
   },
   {
    "duration": 28,
    "start_time": "2023-05-02T20:07:31.826Z"
   },
   {
    "duration": 43,
    "start_time": "2023-05-02T20:07:31.856Z"
   },
   {
    "duration": 188,
    "start_time": "2023-05-02T20:07:31.901Z"
   },
   {
    "duration": 11,
    "start_time": "2023-05-02T20:07:32.093Z"
   },
   {
    "duration": 276,
    "start_time": "2023-05-02T20:07:32.106Z"
   },
   {
    "duration": 19,
    "start_time": "2023-05-02T20:07:32.384Z"
   },
   {
    "duration": 25,
    "start_time": "2023-05-02T20:07:32.405Z"
   },
   {
    "duration": 15,
    "start_time": "2023-05-02T20:07:32.432Z"
   },
   {
    "duration": 90,
    "start_time": "2023-05-02T20:07:32.451Z"
   },
   {
    "duration": 37,
    "start_time": "2023-05-02T20:07:32.543Z"
   },
   {
    "duration": 99,
    "start_time": "2023-05-02T20:07:32.582Z"
   },
   {
    "duration": 22,
    "start_time": "2023-05-02T20:07:32.693Z"
   },
   {
    "duration": 120,
    "start_time": "2023-05-02T20:07:32.717Z"
   },
   {
    "duration": 22,
    "start_time": "2023-05-02T20:07:32.841Z"
   },
   {
    "duration": 104,
    "start_time": "2023-05-02T20:07:32.865Z"
   },
   {
    "duration": 35,
    "start_time": "2023-05-02T20:07:32.972Z"
   },
   {
    "duration": 15,
    "start_time": "2023-05-02T20:07:33.009Z"
   },
   {
    "duration": 14,
    "start_time": "2023-05-02T20:07:33.027Z"
   },
   {
    "duration": 194,
    "start_time": "2023-05-02T20:07:33.043Z"
   },
   {
    "duration": 396,
    "start_time": "2023-05-02T20:07:33.240Z"
   },
   {
    "duration": 9,
    "start_time": "2023-05-02T20:07:33.639Z"
   },
   {
    "duration": 323,
    "start_time": "2023-05-02T20:07:33.650Z"
   },
   {
    "duration": 297,
    "start_time": "2023-05-02T20:07:33.975Z"
   },
   {
    "duration": 32,
    "start_time": "2023-05-02T20:07:34.274Z"
   },
   {
    "duration": 9,
    "start_time": "2023-05-02T20:07:34.314Z"
   },
   {
    "duration": 103,
    "start_time": "2023-05-02T20:07:34.325Z"
   },
   {
    "duration": 168,
    "start_time": "2023-05-02T20:08:54.223Z"
   },
   {
    "duration": 20,
    "start_time": "2023-05-02T20:14:10.879Z"
   },
   {
    "duration": 20,
    "start_time": "2023-05-02T20:14:35.672Z"
   },
   {
    "duration": 20,
    "start_time": "2023-05-02T20:14:48.124Z"
   },
   {
    "duration": 205,
    "start_time": "2023-05-02T20:16:53.873Z"
   },
   {
    "duration": 21,
    "start_time": "2023-05-02T20:17:21.652Z"
   },
   {
    "duration": 34,
    "start_time": "2023-05-02T20:17:38.988Z"
   },
   {
    "duration": 22,
    "start_time": "2023-05-02T20:17:43.519Z"
   },
   {
    "duration": 10,
    "start_time": "2023-05-02T20:18:07.086Z"
   },
   {
    "duration": 31,
    "start_time": "2023-05-02T20:18:44.562Z"
   },
   {
    "duration": 28,
    "start_time": "2023-05-02T20:19:25.888Z"
   },
   {
    "duration": 8,
    "start_time": "2023-05-02T20:19:29.763Z"
   },
   {
    "duration": 15,
    "start_time": "2023-05-02T20:19:35.271Z"
   },
   {
    "duration": 34,
    "start_time": "2023-05-02T20:20:28.148Z"
   },
   {
    "duration": 14,
    "start_time": "2023-05-02T20:21:21.427Z"
   },
   {
    "duration": 12,
    "start_time": "2023-05-02T20:22:40.745Z"
   },
   {
    "duration": 35,
    "start_time": "2023-05-02T20:25:45.272Z"
   },
   {
    "duration": 10,
    "start_time": "2023-05-02T20:25:49.488Z"
   },
   {
    "duration": 28,
    "start_time": "2023-05-02T20:25:51.883Z"
   },
   {
    "duration": 19,
    "start_time": "2023-05-02T20:26:42.486Z"
   },
   {
    "duration": 15,
    "start_time": "2023-05-02T20:28:49.032Z"
   },
   {
    "duration": 57,
    "start_time": "2023-05-02T20:29:41.408Z"
   },
   {
    "duration": 17,
    "start_time": "2023-05-02T20:30:03.648Z"
   },
   {
    "duration": 15,
    "start_time": "2023-05-02T20:31:06.492Z"
   },
   {
    "duration": 17,
    "start_time": "2023-05-02T20:31:12.275Z"
   },
   {
    "duration": 16,
    "start_time": "2023-05-02T20:31:17.676Z"
   },
   {
    "duration": 16,
    "start_time": "2023-05-02T20:31:22.831Z"
   },
   {
    "duration": 16,
    "start_time": "2023-05-02T20:31:27.722Z"
   },
   {
    "duration": 201,
    "start_time": "2023-05-02T20:39:40.906Z"
   },
   {
    "duration": 122,
    "start_time": "2023-05-02T20:40:30.018Z"
   },
   {
    "duration": 209,
    "start_time": "2023-05-02T20:42:01.607Z"
   },
   {
    "duration": 12,
    "start_time": "2023-05-02T20:43:02.118Z"
   },
   {
    "duration": 7,
    "start_time": "2023-05-02T20:43:09.563Z"
   },
   {
    "duration": 11,
    "start_time": "2023-05-02T20:43:21.411Z"
   },
   {
    "duration": 7,
    "start_time": "2023-05-02T20:43:35.914Z"
   },
   {
    "duration": 119,
    "start_time": "2023-05-02T20:43:38.034Z"
   },
   {
    "duration": 1778,
    "start_time": "2023-05-03T18:51:16.165Z"
   },
   {
    "duration": 217,
    "start_time": "2023-05-03T18:51:17.945Z"
   },
   {
    "duration": 30,
    "start_time": "2023-05-03T18:51:18.164Z"
   },
   {
    "duration": 9,
    "start_time": "2023-05-03T18:51:18.196Z"
   },
   {
    "duration": 649,
    "start_time": "2023-05-03T18:51:18.207Z"
   },
   {
    "duration": 11,
    "start_time": "2023-05-03T18:51:18.859Z"
   },
   {
    "duration": 27,
    "start_time": "2023-05-03T18:51:18.871Z"
   },
   {
    "duration": 51,
    "start_time": "2023-05-03T18:51:18.901Z"
   },
   {
    "duration": 33,
    "start_time": "2023-05-03T18:51:18.955Z"
   },
   {
    "duration": 4,
    "start_time": "2023-05-03T18:51:19.041Z"
   },
   {
    "duration": 12,
    "start_time": "2023-05-03T18:51:19.047Z"
   },
   {
    "duration": 24,
    "start_time": "2023-05-03T18:51:19.061Z"
   },
   {
    "duration": 14,
    "start_time": "2023-05-03T18:51:19.087Z"
   },
   {
    "duration": 110,
    "start_time": "2023-05-03T18:51:19.104Z"
   },
   {
    "duration": 37,
    "start_time": "2023-05-03T18:51:19.216Z"
   },
   {
    "duration": 27,
    "start_time": "2023-05-03T18:51:19.255Z"
   },
   {
    "duration": 99,
    "start_time": "2023-05-03T18:51:19.284Z"
   },
   {
    "duration": 11,
    "start_time": "2023-05-03T18:51:19.384Z"
   },
   {
    "duration": 262,
    "start_time": "2023-05-03T18:51:19.397Z"
   },
   {
    "duration": 14,
    "start_time": "2023-05-03T18:51:19.661Z"
   },
   {
    "duration": 100,
    "start_time": "2023-05-03T18:51:19.677Z"
   },
   {
    "duration": 21,
    "start_time": "2023-05-03T18:51:19.779Z"
   },
   {
    "duration": 102,
    "start_time": "2023-05-03T18:51:19.802Z"
   },
   {
    "duration": 51,
    "start_time": "2023-05-03T18:51:19.907Z"
   },
   {
    "duration": 94,
    "start_time": "2023-05-03T18:51:19.960Z"
   },
   {
    "duration": 16,
    "start_time": "2023-05-03T18:51:20.056Z"
   },
   {
    "duration": 115,
    "start_time": "2023-05-03T18:51:20.075Z"
   },
   {
    "duration": 24,
    "start_time": "2023-05-03T18:51:20.193Z"
   },
   {
    "duration": 101,
    "start_time": "2023-05-03T18:51:20.219Z"
   },
   {
    "duration": 27,
    "start_time": "2023-05-03T18:51:20.322Z"
   },
   {
    "duration": 59,
    "start_time": "2023-05-03T18:51:20.351Z"
   },
   {
    "duration": 67,
    "start_time": "2023-05-03T18:51:20.412Z"
   },
   {
    "duration": 195,
    "start_time": "2023-05-03T18:51:20.481Z"
   },
   {
    "duration": 335,
    "start_time": "2023-05-03T18:51:20.679Z"
   },
   {
    "duration": 24,
    "start_time": "2023-05-03T18:51:21.017Z"
   },
   {
    "duration": 317,
    "start_time": "2023-05-03T18:51:21.043Z"
   },
   {
    "duration": 279,
    "start_time": "2023-05-03T18:51:21.362Z"
   },
   {
    "duration": 8,
    "start_time": "2023-05-03T18:51:21.643Z"
   },
   {
    "duration": 326,
    "start_time": "2023-05-03T18:51:21.653Z"
   },
   {
    "duration": 21,
    "start_time": "2023-05-03T18:51:21.981Z"
   },
   {
    "duration": 40,
    "start_time": "2023-05-03T18:51:22.006Z"
   },
   {
    "duration": 97,
    "start_time": "2023-05-03T18:51:22.048Z"
   },
   {
    "duration": 179,
    "start_time": "2023-05-03T18:51:22.147Z"
   },
   {
    "duration": 24,
    "start_time": "2023-05-03T18:51:22.329Z"
   },
   {
    "duration": 36,
    "start_time": "2023-05-03T18:51:22.355Z"
   },
   {
    "duration": 28,
    "start_time": "2023-05-03T18:51:22.393Z"
   },
   {
    "duration": 1632,
    "start_time": "2023-05-04T17:55:05.682Z"
   },
   {
    "duration": 209,
    "start_time": "2023-05-04T17:55:07.316Z"
   },
   {
    "duration": 27,
    "start_time": "2023-05-04T17:55:07.527Z"
   },
   {
    "duration": 15,
    "start_time": "2023-05-04T17:55:07.556Z"
   },
   {
    "duration": 521,
    "start_time": "2023-05-04T17:55:07.573Z"
   },
   {
    "duration": 7,
    "start_time": "2023-05-04T17:55:08.095Z"
   },
   {
    "duration": 9,
    "start_time": "2023-05-04T17:55:08.104Z"
   },
   {
    "duration": 73,
    "start_time": "2023-05-04T17:55:08.115Z"
   },
   {
    "duration": 27,
    "start_time": "2023-05-04T17:55:08.189Z"
   },
   {
    "duration": 3,
    "start_time": "2023-05-04T17:55:08.219Z"
   },
   {
    "duration": 8,
    "start_time": "2023-05-04T17:55:08.223Z"
   },
   {
    "duration": 73,
    "start_time": "2023-05-04T17:55:08.232Z"
   },
   {
    "duration": 14,
    "start_time": "2023-05-04T17:55:08.307Z"
   },
   {
    "duration": 95,
    "start_time": "2023-05-04T17:55:08.324Z"
   },
   {
    "duration": 19,
    "start_time": "2023-05-04T17:55:08.421Z"
   },
   {
    "duration": 46,
    "start_time": "2023-05-04T17:55:08.442Z"
   },
   {
    "duration": 71,
    "start_time": "2023-05-04T17:55:08.490Z"
   },
   {
    "duration": 29,
    "start_time": "2023-05-04T17:55:08.563Z"
   },
   {
    "duration": 220,
    "start_time": "2023-05-04T17:55:08.594Z"
   },
   {
    "duration": 13,
    "start_time": "2023-05-04T17:55:08.815Z"
   },
   {
    "duration": 14,
    "start_time": "2023-05-04T17:55:08.830Z"
   },
   {
    "duration": 3,
    "start_time": "2023-05-04T17:55:08.846Z"
   },
   {
    "duration": 104,
    "start_time": "2023-05-04T17:55:08.851Z"
   },
   {
    "duration": 52,
    "start_time": "2023-05-04T17:55:08.957Z"
   },
   {
    "duration": 109,
    "start_time": "2023-05-04T17:55:09.011Z"
   },
   {
    "duration": 13,
    "start_time": "2023-05-04T17:55:09.122Z"
   },
   {
    "duration": 103,
    "start_time": "2023-05-04T17:55:09.137Z"
   },
   {
    "duration": 19,
    "start_time": "2023-05-04T17:55:09.243Z"
   },
   {
    "duration": 105,
    "start_time": "2023-05-04T17:55:09.264Z"
   },
   {
    "duration": 19,
    "start_time": "2023-05-04T17:55:09.371Z"
   },
   {
    "duration": 18,
    "start_time": "2023-05-04T17:55:09.392Z"
   },
   {
    "duration": 13,
    "start_time": "2023-05-04T17:55:09.412Z"
   },
   {
    "duration": 166,
    "start_time": "2023-05-04T17:55:09.426Z"
   },
   {
    "duration": 342,
    "start_time": "2023-05-04T17:55:09.594Z"
   },
   {
    "duration": 9,
    "start_time": "2023-05-04T17:55:09.938Z"
   },
   {
    "duration": 275,
    "start_time": "2023-05-04T17:55:09.949Z"
   },
   {
    "duration": 261,
    "start_time": "2023-05-04T17:55:10.225Z"
   },
   {
    "duration": 7,
    "start_time": "2023-05-04T17:55:10.488Z"
   },
   {
    "duration": 296,
    "start_time": "2023-05-04T17:55:10.496Z"
   },
   {
    "duration": 15,
    "start_time": "2023-05-04T17:55:10.794Z"
   },
   {
    "duration": 8,
    "start_time": "2023-05-04T17:55:10.811Z"
   },
   {
    "duration": 110,
    "start_time": "2023-05-04T17:55:10.821Z"
   },
   {
    "duration": 161,
    "start_time": "2023-05-04T17:55:10.933Z"
   },
   {
    "duration": 18,
    "start_time": "2023-05-04T17:55:11.096Z"
   },
   {
    "duration": 6,
    "start_time": "2023-05-04T17:55:11.116Z"
   },
   {
    "duration": 12,
    "start_time": "2023-05-04T17:55:11.123Z"
   },
   {
    "duration": 12,
    "start_time": "2023-05-04T18:01:08.430Z"
   },
   {
    "duration": 11,
    "start_time": "2023-05-04T19:35:55.633Z"
   },
   {
    "duration": 15,
    "start_time": "2023-05-04T19:36:57.096Z"
   },
   {
    "duration": 1457,
    "start_time": "2023-05-04T19:37:09.461Z"
   },
   {
    "duration": 416,
    "start_time": "2023-05-04T19:37:10.920Z"
   },
   {
    "duration": 27,
    "start_time": "2023-05-04T19:37:11.338Z"
   },
   {
    "duration": 8,
    "start_time": "2023-05-04T19:37:11.367Z"
   },
   {
    "duration": 529,
    "start_time": "2023-05-04T19:37:11.377Z"
   },
   {
    "duration": 8,
    "start_time": "2023-05-04T19:37:11.908Z"
   },
   {
    "duration": 10,
    "start_time": "2023-05-04T19:37:11.918Z"
   },
   {
    "duration": 19,
    "start_time": "2023-05-04T19:37:11.930Z"
   },
   {
    "duration": 50,
    "start_time": "2023-05-04T19:37:11.950Z"
   },
   {
    "duration": 3,
    "start_time": "2023-05-04T19:37:12.002Z"
   },
   {
    "duration": 10,
    "start_time": "2023-05-04T19:37:12.007Z"
   },
   {
    "duration": 68,
    "start_time": "2023-05-04T19:37:12.019Z"
   },
   {
    "duration": 13,
    "start_time": "2023-05-04T19:37:12.089Z"
   },
   {
    "duration": 97,
    "start_time": "2023-05-04T19:37:12.105Z"
   },
   {
    "duration": 21,
    "start_time": "2023-05-04T19:37:12.204Z"
   },
   {
    "duration": 20,
    "start_time": "2023-05-04T19:37:12.227Z"
   },
   {
    "duration": 104,
    "start_time": "2023-05-04T19:37:12.249Z"
   },
   {
    "duration": 33,
    "start_time": "2023-05-04T19:37:12.355Z"
   },
   {
    "duration": 240,
    "start_time": "2023-05-04T19:37:12.390Z"
   },
   {
    "duration": 13,
    "start_time": "2023-05-04T19:37:12.632Z"
   },
   {
    "duration": 12,
    "start_time": "2023-05-04T19:37:12.647Z"
   },
   {
    "duration": 25,
    "start_time": "2023-05-04T19:37:12.661Z"
   },
   {
    "duration": 75,
    "start_time": "2023-05-04T19:37:12.688Z"
   },
   {
    "duration": 50,
    "start_time": "2023-05-04T19:37:12.764Z"
   },
   {
    "duration": 82,
    "start_time": "2023-05-04T19:37:12.816Z"
   },
   {
    "duration": 14,
    "start_time": "2023-05-04T19:37:12.900Z"
   },
   {
    "duration": 113,
    "start_time": "2023-05-04T19:37:12.916Z"
   },
   {
    "duration": 22,
    "start_time": "2023-05-04T19:37:13.031Z"
   },
   {
    "duration": 93,
    "start_time": "2023-05-04T19:37:13.054Z"
   },
   {
    "duration": 15,
    "start_time": "2023-05-04T19:37:13.149Z"
   },
   {
    "duration": 32,
    "start_time": "2023-05-04T19:37:13.165Z"
   },
   {
    "duration": 16,
    "start_time": "2023-05-04T19:37:13.199Z"
   },
   {
    "duration": 185,
    "start_time": "2023-05-04T19:37:13.217Z"
   },
   {
    "duration": 301,
    "start_time": "2023-05-04T19:37:13.404Z"
   },
   {
    "duration": 8,
    "start_time": "2023-05-04T19:37:13.707Z"
   },
   {
    "duration": 280,
    "start_time": "2023-05-04T19:37:13.717Z"
   },
   {
    "duration": 370,
    "start_time": "2023-05-04T19:37:13.999Z"
   },
   {
    "duration": 21,
    "start_time": "2023-05-04T19:37:14.371Z"
   },
   {
    "duration": 232,
    "start_time": "2023-05-04T19:37:14.395Z"
   },
   {
    "duration": 15,
    "start_time": "2023-05-04T19:37:14.628Z"
   },
   {
    "duration": 8,
    "start_time": "2023-05-04T19:37:14.647Z"
   },
   {
    "duration": 104,
    "start_time": "2023-05-04T19:37:14.656Z"
   },
   {
    "duration": 169,
    "start_time": "2023-05-04T19:37:14.762Z"
   },
   {
    "duration": 16,
    "start_time": "2023-05-04T19:37:14.932Z"
   },
   {
    "duration": 6,
    "start_time": "2023-05-04T19:37:14.950Z"
   },
   {
    "duration": 39,
    "start_time": "2023-05-04T19:37:14.958Z"
   },
   {
    "duration": 24,
    "start_time": "2023-05-04T19:37:15.000Z"
   },
   {
    "duration": 16,
    "start_time": "2023-05-04T19:38:34.440Z"
   },
   {
    "duration": 117,
    "start_time": "2023-05-04T19:40:28.290Z"
   },
   {
    "duration": 9,
    "start_time": "2023-05-04T19:41:29.362Z"
   },
   {
    "duration": 1733,
    "start_time": "2023-05-04T20:23:24.002Z"
   },
   {
    "duration": 231,
    "start_time": "2023-05-04T20:23:25.737Z"
   },
   {
    "duration": 33,
    "start_time": "2023-05-04T20:23:25.970Z"
   },
   {
    "duration": 11,
    "start_time": "2023-05-04T20:23:26.006Z"
   },
   {
    "duration": 561,
    "start_time": "2023-05-04T20:23:26.019Z"
   },
   {
    "duration": 15,
    "start_time": "2023-05-04T20:23:26.582Z"
   },
   {
    "duration": 24,
    "start_time": "2023-05-04T20:23:26.600Z"
   },
   {
    "duration": 61,
    "start_time": "2023-05-04T20:23:26.625Z"
   },
   {
    "duration": 39,
    "start_time": "2023-05-04T20:23:26.689Z"
   },
   {
    "duration": 3,
    "start_time": "2023-05-04T20:23:26.730Z"
   },
   {
    "duration": 60,
    "start_time": "2023-05-04T20:23:26.734Z"
   },
   {
    "duration": 23,
    "start_time": "2023-05-04T20:23:26.803Z"
   },
   {
    "duration": 13,
    "start_time": "2023-05-04T20:23:26.828Z"
   },
   {
    "duration": 112,
    "start_time": "2023-05-04T20:23:26.845Z"
   },
   {
    "duration": 38,
    "start_time": "2023-05-04T20:23:26.959Z"
   },
   {
    "duration": 24,
    "start_time": "2023-05-04T20:23:27.000Z"
   },
   {
    "duration": 116,
    "start_time": "2023-05-04T20:23:27.025Z"
   },
   {
    "duration": 10,
    "start_time": "2023-05-04T20:23:27.143Z"
   },
   {
    "duration": 276,
    "start_time": "2023-05-04T20:23:27.155Z"
   },
   {
    "duration": 12,
    "start_time": "2023-05-04T20:23:27.433Z"
   },
   {
    "duration": 18,
    "start_time": "2023-05-04T20:23:27.447Z"
   },
   {
    "duration": 5,
    "start_time": "2023-05-04T20:23:27.466Z"
   },
   {
    "duration": 96,
    "start_time": "2023-05-04T20:23:27.493Z"
   },
   {
    "duration": 50,
    "start_time": "2023-05-04T20:23:27.592Z"
   },
   {
    "duration": 96,
    "start_time": "2023-05-04T20:23:27.643Z"
   },
   {
    "duration": 13,
    "start_time": "2023-05-04T20:23:27.740Z"
   },
   {
    "duration": 108,
    "start_time": "2023-05-04T20:23:27.754Z"
   },
   {
    "duration": 36,
    "start_time": "2023-05-04T20:23:27.864Z"
   },
   {
    "duration": 75,
    "start_time": "2023-05-04T20:23:27.903Z"
   },
   {
    "duration": 28,
    "start_time": "2023-05-04T20:23:27.988Z"
   },
   {
    "duration": 12,
    "start_time": "2023-05-04T20:23:28.019Z"
   },
   {
    "duration": 26,
    "start_time": "2023-05-04T20:23:28.032Z"
   },
   {
    "duration": 206,
    "start_time": "2023-05-04T20:23:28.060Z"
   },
   {
    "duration": 381,
    "start_time": "2023-05-04T20:23:28.270Z"
   },
   {
    "duration": 9,
    "start_time": "2023-05-04T20:23:28.653Z"
   },
   {
    "duration": 333,
    "start_time": "2023-05-04T20:23:28.689Z"
   },
   {
    "duration": 306,
    "start_time": "2023-05-04T20:23:29.024Z"
   },
   {
    "duration": 12,
    "start_time": "2023-05-04T20:23:29.332Z"
   },
   {
    "duration": 236,
    "start_time": "2023-05-04T20:23:29.346Z"
   },
   {
    "duration": 68,
    "start_time": "2023-05-04T20:23:29.584Z"
   },
   {
    "duration": 0,
    "start_time": "2023-05-04T20:23:29.653Z"
   },
   {
    "duration": 0,
    "start_time": "2023-05-04T20:23:29.655Z"
   },
   {
    "duration": 0,
    "start_time": "2023-05-04T20:23:29.657Z"
   },
   {
    "duration": 0,
    "start_time": "2023-05-04T20:23:29.658Z"
   },
   {
    "duration": 0,
    "start_time": "2023-05-04T20:23:29.659Z"
   },
   {
    "duration": 0,
    "start_time": "2023-05-04T20:23:29.661Z"
   },
   {
    "duration": 0,
    "start_time": "2023-05-04T20:23:29.662Z"
   },
   {
    "duration": 0,
    "start_time": "2023-05-04T20:23:29.664Z"
   },
   {
    "duration": 0,
    "start_time": "2023-05-04T20:23:29.665Z"
   },
   {
    "duration": 43,
    "start_time": "2023-05-04T20:24:20.806Z"
   },
   {
    "duration": 6,
    "start_time": "2023-05-04T20:24:25.744Z"
   },
   {
    "duration": 1318,
    "start_time": "2023-05-04T20:25:18.772Z"
   },
   {
    "duration": 1682,
    "start_time": "2023-05-04T20:25:48.826Z"
   },
   {
    "duration": 234,
    "start_time": "2023-05-04T20:25:50.511Z"
   },
   {
    "duration": 26,
    "start_time": "2023-05-04T20:25:50.747Z"
   },
   {
    "duration": 23,
    "start_time": "2023-05-04T20:25:50.776Z"
   },
   {
    "duration": 615,
    "start_time": "2023-05-04T20:25:50.802Z"
   },
   {
    "duration": 7,
    "start_time": "2023-05-04T20:25:51.421Z"
   },
   {
    "duration": 20,
    "start_time": "2023-05-04T20:25:51.431Z"
   },
   {
    "duration": 51,
    "start_time": "2023-05-04T20:25:51.453Z"
   },
   {
    "duration": 30,
    "start_time": "2023-05-04T20:25:51.506Z"
   },
   {
    "duration": 54,
    "start_time": "2023-05-04T20:25:51.539Z"
   },
   {
    "duration": 24,
    "start_time": "2023-05-04T20:25:51.598Z"
   },
   {
    "duration": 29,
    "start_time": "2023-05-04T20:25:51.624Z"
   },
   {
    "duration": 31,
    "start_time": "2023-05-04T20:25:51.654Z"
   },
   {
    "duration": 91,
    "start_time": "2023-05-04T20:25:51.690Z"
   },
   {
    "duration": 37,
    "start_time": "2023-05-04T20:25:51.783Z"
   },
   {
    "duration": 19,
    "start_time": "2023-05-04T20:25:51.822Z"
   },
   {
    "duration": 93,
    "start_time": "2023-05-04T20:25:51.843Z"
   },
   {
    "duration": 10,
    "start_time": "2023-05-04T20:25:51.937Z"
   },
   {
    "duration": 271,
    "start_time": "2023-05-04T20:25:51.948Z"
   },
   {
    "duration": 12,
    "start_time": "2023-05-04T20:25:52.221Z"
   },
   {
    "duration": 20,
    "start_time": "2023-05-04T20:25:52.234Z"
   },
   {
    "duration": 15,
    "start_time": "2023-05-04T20:25:52.256Z"
   },
   {
    "duration": 117,
    "start_time": "2023-05-04T20:25:52.273Z"
   },
   {
    "duration": 55,
    "start_time": "2023-05-04T20:25:52.392Z"
   },
   {
    "duration": 107,
    "start_time": "2023-05-04T20:25:52.449Z"
   },
   {
    "duration": 13,
    "start_time": "2023-05-04T20:25:52.558Z"
   },
   {
    "duration": 127,
    "start_time": "2023-05-04T20:25:52.572Z"
   },
   {
    "duration": 24,
    "start_time": "2023-05-04T20:25:52.706Z"
   },
   {
    "duration": 113,
    "start_time": "2023-05-04T20:25:52.732Z"
   },
   {
    "duration": 11,
    "start_time": "2023-05-04T20:25:52.847Z"
   },
   {
    "duration": 19,
    "start_time": "2023-05-04T20:25:52.860Z"
   },
   {
    "duration": 34,
    "start_time": "2023-05-04T20:25:52.881Z"
   },
   {
    "duration": 182,
    "start_time": "2023-05-04T20:25:52.918Z"
   },
   {
    "duration": 379,
    "start_time": "2023-05-04T20:25:53.104Z"
   },
   {
    "duration": 27,
    "start_time": "2023-05-04T20:25:53.488Z"
   },
   {
    "duration": 323,
    "start_time": "2023-05-04T20:25:53.518Z"
   },
   {
    "duration": 333,
    "start_time": "2023-05-04T20:25:53.843Z"
   },
   {
    "duration": 13,
    "start_time": "2023-05-04T20:25:54.178Z"
   },
   {
    "duration": 388,
    "start_time": "2023-05-04T20:25:54.194Z"
   },
   {
    "duration": 0,
    "start_time": "2023-05-04T20:25:54.584Z"
   },
   {
    "duration": 0,
    "start_time": "2023-05-04T20:25:54.586Z"
   },
   {
    "duration": 0,
    "start_time": "2023-05-04T20:25:54.589Z"
   },
   {
    "duration": 0,
    "start_time": "2023-05-04T20:25:54.591Z"
   },
   {
    "duration": 0,
    "start_time": "2023-05-04T20:25:54.592Z"
   },
   {
    "duration": 0,
    "start_time": "2023-05-04T20:25:54.594Z"
   },
   {
    "duration": 0,
    "start_time": "2023-05-04T20:25:54.596Z"
   },
   {
    "duration": 0,
    "start_time": "2023-05-04T20:25:54.598Z"
   },
   {
    "duration": 0,
    "start_time": "2023-05-04T20:25:54.599Z"
   },
   {
    "duration": 0,
    "start_time": "2023-05-04T20:25:54.601Z"
   },
   {
    "duration": 133,
    "start_time": "2023-05-04T20:26:37.837Z"
   },
   {
    "duration": 1739,
    "start_time": "2023-05-04T20:26:47.618Z"
   },
   {
    "duration": 226,
    "start_time": "2023-05-04T20:26:49.358Z"
   },
   {
    "duration": 49,
    "start_time": "2023-05-04T20:26:49.593Z"
   },
   {
    "duration": 9,
    "start_time": "2023-05-04T20:26:49.644Z"
   },
   {
    "duration": 566,
    "start_time": "2023-05-04T20:26:49.654Z"
   },
   {
    "duration": 7,
    "start_time": "2023-05-04T20:26:50.222Z"
   },
   {
    "duration": 20,
    "start_time": "2023-05-04T20:26:50.231Z"
   },
   {
    "duration": 45,
    "start_time": "2023-05-04T20:26:50.252Z"
   },
   {
    "duration": 90,
    "start_time": "2023-05-04T20:26:50.304Z"
   },
   {
    "duration": 4,
    "start_time": "2023-05-04T20:26:50.399Z"
   },
   {
    "duration": 23,
    "start_time": "2023-05-04T20:26:50.405Z"
   },
   {
    "duration": 23,
    "start_time": "2023-05-04T20:26:50.430Z"
   },
   {
    "duration": 51,
    "start_time": "2023-05-04T20:26:50.455Z"
   },
   {
    "duration": 84,
    "start_time": "2023-05-04T20:26:50.508Z"
   },
   {
    "duration": 41,
    "start_time": "2023-05-04T20:26:50.594Z"
   },
   {
    "duration": 21,
    "start_time": "2023-05-04T20:26:50.637Z"
   },
   {
    "duration": 102,
    "start_time": "2023-05-04T20:26:50.659Z"
   },
   {
    "duration": 10,
    "start_time": "2023-05-04T20:26:50.762Z"
   },
   {
    "duration": 256,
    "start_time": "2023-05-04T20:26:50.788Z"
   },
   {
    "duration": 13,
    "start_time": "2023-05-04T20:26:51.046Z"
   },
   {
    "duration": 31,
    "start_time": "2023-05-04T20:26:51.060Z"
   },
   {
    "duration": 14,
    "start_time": "2023-05-04T20:26:51.093Z"
   },
   {
    "duration": 82,
    "start_time": "2023-05-04T20:26:51.112Z"
   },
   {
    "duration": 44,
    "start_time": "2023-05-04T20:26:51.196Z"
   },
   {
    "duration": 98,
    "start_time": "2023-05-04T20:26:51.242Z"
   },
   {
    "duration": 14,
    "start_time": "2023-05-04T20:26:51.341Z"
   },
   {
    "duration": 123,
    "start_time": "2023-05-04T20:26:51.357Z"
   },
   {
    "duration": 37,
    "start_time": "2023-05-04T20:26:51.484Z"
   },
   {
    "duration": 116,
    "start_time": "2023-05-04T20:26:51.523Z"
   },
   {
    "duration": 12,
    "start_time": "2023-05-04T20:26:51.641Z"
   },
   {
    "duration": 37,
    "start_time": "2023-05-04T20:26:51.655Z"
   },
   {
    "duration": 24,
    "start_time": "2023-05-04T20:26:51.694Z"
   },
   {
    "duration": 202,
    "start_time": "2023-05-04T20:26:51.720Z"
   },
   {
    "duration": 351,
    "start_time": "2023-05-04T20:26:51.924Z"
   },
   {
    "duration": 8,
    "start_time": "2023-05-04T20:26:52.277Z"
   },
   {
    "duration": 326,
    "start_time": "2023-05-04T20:26:52.290Z"
   },
   {
    "duration": 302,
    "start_time": "2023-05-04T20:26:52.618Z"
   },
   {
    "duration": 7,
    "start_time": "2023-05-04T20:26:52.921Z"
   },
   {
    "duration": 236,
    "start_time": "2023-05-04T20:26:52.930Z"
   },
   {
    "duration": 248,
    "start_time": "2023-05-04T20:26:53.168Z"
   },
   {
    "duration": 0,
    "start_time": "2023-05-04T20:26:53.418Z"
   },
   {
    "duration": 0,
    "start_time": "2023-05-04T20:26:53.420Z"
   },
   {
    "duration": 0,
    "start_time": "2023-05-04T20:26:53.421Z"
   },
   {
    "duration": 0,
    "start_time": "2023-05-04T20:26:53.422Z"
   },
   {
    "duration": 0,
    "start_time": "2023-05-04T20:26:53.423Z"
   },
   {
    "duration": 0,
    "start_time": "2023-05-04T20:26:53.424Z"
   },
   {
    "duration": 0,
    "start_time": "2023-05-04T20:26:53.425Z"
   },
   {
    "duration": 0,
    "start_time": "2023-05-04T20:26:53.427Z"
   },
   {
    "duration": 0,
    "start_time": "2023-05-04T20:26:53.428Z"
   },
   {
    "duration": 16358,
    "start_time": "2023-05-04T20:28:10.385Z"
   },
   {
    "duration": 20,
    "start_time": "2023-05-04T20:29:35.390Z"
   },
   {
    "duration": 8,
    "start_time": "2023-05-04T20:29:35.412Z"
   },
   {
    "duration": 101,
    "start_time": "2023-05-04T20:29:35.421Z"
   },
   {
    "duration": 190,
    "start_time": "2023-05-04T20:29:38.127Z"
   },
   {
    "duration": 26,
    "start_time": "2023-05-04T20:29:38.319Z"
   },
   {
    "duration": 6,
    "start_time": "2023-05-04T20:29:38.347Z"
   },
   {
    "duration": 12,
    "start_time": "2023-05-04T20:29:38.355Z"
   },
   {
    "duration": 18,
    "start_time": "2023-05-04T20:29:38.369Z"
   },
   {
    "duration": 143,
    "start_time": "2023-05-04T20:29:38.389Z"
   },
   {
    "duration": 20,
    "start_time": "2023-05-04T20:33:02.919Z"
   },
   {
    "duration": 104,
    "start_time": "2023-05-04T20:34:14.017Z"
   },
   {
    "duration": 435,
    "start_time": "2023-05-04T20:34:19.941Z"
   },
   {
    "duration": 1685,
    "start_time": "2023-05-05T08:34:41.332Z"
   },
   {
    "duration": 240,
    "start_time": "2023-05-05T08:34:43.019Z"
   },
   {
    "duration": 25,
    "start_time": "2023-05-05T08:34:43.260Z"
   },
   {
    "duration": 7,
    "start_time": "2023-05-05T08:34:43.287Z"
   },
   {
    "duration": 528,
    "start_time": "2023-05-05T08:34:43.296Z"
   },
   {
    "duration": 5,
    "start_time": "2023-05-05T08:34:43.826Z"
   },
   {
    "duration": 23,
    "start_time": "2023-05-05T08:34:43.832Z"
   },
   {
    "duration": 12,
    "start_time": "2023-05-05T08:34:43.858Z"
   },
   {
    "duration": 32,
    "start_time": "2023-05-05T08:34:43.872Z"
   },
   {
    "duration": 50,
    "start_time": "2023-05-05T08:34:43.907Z"
   },
   {
    "duration": 23,
    "start_time": "2023-05-05T08:34:43.959Z"
   },
   {
    "duration": 56,
    "start_time": "2023-05-05T08:34:43.984Z"
   },
   {
    "duration": 34,
    "start_time": "2023-05-05T08:34:44.042Z"
   },
   {
    "duration": 92,
    "start_time": "2023-05-05T08:34:44.079Z"
   },
   {
    "duration": 24,
    "start_time": "2023-05-05T08:34:44.172Z"
   },
   {
    "duration": 21,
    "start_time": "2023-05-05T08:34:44.198Z"
   },
   {
    "duration": 100,
    "start_time": "2023-05-05T08:34:44.221Z"
   },
   {
    "duration": 9,
    "start_time": "2023-05-05T08:34:44.323Z"
   },
   {
    "duration": 224,
    "start_time": "2023-05-05T08:34:44.334Z"
   },
   {
    "duration": 12,
    "start_time": "2023-05-05T08:34:44.559Z"
   },
   {
    "duration": 11,
    "start_time": "2023-05-05T08:34:44.574Z"
   },
   {
    "duration": 6,
    "start_time": "2023-05-05T08:34:44.586Z"
   },
   {
    "duration": 101,
    "start_time": "2023-05-05T08:34:44.593Z"
   },
   {
    "duration": 36,
    "start_time": "2023-05-05T08:34:44.695Z"
   },
   {
    "duration": 84,
    "start_time": "2023-05-05T08:34:44.733Z"
   },
   {
    "duration": 13,
    "start_time": "2023-05-05T08:34:44.819Z"
   },
   {
    "duration": 123,
    "start_time": "2023-05-05T08:34:44.833Z"
   },
   {
    "duration": 19,
    "start_time": "2023-05-05T08:34:44.959Z"
   },
   {
    "duration": 88,
    "start_time": "2023-05-05T08:34:44.980Z"
   },
   {
    "duration": 14,
    "start_time": "2023-05-05T08:34:45.070Z"
   },
   {
    "duration": 11,
    "start_time": "2023-05-05T08:34:45.085Z"
   },
   {
    "duration": 19,
    "start_time": "2023-05-05T08:34:45.097Z"
   },
   {
    "duration": 166,
    "start_time": "2023-05-05T08:34:45.117Z"
   },
   {
    "duration": 276,
    "start_time": "2023-05-05T08:34:45.285Z"
   },
   {
    "duration": 8,
    "start_time": "2023-05-05T08:34:45.563Z"
   },
   {
    "duration": 234,
    "start_time": "2023-05-05T08:34:45.573Z"
   },
   {
    "duration": 249,
    "start_time": "2023-05-05T08:34:45.809Z"
   },
   {
    "duration": 8,
    "start_time": "2023-05-05T08:34:46.059Z"
   },
   {
    "duration": 375,
    "start_time": "2023-05-05T08:34:46.068Z"
   },
   {
    "duration": 13655,
    "start_time": "2023-05-05T08:34:46.444Z"
   },
   {
    "duration": 14,
    "start_time": "2023-05-05T08:35:00.101Z"
   },
   {
    "duration": 46,
    "start_time": "2023-05-05T08:35:00.117Z"
   },
   {
    "duration": 194,
    "start_time": "2023-05-05T08:35:00.165Z"
   },
   {
    "duration": 225,
    "start_time": "2023-05-05T08:35:00.362Z"
   },
   {
    "duration": 19,
    "start_time": "2023-05-05T08:35:00.589Z"
   },
   {
    "duration": 21,
    "start_time": "2023-05-05T08:35:00.610Z"
   },
   {
    "duration": 46,
    "start_time": "2023-05-05T08:35:00.633Z"
   },
   {
    "duration": 22,
    "start_time": "2023-05-05T08:35:00.681Z"
   },
   {
    "duration": 121,
    "start_time": "2023-05-05T08:35:00.705Z"
   },
   {
    "duration": 20,
    "start_time": "2023-05-05T08:38:45.957Z"
   },
   {
    "duration": 8,
    "start_time": "2023-05-05T08:42:40.989Z"
   },
   {
    "duration": 1740,
    "start_time": "2023-05-05T10:54:36.296Z"
   },
   {
    "duration": 187,
    "start_time": "2023-05-05T10:54:38.038Z"
   },
   {
    "duration": 27,
    "start_time": "2023-05-05T10:54:38.226Z"
   },
   {
    "duration": 8,
    "start_time": "2023-05-05T10:54:38.256Z"
   },
   {
    "duration": 541,
    "start_time": "2023-05-05T10:54:38.266Z"
   },
   {
    "duration": 10,
    "start_time": "2023-05-05T10:54:38.809Z"
   },
   {
    "duration": 40,
    "start_time": "2023-05-05T10:54:38.822Z"
   },
   {
    "duration": 17,
    "start_time": "2023-05-05T10:54:38.864Z"
   },
   {
    "duration": 93,
    "start_time": "2023-05-05T10:54:38.883Z"
   },
   {
    "duration": 3,
    "start_time": "2023-05-05T10:54:38.980Z"
   },
   {
    "duration": 25,
    "start_time": "2023-05-05T10:54:38.986Z"
   },
   {
    "duration": 36,
    "start_time": "2023-05-05T10:54:39.013Z"
   },
   {
    "duration": 27,
    "start_time": "2023-05-05T10:54:39.051Z"
   },
   {
    "duration": 84,
    "start_time": "2023-05-05T10:54:39.080Z"
   },
   {
    "duration": 29,
    "start_time": "2023-05-05T10:54:39.166Z"
   },
   {
    "duration": 26,
    "start_time": "2023-05-05T10:54:39.197Z"
   },
   {
    "duration": 80,
    "start_time": "2023-05-05T10:54:39.225Z"
   },
   {
    "duration": 10,
    "start_time": "2023-05-05T10:54:39.306Z"
   },
   {
    "duration": 237,
    "start_time": "2023-05-05T10:54:39.318Z"
   },
   {
    "duration": 16,
    "start_time": "2023-05-05T10:54:39.560Z"
   },
   {
    "duration": 39,
    "start_time": "2023-05-05T10:54:39.579Z"
   },
   {
    "duration": 8,
    "start_time": "2023-05-05T10:54:39.621Z"
   },
   {
    "duration": 130,
    "start_time": "2023-05-05T10:54:39.632Z"
   },
   {
    "duration": 41,
    "start_time": "2023-05-05T10:54:39.764Z"
   },
   {
    "duration": 92,
    "start_time": "2023-05-05T10:54:39.808Z"
   },
   {
    "duration": 14,
    "start_time": "2023-05-05T10:54:39.903Z"
   },
   {
    "duration": 144,
    "start_time": "2023-05-05T10:54:39.919Z"
   },
   {
    "duration": 30,
    "start_time": "2023-05-05T10:54:40.066Z"
   },
   {
    "duration": 122,
    "start_time": "2023-05-05T10:54:40.099Z"
   },
   {
    "duration": 14,
    "start_time": "2023-05-05T10:54:40.223Z"
   },
   {
    "duration": 36,
    "start_time": "2023-05-05T10:54:40.239Z"
   },
   {
    "duration": 23,
    "start_time": "2023-05-05T10:54:40.277Z"
   },
   {
    "duration": 196,
    "start_time": "2023-05-05T10:54:40.303Z"
   },
   {
    "duration": 334,
    "start_time": "2023-05-05T10:54:40.502Z"
   },
   {
    "duration": 21,
    "start_time": "2023-05-05T10:54:40.838Z"
   },
   {
    "duration": 286,
    "start_time": "2023-05-05T10:54:40.862Z"
   },
   {
    "duration": 255,
    "start_time": "2023-05-05T10:54:41.150Z"
   },
   {
    "duration": 8,
    "start_time": "2023-05-05T10:54:41.407Z"
   },
   {
    "duration": 309,
    "start_time": "2023-05-05T10:54:41.418Z"
   },
   {
    "duration": 14355,
    "start_time": "2023-05-05T10:54:41.729Z"
   },
   {
    "duration": 21,
    "start_time": "2023-05-05T10:54:56.087Z"
   },
   {
    "duration": 7,
    "start_time": "2023-05-05T10:54:56.159Z"
   },
   {
    "duration": 141,
    "start_time": "2023-05-05T10:54:56.168Z"
   },
   {
    "duration": 245,
    "start_time": "2023-05-05T10:54:56.360Z"
   },
   {
    "duration": 16,
    "start_time": "2023-05-05T10:54:56.659Z"
   },
   {
    "duration": 32,
    "start_time": "2023-05-05T10:54:56.677Z"
   },
   {
    "duration": 53,
    "start_time": "2023-05-05T10:54:56.711Z"
   },
   {
    "duration": 19,
    "start_time": "2023-05-05T10:54:56.766Z"
   },
   {
    "duration": 132,
    "start_time": "2023-05-05T10:54:56.787Z"
   },
   {
    "duration": 9,
    "start_time": "2023-05-05T10:54:56.921Z"
   },
   {
    "duration": 9,
    "start_time": "2023-05-05T10:57:11.028Z"
   },
   {
    "duration": 1663,
    "start_time": "2023-05-05T12:15:35.237Z"
   },
   {
    "duration": 252,
    "start_time": "2023-05-05T12:15:36.902Z"
   },
   {
    "duration": 45,
    "start_time": "2023-05-05T12:15:37.156Z"
   },
   {
    "duration": 11,
    "start_time": "2023-05-05T12:15:37.204Z"
   },
   {
    "duration": 633,
    "start_time": "2023-05-05T12:15:37.217Z"
   },
   {
    "duration": 7,
    "start_time": "2023-05-05T12:15:37.852Z"
   },
   {
    "duration": 11,
    "start_time": "2023-05-05T12:15:37.871Z"
   },
   {
    "duration": 14,
    "start_time": "2023-05-05T12:15:37.884Z"
   },
   {
    "duration": 88,
    "start_time": "2023-05-05T12:15:37.900Z"
   },
   {
    "duration": 6,
    "start_time": "2023-05-05T12:15:37.991Z"
   },
   {
    "duration": 18,
    "start_time": "2023-05-05T12:15:38.005Z"
   },
   {
    "duration": 37,
    "start_time": "2023-05-05T12:15:38.025Z"
   },
   {
    "duration": 19,
    "start_time": "2023-05-05T12:15:38.065Z"
   },
   {
    "duration": 111,
    "start_time": "2023-05-05T12:15:38.086Z"
   },
   {
    "duration": 26,
    "start_time": "2023-05-05T12:15:38.199Z"
   },
   {
    "duration": 35,
    "start_time": "2023-05-05T12:15:38.227Z"
   },
   {
    "duration": 96,
    "start_time": "2023-05-05T12:15:38.265Z"
   },
   {
    "duration": 12,
    "start_time": "2023-05-05T12:15:38.363Z"
   },
   {
    "duration": 241,
    "start_time": "2023-05-05T12:15:38.377Z"
   },
   {
    "duration": 14,
    "start_time": "2023-05-05T12:15:38.620Z"
   },
   {
    "duration": 37,
    "start_time": "2023-05-05T12:15:38.635Z"
   },
   {
    "duration": 4,
    "start_time": "2023-05-05T12:15:38.677Z"
   },
   {
    "duration": 83,
    "start_time": "2023-05-05T12:15:38.682Z"
   },
   {
    "duration": 37,
    "start_time": "2023-05-05T12:15:38.773Z"
   },
   {
    "duration": 114,
    "start_time": "2023-05-05T12:15:38.811Z"
   },
   {
    "duration": 31,
    "start_time": "2023-05-05T12:15:38.928Z"
   },
   {
    "duration": 112,
    "start_time": "2023-05-05T12:15:38.964Z"
   },
   {
    "duration": 23,
    "start_time": "2023-05-05T12:15:39.079Z"
   },
   {
    "duration": 92,
    "start_time": "2023-05-05T12:15:39.103Z"
   },
   {
    "duration": 13,
    "start_time": "2023-05-05T12:15:39.196Z"
   },
   {
    "duration": 24,
    "start_time": "2023-05-05T12:15:39.210Z"
   },
   {
    "duration": 23,
    "start_time": "2023-05-05T12:15:39.236Z"
   },
   {
    "duration": 166,
    "start_time": "2023-05-05T12:15:39.268Z"
   },
   {
    "duration": 404,
    "start_time": "2023-05-05T12:15:39.436Z"
   },
   {
    "duration": 36,
    "start_time": "2023-05-05T12:15:39.843Z"
   },
   {
    "duration": 303,
    "start_time": "2023-05-05T12:15:39.882Z"
   },
   {
    "duration": 296,
    "start_time": "2023-05-05T12:15:40.187Z"
   },
   {
    "duration": 7,
    "start_time": "2023-05-05T12:15:40.484Z"
   },
   {
    "duration": 287,
    "start_time": "2023-05-05T12:15:40.493Z"
   },
   {
    "duration": 18289,
    "start_time": "2023-05-05T12:15:40.782Z"
   },
   {
    "duration": 27,
    "start_time": "2023-05-05T12:15:59.081Z"
   },
   {
    "duration": 53,
    "start_time": "2023-05-05T12:15:59.110Z"
   },
   {
    "duration": 187,
    "start_time": "2023-05-05T12:15:59.175Z"
   },
   {
    "duration": 304,
    "start_time": "2023-05-05T12:15:59.368Z"
   },
   {
    "duration": 24,
    "start_time": "2023-05-05T12:15:59.675Z"
   },
   {
    "duration": 29,
    "start_time": "2023-05-05T12:15:59.701Z"
   },
   {
    "duration": 15,
    "start_time": "2023-05-05T12:15:59.733Z"
   },
   {
    "duration": 15,
    "start_time": "2023-05-05T12:15:59.759Z"
   },
   {
    "duration": 142,
    "start_time": "2023-05-05T12:15:59.778Z"
   },
   {
    "duration": 4,
    "start_time": "2023-05-05T12:18:29.749Z"
   },
   {
    "duration": 15,
    "start_time": "2023-05-05T12:20:03.654Z"
   },
   {
    "duration": 38,
    "start_time": "2023-05-05T12:20:10.733Z"
   },
   {
    "duration": 31,
    "start_time": "2023-05-05T12:20:33.295Z"
   },
   {
    "duration": 9,
    "start_time": "2023-05-05T12:21:09.465Z"
   },
   {
    "duration": 7,
    "start_time": "2023-05-05T12:21:32.262Z"
   },
   {
    "duration": 10,
    "start_time": "2023-05-05T12:22:09.385Z"
   },
   {
    "duration": 32,
    "start_time": "2023-05-05T12:22:15.839Z"
   },
   {
    "duration": 10,
    "start_time": "2023-05-05T12:22:28.943Z"
   },
   {
    "duration": 375,
    "start_time": "2023-05-05T12:22:41.579Z"
   },
   {
    "duration": 216,
    "start_time": "2023-05-05T12:22:53.477Z"
   },
   {
    "duration": 24,
    "start_time": "2023-05-05T12:23:32.783Z"
   },
   {
    "duration": 10,
    "start_time": "2023-05-05T12:24:20.432Z"
   },
   {
    "duration": 153,
    "start_time": "2023-05-05T12:27:21.867Z"
   },
   {
    "duration": 5,
    "start_time": "2023-05-05T12:28:43.296Z"
   },
   {
    "duration": 20,
    "start_time": "2023-05-05T12:29:31.217Z"
   },
   {
    "duration": 66,
    "start_time": "2023-05-05T12:30:09.284Z"
   },
   {
    "duration": 180,
    "start_time": "2023-05-05T12:30:16.063Z"
   },
   {
    "duration": 32,
    "start_time": "2023-05-05T12:32:11.593Z"
   },
   {
    "duration": 20,
    "start_time": "2023-05-05T12:32:22.066Z"
   },
   {
    "duration": 44,
    "start_time": "2023-05-05T12:33:57.014Z"
   },
   {
    "duration": 28,
    "start_time": "2023-05-05T12:34:10.573Z"
   },
   {
    "duration": 17,
    "start_time": "2023-05-05T12:34:20.023Z"
   },
   {
    "duration": 14,
    "start_time": "2023-05-05T12:40:21.594Z"
   },
   {
    "duration": 143,
    "start_time": "2023-05-05T12:49:29.009Z"
   },
   {
    "duration": 140,
    "start_time": "2023-05-05T12:49:42.440Z"
   },
   {
    "duration": 159,
    "start_time": "2023-05-05T12:50:01.502Z"
   },
   {
    "duration": 213,
    "start_time": "2023-05-05T12:52:56.881Z"
   },
   {
    "duration": 214,
    "start_time": "2023-05-05T12:58:09.880Z"
   },
   {
    "duration": 223,
    "start_time": "2023-05-05T12:58:24.207Z"
   },
   {
    "duration": 107,
    "start_time": "2023-05-05T13:00:28.573Z"
   },
   {
    "duration": 103,
    "start_time": "2023-05-05T13:00:45.737Z"
   },
   {
    "duration": 147,
    "start_time": "2023-05-05T13:08:03.053Z"
   },
   {
    "duration": 196,
    "start_time": "2023-05-05T13:13:48.085Z"
   },
   {
    "duration": 189,
    "start_time": "2023-05-05T13:14:05.531Z"
   },
   {
    "duration": 104,
    "start_time": "2023-05-05T13:16:58.984Z"
   },
   {
    "duration": 155,
    "start_time": "2023-05-05T13:17:08.354Z"
   },
   {
    "duration": 158,
    "start_time": "2023-05-05T13:17:20.075Z"
   },
   {
    "duration": 15,
    "start_time": "2023-05-05T13:17:27.675Z"
   },
   {
    "duration": 133,
    "start_time": "2023-05-05T13:18:12.595Z"
   },
   {
    "duration": 22,
    "start_time": "2023-05-05T13:18:31.953Z"
   },
   {
    "duration": 154,
    "start_time": "2023-05-05T13:19:54.478Z"
   },
   {
    "duration": 146,
    "start_time": "2023-05-05T13:20:20.579Z"
   },
   {
    "duration": 1611,
    "start_time": "2023-05-05T16:16:40.594Z"
   },
   {
    "duration": 284,
    "start_time": "2023-05-05T16:16:42.207Z"
   },
   {
    "duration": 23,
    "start_time": "2023-05-05T16:16:42.492Z"
   },
   {
    "duration": 7,
    "start_time": "2023-05-05T16:16:42.516Z"
   },
   {
    "duration": 480,
    "start_time": "2023-05-05T16:16:42.525Z"
   },
   {
    "duration": 6,
    "start_time": "2023-05-05T16:16:43.006Z"
   },
   {
    "duration": 7,
    "start_time": "2023-05-05T16:16:43.013Z"
   },
   {
    "duration": 11,
    "start_time": "2023-05-05T16:16:43.022Z"
   },
   {
    "duration": 65,
    "start_time": "2023-05-05T16:16:43.035Z"
   },
   {
    "duration": 2,
    "start_time": "2023-05-05T16:16:43.102Z"
   },
   {
    "duration": 9,
    "start_time": "2023-05-05T16:16:43.106Z"
   },
   {
    "duration": 73,
    "start_time": "2023-05-05T16:16:43.117Z"
   },
   {
    "duration": 26,
    "start_time": "2023-05-05T16:16:43.192Z"
   },
   {
    "duration": 82,
    "start_time": "2023-05-05T16:16:43.222Z"
   },
   {
    "duration": 17,
    "start_time": "2023-05-05T16:16:43.305Z"
   },
   {
    "duration": 16,
    "start_time": "2023-05-05T16:16:43.324Z"
   },
   {
    "duration": 85,
    "start_time": "2023-05-05T16:16:43.342Z"
   },
   {
    "duration": 11,
    "start_time": "2023-05-05T16:16:43.428Z"
   },
   {
    "duration": 222,
    "start_time": "2023-05-05T16:16:43.440Z"
   },
   {
    "duration": 22,
    "start_time": "2023-05-05T16:16:43.663Z"
   },
   {
    "duration": 14,
    "start_time": "2023-05-05T16:16:43.691Z"
   },
   {
    "duration": 6,
    "start_time": "2023-05-05T16:16:43.706Z"
   },
   {
    "duration": 76,
    "start_time": "2023-05-05T16:16:43.713Z"
   },
   {
    "duration": 28,
    "start_time": "2023-05-05T16:16:43.791Z"
   },
   {
    "duration": 76,
    "start_time": "2023-05-05T16:16:43.821Z"
   },
   {
    "duration": 12,
    "start_time": "2023-05-05T16:16:43.898Z"
   },
   {
    "duration": 95,
    "start_time": "2023-05-05T16:16:43.911Z"
   },
   {
    "duration": 17,
    "start_time": "2023-05-05T16:16:44.008Z"
   },
   {
    "duration": 93,
    "start_time": "2023-05-05T16:16:44.026Z"
   },
   {
    "duration": 11,
    "start_time": "2023-05-05T16:16:44.120Z"
   },
   {
    "duration": 17,
    "start_time": "2023-05-05T16:16:44.132Z"
   },
   {
    "duration": 152,
    "start_time": "2023-05-05T16:16:44.150Z"
   },
   {
    "duration": 301,
    "start_time": "2023-05-05T16:16:44.304Z"
   },
   {
    "duration": 6,
    "start_time": "2023-05-05T16:16:44.607Z"
   },
   {
    "duration": 230,
    "start_time": "2023-05-05T16:16:44.615Z"
   },
   {
    "duration": 228,
    "start_time": "2023-05-05T16:16:44.846Z"
   },
   {
    "duration": 7,
    "start_time": "2023-05-05T16:16:45.076Z"
   },
   {
    "duration": 284,
    "start_time": "2023-05-05T16:16:45.085Z"
   },
   {
    "duration": 12453,
    "start_time": "2023-05-05T16:16:45.370Z"
   },
   {
    "duration": 62,
    "start_time": "2023-05-05T16:16:57.825Z"
   },
   {
    "duration": 7,
    "start_time": "2023-05-05T16:16:57.890Z"
   },
   {
    "duration": 179,
    "start_time": "2023-05-05T16:16:57.898Z"
   },
   {
    "duration": 239,
    "start_time": "2023-05-05T16:16:58.091Z"
   },
   {
    "duration": 13,
    "start_time": "2023-05-05T16:16:58.332Z"
   },
   {
    "duration": 30,
    "start_time": "2023-05-05T16:16:58.347Z"
   },
   {
    "duration": 29,
    "start_time": "2023-05-05T16:16:58.379Z"
   },
   {
    "duration": 8,
    "start_time": "2023-05-05T16:16:58.410Z"
   },
   {
    "duration": 125,
    "start_time": "2023-05-05T16:16:58.420Z"
   },
   {
    "duration": 1970,
    "start_time": "2023-05-05T17:20:13.240Z"
   },
   {
    "duration": 16,
    "start_time": "2023-05-05T17:38:33.008Z"
   },
   {
    "duration": 3,
    "start_time": "2023-05-05T17:40:13.459Z"
   },
   {
    "duration": 1589,
    "start_time": "2023-05-05T17:41:34.806Z"
   },
   {
    "duration": 256,
    "start_time": "2023-05-05T17:41:36.397Z"
   },
   {
    "duration": 50,
    "start_time": "2023-05-05T17:41:36.654Z"
   },
   {
    "duration": 11,
    "start_time": "2023-05-05T17:41:36.708Z"
   },
   {
    "duration": 570,
    "start_time": "2023-05-05T17:41:36.721Z"
   },
   {
    "duration": 17,
    "start_time": "2023-05-05T17:41:37.292Z"
   },
   {
    "duration": 8,
    "start_time": "2023-05-05T17:41:37.310Z"
   },
   {
    "duration": 9,
    "start_time": "2023-05-05T17:41:37.320Z"
   },
   {
    "duration": 55,
    "start_time": "2023-05-05T17:41:37.330Z"
   },
   {
    "duration": 31,
    "start_time": "2023-05-05T17:41:37.388Z"
   },
   {
    "duration": 6,
    "start_time": "2023-05-05T17:41:37.421Z"
   },
   {
    "duration": 56,
    "start_time": "2023-05-05T17:41:37.429Z"
   },
   {
    "duration": 35,
    "start_time": "2023-05-05T17:41:37.486Z"
   },
   {
    "duration": 90,
    "start_time": "2023-05-05T17:41:37.522Z"
   },
   {
    "duration": 23,
    "start_time": "2023-05-05T17:41:37.614Z"
   },
   {
    "duration": 17,
    "start_time": "2023-05-05T17:41:37.638Z"
   },
   {
    "duration": 82,
    "start_time": "2023-05-05T17:41:37.656Z"
   },
   {
    "duration": 9,
    "start_time": "2023-05-05T17:41:37.739Z"
   },
   {
    "duration": 269,
    "start_time": "2023-05-05T17:41:37.749Z"
   },
   {
    "duration": 15,
    "start_time": "2023-05-05T17:41:38.020Z"
   },
   {
    "duration": 27,
    "start_time": "2023-05-05T17:41:38.037Z"
   },
   {
    "duration": 6,
    "start_time": "2023-05-05T17:41:38.067Z"
   },
   {
    "duration": 93,
    "start_time": "2023-05-05T17:41:38.074Z"
   },
   {
    "duration": 41,
    "start_time": "2023-05-05T17:41:38.168Z"
   },
   {
    "duration": 90,
    "start_time": "2023-05-05T17:41:38.211Z"
   },
   {
    "duration": 26,
    "start_time": "2023-05-05T17:41:38.303Z"
   },
   {
    "duration": 104,
    "start_time": "2023-05-05T17:41:38.331Z"
   },
   {
    "duration": 20,
    "start_time": "2023-05-05T17:41:38.438Z"
   },
   {
    "duration": 140,
    "start_time": "2023-05-05T17:41:38.460Z"
   },
   {
    "duration": 13,
    "start_time": "2023-05-05T17:41:38.602Z"
   },
   {
    "duration": 16,
    "start_time": "2023-05-05T17:41:38.617Z"
   },
   {
    "duration": 166,
    "start_time": "2023-05-05T17:41:38.635Z"
   },
   {
    "duration": 363,
    "start_time": "2023-05-05T17:41:38.806Z"
   },
   {
    "duration": 30,
    "start_time": "2023-05-05T17:41:39.171Z"
   },
   {
    "duration": 244,
    "start_time": "2023-05-05T17:41:39.203Z"
   },
   {
    "duration": 251,
    "start_time": "2023-05-05T17:41:39.448Z"
   },
   {
    "duration": 6,
    "start_time": "2023-05-05T17:41:39.702Z"
   },
   {
    "duration": 224,
    "start_time": "2023-05-05T17:41:39.710Z"
   },
   {
    "duration": 12908,
    "start_time": "2023-05-05T17:41:39.936Z"
   },
   {
    "duration": 49,
    "start_time": "2023-05-05T17:41:52.846Z"
   },
   {
    "duration": 16,
    "start_time": "2023-05-05T17:41:52.897Z"
   },
   {
    "duration": 176,
    "start_time": "2023-05-05T17:41:52.915Z"
   },
   {
    "duration": 322,
    "start_time": "2023-05-05T17:41:53.093Z"
   },
   {
    "duration": 2027,
    "start_time": "2023-05-05T17:41:53.417Z"
   },
   {
    "duration": 3,
    "start_time": "2023-05-05T17:41:55.447Z"
   },
   {
    "duration": 42,
    "start_time": "2023-05-05T17:41:55.451Z"
   },
   {
    "duration": 26,
    "start_time": "2023-05-05T17:41:55.495Z"
   },
   {
    "duration": 18,
    "start_time": "2023-05-05T17:41:55.523Z"
   },
   {
    "duration": 13,
    "start_time": "2023-05-05T17:41:55.543Z"
   },
   {
    "duration": 185,
    "start_time": "2023-05-05T17:41:55.558Z"
   },
   {
    "duration": 12,
    "start_time": "2023-05-05T19:56:58.608Z"
   },
   {
    "duration": 14,
    "start_time": "2023-05-05T20:01:35.787Z"
   },
   {
    "duration": 6,
    "start_time": "2023-05-05T20:02:20.616Z"
   },
   {
    "duration": 4,
    "start_time": "2023-05-05T20:02:40.743Z"
   },
   {
    "duration": 183,
    "start_time": "2023-05-05T20:03:31.900Z"
   },
   {
    "duration": 87,
    "start_time": "2023-05-05T20:03:39.826Z"
   },
   {
    "duration": 10,
    "start_time": "2023-05-05T20:03:44.155Z"
   },
   {
    "duration": 10,
    "start_time": "2023-05-05T20:03:59.540Z"
   },
   {
    "duration": 79,
    "start_time": "2023-05-05T20:04:24.262Z"
   },
   {
    "duration": 11,
    "start_time": "2023-05-05T20:04:41.133Z"
   },
   {
    "duration": 10,
    "start_time": "2023-05-05T20:04:58.936Z"
   },
   {
    "duration": 12,
    "start_time": "2023-05-05T20:05:10.612Z"
   },
   {
    "duration": 7,
    "start_time": "2023-05-05T20:07:36.162Z"
   },
   {
    "duration": 13,
    "start_time": "2023-05-05T20:09:38.145Z"
   },
   {
    "duration": 18,
    "start_time": "2023-05-05T20:10:19.949Z"
   },
   {
    "duration": 12,
    "start_time": "2023-05-05T20:10:40.632Z"
   },
   {
    "duration": 12,
    "start_time": "2023-05-05T20:12:23.888Z"
   },
   {
    "duration": 6,
    "start_time": "2023-05-05T20:17:02.016Z"
   },
   {
    "duration": 6,
    "start_time": "2023-05-05T20:17:13.796Z"
   },
   {
    "duration": 10,
    "start_time": "2023-05-05T20:17:32.237Z"
   },
   {
    "duration": 10,
    "start_time": "2023-05-05T20:17:45.591Z"
   },
   {
    "duration": 6,
    "start_time": "2023-05-05T20:18:13.010Z"
   },
   {
    "duration": 13,
    "start_time": "2023-05-05T20:19:21.683Z"
   },
   {
    "duration": 14,
    "start_time": "2023-05-05T20:19:48.056Z"
   },
   {
    "duration": 79,
    "start_time": "2023-05-05T21:04:21.824Z"
   },
   {
    "duration": 104,
    "start_time": "2023-05-05T21:05:12.417Z"
   },
   {
    "duration": 7,
    "start_time": "2023-05-05T21:05:35.974Z"
   },
   {
    "duration": 5,
    "start_time": "2023-05-05T21:07:10.247Z"
   },
   {
    "duration": 15,
    "start_time": "2023-05-05T21:07:51.989Z"
   },
   {
    "duration": 1456,
    "start_time": "2023-05-05T21:13:43.713Z"
   },
   {
    "duration": 246,
    "start_time": "2023-05-05T21:13:45.173Z"
   },
   {
    "duration": 33,
    "start_time": "2023-05-05T21:13:45.421Z"
   },
   {
    "duration": 7,
    "start_time": "2023-05-05T21:13:45.456Z"
   },
   {
    "duration": 491,
    "start_time": "2023-05-05T21:13:45.465Z"
   },
   {
    "duration": 5,
    "start_time": "2023-05-05T21:13:45.958Z"
   },
   {
    "duration": 16,
    "start_time": "2023-05-05T21:13:45.965Z"
   },
   {
    "duration": 22,
    "start_time": "2023-05-05T21:13:45.983Z"
   },
   {
    "duration": 78,
    "start_time": "2023-05-05T21:13:46.008Z"
   },
   {
    "duration": 11,
    "start_time": "2023-05-05T21:13:46.090Z"
   },
   {
    "duration": 16,
    "start_time": "2023-05-05T21:13:46.103Z"
   },
   {
    "duration": 57,
    "start_time": "2023-05-05T21:13:46.122Z"
   },
   {
    "duration": 49,
    "start_time": "2023-05-05T21:13:46.181Z"
   },
   {
    "duration": 119,
    "start_time": "2023-05-05T21:13:46.233Z"
   },
   {
    "duration": 24,
    "start_time": "2023-05-05T21:13:46.354Z"
   },
   {
    "duration": 20,
    "start_time": "2023-05-05T21:13:46.379Z"
   },
   {
    "duration": 92,
    "start_time": "2023-05-05T21:13:46.401Z"
   },
   {
    "duration": 18,
    "start_time": "2023-05-05T21:13:46.495Z"
   },
   {
    "duration": 198,
    "start_time": "2023-05-05T21:13:46.514Z"
   },
   {
    "duration": 12,
    "start_time": "2023-05-05T21:13:46.714Z"
   },
   {
    "duration": 18,
    "start_time": "2023-05-05T21:13:46.728Z"
   },
   {
    "duration": 48,
    "start_time": "2023-05-05T21:13:46.748Z"
   },
   {
    "duration": 89,
    "start_time": "2023-05-05T21:13:46.798Z"
   },
   {
    "duration": 31,
    "start_time": "2023-05-05T21:13:46.888Z"
   },
   {
    "duration": 99,
    "start_time": "2023-05-05T21:13:46.921Z"
   },
   {
    "duration": 13,
    "start_time": "2023-05-05T21:13:47.021Z"
   },
   {
    "duration": 176,
    "start_time": "2023-05-05T21:13:47.035Z"
   },
   {
    "duration": 26,
    "start_time": "2023-05-05T21:13:47.216Z"
   },
   {
    "duration": 208,
    "start_time": "2023-05-05T21:13:47.243Z"
   },
   {
    "duration": 16,
    "start_time": "2023-05-05T21:13:47.453Z"
   },
   {
    "duration": 90,
    "start_time": "2023-05-05T21:13:47.470Z"
   },
   {
    "duration": 167,
    "start_time": "2023-05-05T21:13:47.562Z"
   },
   {
    "duration": 333,
    "start_time": "2023-05-05T21:13:47.731Z"
   },
   {
    "duration": 9,
    "start_time": "2023-05-05T21:13:48.072Z"
   },
   {
    "duration": 300,
    "start_time": "2023-05-05T21:13:48.083Z"
   },
   {
    "duration": 227,
    "start_time": "2023-05-05T21:13:48.385Z"
   },
   {
    "duration": 6,
    "start_time": "2023-05-05T21:13:48.615Z"
   },
   {
    "duration": 189,
    "start_time": "2023-05-05T21:13:48.623Z"
   },
   {
    "duration": 12235,
    "start_time": "2023-05-05T21:13:48.814Z"
   },
   {
    "duration": 43,
    "start_time": "2023-05-05T21:14:01.051Z"
   },
   {
    "duration": 76,
    "start_time": "2023-05-05T21:14:01.096Z"
   },
   {
    "duration": 198,
    "start_time": "2023-05-05T21:14:01.175Z"
   },
   {
    "duration": 321,
    "start_time": "2023-05-05T21:14:01.375Z"
   },
   {
    "duration": 2439,
    "start_time": "2023-05-05T21:14:01.698Z"
   },
   {
    "duration": 3,
    "start_time": "2023-05-05T21:14:04.139Z"
   },
   {
    "duration": 33,
    "start_time": "2023-05-05T21:14:04.144Z"
   },
   {
    "duration": 8,
    "start_time": "2023-05-05T21:14:04.180Z"
   },
   {
    "duration": 27,
    "start_time": "2023-05-05T21:14:04.190Z"
   },
   {
    "duration": 67,
    "start_time": "2023-05-05T21:14:04.219Z"
   },
   {
    "duration": 7,
    "start_time": "2023-05-05T21:14:04.288Z"
   },
   {
    "duration": 30,
    "start_time": "2023-05-05T21:14:04.297Z"
   },
   {
    "duration": 9,
    "start_time": "2023-05-05T21:14:04.330Z"
   },
   {
    "duration": 154,
    "start_time": "2023-05-05T21:14:04.341Z"
   },
   {
    "duration": 23,
    "start_time": "2023-05-05T21:43:33.682Z"
   },
   {
    "duration": 23,
    "start_time": "2023-05-05T21:43:52.083Z"
   },
   {
    "duration": 28,
    "start_time": "2023-05-05T21:44:50.282Z"
   },
   {
    "duration": 7,
    "start_time": "2023-05-05T21:45:05.678Z"
   },
   {
    "duration": 3,
    "start_time": "2023-05-05T21:45:39.758Z"
   },
   {
    "duration": 1832,
    "start_time": "2023-05-05T21:50:00.037Z"
   },
   {
    "duration": 22,
    "start_time": "2023-05-05T21:52:53.377Z"
   },
   {
    "duration": 24,
    "start_time": "2023-05-05T21:53:29.487Z"
   },
   {
    "duration": 18,
    "start_time": "2023-05-05T21:53:37.483Z"
   },
   {
    "duration": 13,
    "start_time": "2023-05-05T21:55:27.797Z"
   },
   {
    "duration": 1406,
    "start_time": "2023-05-05T21:55:53.054Z"
   },
   {
    "duration": 441,
    "start_time": "2023-05-05T21:55:54.462Z"
   },
   {
    "duration": 22,
    "start_time": "2023-05-05T21:55:54.906Z"
   },
   {
    "duration": 8,
    "start_time": "2023-05-05T21:55:54.930Z"
   },
   {
    "duration": 500,
    "start_time": "2023-05-05T21:55:54.939Z"
   },
   {
    "duration": 5,
    "start_time": "2023-05-05T21:55:55.441Z"
   },
   {
    "duration": 7,
    "start_time": "2023-05-05T21:55:55.447Z"
   },
   {
    "duration": 8,
    "start_time": "2023-05-05T21:55:55.456Z"
   },
   {
    "duration": 34,
    "start_time": "2023-05-05T21:55:55.466Z"
   },
   {
    "duration": 7,
    "start_time": "2023-05-05T21:55:55.503Z"
   },
   {
    "duration": 11,
    "start_time": "2023-05-05T21:55:55.512Z"
   },
   {
    "duration": 72,
    "start_time": "2023-05-05T21:55:55.524Z"
   },
   {
    "duration": 13,
    "start_time": "2023-05-05T21:55:55.598Z"
   },
   {
    "duration": 123,
    "start_time": "2023-05-05T21:55:55.613Z"
   },
   {
    "duration": 39,
    "start_time": "2023-05-05T21:55:55.738Z"
   },
   {
    "duration": 30,
    "start_time": "2023-05-05T21:55:55.792Z"
   },
   {
    "duration": 86,
    "start_time": "2023-05-05T21:55:55.823Z"
   },
   {
    "duration": 13,
    "start_time": "2023-05-05T21:55:55.912Z"
   },
   {
    "duration": 262,
    "start_time": "2023-05-05T21:55:55.928Z"
   },
   {
    "duration": 14,
    "start_time": "2023-05-05T21:55:56.192Z"
   },
   {
    "duration": 40,
    "start_time": "2023-05-05T21:55:56.208Z"
   },
   {
    "duration": 10,
    "start_time": "2023-05-05T21:55:56.250Z"
   },
   {
    "duration": 108,
    "start_time": "2023-05-05T21:55:56.262Z"
   },
   {
    "duration": 35,
    "start_time": "2023-05-05T21:55:56.372Z"
   },
   {
    "duration": 103,
    "start_time": "2023-05-05T21:55:56.408Z"
   },
   {
    "duration": 18,
    "start_time": "2023-05-05T21:55:56.513Z"
   },
   {
    "duration": 160,
    "start_time": "2023-05-05T21:55:56.533Z"
   },
   {
    "duration": 19,
    "start_time": "2023-05-05T21:55:56.697Z"
   },
   {
    "duration": 95,
    "start_time": "2023-05-05T21:55:56.718Z"
   },
   {
    "duration": 13,
    "start_time": "2023-05-05T21:55:56.816Z"
   },
   {
    "duration": 15,
    "start_time": "2023-05-05T21:55:56.831Z"
   },
   {
    "duration": 174,
    "start_time": "2023-05-05T21:55:56.848Z"
   },
   {
    "duration": 298,
    "start_time": "2023-05-05T21:55:57.024Z"
   },
   {
    "duration": 9,
    "start_time": "2023-05-05T21:55:57.324Z"
   },
   {
    "duration": 272,
    "start_time": "2023-05-05T21:55:57.335Z"
   },
   {
    "duration": 227,
    "start_time": "2023-05-05T21:55:57.608Z"
   },
   {
    "duration": 6,
    "start_time": "2023-05-05T21:55:57.836Z"
   },
   {
    "duration": 216,
    "start_time": "2023-05-05T21:55:57.843Z"
   },
   {
    "duration": 12172,
    "start_time": "2023-05-05T21:55:58.060Z"
   },
   {
    "duration": 51,
    "start_time": "2023-05-05T21:56:10.234Z"
   },
   {
    "duration": 8,
    "start_time": "2023-05-05T21:56:10.291Z"
   },
   {
    "duration": 207,
    "start_time": "2023-05-05T21:56:10.301Z"
   },
   {
    "duration": 281,
    "start_time": "2023-05-05T21:56:10.509Z"
   },
   {
    "duration": 1922,
    "start_time": "2023-05-05T21:56:10.792Z"
   },
   {
    "duration": 3,
    "start_time": "2023-05-05T21:56:12.716Z"
   },
   {
    "duration": 64,
    "start_time": "2023-05-05T21:56:12.721Z"
   },
   {
    "duration": 8,
    "start_time": "2023-05-05T21:56:12.787Z"
   },
   {
    "duration": 12,
    "start_time": "2023-05-05T21:56:12.797Z"
   },
   {
    "duration": 11,
    "start_time": "2023-05-05T21:56:12.811Z"
   },
   {
    "duration": 5,
    "start_time": "2023-05-05T21:56:12.824Z"
   },
   {
    "duration": 24,
    "start_time": "2023-05-05T21:56:12.830Z"
   },
   {
    "duration": 16,
    "start_time": "2023-05-05T21:56:12.878Z"
   },
   {
    "duration": 132,
    "start_time": "2023-05-05T21:56:12.896Z"
   },
   {
    "duration": 6,
    "start_time": "2023-05-05T21:56:13.030Z"
   },
   {
    "duration": 5,
    "start_time": "2023-05-05T21:56:13.038Z"
   },
   {
    "duration": 42,
    "start_time": "2023-05-05T21:56:13.044Z"
   },
   {
    "duration": 26,
    "start_time": "2023-05-05T21:56:13.088Z"
   },
   {
    "duration": 1928,
    "start_time": "2023-05-05T21:56:13.115Z"
   },
   {
    "duration": 14,
    "start_time": "2023-05-05T21:56:59.013Z"
   },
   {
    "duration": 20,
    "start_time": "2023-05-05T21:57:19.251Z"
   },
   {
    "duration": 7,
    "start_time": "2023-05-05T21:58:05.127Z"
   },
   {
    "duration": 12,
    "start_time": "2023-05-05T21:58:40.807Z"
   },
   {
    "duration": 1402,
    "start_time": "2023-05-05T21:59:04.046Z"
   },
   {
    "duration": 184,
    "start_time": "2023-05-05T21:59:05.449Z"
   },
   {
    "duration": 22,
    "start_time": "2023-05-05T21:59:05.635Z"
   },
   {
    "duration": 18,
    "start_time": "2023-05-05T21:59:05.659Z"
   },
   {
    "duration": 582,
    "start_time": "2023-05-05T21:59:05.683Z"
   },
   {
    "duration": 14,
    "start_time": "2023-05-05T21:59:06.267Z"
   },
   {
    "duration": 35,
    "start_time": "2023-05-05T21:59:06.283Z"
   },
   {
    "duration": 18,
    "start_time": "2023-05-05T21:59:06.320Z"
   },
   {
    "duration": 57,
    "start_time": "2023-05-05T21:59:06.341Z"
   },
   {
    "duration": 4,
    "start_time": "2023-05-05T21:59:06.400Z"
   },
   {
    "duration": 9,
    "start_time": "2023-05-05T21:59:06.405Z"
   },
   {
    "duration": 23,
    "start_time": "2023-05-05T21:59:06.415Z"
   },
   {
    "duration": 49,
    "start_time": "2023-05-05T21:59:06.440Z"
   },
   {
    "duration": 63,
    "start_time": "2023-05-05T21:59:06.491Z"
   },
   {
    "duration": 22,
    "start_time": "2023-05-05T21:59:06.555Z"
   },
   {
    "duration": 21,
    "start_time": "2023-05-05T21:59:06.578Z"
   },
   {
    "duration": 77,
    "start_time": "2023-05-05T21:59:06.600Z"
   },
   {
    "duration": 9,
    "start_time": "2023-05-05T21:59:06.684Z"
   },
   {
    "duration": 195,
    "start_time": "2023-05-05T21:59:06.694Z"
   },
   {
    "duration": 12,
    "start_time": "2023-05-05T21:59:06.891Z"
   },
   {
    "duration": 12,
    "start_time": "2023-05-05T21:59:06.905Z"
   },
   {
    "duration": 5,
    "start_time": "2023-05-05T21:59:06.918Z"
   },
   {
    "duration": 94,
    "start_time": "2023-05-05T21:59:06.925Z"
   },
   {
    "duration": 64,
    "start_time": "2023-05-05T21:59:07.021Z"
   },
   {
    "duration": 78,
    "start_time": "2023-05-05T21:59:07.089Z"
   },
   {
    "duration": 21,
    "start_time": "2023-05-05T21:59:07.168Z"
   },
   {
    "duration": 99,
    "start_time": "2023-05-05T21:59:07.191Z"
   },
   {
    "duration": 17,
    "start_time": "2023-05-05T21:59:07.294Z"
   },
   {
    "duration": 73,
    "start_time": "2023-05-05T21:59:07.313Z"
   },
   {
    "duration": 13,
    "start_time": "2023-05-05T21:59:07.390Z"
   },
   {
    "duration": 11,
    "start_time": "2023-05-05T21:59:07.404Z"
   },
   {
    "duration": 146,
    "start_time": "2023-05-05T21:59:07.416Z"
   },
   {
    "duration": 324,
    "start_time": "2023-05-05T21:59:07.563Z"
   },
   {
    "duration": 8,
    "start_time": "2023-05-05T21:59:07.890Z"
   },
   {
    "duration": 262,
    "start_time": "2023-05-05T21:59:07.900Z"
   },
   {
    "duration": 228,
    "start_time": "2023-05-05T21:59:08.163Z"
   },
   {
    "duration": 6,
    "start_time": "2023-05-05T21:59:08.392Z"
   },
   {
    "duration": 197,
    "start_time": "2023-05-05T21:59:08.400Z"
   },
   {
    "duration": 1972,
    "start_time": "2023-05-08T09:15:59.201Z"
   },
   {
    "duration": 158,
    "start_time": "2023-05-08T09:16:01.175Z"
   },
   {
    "duration": 31,
    "start_time": "2023-05-08T09:16:01.335Z"
   },
   {
    "duration": 34,
    "start_time": "2023-05-08T09:16:01.368Z"
   },
   {
    "duration": 616,
    "start_time": "2023-05-08T09:16:01.404Z"
   },
   {
    "duration": 7,
    "start_time": "2023-05-08T09:16:02.022Z"
   },
   {
    "duration": 31,
    "start_time": "2023-05-08T09:16:02.030Z"
   },
   {
    "duration": 29,
    "start_time": "2023-05-08T09:16:02.063Z"
   },
   {
    "duration": 67,
    "start_time": "2023-05-08T09:16:02.094Z"
   },
   {
    "duration": 23,
    "start_time": "2023-05-08T09:16:02.163Z"
   },
   {
    "duration": 26,
    "start_time": "2023-05-08T09:16:02.187Z"
   },
   {
    "duration": 40,
    "start_time": "2023-05-08T09:16:02.215Z"
   },
   {
    "duration": 32,
    "start_time": "2023-05-08T09:16:02.257Z"
   },
   {
    "duration": 86,
    "start_time": "2023-05-08T09:16:02.292Z"
   },
   {
    "duration": 26,
    "start_time": "2023-05-08T09:16:02.380Z"
   },
   {
    "duration": 36,
    "start_time": "2023-05-08T09:16:02.408Z"
   },
   {
    "duration": 99,
    "start_time": "2023-05-08T09:16:02.449Z"
   },
   {
    "duration": 11,
    "start_time": "2023-05-08T09:16:02.550Z"
   },
   {
    "duration": 254,
    "start_time": "2023-05-08T09:16:02.563Z"
   },
   {
    "duration": 26,
    "start_time": "2023-05-08T09:16:02.819Z"
   },
   {
    "duration": 32,
    "start_time": "2023-05-08T09:16:02.847Z"
   },
   {
    "duration": 21,
    "start_time": "2023-05-08T09:16:02.881Z"
   },
   {
    "duration": 107,
    "start_time": "2023-05-08T09:16:02.904Z"
   },
   {
    "duration": 50,
    "start_time": "2023-05-08T09:16:03.014Z"
   },
   {
    "duration": 90,
    "start_time": "2023-05-08T09:16:03.067Z"
   },
   {
    "duration": 15,
    "start_time": "2023-05-08T09:16:03.159Z"
   },
   {
    "duration": 128,
    "start_time": "2023-05-08T09:16:03.176Z"
   },
   {
    "duration": 34,
    "start_time": "2023-05-08T09:16:03.307Z"
   },
   {
    "duration": 81,
    "start_time": "2023-05-08T09:16:03.343Z"
   },
   {
    "duration": 27,
    "start_time": "2023-05-08T09:16:03.426Z"
   },
   {
    "duration": 14,
    "start_time": "2023-05-08T09:16:03.455Z"
   },
   {
    "duration": 194,
    "start_time": "2023-05-08T09:16:03.471Z"
   },
   {
    "duration": 383,
    "start_time": "2023-05-08T09:16:03.668Z"
   },
   {
    "duration": 9,
    "start_time": "2023-05-08T09:16:04.054Z"
   },
   {
    "duration": 329,
    "start_time": "2023-05-08T09:16:04.066Z"
   },
   {
    "duration": 272,
    "start_time": "2023-05-08T09:16:04.397Z"
   },
   {
    "duration": 7,
    "start_time": "2023-05-08T09:16:04.671Z"
   },
   {
    "duration": 330,
    "start_time": "2023-05-08T09:16:04.680Z"
   },
   {
    "duration": 14610,
    "start_time": "2023-05-08T09:16:05.012Z"
   },
   {
    "duration": 39,
    "start_time": "2023-05-08T09:16:19.624Z"
   },
   {
    "duration": 10,
    "start_time": "2023-05-08T09:16:19.667Z"
   },
   {
    "duration": 200,
    "start_time": "2023-05-08T09:16:19.679Z"
   },
   {
    "duration": 302,
    "start_time": "2023-05-08T09:16:19.881Z"
   },
   {
    "duration": 2404,
    "start_time": "2023-05-08T09:16:20.185Z"
   },
   {
    "duration": 3,
    "start_time": "2023-05-08T09:16:22.591Z"
   },
   {
    "duration": 46,
    "start_time": "2023-05-08T09:16:22.596Z"
   },
   {
    "duration": 8,
    "start_time": "2023-05-08T09:16:22.644Z"
   },
   {
    "duration": 41,
    "start_time": "2023-05-08T09:16:22.654Z"
   },
   {
    "duration": 16,
    "start_time": "2023-05-08T09:16:22.697Z"
   },
   {
    "duration": 26,
    "start_time": "2023-05-08T09:16:22.715Z"
   },
   {
    "duration": 33,
    "start_time": "2023-05-08T09:16:22.743Z"
   },
   {
    "duration": 14,
    "start_time": "2023-05-08T09:16:22.778Z"
   },
   {
    "duration": 128,
    "start_time": "2023-05-08T09:16:22.794Z"
   },
   {
    "duration": 19,
    "start_time": "2023-05-08T09:16:22.924Z"
   },
   {
    "duration": 6,
    "start_time": "2023-05-08T09:16:22.945Z"
   },
   {
    "duration": 47,
    "start_time": "2023-05-08T09:16:22.953Z"
   },
   {
    "duration": 33,
    "start_time": "2023-05-08T09:16:23.002Z"
   },
   {
    "duration": 2348,
    "start_time": "2023-05-08T09:16:23.037Z"
   },
   {
    "duration": 21,
    "start_time": "2023-05-08T09:22:05.478Z"
   },
   {
    "duration": 17,
    "start_time": "2023-05-08T09:22:43.756Z"
   },
   {
    "duration": 17,
    "start_time": "2023-05-08T09:23:08.656Z"
   },
   {
    "duration": 1904,
    "start_time": "2023-05-08T10:20:45.065Z"
   },
   {
    "duration": 213,
    "start_time": "2023-05-08T10:20:46.975Z"
   },
   {
    "duration": 31,
    "start_time": "2023-05-08T10:20:47.190Z"
   },
   {
    "duration": 25,
    "start_time": "2023-05-08T10:20:47.224Z"
   },
   {
    "duration": 674,
    "start_time": "2023-05-08T10:20:47.252Z"
   },
   {
    "duration": 9,
    "start_time": "2023-05-08T10:20:47.929Z"
   },
   {
    "duration": 46,
    "start_time": "2023-05-08T10:20:47.940Z"
   },
   {
    "duration": 14,
    "start_time": "2023-05-08T10:20:47.988Z"
   },
   {
    "duration": 66,
    "start_time": "2023-05-08T10:20:48.003Z"
   },
   {
    "duration": 4,
    "start_time": "2023-05-08T10:20:48.074Z"
   },
   {
    "duration": 11,
    "start_time": "2023-05-08T10:20:48.080Z"
   },
   {
    "duration": 22,
    "start_time": "2023-05-08T10:20:48.093Z"
   },
   {
    "duration": 67,
    "start_time": "2023-05-08T10:20:48.117Z"
   },
   {
    "duration": 92,
    "start_time": "2023-05-08T10:20:48.189Z"
   },
   {
    "duration": 20,
    "start_time": "2023-05-08T10:20:48.283Z"
   },
   {
    "duration": 48,
    "start_time": "2023-05-08T10:20:48.305Z"
   },
   {
    "duration": 91,
    "start_time": "2023-05-08T10:20:48.355Z"
   },
   {
    "duration": 11,
    "start_time": "2023-05-08T10:20:48.449Z"
   },
   {
    "duration": 255,
    "start_time": "2023-05-08T10:20:48.462Z"
   },
   {
    "duration": 36,
    "start_time": "2023-05-08T10:20:48.719Z"
   },
   {
    "duration": 24,
    "start_time": "2023-05-08T10:20:48.764Z"
   },
   {
    "duration": 15,
    "start_time": "2023-05-08T10:20:48.790Z"
   },
   {
    "duration": 96,
    "start_time": "2023-05-08T10:20:48.807Z"
   },
   {
    "duration": 63,
    "start_time": "2023-05-08T10:20:48.905Z"
   },
   {
    "duration": 93,
    "start_time": "2023-05-08T10:20:48.970Z"
   },
   {
    "duration": 18,
    "start_time": "2023-05-08T10:20:49.065Z"
   },
   {
    "duration": 123,
    "start_time": "2023-05-08T10:20:49.085Z"
   },
   {
    "duration": 43,
    "start_time": "2023-05-08T10:20:49.210Z"
   },
   {
    "duration": 113,
    "start_time": "2023-05-08T10:20:49.265Z"
   },
   {
    "duration": 15,
    "start_time": "2023-05-08T10:20:49.380Z"
   },
   {
    "duration": 24,
    "start_time": "2023-05-08T10:20:49.397Z"
   },
   {
    "duration": 253,
    "start_time": "2023-05-08T10:20:49.423Z"
   },
   {
    "duration": 673,
    "start_time": "2023-05-08T10:20:49.682Z"
   },
   {
    "duration": 18,
    "start_time": "2023-05-08T10:20:50.357Z"
   },
   {
    "duration": 499,
    "start_time": "2023-05-08T10:20:50.383Z"
   },
   {
    "duration": 333,
    "start_time": "2023-05-08T10:20:50.884Z"
   },
   {
    "duration": 10,
    "start_time": "2023-05-08T10:20:51.220Z"
   },
   {
    "duration": 363,
    "start_time": "2023-05-08T10:20:51.234Z"
   },
   {
    "duration": 20939,
    "start_time": "2023-05-08T10:20:51.599Z"
   },
   {
    "duration": 39,
    "start_time": "2023-05-08T10:21:12.541Z"
   },
   {
    "duration": 18,
    "start_time": "2023-05-08T10:21:12.584Z"
   },
   {
    "duration": 111,
    "start_time": "2023-05-08T10:21:12.604Z"
   },
   {
    "duration": 190,
    "start_time": "2023-05-08T10:21:12.717Z"
   },
   {
    "duration": 2864,
    "start_time": "2023-05-08T10:21:12.909Z"
   },
   {
    "duration": 3,
    "start_time": "2023-05-08T10:21:15.778Z"
   },
   {
    "duration": 21,
    "start_time": "2023-05-08T10:21:15.782Z"
   },
   {
    "duration": 16,
    "start_time": "2023-05-08T10:21:15.805Z"
   },
   {
    "duration": 72,
    "start_time": "2023-05-08T10:21:15.823Z"
   },
   {
    "duration": 27,
    "start_time": "2023-05-08T10:21:15.898Z"
   },
   {
    "duration": 61,
    "start_time": "2023-05-08T10:21:15.927Z"
   },
   {
    "duration": 51,
    "start_time": "2023-05-08T10:21:15.991Z"
   },
   {
    "duration": 48,
    "start_time": "2023-05-08T10:21:16.047Z"
   },
   {
    "duration": 157,
    "start_time": "2023-05-08T10:21:16.097Z"
   },
   {
    "duration": 158,
    "start_time": "2023-05-08T10:21:16.256Z"
   },
   {
    "duration": 191,
    "start_time": "2023-05-08T10:21:16.415Z"
   },
   {
    "duration": 109,
    "start_time": "2023-05-08T10:21:16.608Z"
   },
   {
    "duration": 28,
    "start_time": "2023-05-08T10:21:16.720Z"
   },
   {
    "duration": 4399,
    "start_time": "2023-05-08T10:21:16.757Z"
   },
   {
    "duration": 37,
    "start_time": "2023-05-08T10:21:34.947Z"
   },
   {
    "duration": 15,
    "start_time": "2023-05-08T10:22:21.140Z"
   },
   {
    "duration": 11,
    "start_time": "2023-05-08T10:23:53.168Z"
   },
   {
    "duration": 96,
    "start_time": "2023-05-08T10:26:34.711Z"
   },
   {
    "duration": 6,
    "start_time": "2023-05-08T10:26:40.220Z"
   },
   {
    "duration": 205,
    "start_time": "2023-05-08T10:26:48.572Z"
   },
   {
    "duration": 97,
    "start_time": "2023-05-08T10:26:59.303Z"
   },
   {
    "duration": 7,
    "start_time": "2023-05-08T10:27:32.903Z"
   },
   {
    "duration": 8,
    "start_time": "2023-05-08T10:27:40.283Z"
   },
   {
    "duration": 10,
    "start_time": "2023-05-08T10:27:44.490Z"
   },
   {
    "duration": 7,
    "start_time": "2023-05-08T10:27:51.370Z"
   },
   {
    "duration": 8,
    "start_time": "2023-05-08T10:52:16.979Z"
   },
   {
    "duration": 8,
    "start_time": "2023-05-08T10:52:30.251Z"
   },
   {
    "duration": 8,
    "start_time": "2023-05-08T10:52:38.364Z"
   },
   {
    "duration": 11,
    "start_time": "2023-05-08T10:53:10.701Z"
   },
   {
    "duration": 46,
    "start_time": "2023-05-08T10:53:17.364Z"
   },
   {
    "duration": 59,
    "start_time": "2023-05-08T10:53:34.707Z"
   },
   {
    "duration": 13,
    "start_time": "2023-05-08T10:54:01.274Z"
   },
   {
    "duration": 33,
    "start_time": "2023-05-08T10:54:48.124Z"
   },
   {
    "duration": 29,
    "start_time": "2023-05-08T10:54:59.935Z"
   },
   {
    "duration": 113,
    "start_time": "2023-05-08T10:57:49.940Z"
   },
   {
    "duration": 7,
    "start_time": "2023-05-08T10:58:41.830Z"
   },
   {
    "duration": 12,
    "start_time": "2023-05-08T11:00:13.153Z"
   },
   {
    "duration": 16,
    "start_time": "2023-05-08T11:02:17.263Z"
   },
   {
    "duration": 15,
    "start_time": "2023-05-08T11:04:30.470Z"
   },
   {
    "duration": 8,
    "start_time": "2023-05-08T11:05:40.653Z"
   },
   {
    "duration": 17,
    "start_time": "2023-05-08T11:08:36.256Z"
   },
   {
    "duration": 15,
    "start_time": "2023-05-08T11:08:53.789Z"
   },
   {
    "duration": 14,
    "start_time": "2023-05-08T11:11:22.716Z"
   },
   {
    "duration": 423,
    "start_time": "2023-05-08T11:12:44.006Z"
   },
   {
    "duration": 287,
    "start_time": "2023-05-08T11:13:14.703Z"
   },
   {
    "duration": 665,
    "start_time": "2023-05-08T11:13:35.928Z"
   },
   {
    "duration": 310,
    "start_time": "2023-05-08T11:13:45.704Z"
   },
   {
    "duration": 306,
    "start_time": "2023-05-08T11:14:38.130Z"
   },
   {
    "duration": 439,
    "start_time": "2023-05-08T11:15:53.797Z"
   },
   {
    "duration": 425,
    "start_time": "2023-05-08T11:16:21.129Z"
   },
   {
    "duration": 391,
    "start_time": "2023-05-08T11:16:36.794Z"
   },
   {
    "duration": 90,
    "start_time": "2023-05-08T11:17:27.092Z"
   },
   {
    "duration": 448,
    "start_time": "2023-05-08T11:17:47.431Z"
   },
   {
    "duration": 422,
    "start_time": "2023-05-08T11:18:11.064Z"
   },
   {
    "duration": 13,
    "start_time": "2023-05-08T11:18:45.272Z"
   },
   {
    "duration": 7,
    "start_time": "2023-05-08T11:20:45.313Z"
   },
   {
    "duration": 6,
    "start_time": "2023-05-08T11:21:57.820Z"
   },
   {
    "duration": 333,
    "start_time": "2023-05-08T11:22:58.288Z"
   },
   {
    "duration": 403,
    "start_time": "2023-05-08T11:23:29.530Z"
   },
   {
    "duration": 6,
    "start_time": "2023-05-08T11:25:11.049Z"
   },
   {
    "duration": 157,
    "start_time": "2023-05-08T11:25:11.057Z"
   },
   {
    "duration": 32,
    "start_time": "2023-05-08T11:25:11.216Z"
   },
   {
    "duration": 336,
    "start_time": "2023-05-08T11:25:11.254Z"
   },
   {
    "duration": 143,
    "start_time": "2023-05-08T11:25:11.593Z"
   },
   {
    "duration": 19,
    "start_time": "2023-05-08T11:25:11.738Z"
   },
   {
    "duration": 12,
    "start_time": "2023-05-08T11:25:11.759Z"
   },
   {
    "duration": 20,
    "start_time": "2023-05-08T11:25:11.773Z"
   },
   {
    "duration": 29,
    "start_time": "2023-05-08T11:25:11.795Z"
   },
   {
    "duration": 35,
    "start_time": "2023-05-08T11:25:11.826Z"
   },
   {
    "duration": 10,
    "start_time": "2023-05-08T11:25:11.863Z"
   },
   {
    "duration": 22,
    "start_time": "2023-05-08T11:25:11.875Z"
   },
   {
    "duration": 15,
    "start_time": "2023-05-08T11:25:11.900Z"
   },
   {
    "duration": 87,
    "start_time": "2023-05-08T11:25:11.917Z"
   },
   {
    "duration": 17,
    "start_time": "2023-05-08T11:25:12.007Z"
   },
   {
    "duration": 36,
    "start_time": "2023-05-08T11:25:12.027Z"
   },
   {
    "duration": 126,
    "start_time": "2023-05-08T11:25:12.075Z"
   },
   {
    "duration": 12,
    "start_time": "2023-05-08T11:25:12.203Z"
   },
   {
    "duration": 242,
    "start_time": "2023-05-08T11:25:12.217Z"
   },
   {
    "duration": 19,
    "start_time": "2023-05-08T11:25:12.462Z"
   },
   {
    "duration": 397,
    "start_time": "2023-05-08T11:25:12.484Z"
   },
   {
    "duration": 7,
    "start_time": "2023-05-08T11:25:12.883Z"
   },
   {
    "duration": 128,
    "start_time": "2023-05-08T11:25:12.891Z"
   },
   {
    "duration": 46,
    "start_time": "2023-05-08T11:25:13.021Z"
   },
   {
    "duration": 99,
    "start_time": "2023-05-08T11:25:13.069Z"
   },
   {
    "duration": 36,
    "start_time": "2023-05-08T11:25:13.170Z"
   },
   {
    "duration": 176,
    "start_time": "2023-05-08T11:25:13.210Z"
   },
   {
    "duration": 26,
    "start_time": "2023-05-08T11:25:13.388Z"
   },
   {
    "duration": 112,
    "start_time": "2023-05-08T11:25:13.416Z"
   },
   {
    "duration": 20,
    "start_time": "2023-05-08T11:25:13.530Z"
   },
   {
    "duration": 38,
    "start_time": "2023-05-08T11:25:13.552Z"
   },
   {
    "duration": 212,
    "start_time": "2023-05-08T11:25:13.593Z"
   },
   {
    "duration": 277,
    "start_time": "2023-05-08T11:25:13.807Z"
   },
   {
    "duration": 8,
    "start_time": "2023-05-08T11:25:14.087Z"
   },
   {
    "duration": 217,
    "start_time": "2023-05-08T11:25:14.097Z"
   },
   {
    "duration": 286,
    "start_time": "2023-05-08T11:25:14.316Z"
   },
   {
    "duration": 8,
    "start_time": "2023-05-08T11:25:14.605Z"
   },
   {
    "duration": 175,
    "start_time": "2023-05-08T11:25:14.615Z"
   },
   {
    "duration": 17387,
    "start_time": "2023-05-08T11:25:14.792Z"
   },
   {
    "duration": 81,
    "start_time": "2023-05-08T11:25:32.182Z"
   },
   {
    "duration": 9,
    "start_time": "2023-05-08T11:25:32.265Z"
   },
   {
    "duration": 209,
    "start_time": "2023-05-08T11:25:32.276Z"
   },
   {
    "duration": 336,
    "start_time": "2023-05-08T11:25:32.487Z"
   },
   {
    "duration": 2250,
    "start_time": "2023-05-08T11:25:32.826Z"
   },
   {
    "duration": 3,
    "start_time": "2023-05-08T11:25:35.078Z"
   },
   {
    "duration": 73,
    "start_time": "2023-05-08T11:25:35.084Z"
   },
   {
    "duration": 10,
    "start_time": "2023-05-08T11:25:35.164Z"
   },
   {
    "duration": 47,
    "start_time": "2023-05-08T11:25:35.176Z"
   },
   {
    "duration": 54,
    "start_time": "2023-05-08T11:25:35.226Z"
   },
   {
    "duration": 12,
    "start_time": "2023-05-08T11:25:35.283Z"
   },
   {
    "duration": 54,
    "start_time": "2023-05-08T11:25:35.298Z"
   },
   {
    "duration": 48,
    "start_time": "2023-05-08T11:25:35.354Z"
   },
   {
    "duration": 183,
    "start_time": "2023-05-08T11:25:35.404Z"
   },
   {
    "duration": 11,
    "start_time": "2023-05-08T11:25:35.590Z"
   },
   {
    "duration": 185,
    "start_time": "2023-05-08T11:25:35.604Z"
   },
   {
    "duration": 42,
    "start_time": "2023-05-08T11:25:35.792Z"
   },
   {
    "duration": 58,
    "start_time": "2023-05-08T11:25:35.836Z"
   },
   {
    "duration": 2680,
    "start_time": "2023-05-08T11:25:35.896Z"
   },
   {
    "duration": 9,
    "start_time": "2023-05-08T11:25:38.578Z"
   },
   {
    "duration": 71,
    "start_time": "2023-05-08T11:25:38.590Z"
   },
   {
    "duration": 99,
    "start_time": "2023-05-08T11:25:38.665Z"
   },
   {
    "duration": 40,
    "start_time": "2023-05-08T11:25:38.766Z"
   },
   {
    "duration": 343,
    "start_time": "2023-05-08T11:25:38.808Z"
   },
   {
    "duration": 5,
    "start_time": "2023-05-08T11:25:39.159Z"
   },
   {
    "duration": 342,
    "start_time": "2023-05-08T11:25:39.165Z"
   },
   {
    "duration": 290,
    "start_time": "2023-05-08T11:26:54.887Z"
   },
   {
    "duration": 41,
    "start_time": "2023-05-08T11:30:37.517Z"
   },
   {
    "duration": 10,
    "start_time": "2023-05-08T11:30:56.402Z"
   },
   {
    "duration": 7,
    "start_time": "2023-05-08T11:31:42.095Z"
   },
   {
    "duration": 47,
    "start_time": "2023-05-08T11:35:31.675Z"
   },
   {
    "duration": 855,
    "start_time": "2023-05-08T11:36:17.454Z"
   },
   {
    "duration": 8,
    "start_time": "2023-05-08T11:49:16.709Z"
   },
   {
    "duration": 30,
    "start_time": "2023-05-08T11:50:17.485Z"
   },
   {
    "duration": 8,
    "start_time": "2023-05-08T11:50:39.093Z"
   },
   {
    "duration": 277,
    "start_time": "2023-05-08T11:51:10.542Z"
   },
   {
    "duration": 264,
    "start_time": "2023-05-08T11:51:40.641Z"
   },
   {
    "duration": 267,
    "start_time": "2023-05-08T11:52:11.916Z"
   },
   {
    "duration": 280,
    "start_time": "2023-05-08T11:52:20.161Z"
   },
   {
    "duration": 11,
    "start_time": "2023-05-08T11:58:10.541Z"
   },
   {
    "duration": 88,
    "start_time": "2023-05-08T11:59:28.054Z"
   },
   {
    "duration": 5,
    "start_time": "2023-05-08T11:59:58.420Z"
   },
   {
    "duration": 290,
    "start_time": "2023-05-08T12:01:42.007Z"
   },
   {
    "duration": 37,
    "start_time": "2023-05-08T12:04:17.050Z"
   },
   {
    "duration": 23,
    "start_time": "2023-05-08T12:07:33.337Z"
   },
   {
    "duration": 18,
    "start_time": "2023-05-08T12:09:35.527Z"
   },
   {
    "duration": 440,
    "start_time": "2023-05-08T12:10:30.238Z"
   },
   {
    "duration": 10,
    "start_time": "2023-05-08T12:12:22.255Z"
   },
   {
    "duration": 629,
    "start_time": "2023-05-08T12:13:47.074Z"
   },
   {
    "duration": 51,
    "start_time": "2023-05-08T12:14:30.174Z"
   },
   {
    "duration": 13,
    "start_time": "2023-05-08T12:18:21.168Z"
   },
   {
    "duration": 22,
    "start_time": "2023-05-08T12:33:10.842Z"
   },
   {
    "duration": 16,
    "start_time": "2023-05-08T12:33:31.782Z"
   },
   {
    "duration": 19,
    "start_time": "2023-05-08T12:35:07.358Z"
   },
   {
    "duration": 19,
    "start_time": "2023-05-08T12:35:18.028Z"
   },
   {
    "duration": 17,
    "start_time": "2023-05-08T12:35:48.070Z"
   },
   {
    "duration": 172,
    "start_time": "2023-05-08T15:09:14.774Z"
   },
   {
    "duration": 20,
    "start_time": "2023-05-08T15:10:17.809Z"
   },
   {
    "duration": 32,
    "start_time": "2023-05-08T15:14:01.144Z"
   },
   {
    "duration": 63,
    "start_time": "2023-05-08T15:14:53.273Z"
   },
   {
    "duration": 5,
    "start_time": "2023-05-08T15:15:06.491Z"
   },
   {
    "duration": 279,
    "start_time": "2023-05-08T15:15:14.742Z"
   },
   {
    "duration": 5,
    "start_time": "2023-05-08T15:16:40.996Z"
   },
   {
    "duration": 26,
    "start_time": "2023-05-08T15:31:44.304Z"
   },
   {
    "duration": 28,
    "start_time": "2023-05-08T15:33:32.477Z"
   },
   {
    "duration": 7,
    "start_time": "2023-05-08T15:35:54.126Z"
   },
   {
    "duration": 3,
    "start_time": "2023-05-08T15:49:48.428Z"
   },
   {
    "duration": 89,
    "start_time": "2023-05-08T15:49:54.167Z"
   },
   {
    "duration": 122,
    "start_time": "2023-05-08T15:50:15.083Z"
   },
   {
    "duration": 140,
    "start_time": "2023-05-08T15:53:26.667Z"
   },
   {
    "duration": 21,
    "start_time": "2023-05-08T15:54:04.923Z"
   },
   {
    "duration": 119,
    "start_time": "2023-05-08T15:54:28.695Z"
   },
   {
    "duration": 118,
    "start_time": "2023-05-08T15:55:13.642Z"
   },
   {
    "duration": 118,
    "start_time": "2023-05-08T15:55:34.002Z"
   },
   {
    "duration": 123,
    "start_time": "2023-05-08T15:55:49.384Z"
   },
   {
    "duration": 13,
    "start_time": "2023-05-08T15:56:13.881Z"
   },
   {
    "duration": 7,
    "start_time": "2023-05-08T15:56:31.628Z"
   },
   {
    "duration": 1614,
    "start_time": "2023-05-08T16:03:47.501Z"
   },
   {
    "duration": 145,
    "start_time": "2023-05-08T16:03:49.117Z"
   },
   {
    "duration": 29,
    "start_time": "2023-05-08T16:03:49.264Z"
   },
   {
    "duration": 8,
    "start_time": "2023-05-08T16:03:49.296Z"
   },
   {
    "duration": 544,
    "start_time": "2023-05-08T16:03:49.305Z"
   },
   {
    "duration": 6,
    "start_time": "2023-05-08T16:03:49.851Z"
   },
   {
    "duration": 12,
    "start_time": "2023-05-08T16:03:49.859Z"
   },
   {
    "duration": 12,
    "start_time": "2023-05-08T16:03:49.873Z"
   },
   {
    "duration": 76,
    "start_time": "2023-05-08T16:03:49.887Z"
   },
   {
    "duration": 5,
    "start_time": "2023-05-08T16:03:49.966Z"
   },
   {
    "duration": 21,
    "start_time": "2023-05-08T16:03:49.973Z"
   },
   {
    "duration": 62,
    "start_time": "2023-05-08T16:03:49.996Z"
   },
   {
    "duration": 29,
    "start_time": "2023-05-08T16:03:50.061Z"
   },
   {
    "duration": 84,
    "start_time": "2023-05-08T16:03:50.092Z"
   },
   {
    "duration": 21,
    "start_time": "2023-05-08T16:03:50.179Z"
   },
   {
    "duration": 45,
    "start_time": "2023-05-08T16:03:50.202Z"
   },
   {
    "duration": 93,
    "start_time": "2023-05-08T16:03:50.249Z"
   },
   {
    "duration": 11,
    "start_time": "2023-05-08T16:03:50.344Z"
   },
   {
    "duration": 247,
    "start_time": "2023-05-08T16:03:50.357Z"
   },
   {
    "duration": 15,
    "start_time": "2023-05-08T16:03:50.607Z"
   },
   {
    "duration": 29,
    "start_time": "2023-05-08T16:03:50.624Z"
   },
   {
    "duration": 12,
    "start_time": "2023-05-08T16:03:50.655Z"
   },
   {
    "duration": 92,
    "start_time": "2023-05-08T16:03:50.669Z"
   },
   {
    "duration": 37,
    "start_time": "2023-05-08T16:03:50.763Z"
   },
   {
    "duration": 100,
    "start_time": "2023-05-08T16:03:50.802Z"
   },
   {
    "duration": 15,
    "start_time": "2023-05-08T16:03:50.904Z"
   },
   {
    "duration": 120,
    "start_time": "2023-05-08T16:03:50.921Z"
   },
   {
    "duration": 23,
    "start_time": "2023-05-08T16:03:51.046Z"
   },
   {
    "duration": 97,
    "start_time": "2023-05-08T16:03:51.071Z"
   },
   {
    "duration": 14,
    "start_time": "2023-05-08T16:03:51.170Z"
   },
   {
    "duration": 38,
    "start_time": "2023-05-08T16:03:51.185Z"
   },
   {
    "duration": 186,
    "start_time": "2023-05-08T16:03:51.225Z"
   },
   {
    "duration": 314,
    "start_time": "2023-05-08T16:03:51.413Z"
   },
   {
    "duration": 20,
    "start_time": "2023-05-08T16:03:51.729Z"
   },
   {
    "duration": 263,
    "start_time": "2023-05-08T16:03:51.751Z"
   },
   {
    "duration": 275,
    "start_time": "2023-05-08T16:03:52.016Z"
   },
   {
    "duration": 7,
    "start_time": "2023-05-08T16:03:52.293Z"
   },
   {
    "duration": 265,
    "start_time": "2023-05-08T16:03:52.302Z"
   },
   {
    "duration": 15104,
    "start_time": "2023-05-08T16:03:52.569Z"
   },
   {
    "duration": 25,
    "start_time": "2023-05-08T16:04:07.676Z"
   },
   {
    "duration": 45,
    "start_time": "2023-05-08T16:04:07.703Z"
   },
   {
    "duration": 193,
    "start_time": "2023-05-08T16:04:07.750Z"
   },
   {
    "duration": 259,
    "start_time": "2023-05-08T16:04:07.945Z"
   },
   {
    "duration": 2361,
    "start_time": "2023-05-08T16:04:08.206Z"
   },
   {
    "duration": 2,
    "start_time": "2023-05-08T16:04:10.569Z"
   },
   {
    "duration": 31,
    "start_time": "2023-05-08T16:04:10.573Z"
   },
   {
    "duration": 40,
    "start_time": "2023-05-08T16:04:10.606Z"
   },
   {
    "duration": 30,
    "start_time": "2023-05-08T16:04:10.648Z"
   },
   {
    "duration": 24,
    "start_time": "2023-05-08T16:04:10.680Z"
   },
   {
    "duration": 15,
    "start_time": "2023-05-08T16:04:10.706Z"
   },
   {
    "duration": 33,
    "start_time": "2023-05-08T16:04:10.723Z"
   },
   {
    "duration": 770,
    "start_time": "2023-05-08T16:04:10.757Z"
   },
   {
    "duration": 17,
    "start_time": "2023-05-08T16:04:11.529Z"
   },
   {
    "duration": 135,
    "start_time": "2023-05-08T16:04:11.547Z"
   },
   {
    "duration": 8,
    "start_time": "2023-05-08T16:04:11.683Z"
   },
   {
    "duration": 16,
    "start_time": "2023-05-08T16:04:11.693Z"
   },
   {
    "duration": 36,
    "start_time": "2023-05-08T16:04:11.711Z"
   },
   {
    "duration": 12,
    "start_time": "2023-05-08T16:04:11.749Z"
   },
   {
    "duration": 2289,
    "start_time": "2023-05-08T16:04:11.762Z"
   },
   {
    "duration": 6,
    "start_time": "2023-05-08T16:04:14.054Z"
   },
   {
    "duration": 27,
    "start_time": "2023-05-08T16:04:14.062Z"
   },
   {
    "duration": 56,
    "start_time": "2023-05-08T16:04:14.091Z"
   },
   {
    "duration": 9,
    "start_time": "2023-05-08T16:04:14.149Z"
   },
   {
    "duration": 609,
    "start_time": "2023-05-08T16:04:14.160Z"
   },
   {
    "duration": 5,
    "start_time": "2023-05-08T16:04:14.771Z"
   },
   {
    "duration": 315,
    "start_time": "2023-05-08T16:04:14.777Z"
   },
   {
    "duration": 289,
    "start_time": "2023-05-08T16:04:15.094Z"
   },
   {
    "duration": 5,
    "start_time": "2023-05-08T16:04:15.385Z"
   },
   {
    "duration": 18,
    "start_time": "2023-05-08T16:04:15.392Z"
   },
   {
    "duration": 72,
    "start_time": "2023-05-08T16:04:15.412Z"
   },
   {
    "duration": 19,
    "start_time": "2023-05-08T16:04:15.486Z"
   },
   {
    "duration": 4,
    "start_time": "2023-05-08T16:04:15.507Z"
   },
   {
    "duration": 4,
    "start_time": "2023-05-08T16:38:14.565Z"
   },
   {
    "duration": 251,
    "start_time": "2023-05-08T16:38:15.768Z"
   },
   {
    "duration": 142,
    "start_time": "2023-05-08T16:38:44.568Z"
   },
   {
    "duration": 237,
    "start_time": "2023-05-08T16:51:21.658Z"
   },
   {
    "duration": 209,
    "start_time": "2023-05-08T17:32:07.748Z"
   },
   {
    "duration": 27,
    "start_time": "2023-05-08T17:32:10.430Z"
   },
   {
    "duration": 29,
    "start_time": "2023-05-08T17:58:50.927Z"
   },
   {
    "duration": 7503,
    "start_time": "2023-05-08T18:02:00.206Z"
   },
   {
    "duration": 115,
    "start_time": "2023-05-08T18:02:11.228Z"
   },
   {
    "duration": 15,
    "start_time": "2023-05-08T18:16:51.530Z"
   },
   {
    "duration": 45,
    "start_time": "2023-05-08T18:37:05.106Z"
   },
   {
    "duration": 1846,
    "start_time": "2023-05-08T18:40:39.111Z"
   },
   {
    "duration": 1547,
    "start_time": "2023-05-08T18:42:38.664Z"
   },
   {
    "duration": 310,
    "start_time": "2023-05-08T18:42:40.213Z"
   },
   {
    "duration": 45,
    "start_time": "2023-05-08T18:42:40.524Z"
   },
   {
    "duration": 8,
    "start_time": "2023-05-08T18:42:40.571Z"
   },
   {
    "duration": 1069,
    "start_time": "2023-05-08T18:42:40.581Z"
   },
   {
    "duration": 10,
    "start_time": "2023-05-08T18:42:41.653Z"
   },
   {
    "duration": 13,
    "start_time": "2023-05-08T18:42:41.665Z"
   },
   {
    "duration": 21,
    "start_time": "2023-05-08T18:42:41.680Z"
   },
   {
    "duration": 42,
    "start_time": "2023-05-08T18:42:41.703Z"
   },
   {
    "duration": 36,
    "start_time": "2023-05-08T18:42:41.747Z"
   },
   {
    "duration": 32,
    "start_time": "2023-05-08T18:42:41.785Z"
   },
   {
    "duration": 30,
    "start_time": "2023-05-08T18:42:41.819Z"
   },
   {
    "duration": 27,
    "start_time": "2023-05-08T18:42:41.851Z"
   },
   {
    "duration": 106,
    "start_time": "2023-05-08T18:42:41.881Z"
   },
   {
    "duration": 18,
    "start_time": "2023-05-08T18:42:41.989Z"
   },
   {
    "duration": 22,
    "start_time": "2023-05-08T18:42:42.009Z"
   },
   {
    "duration": 80,
    "start_time": "2023-05-08T18:42:42.033Z"
   },
   {
    "duration": 10,
    "start_time": "2023-05-08T18:42:42.115Z"
   },
   {
    "duration": 236,
    "start_time": "2023-05-08T18:42:42.127Z"
   },
   {
    "duration": 13,
    "start_time": "2023-05-08T18:42:42.365Z"
   },
   {
    "duration": 37,
    "start_time": "2023-05-08T18:42:42.380Z"
   },
   {
    "duration": 7,
    "start_time": "2023-05-08T18:42:42.419Z"
   },
   {
    "duration": 89,
    "start_time": "2023-05-08T18:42:42.427Z"
   },
   {
    "duration": 44,
    "start_time": "2023-05-08T18:42:42.518Z"
   },
   {
    "duration": 83,
    "start_time": "2023-05-08T18:42:42.564Z"
   },
   {
    "duration": 14,
    "start_time": "2023-05-08T18:42:42.648Z"
   },
   {
    "duration": 407,
    "start_time": "2023-05-08T18:42:42.664Z"
   },
   {
    "duration": 19,
    "start_time": "2023-05-08T18:42:43.073Z"
   },
   {
    "duration": 82,
    "start_time": "2023-05-08T18:42:43.094Z"
   },
   {
    "duration": 14,
    "start_time": "2023-05-08T18:42:43.177Z"
   },
   {
    "duration": 12,
    "start_time": "2023-05-08T18:42:43.193Z"
   },
   {
    "duration": 179,
    "start_time": "2023-05-08T18:42:43.207Z"
   },
   {
    "duration": 248,
    "start_time": "2023-05-08T18:42:43.389Z"
   },
   {
    "duration": 10,
    "start_time": "2023-05-08T18:42:43.642Z"
   },
   {
    "duration": 198,
    "start_time": "2023-05-08T18:42:43.655Z"
   },
   {
    "duration": 262,
    "start_time": "2023-05-08T18:42:43.855Z"
   },
   {
    "duration": 6,
    "start_time": "2023-05-08T18:42:44.119Z"
   },
   {
    "duration": 286,
    "start_time": "2023-05-08T18:42:44.126Z"
   },
   {
    "duration": 16508,
    "start_time": "2023-05-08T18:42:44.413Z"
   },
   {
    "duration": 43,
    "start_time": "2023-05-08T18:43:00.924Z"
   },
   {
    "duration": 76,
    "start_time": "2023-05-08T18:43:00.972Z"
   },
   {
    "duration": 291,
    "start_time": "2023-05-08T18:43:01.050Z"
   },
   {
    "duration": 191,
    "start_time": "2023-05-08T18:43:01.343Z"
   },
   {
    "duration": 2408,
    "start_time": "2023-05-08T18:43:01.535Z"
   },
   {
    "duration": 3,
    "start_time": "2023-05-08T18:43:03.945Z"
   },
   {
    "duration": 25,
    "start_time": "2023-05-08T18:43:03.951Z"
   },
   {
    "duration": 10,
    "start_time": "2023-05-08T18:43:03.979Z"
   },
   {
    "duration": 21,
    "start_time": "2023-05-08T18:43:04.042Z"
   },
   {
    "duration": 130,
    "start_time": "2023-05-08T18:43:04.065Z"
   },
   {
    "duration": 10,
    "start_time": "2023-05-08T18:43:04.198Z"
   },
   {
    "duration": 48,
    "start_time": "2023-05-08T18:43:04.210Z"
   },
   {
    "duration": 760,
    "start_time": "2023-05-08T18:43:04.261Z"
   },
   {
    "duration": 24,
    "start_time": "2023-05-08T18:43:05.023Z"
   },
   {
    "duration": 131,
    "start_time": "2023-05-08T18:43:05.049Z"
   },
   {
    "duration": 8,
    "start_time": "2023-05-08T18:43:05.182Z"
   },
   {
    "duration": 11,
    "start_time": "2023-05-08T18:43:05.192Z"
   },
   {
    "duration": 45,
    "start_time": "2023-05-08T18:43:05.205Z"
   },
   {
    "duration": 42,
    "start_time": "2023-05-08T18:43:05.252Z"
   },
   {
    "duration": 2443,
    "start_time": "2023-05-08T18:43:05.296Z"
   },
   {
    "duration": 8,
    "start_time": "2023-05-08T18:43:07.752Z"
   },
   {
    "duration": 53,
    "start_time": "2023-05-08T18:43:07.763Z"
   },
   {
    "duration": 15,
    "start_time": "2023-05-08T18:43:07.842Z"
   },
   {
    "duration": 15,
    "start_time": "2023-05-08T18:43:07.860Z"
   },
   {
    "duration": 648,
    "start_time": "2023-05-08T18:43:07.878Z"
   },
   {
    "duration": 13,
    "start_time": "2023-05-08T18:43:08.528Z"
   },
   {
    "duration": 345,
    "start_time": "2023-05-08T18:43:08.544Z"
   },
   {
    "duration": 276,
    "start_time": "2023-05-08T18:43:08.892Z"
   },
   {
    "duration": 6,
    "start_time": "2023-05-08T18:43:09.170Z"
   },
   {
    "duration": 16,
    "start_time": "2023-05-08T18:43:09.178Z"
   },
   {
    "duration": 103,
    "start_time": "2023-05-08T18:43:09.196Z"
   },
   {
    "duration": 22,
    "start_time": "2023-05-08T18:43:09.301Z"
   },
   {
    "duration": 23,
    "start_time": "2023-05-08T18:43:09.324Z"
   },
   {
    "duration": 1552,
    "start_time": "2023-05-08T19:09:32.575Z"
   },
   {
    "duration": 387,
    "start_time": "2023-05-08T19:09:34.129Z"
   },
   {
    "duration": 27,
    "start_time": "2023-05-08T19:09:34.517Z"
   },
   {
    "duration": 8,
    "start_time": "2023-05-08T19:09:34.546Z"
   },
   {
    "duration": 548,
    "start_time": "2023-05-08T19:09:34.555Z"
   },
   {
    "duration": 6,
    "start_time": "2023-05-08T19:09:35.105Z"
   },
   {
    "duration": 32,
    "start_time": "2023-05-08T19:09:35.113Z"
   },
   {
    "duration": 54,
    "start_time": "2023-05-08T19:09:35.148Z"
   },
   {
    "duration": 114,
    "start_time": "2023-05-08T19:09:35.204Z"
   },
   {
    "duration": 68,
    "start_time": "2023-05-08T19:09:35.321Z"
   },
   {
    "duration": 29,
    "start_time": "2023-05-08T19:09:35.391Z"
   },
   {
    "duration": 65,
    "start_time": "2023-05-08T19:09:35.422Z"
   },
   {
    "duration": 90,
    "start_time": "2023-05-08T19:09:35.489Z"
   },
   {
    "duration": 96,
    "start_time": "2023-05-08T19:09:35.581Z"
   },
   {
    "duration": 19,
    "start_time": "2023-05-08T19:09:35.678Z"
   },
   {
    "duration": 24,
    "start_time": "2023-05-08T19:09:35.698Z"
   },
   {
    "duration": 96,
    "start_time": "2023-05-08T19:09:35.724Z"
   },
   {
    "duration": 93,
    "start_time": "2023-05-08T19:09:35.822Z"
   },
   {
    "duration": 287,
    "start_time": "2023-05-08T19:09:35.918Z"
   },
   {
    "duration": 13,
    "start_time": "2023-05-08T19:09:36.206Z"
   },
   {
    "duration": 42,
    "start_time": "2023-05-08T19:09:36.221Z"
   },
   {
    "duration": 50,
    "start_time": "2023-05-08T19:09:36.264Z"
   },
   {
    "duration": 86,
    "start_time": "2023-05-08T19:09:36.316Z"
   },
   {
    "duration": 41,
    "start_time": "2023-05-08T19:09:36.403Z"
   },
   {
    "duration": 76,
    "start_time": "2023-05-08T19:09:36.446Z"
   },
   {
    "duration": 32,
    "start_time": "2023-05-08T19:09:36.524Z"
   },
   {
    "duration": 124,
    "start_time": "2023-05-08T19:09:36.558Z"
   },
   {
    "duration": 23,
    "start_time": "2023-05-08T19:09:36.686Z"
   },
   {
    "duration": 98,
    "start_time": "2023-05-08T19:09:36.712Z"
   },
   {
    "duration": 13,
    "start_time": "2023-05-08T19:09:36.811Z"
   },
   {
    "duration": 18,
    "start_time": "2023-05-08T19:09:36.842Z"
   },
   {
    "duration": 292,
    "start_time": "2023-05-08T19:09:36.862Z"
   },
   {
    "duration": 343,
    "start_time": "2023-05-08T19:09:37.156Z"
   },
   {
    "duration": 9,
    "start_time": "2023-05-08T19:09:37.502Z"
   },
   {
    "duration": 299,
    "start_time": "2023-05-08T19:09:37.512Z"
   },
   {
    "duration": 283,
    "start_time": "2023-05-08T19:09:37.813Z"
   },
   {
    "duration": 7,
    "start_time": "2023-05-08T19:09:38.098Z"
   },
   {
    "duration": 302,
    "start_time": "2023-05-08T19:09:38.106Z"
   },
   {
    "duration": 14589,
    "start_time": "2023-05-08T19:09:38.410Z"
   },
   {
    "duration": 50,
    "start_time": "2023-05-08T19:09:53.002Z"
   },
   {
    "duration": 9,
    "start_time": "2023-05-08T19:09:53.054Z"
   },
   {
    "duration": 213,
    "start_time": "2023-05-08T19:09:53.065Z"
   },
   {
    "duration": 343,
    "start_time": "2023-05-08T19:09:53.280Z"
   },
   {
    "duration": 2392,
    "start_time": "2023-05-08T19:09:53.624Z"
   },
   {
    "duration": 3,
    "start_time": "2023-05-08T19:09:56.018Z"
   },
   {
    "duration": 67,
    "start_time": "2023-05-08T19:09:56.024Z"
   },
   {
    "duration": 23,
    "start_time": "2023-05-08T19:09:56.093Z"
   },
   {
    "duration": 33,
    "start_time": "2023-05-08T19:09:56.118Z"
   },
   {
    "duration": 28,
    "start_time": "2023-05-08T19:09:56.153Z"
   },
   {
    "duration": 22,
    "start_time": "2023-05-08T19:09:56.184Z"
   },
   {
    "duration": 28,
    "start_time": "2023-05-08T19:09:56.209Z"
   },
   {
    "duration": 810,
    "start_time": "2023-05-08T19:09:56.242Z"
   },
   {
    "duration": 13,
    "start_time": "2023-05-08T19:09:57.053Z"
   },
   {
    "duration": 149,
    "start_time": "2023-05-08T19:09:57.068Z"
   },
   {
    "duration": 22,
    "start_time": "2023-05-08T19:09:57.219Z"
   },
   {
    "duration": 8,
    "start_time": "2023-05-08T19:09:57.243Z"
   },
   {
    "duration": 29,
    "start_time": "2023-05-08T19:09:57.253Z"
   },
   {
    "duration": 14,
    "start_time": "2023-05-08T19:09:57.283Z"
   },
   {
    "duration": 2288,
    "start_time": "2023-05-08T19:09:57.299Z"
   },
   {
    "duration": 7,
    "start_time": "2023-05-08T19:09:59.589Z"
   },
   {
    "duration": 59,
    "start_time": "2023-05-08T19:09:59.598Z"
   },
   {
    "duration": 22,
    "start_time": "2023-05-08T19:09:59.659Z"
   },
   {
    "duration": 12,
    "start_time": "2023-05-08T19:09:59.682Z"
   },
   {
    "duration": 646,
    "start_time": "2023-05-08T19:09:59.695Z"
   },
   {
    "duration": 6,
    "start_time": "2023-05-08T19:10:00.343Z"
   },
   {
    "duration": 384,
    "start_time": "2023-05-08T19:10:00.350Z"
   },
   {
    "duration": 298,
    "start_time": "2023-05-08T19:10:00.736Z"
   },
   {
    "duration": 6,
    "start_time": "2023-05-08T19:10:01.042Z"
   },
   {
    "duration": 26,
    "start_time": "2023-05-08T19:10:01.050Z"
   },
   {
    "duration": 52,
    "start_time": "2023-05-08T19:10:01.078Z"
   },
   {
    "duration": 37,
    "start_time": "2023-05-08T19:10:01.132Z"
   },
   {
    "duration": 25,
    "start_time": "2023-05-08T19:10:01.170Z"
   },
   {
    "duration": 135,
    "start_time": "2023-05-08T20:26:37.782Z"
   },
   {
    "duration": 247,
    "start_time": "2023-05-08T20:44:38.283Z"
   },
   {
    "duration": 1659,
    "start_time": "2023-05-08T21:32:11.432Z"
   },
   {
    "duration": 301,
    "start_time": "2023-05-08T21:32:13.093Z"
   },
   {
    "duration": 28,
    "start_time": "2023-05-08T21:32:13.396Z"
   },
   {
    "duration": 8,
    "start_time": "2023-05-08T21:32:13.425Z"
   },
   {
    "duration": 15222,
    "start_time": "2023-05-08T21:32:17.042Z"
   },
   {
    "duration": 22,
    "start_time": "2023-05-08T21:32:32.266Z"
   },
   {
    "duration": 56,
    "start_time": "2023-05-08T21:32:32.292Z"
   },
   {
    "duration": 212,
    "start_time": "2023-05-08T21:32:32.351Z"
   },
   {
    "duration": 305,
    "start_time": "2023-05-08T21:32:32.565Z"
   },
   {
    "duration": 2311,
    "start_time": "2023-05-08T21:32:32.872Z"
   },
   {
    "duration": 2,
    "start_time": "2023-05-08T21:32:35.185Z"
   },
   {
    "duration": 68,
    "start_time": "2023-05-08T21:32:35.189Z"
   },
   {
    "duration": 17,
    "start_time": "2023-05-08T21:32:35.259Z"
   },
   {
    "duration": 30,
    "start_time": "2023-05-08T21:32:35.278Z"
   },
   {
    "duration": 26,
    "start_time": "2023-05-08T21:32:35.310Z"
   },
   {
    "duration": 23,
    "start_time": "2023-05-08T21:32:35.338Z"
   },
   {
    "duration": 33,
    "start_time": "2023-05-08T21:32:35.363Z"
   },
   {
    "duration": 802,
    "start_time": "2023-05-08T21:32:35.398Z"
   },
   {
    "duration": 9,
    "start_time": "2023-05-08T21:32:36.202Z"
   },
   {
    "duration": 202,
    "start_time": "2023-05-08T21:32:36.214Z"
   },
   {
    "duration": 7,
    "start_time": "2023-05-08T21:32:36.418Z"
   },
   {
    "duration": 8,
    "start_time": "2023-05-08T21:32:36.441Z"
   },
   {
    "duration": 44,
    "start_time": "2023-05-08T21:32:36.451Z"
   },
   {
    "duration": 20,
    "start_time": "2023-05-08T21:32:36.497Z"
   },
   {
    "duration": 2322,
    "start_time": "2023-05-08T21:32:36.519Z"
   },
   {
    "duration": 7,
    "start_time": "2023-05-08T21:32:38.843Z"
   },
   {
    "duration": 126,
    "start_time": "2023-05-08T21:32:38.852Z"
   },
   {
    "duration": 11,
    "start_time": "2023-05-08T21:32:38.980Z"
   },
   {
    "duration": 11,
    "start_time": "2023-05-08T21:32:38.992Z"
   },
   {
    "duration": 627,
    "start_time": "2023-05-08T21:32:39.004Z"
   },
   {
    "duration": 5,
    "start_time": "2023-05-08T21:32:39.632Z"
   },
   {
    "duration": 339,
    "start_time": "2023-05-08T21:32:39.640Z"
   },
   {
    "duration": 254,
    "start_time": "2023-05-08T21:32:39.981Z"
   },
   {
    "duration": 5,
    "start_time": "2023-05-08T21:32:40.237Z"
   },
   {
    "duration": 21,
    "start_time": "2023-05-08T21:32:40.244Z"
   },
   {
    "duration": 52,
    "start_time": "2023-05-08T21:32:40.267Z"
   },
   {
    "duration": 19,
    "start_time": "2023-05-08T21:32:40.320Z"
   },
   {
    "duration": 15,
    "start_time": "2023-05-08T21:32:40.341Z"
   },
   {
    "duration": 1650,
    "start_time": "2023-05-08T21:33:51.551Z"
   },
   {
    "duration": 243,
    "start_time": "2023-05-08T21:33:53.203Z"
   },
   {
    "duration": 28,
    "start_time": "2023-05-08T21:33:53.448Z"
   },
   {
    "duration": 9,
    "start_time": "2023-05-08T21:33:53.478Z"
   },
   {
    "duration": 553,
    "start_time": "2023-05-08T21:33:53.490Z"
   },
   {
    "duration": 6,
    "start_time": "2023-05-08T21:33:54.045Z"
   },
   {
    "duration": 15,
    "start_time": "2023-05-08T21:33:54.052Z"
   },
   {
    "duration": 16,
    "start_time": "2023-05-08T21:33:54.069Z"
   },
   {
    "duration": 72,
    "start_time": "2023-05-08T21:33:54.087Z"
   },
   {
    "duration": 13,
    "start_time": "2023-05-08T21:33:54.161Z"
   },
   {
    "duration": 31,
    "start_time": "2023-05-08T21:33:54.176Z"
   },
   {
    "duration": 25,
    "start_time": "2023-05-08T21:33:54.208Z"
   },
   {
    "duration": 22,
    "start_time": "2023-05-08T21:33:54.240Z"
   },
   {
    "duration": 81,
    "start_time": "2023-05-08T21:33:54.265Z"
   },
   {
    "duration": 19,
    "start_time": "2023-05-08T21:33:54.347Z"
   },
   {
    "duration": 23,
    "start_time": "2023-05-08T21:33:54.368Z"
   },
   {
    "duration": 98,
    "start_time": "2023-05-08T21:33:54.392Z"
   },
   {
    "duration": 10,
    "start_time": "2023-05-08T21:33:54.492Z"
   },
   {
    "duration": 225,
    "start_time": "2023-05-08T21:33:54.504Z"
   },
   {
    "duration": 20,
    "start_time": "2023-05-08T21:33:54.730Z"
   },
   {
    "duration": 12,
    "start_time": "2023-05-08T21:33:54.751Z"
   },
   {
    "duration": 27,
    "start_time": "2023-05-08T21:33:54.765Z"
   },
   {
    "duration": 74,
    "start_time": "2023-05-08T21:33:54.794Z"
   },
   {
    "duration": 36,
    "start_time": "2023-05-08T21:33:54.870Z"
   },
   {
    "duration": 82,
    "start_time": "2023-05-08T21:33:54.907Z"
   },
   {
    "duration": 15,
    "start_time": "2023-05-08T21:33:54.991Z"
   },
   {
    "duration": 110,
    "start_time": "2023-05-08T21:33:55.008Z"
   },
   {
    "duration": 36,
    "start_time": "2023-05-08T21:33:55.119Z"
   },
   {
    "duration": 93,
    "start_time": "2023-05-08T21:33:55.156Z"
   },
   {
    "duration": 13,
    "start_time": "2023-05-08T21:33:55.251Z"
   },
   {
    "duration": 15,
    "start_time": "2023-05-08T21:33:55.266Z"
   },
   {
    "duration": 181,
    "start_time": "2023-05-08T21:33:55.282Z"
   },
   {
    "duration": 331,
    "start_time": "2023-05-08T21:33:55.465Z"
   },
   {
    "duration": 10,
    "start_time": "2023-05-08T21:33:55.798Z"
   },
   {
    "duration": 310,
    "start_time": "2023-05-08T21:33:55.810Z"
   },
   {
    "duration": 261,
    "start_time": "2023-05-08T21:33:56.121Z"
   },
   {
    "duration": 7,
    "start_time": "2023-05-08T21:33:56.383Z"
   },
   {
    "duration": 310,
    "start_time": "2023-05-08T21:33:56.392Z"
   },
   {
    "duration": 15654,
    "start_time": "2023-05-08T21:33:56.705Z"
   },
   {
    "duration": 82,
    "start_time": "2023-05-08T21:34:12.361Z"
   },
   {
    "duration": 9,
    "start_time": "2023-05-08T21:34:12.447Z"
   },
   {
    "duration": 190,
    "start_time": "2023-05-08T21:34:12.458Z"
   },
   {
    "duration": 312,
    "start_time": "2023-05-08T21:34:12.649Z"
   },
   {
    "duration": 2254,
    "start_time": "2023-05-08T21:34:12.963Z"
   },
   {
    "duration": 3,
    "start_time": "2023-05-08T21:34:15.219Z"
   },
   {
    "duration": 33,
    "start_time": "2023-05-08T21:34:15.224Z"
   },
   {
    "duration": 7,
    "start_time": "2023-05-08T21:34:15.259Z"
   },
   {
    "duration": 18,
    "start_time": "2023-05-08T21:34:15.268Z"
   },
   {
    "duration": 58,
    "start_time": "2023-05-08T21:34:15.288Z"
   },
   {
    "duration": 7,
    "start_time": "2023-05-08T21:34:15.348Z"
   },
   {
    "duration": 26,
    "start_time": "2023-05-08T21:34:15.356Z"
   },
   {
    "duration": 733,
    "start_time": "2023-05-08T21:34:15.384Z"
   },
   {
    "duration": 25,
    "start_time": "2023-05-08T21:34:16.119Z"
   },
   {
    "duration": 135,
    "start_time": "2023-05-08T21:34:16.146Z"
   },
   {
    "duration": 8,
    "start_time": "2023-05-08T21:34:16.283Z"
   },
   {
    "duration": 7,
    "start_time": "2023-05-08T21:34:16.293Z"
   },
   {
    "duration": 50,
    "start_time": "2023-05-08T21:34:16.302Z"
   },
   {
    "duration": 19,
    "start_time": "2023-05-08T21:34:16.354Z"
   },
   {
    "duration": 2376,
    "start_time": "2023-05-08T21:34:16.375Z"
   },
   {
    "duration": 9,
    "start_time": "2023-05-08T21:34:18.754Z"
   },
   {
    "duration": 26,
    "start_time": "2023-05-08T21:34:18.764Z"
   },
   {
    "duration": 60,
    "start_time": "2023-05-08T21:34:18.792Z"
   },
   {
    "duration": 10,
    "start_time": "2023-05-08T21:34:18.855Z"
   },
   {
    "duration": 672,
    "start_time": "2023-05-08T21:34:18.867Z"
   },
   {
    "duration": 6,
    "start_time": "2023-05-08T21:34:19.541Z"
   },
   {
    "duration": 318,
    "start_time": "2023-05-08T21:34:19.548Z"
   },
   {
    "duration": 264,
    "start_time": "2023-05-08T21:34:19.868Z"
   },
   {
    "duration": 9,
    "start_time": "2023-05-08T21:34:20.134Z"
   },
   {
    "duration": 32,
    "start_time": "2023-05-08T21:34:20.144Z"
   },
   {
    "duration": 51,
    "start_time": "2023-05-08T21:34:20.178Z"
   },
   {
    "duration": 22,
    "start_time": "2023-05-08T21:34:20.231Z"
   },
   {
    "duration": 43,
    "start_time": "2023-05-08T21:34:20.259Z"
   },
   {
    "duration": 1658,
    "start_time": "2023-05-08T21:36:07.350Z"
   },
   {
    "duration": 276,
    "start_time": "2023-05-08T21:36:09.010Z"
   },
   {
    "duration": 27,
    "start_time": "2023-05-08T21:36:09.288Z"
   },
   {
    "duration": 7,
    "start_time": "2023-05-08T21:36:09.318Z"
   },
   {
    "duration": 553,
    "start_time": "2023-05-08T21:36:09.327Z"
   },
   {
    "duration": 6,
    "start_time": "2023-05-08T21:36:09.882Z"
   },
   {
    "duration": 10,
    "start_time": "2023-05-08T21:36:09.890Z"
   },
   {
    "duration": 45,
    "start_time": "2023-05-08T21:36:09.902Z"
   },
   {
    "duration": 24,
    "start_time": "2023-05-08T21:36:09.949Z"
   },
   {
    "duration": 8,
    "start_time": "2023-05-08T21:36:09.978Z"
   },
   {
    "duration": 54,
    "start_time": "2023-05-08T21:36:09.988Z"
   },
   {
    "duration": 27,
    "start_time": "2023-05-08T21:36:10.044Z"
   },
   {
    "duration": 24,
    "start_time": "2023-05-08T21:36:10.073Z"
   },
   {
    "duration": 103,
    "start_time": "2023-05-08T21:36:10.099Z"
   },
   {
    "duration": 40,
    "start_time": "2023-05-08T21:36:10.204Z"
   },
   {
    "duration": 23,
    "start_time": "2023-05-08T21:36:10.246Z"
   },
   {
    "duration": 93,
    "start_time": "2023-05-08T21:36:10.271Z"
   },
   {
    "duration": 11,
    "start_time": "2023-05-08T21:36:10.366Z"
   },
   {
    "duration": 250,
    "start_time": "2023-05-08T21:36:10.379Z"
   },
   {
    "duration": 19,
    "start_time": "2023-05-08T21:36:10.631Z"
   },
   {
    "duration": 42,
    "start_time": "2023-05-08T21:36:10.652Z"
   },
   {
    "duration": 4,
    "start_time": "2023-05-08T21:36:10.696Z"
   },
   {
    "duration": 87,
    "start_time": "2023-05-08T21:36:10.702Z"
   },
   {
    "duration": 56,
    "start_time": "2023-05-08T21:36:10.791Z"
   },
   {
    "duration": 98,
    "start_time": "2023-05-08T21:36:10.849Z"
   },
   {
    "duration": 18,
    "start_time": "2023-05-08T21:36:10.949Z"
   },
   {
    "duration": 119,
    "start_time": "2023-05-08T21:36:10.969Z"
   },
   {
    "duration": 22,
    "start_time": "2023-05-08T21:36:11.094Z"
   },
   {
    "duration": 95,
    "start_time": "2023-05-08T21:36:11.117Z"
   },
   {
    "duration": 31,
    "start_time": "2023-05-08T21:36:11.213Z"
   },
   {
    "duration": 14,
    "start_time": "2023-05-08T21:36:11.246Z"
   },
   {
    "duration": 174,
    "start_time": "2023-05-08T21:36:11.261Z"
   },
   {
    "duration": 303,
    "start_time": "2023-05-08T21:36:11.442Z"
   },
   {
    "duration": 9,
    "start_time": "2023-05-08T21:36:11.747Z"
   },
   {
    "duration": 260,
    "start_time": "2023-05-08T21:36:11.757Z"
   },
   {
    "duration": 257,
    "start_time": "2023-05-08T21:36:12.019Z"
   },
   {
    "duration": 7,
    "start_time": "2023-05-08T21:36:12.278Z"
   },
   {
    "duration": 297,
    "start_time": "2023-05-08T21:36:12.287Z"
   },
   {
    "duration": 16104,
    "start_time": "2023-05-08T21:36:12.585Z"
   },
   {
    "duration": 60,
    "start_time": "2023-05-08T21:36:28.691Z"
   },
   {
    "duration": 9,
    "start_time": "2023-05-08T21:36:28.753Z"
   },
   {
    "duration": 197,
    "start_time": "2023-05-08T21:36:28.764Z"
   },
   {
    "duration": 294,
    "start_time": "2023-05-08T21:36:28.963Z"
   },
   {
    "duration": 2346,
    "start_time": "2023-05-08T21:36:29.259Z"
   },
   {
    "duration": 3,
    "start_time": "2023-05-08T21:36:31.607Z"
   },
   {
    "duration": 98,
    "start_time": "2023-05-08T21:36:31.611Z"
   },
   {
    "duration": 50,
    "start_time": "2023-05-08T21:36:31.711Z"
   },
   {
    "duration": 48,
    "start_time": "2023-05-08T21:36:31.763Z"
   },
   {
    "duration": 67,
    "start_time": "2023-05-08T21:36:31.812Z"
   },
   {
    "duration": 25,
    "start_time": "2023-05-08T21:36:31.881Z"
   },
   {
    "duration": 55,
    "start_time": "2023-05-08T21:36:31.907Z"
   },
   {
    "duration": 904,
    "start_time": "2023-05-08T21:36:31.963Z"
   },
   {
    "duration": 10,
    "start_time": "2023-05-08T21:36:32.869Z"
   },
   {
    "duration": 296,
    "start_time": "2023-05-08T21:36:32.881Z"
   },
   {
    "duration": 62,
    "start_time": "2023-05-08T21:36:33.179Z"
   },
   {
    "duration": 4,
    "start_time": "2023-05-08T21:36:33.243Z"
   },
   {
    "duration": 51,
    "start_time": "2023-05-08T21:36:33.249Z"
   },
   {
    "duration": 13,
    "start_time": "2023-05-08T21:36:33.302Z"
   },
   {
    "duration": 2370,
    "start_time": "2023-05-08T21:36:33.317Z"
   },
   {
    "duration": 7,
    "start_time": "2023-05-08T21:36:35.689Z"
   },
   {
    "duration": 36,
    "start_time": "2023-05-08T21:36:35.698Z"
   },
   {
    "duration": 47,
    "start_time": "2023-05-08T21:36:35.737Z"
   },
   {
    "duration": 28,
    "start_time": "2023-05-08T21:36:35.786Z"
   },
   {
    "duration": 1047,
    "start_time": "2023-05-08T21:36:35.816Z"
   },
   {
    "duration": 5,
    "start_time": "2023-05-08T21:36:36.865Z"
   },
   {
    "duration": 639,
    "start_time": "2023-05-08T21:36:36.872Z"
   },
   {
    "duration": 304,
    "start_time": "2023-05-08T21:36:37.513Z"
   },
   {
    "duration": 4,
    "start_time": "2023-05-08T21:36:37.819Z"
   },
   {
    "duration": 68,
    "start_time": "2023-05-08T21:36:37.825Z"
   },
   {
    "duration": 57,
    "start_time": "2023-05-08T21:36:37.895Z"
   },
   {
    "duration": 20,
    "start_time": "2023-05-08T21:36:37.954Z"
   },
   {
    "duration": 12,
    "start_time": "2023-05-08T21:36:37.976Z"
   },
   {
    "duration": 1821,
    "start_time": "2023-05-09T12:58:01.432Z"
   },
   {
    "duration": 200,
    "start_time": "2023-05-09T12:58:03.256Z"
   },
   {
    "duration": 27,
    "start_time": "2023-05-09T12:58:03.458Z"
   },
   {
    "duration": 9,
    "start_time": "2023-05-09T12:58:03.488Z"
   },
   {
    "duration": 633,
    "start_time": "2023-05-09T12:58:03.499Z"
   },
   {
    "duration": 6,
    "start_time": "2023-05-09T12:58:04.134Z"
   },
   {
    "duration": 15,
    "start_time": "2023-05-09T12:58:04.142Z"
   },
   {
    "duration": 32,
    "start_time": "2023-05-09T12:58:04.160Z"
   },
   {
    "duration": 32,
    "start_time": "2023-05-09T12:58:04.194Z"
   },
   {
    "duration": 63,
    "start_time": "2023-05-09T12:58:04.230Z"
   },
   {
    "duration": 16,
    "start_time": "2023-05-09T12:58:04.295Z"
   },
   {
    "duration": 25,
    "start_time": "2023-05-09T12:58:04.313Z"
   },
   {
    "duration": 14,
    "start_time": "2023-05-09T12:58:04.339Z"
   },
   {
    "duration": 104,
    "start_time": "2023-05-09T12:58:04.355Z"
   },
   {
    "duration": 45,
    "start_time": "2023-05-09T12:58:04.461Z"
   },
   {
    "duration": 24,
    "start_time": "2023-05-09T12:58:04.508Z"
   },
   {
    "duration": 92,
    "start_time": "2023-05-09T12:58:04.534Z"
   },
   {
    "duration": 10,
    "start_time": "2023-05-09T12:58:04.628Z"
   },
   {
    "duration": 254,
    "start_time": "2023-05-09T12:58:04.640Z"
   },
   {
    "duration": 16,
    "start_time": "2023-05-09T12:58:04.896Z"
   },
   {
    "duration": 16,
    "start_time": "2023-05-09T12:58:04.914Z"
   },
   {
    "duration": 8,
    "start_time": "2023-05-09T12:58:04.931Z"
   },
   {
    "duration": 120,
    "start_time": "2023-05-09T12:58:04.940Z"
   },
   {
    "duration": 68,
    "start_time": "2023-05-09T12:58:05.062Z"
   },
   {
    "duration": 87,
    "start_time": "2023-05-09T12:58:05.131Z"
   },
   {
    "duration": 17,
    "start_time": "2023-05-09T12:58:05.219Z"
   },
   {
    "duration": 111,
    "start_time": "2023-05-09T12:58:05.238Z"
   },
   {
    "duration": 38,
    "start_time": "2023-05-09T12:58:05.353Z"
   },
   {
    "duration": 125,
    "start_time": "2023-05-09T12:58:05.394Z"
   },
   {
    "duration": 16,
    "start_time": "2023-05-09T12:58:05.521Z"
   },
   {
    "duration": 17,
    "start_time": "2023-05-09T12:58:05.539Z"
   },
   {
    "duration": 221,
    "start_time": "2023-05-09T12:58:05.559Z"
   },
   {
    "duration": 371,
    "start_time": "2023-05-09T12:58:05.782Z"
   },
   {
    "duration": 9,
    "start_time": "2023-05-09T12:58:06.157Z"
   },
   {
    "duration": 236,
    "start_time": "2023-05-09T12:58:06.192Z"
   },
   {
    "duration": 296,
    "start_time": "2023-05-09T12:58:06.430Z"
   },
   {
    "duration": 9,
    "start_time": "2023-05-09T12:58:06.729Z"
   },
   {
    "duration": 413,
    "start_time": "2023-05-09T12:58:06.741Z"
   },
   {
    "duration": 14924,
    "start_time": "2023-05-09T12:58:07.155Z"
   },
   {
    "duration": 36,
    "start_time": "2023-05-09T12:58:22.082Z"
   },
   {
    "duration": 11,
    "start_time": "2023-05-09T12:58:22.120Z"
   },
   {
    "duration": 238,
    "start_time": "2023-05-09T12:58:22.193Z"
   },
   {
    "duration": 341,
    "start_time": "2023-05-09T12:58:22.434Z"
   },
   {
    "duration": 2584,
    "start_time": "2023-05-09T12:58:22.778Z"
   },
   {
    "duration": 3,
    "start_time": "2023-05-09T12:58:25.364Z"
   },
   {
    "duration": 41,
    "start_time": "2023-05-09T12:58:25.369Z"
   },
   {
    "duration": 8,
    "start_time": "2023-05-09T12:58:25.412Z"
   },
   {
    "duration": 16,
    "start_time": "2023-05-09T12:58:25.422Z"
   },
   {
    "duration": 63,
    "start_time": "2023-05-09T12:58:25.440Z"
   },
   {
    "duration": 10,
    "start_time": "2023-05-09T12:58:25.505Z"
   },
   {
    "duration": 25,
    "start_time": "2023-05-09T12:58:25.516Z"
   },
   {
    "duration": 787,
    "start_time": "2023-05-09T12:58:25.543Z"
   },
   {
    "duration": 10,
    "start_time": "2023-05-09T12:58:26.332Z"
   },
   {
    "duration": 176,
    "start_time": "2023-05-09T12:58:26.344Z"
   },
   {
    "duration": 9,
    "start_time": "2023-05-09T12:58:26.522Z"
   },
   {
    "duration": 5,
    "start_time": "2023-05-09T12:58:26.533Z"
   },
   {
    "duration": 54,
    "start_time": "2023-05-09T12:58:26.540Z"
   },
   {
    "duration": 16,
    "start_time": "2023-05-09T12:58:26.596Z"
   },
   {
    "duration": 2361,
    "start_time": "2023-05-09T12:58:26.615Z"
   },
   {
    "duration": 7,
    "start_time": "2023-05-09T12:58:28.977Z"
   },
   {
    "duration": 25,
    "start_time": "2023-05-09T12:58:28.992Z"
   },
   {
    "duration": 17,
    "start_time": "2023-05-09T12:58:29.019Z"
   },
   {
    "duration": 63,
    "start_time": "2023-05-09T12:58:29.038Z"
   },
   {
    "duration": 554,
    "start_time": "2023-05-09T12:58:29.103Z"
   },
   {
    "duration": 5,
    "start_time": "2023-05-09T12:58:29.658Z"
   },
   {
    "duration": 315,
    "start_time": "2023-05-09T12:58:29.665Z"
   },
   {
    "duration": 360,
    "start_time": "2023-05-09T12:58:29.983Z"
   },
   {
    "duration": 5,
    "start_time": "2023-05-09T12:58:30.345Z"
   },
   {
    "duration": 26,
    "start_time": "2023-05-09T12:58:30.352Z"
   },
   {
    "duration": 56,
    "start_time": "2023-05-09T12:58:30.380Z"
   },
   {
    "duration": 27,
    "start_time": "2023-05-09T12:58:30.438Z"
   },
   {
    "duration": 29,
    "start_time": "2023-05-09T12:58:30.467Z"
   },
   {
    "duration": 60,
    "start_time": "2023-05-09T15:32:01.120Z"
   },
   {
    "duration": 1846,
    "start_time": "2023-05-09T15:32:08.691Z"
   },
   {
    "duration": 198,
    "start_time": "2023-05-09T15:32:10.540Z"
   },
   {
    "duration": 37,
    "start_time": "2023-05-09T15:32:10.740Z"
   },
   {
    "duration": 8,
    "start_time": "2023-05-09T15:32:10.779Z"
   },
   {
    "duration": 586,
    "start_time": "2023-05-09T15:32:10.789Z"
   },
   {
    "duration": 8,
    "start_time": "2023-05-09T15:32:11.378Z"
   },
   {
    "duration": 33,
    "start_time": "2023-05-09T15:32:11.388Z"
   },
   {
    "duration": 27,
    "start_time": "2023-05-09T15:32:11.440Z"
   },
   {
    "duration": 81,
    "start_time": "2023-05-09T15:32:11.469Z"
   },
   {
    "duration": 4,
    "start_time": "2023-05-09T15:32:11.554Z"
   },
   {
    "duration": 10,
    "start_time": "2023-05-09T15:32:11.560Z"
   },
   {
    "duration": 39,
    "start_time": "2023-05-09T15:32:11.572Z"
   },
   {
    "duration": 31,
    "start_time": "2023-05-09T15:32:11.613Z"
   },
   {
    "duration": 104,
    "start_time": "2023-05-09T15:32:11.646Z"
   },
   {
    "duration": 27,
    "start_time": "2023-05-09T15:32:11.752Z"
   },
   {
    "duration": 48,
    "start_time": "2023-05-09T15:32:11.780Z"
   },
   {
    "duration": 81,
    "start_time": "2023-05-09T15:32:11.830Z"
   },
   {
    "duration": 10,
    "start_time": "2023-05-09T15:32:11.913Z"
   },
   {
    "duration": 240,
    "start_time": "2023-05-09T15:32:11.926Z"
   },
   {
    "duration": 14,
    "start_time": "2023-05-09T15:32:12.168Z"
   },
   {
    "duration": 27,
    "start_time": "2023-05-09T15:32:12.184Z"
   },
   {
    "duration": 16,
    "start_time": "2023-05-09T15:32:12.213Z"
   },
   {
    "duration": 95,
    "start_time": "2023-05-09T15:32:12.230Z"
   },
   {
    "duration": 44,
    "start_time": "2023-05-09T15:32:12.327Z"
   },
   {
    "duration": 92,
    "start_time": "2023-05-09T15:32:12.373Z"
   },
   {
    "duration": 15,
    "start_time": "2023-05-09T15:32:12.466Z"
   },
   {
    "duration": 116,
    "start_time": "2023-05-09T15:32:12.483Z"
   },
   {
    "duration": 49,
    "start_time": "2023-05-09T15:32:12.603Z"
   },
   {
    "duration": 87,
    "start_time": "2023-05-09T15:32:12.654Z"
   },
   {
    "duration": 16,
    "start_time": "2023-05-09T15:32:12.744Z"
   },
   {
    "duration": 34,
    "start_time": "2023-05-09T15:32:12.762Z"
   },
   {
    "duration": 295,
    "start_time": "2023-05-09T15:32:12.798Z"
   },
   {
    "duration": 355,
    "start_time": "2023-05-09T15:32:13.096Z"
   },
   {
    "duration": 9,
    "start_time": "2023-05-09T15:32:13.454Z"
   },
   {
    "duration": 275,
    "start_time": "2023-05-09T15:32:13.466Z"
   },
   {
    "duration": 270,
    "start_time": "2023-05-09T15:32:13.743Z"
   },
   {
    "duration": 6,
    "start_time": "2023-05-09T15:32:14.015Z"
   },
   {
    "duration": 154,
    "start_time": "2023-05-09T15:32:14.023Z"
   },
   {
    "duration": 15943,
    "start_time": "2023-05-09T15:32:14.179Z"
   },
   {
    "duration": 37,
    "start_time": "2023-05-09T15:32:30.125Z"
   },
   {
    "duration": 83,
    "start_time": "2023-05-09T15:32:30.164Z"
   },
   {
    "duration": 218,
    "start_time": "2023-05-09T15:32:30.249Z"
   },
   {
    "duration": 185,
    "start_time": "2023-05-09T15:32:30.469Z"
   },
   {
    "duration": 2148,
    "start_time": "2023-05-09T15:32:30.657Z"
   },
   {
    "duration": 2,
    "start_time": "2023-05-09T15:32:32.808Z"
   },
   {
    "duration": 50,
    "start_time": "2023-05-09T15:32:32.812Z"
   },
   {
    "duration": 23,
    "start_time": "2023-05-09T15:32:32.864Z"
   },
   {
    "duration": 27,
    "start_time": "2023-05-09T15:32:32.889Z"
   },
   {
    "duration": 33,
    "start_time": "2023-05-09T15:32:32.919Z"
   },
   {
    "duration": 19,
    "start_time": "2023-05-09T15:32:32.954Z"
   },
   {
    "duration": 51,
    "start_time": "2023-05-09T15:32:32.975Z"
   },
   {
    "duration": 752,
    "start_time": "2023-05-09T15:32:33.028Z"
   },
   {
    "duration": 9,
    "start_time": "2023-05-09T15:32:33.782Z"
   },
   {
    "duration": 444,
    "start_time": "2023-05-09T15:32:33.793Z"
   },
   {
    "duration": 8,
    "start_time": "2023-05-09T15:32:34.241Z"
   },
   {
    "duration": 15,
    "start_time": "2023-05-09T15:32:34.251Z"
   },
   {
    "duration": 28,
    "start_time": "2023-05-09T15:32:34.268Z"
   },
   {
    "duration": 13,
    "start_time": "2023-05-09T15:32:34.297Z"
   },
   {
    "duration": 2439,
    "start_time": "2023-05-09T15:32:34.312Z"
   },
   {
    "duration": 7,
    "start_time": "2023-05-09T15:32:36.754Z"
   },
   {
    "duration": 97,
    "start_time": "2023-05-09T15:32:36.763Z"
   },
   {
    "duration": 120,
    "start_time": "2023-05-09T15:32:36.862Z"
   },
   {
    "duration": 96,
    "start_time": "2023-05-09T15:32:36.983Z"
   },
   {
    "duration": 332,
    "start_time": "2023-05-09T15:32:37.081Z"
   },
   {
    "duration": 4,
    "start_time": "2023-05-09T15:32:37.415Z"
   },
   {
    "duration": 327,
    "start_time": "2023-05-09T15:32:37.421Z"
   },
   {
    "duration": 304,
    "start_time": "2023-05-09T15:32:37.750Z"
   },
   {
    "duration": 5,
    "start_time": "2023-05-09T15:32:38.055Z"
   },
   {
    "duration": 29,
    "start_time": "2023-05-09T15:32:38.062Z"
   },
   {
    "duration": 63,
    "start_time": "2023-05-09T15:32:38.093Z"
   },
   {
    "duration": 24,
    "start_time": "2023-05-09T15:32:38.159Z"
   },
   {
    "duration": 6,
    "start_time": "2023-05-09T15:32:38.185Z"
   },
   {
    "duration": 21,
    "start_time": "2023-05-09T15:33:03.838Z"
   },
   {
    "duration": 1756,
    "start_time": "2023-05-09T18:36:57.463Z"
   },
   {
    "duration": 260,
    "start_time": "2023-05-09T18:36:59.221Z"
   },
   {
    "duration": 28,
    "start_time": "2023-05-09T18:36:59.483Z"
   },
   {
    "duration": 8,
    "start_time": "2023-05-09T18:36:59.514Z"
   },
   {
    "duration": 545,
    "start_time": "2023-05-09T18:36:59.523Z"
   },
   {
    "duration": 9,
    "start_time": "2023-05-09T18:37:00.070Z"
   },
   {
    "duration": 31,
    "start_time": "2023-05-09T18:37:00.082Z"
   },
   {
    "duration": 64,
    "start_time": "2023-05-09T18:37:00.116Z"
   },
   {
    "duration": 58,
    "start_time": "2023-05-09T18:37:00.183Z"
   },
   {
    "duration": 17,
    "start_time": "2023-05-09T18:37:00.244Z"
   },
   {
    "duration": 36,
    "start_time": "2023-05-09T18:37:00.263Z"
   },
   {
    "duration": 35,
    "start_time": "2023-05-09T18:37:00.302Z"
   },
   {
    "duration": 20,
    "start_time": "2023-05-09T18:37:00.338Z"
   },
   {
    "duration": 77,
    "start_time": "2023-05-09T18:37:00.360Z"
   },
   {
    "duration": 72,
    "start_time": "2023-05-09T18:37:00.439Z"
   },
   {
    "duration": 34,
    "start_time": "2023-05-09T18:37:00.513Z"
   },
   {
    "duration": 87,
    "start_time": "2023-05-09T18:37:00.550Z"
   },
   {
    "duration": 11,
    "start_time": "2023-05-09T18:37:00.639Z"
   },
   {
    "duration": 295,
    "start_time": "2023-05-09T18:37:00.651Z"
   },
   {
    "duration": 18,
    "start_time": "2023-05-09T18:37:00.949Z"
   },
   {
    "duration": 33,
    "start_time": "2023-05-09T18:37:00.969Z"
   },
   {
    "duration": 40,
    "start_time": "2023-05-09T18:37:01.005Z"
   },
   {
    "duration": 100,
    "start_time": "2023-05-09T18:37:01.048Z"
   },
   {
    "duration": 55,
    "start_time": "2023-05-09T18:37:01.150Z"
   },
   {
    "duration": 89,
    "start_time": "2023-05-09T18:37:01.206Z"
   },
   {
    "duration": 14,
    "start_time": "2023-05-09T18:37:01.298Z"
   },
   {
    "duration": 120,
    "start_time": "2023-05-09T18:37:01.313Z"
   },
   {
    "duration": 75,
    "start_time": "2023-05-09T18:37:01.439Z"
   },
   {
    "duration": 116,
    "start_time": "2023-05-09T18:37:01.516Z"
   },
   {
    "duration": 15,
    "start_time": "2023-05-09T18:37:01.634Z"
   },
   {
    "duration": 82,
    "start_time": "2023-05-09T18:37:01.652Z"
   },
   {
    "duration": 211,
    "start_time": "2023-05-09T18:37:01.736Z"
   },
   {
    "duration": 342,
    "start_time": "2023-05-09T18:37:01.950Z"
   },
   {
    "duration": 9,
    "start_time": "2023-05-09T18:37:02.294Z"
   },
   {
    "duration": 310,
    "start_time": "2023-05-09T18:37:02.306Z"
   },
   {
    "duration": 287,
    "start_time": "2023-05-09T18:37:02.619Z"
   },
   {
    "duration": 8,
    "start_time": "2023-05-09T18:37:02.907Z"
   },
   {
    "duration": 264,
    "start_time": "2023-05-09T18:37:02.917Z"
   },
   {
    "duration": 15902,
    "start_time": "2023-05-09T18:37:03.183Z"
   },
   {
    "duration": 30,
    "start_time": "2023-05-09T18:37:19.092Z"
   },
   {
    "duration": 71,
    "start_time": "2023-05-09T18:37:19.124Z"
   },
   {
    "duration": 212,
    "start_time": "2023-05-09T18:37:19.197Z"
   },
   {
    "duration": 216,
    "start_time": "2023-05-09T18:37:19.410Z"
   },
   {
    "duration": 2267,
    "start_time": "2023-05-09T18:37:19.628Z"
   },
   {
    "duration": 3,
    "start_time": "2023-05-09T18:37:21.897Z"
   },
   {
    "duration": 36,
    "start_time": "2023-05-09T18:37:21.902Z"
   },
   {
    "duration": 12,
    "start_time": "2023-05-09T18:37:21.940Z"
   },
   {
    "duration": 50,
    "start_time": "2023-05-09T18:37:21.954Z"
   },
   {
    "duration": 22,
    "start_time": "2023-05-09T18:37:22.006Z"
   },
   {
    "duration": 8,
    "start_time": "2023-05-09T18:37:22.030Z"
   },
   {
    "duration": 28,
    "start_time": "2023-05-09T18:37:22.040Z"
   },
   {
    "duration": 786,
    "start_time": "2023-05-09T18:37:22.070Z"
   },
   {
    "duration": 10,
    "start_time": "2023-05-09T18:37:22.859Z"
   },
   {
    "duration": 161,
    "start_time": "2023-05-09T18:37:22.872Z"
   },
   {
    "duration": 8,
    "start_time": "2023-05-09T18:37:23.035Z"
   },
   {
    "duration": 7,
    "start_time": "2023-05-09T18:37:23.044Z"
   },
   {
    "duration": 46,
    "start_time": "2023-05-09T18:37:23.053Z"
   },
   {
    "duration": 14,
    "start_time": "2023-05-09T18:37:23.101Z"
   },
   {
    "duration": 2438,
    "start_time": "2023-05-09T18:37:23.117Z"
   },
   {
    "duration": 7,
    "start_time": "2023-05-09T18:37:25.557Z"
   },
   {
    "duration": 47,
    "start_time": "2023-05-09T18:37:25.567Z"
   },
   {
    "duration": 19,
    "start_time": "2023-05-09T18:37:25.616Z"
   },
   {
    "duration": 56,
    "start_time": "2023-05-09T18:37:25.637Z"
   },
   {
    "duration": 516,
    "start_time": "2023-05-09T18:37:25.695Z"
   },
   {
    "duration": 4,
    "start_time": "2023-05-09T18:37:26.213Z"
   },
   {
    "duration": 335,
    "start_time": "2023-05-09T18:37:26.219Z"
   },
   {
    "duration": 279,
    "start_time": "2023-05-09T18:37:26.556Z"
   },
   {
    "duration": 6,
    "start_time": "2023-05-09T18:37:26.837Z"
   },
   {
    "duration": 19,
    "start_time": "2023-05-09T18:37:26.845Z"
   },
   {
    "duration": 62,
    "start_time": "2023-05-09T18:37:26.866Z"
   },
   {
    "duration": 23,
    "start_time": "2023-05-09T18:37:26.930Z"
   },
   {
    "duration": 4,
    "start_time": "2023-05-09T18:37:26.955Z"
   },
   {
    "duration": 4,
    "start_time": "2023-05-09T19:08:25.305Z"
   },
   {
    "duration": 45,
    "start_time": "2023-05-09T19:08:50.311Z"
   },
   {
    "duration": 1682,
    "start_time": "2023-05-09T19:09:36.218Z"
   },
   {
    "duration": 242,
    "start_time": "2023-05-09T19:09:37.902Z"
   },
   {
    "duration": 28,
    "start_time": "2023-05-09T19:09:38.146Z"
   },
   {
    "duration": 18,
    "start_time": "2023-05-09T19:09:38.177Z"
   },
   {
    "duration": 620,
    "start_time": "2023-05-09T19:09:38.197Z"
   },
   {
    "duration": 33,
    "start_time": "2023-05-09T19:10:03.549Z"
   },
   {
    "duration": 1617,
    "start_time": "2023-05-09T19:10:42.454Z"
   },
   {
    "duration": 179,
    "start_time": "2023-05-09T19:10:44.073Z"
   },
   {
    "duration": 41,
    "start_time": "2023-05-09T19:10:44.254Z"
   },
   {
    "duration": 11,
    "start_time": "2023-05-09T19:10:44.297Z"
   },
   {
    "duration": 625,
    "start_time": "2023-05-09T19:10:44.310Z"
   },
   {
    "duration": 37,
    "start_time": "2023-05-09T19:10:46.023Z"
   },
   {
    "duration": 22,
    "start_time": "2023-05-09T19:12:38.707Z"
   },
   {
    "duration": 18,
    "start_time": "2023-05-09T19:14:51.074Z"
   },
   {
    "duration": 24,
    "start_time": "2023-05-09T19:15:46.601Z"
   },
   {
    "duration": 65,
    "start_time": "2023-05-09T19:18:11.629Z"
   },
   {
    "duration": 32,
    "start_time": "2023-05-09T19:19:03.603Z"
   },
   {
    "duration": 1514,
    "start_time": "2023-05-09T19:46:39.278Z"
   },
   {
    "duration": 336,
    "start_time": "2023-05-09T19:46:40.794Z"
   },
   {
    "duration": 29,
    "start_time": "2023-05-09T19:46:41.132Z"
   },
   {
    "duration": 8,
    "start_time": "2023-05-09T19:46:41.163Z"
   },
   {
    "duration": 533,
    "start_time": "2023-05-09T19:46:41.172Z"
   },
   {
    "duration": 31,
    "start_time": "2023-05-09T19:46:41.706Z"
   },
   {
    "duration": 55,
    "start_time": "2023-05-09T19:46:41.738Z"
   },
   {
    "duration": 19,
    "start_time": "2023-05-09T19:46:41.795Z"
   },
   {
    "duration": 15,
    "start_time": "2023-05-09T19:46:41.816Z"
   },
   {
    "duration": 61,
    "start_time": "2023-05-09T19:46:41.834Z"
   },
   {
    "duration": 6,
    "start_time": "2023-05-09T19:46:41.896Z"
   },
   {
    "duration": 12,
    "start_time": "2023-05-09T19:46:41.904Z"
   },
   {
    "duration": 22,
    "start_time": "2023-05-09T19:46:41.917Z"
   },
   {
    "duration": 4,
    "start_time": "2023-05-09T19:46:41.991Z"
   },
   {
    "duration": 9,
    "start_time": "2023-05-09T19:46:41.996Z"
   },
   {
    "duration": 17,
    "start_time": "2023-05-09T19:46:42.007Z"
   },
   {
    "duration": 12,
    "start_time": "2023-05-09T19:46:42.025Z"
   },
   {
    "duration": 108,
    "start_time": "2023-05-09T19:46:42.038Z"
   },
   {
    "duration": 19,
    "start_time": "2023-05-09T19:46:42.148Z"
   },
   {
    "duration": 45,
    "start_time": "2023-05-09T19:46:42.168Z"
   },
   {
    "duration": 86,
    "start_time": "2023-05-09T19:46:42.216Z"
   },
   {
    "duration": 10,
    "start_time": "2023-05-09T19:46:42.304Z"
   },
   {
    "duration": 282,
    "start_time": "2023-05-09T19:46:42.316Z"
   },
   {
    "duration": 14,
    "start_time": "2023-05-09T19:46:42.600Z"
   },
   {
    "duration": 14,
    "start_time": "2023-05-09T19:46:42.616Z"
   },
   {
    "duration": 5,
    "start_time": "2023-05-09T19:46:42.633Z"
   },
   {
    "duration": 146,
    "start_time": "2023-05-09T19:46:42.641Z"
   },
   {
    "duration": 40,
    "start_time": "2023-05-09T19:46:42.791Z"
   },
   {
    "duration": 106,
    "start_time": "2023-05-09T19:46:42.833Z"
   },
   {
    "duration": 16,
    "start_time": "2023-05-09T19:46:42.941Z"
   },
   {
    "duration": 117,
    "start_time": "2023-05-09T19:46:42.958Z"
   },
   {
    "duration": 37,
    "start_time": "2023-05-09T19:46:43.077Z"
   },
   {
    "duration": 121,
    "start_time": "2023-05-09T19:46:43.116Z"
   },
   {
    "duration": 15,
    "start_time": "2023-05-09T19:46:43.239Z"
   },
   {
    "duration": 14,
    "start_time": "2023-05-09T19:46:43.255Z"
   },
   {
    "duration": 171,
    "start_time": "2023-05-09T19:46:43.293Z"
   },
   {
    "duration": 329,
    "start_time": "2023-05-09T19:46:43.467Z"
   },
   {
    "duration": 9,
    "start_time": "2023-05-09T19:46:43.799Z"
   },
   {
    "duration": 285,
    "start_time": "2023-05-09T19:46:43.810Z"
   },
   {
    "duration": 360,
    "start_time": "2023-05-09T19:46:44.097Z"
   },
   {
    "duration": 6,
    "start_time": "2023-05-09T19:46:44.459Z"
   },
   {
    "duration": 199,
    "start_time": "2023-05-09T19:46:44.467Z"
   },
   {
    "duration": 14972,
    "start_time": "2023-05-09T19:46:44.668Z"
   },
   {
    "duration": 51,
    "start_time": "2023-05-09T19:46:59.642Z"
   },
   {
    "duration": 8,
    "start_time": "2023-05-09T19:46:59.694Z"
   },
   {
    "duration": 128,
    "start_time": "2023-05-09T19:46:59.703Z"
   },
   {
    "duration": 295,
    "start_time": "2023-05-09T19:46:59.832Z"
   },
   {
    "duration": 2109,
    "start_time": "2023-05-09T19:47:00.129Z"
   },
   {
    "duration": 3,
    "start_time": "2023-05-09T19:47:02.239Z"
   },
   {
    "duration": 18,
    "start_time": "2023-05-09T19:47:02.244Z"
   },
   {
    "duration": 8,
    "start_time": "2023-05-09T19:47:02.292Z"
   },
   {
    "duration": 18,
    "start_time": "2023-05-09T19:47:02.302Z"
   },
   {
    "duration": 18,
    "start_time": "2023-05-09T19:47:02.322Z"
   },
   {
    "duration": 7,
    "start_time": "2023-05-09T19:47:02.342Z"
   },
   {
    "duration": 58,
    "start_time": "2023-05-09T19:47:02.351Z"
   },
   {
    "duration": 807,
    "start_time": "2023-05-09T19:47:02.411Z"
   },
   {
    "duration": 11,
    "start_time": "2023-05-09T19:47:03.219Z"
   },
   {
    "duration": 148,
    "start_time": "2023-05-09T19:47:03.232Z"
   },
   {
    "duration": 14,
    "start_time": "2023-05-09T19:47:03.382Z"
   },
   {
    "duration": 7,
    "start_time": "2023-05-09T19:47:03.399Z"
   },
   {
    "duration": 29,
    "start_time": "2023-05-09T19:47:03.408Z"
   },
   {
    "duration": 16,
    "start_time": "2023-05-09T19:47:03.439Z"
   },
   {
    "duration": 2605,
    "start_time": "2023-05-09T19:47:03.457Z"
   },
   {
    "duration": 8,
    "start_time": "2023-05-09T19:47:06.065Z"
   },
   {
    "duration": 27,
    "start_time": "2023-05-09T19:47:06.091Z"
   },
   {
    "duration": 28,
    "start_time": "2023-05-09T19:47:06.120Z"
   },
   {
    "duration": 47,
    "start_time": "2023-05-09T19:47:06.150Z"
   },
   {
    "duration": 289,
    "start_time": "2023-05-09T19:47:06.199Z"
   },
   {
    "duration": 4,
    "start_time": "2023-05-09T19:47:06.495Z"
   },
   {
    "duration": 312,
    "start_time": "2023-05-09T19:47:06.501Z"
   },
   {
    "duration": 257,
    "start_time": "2023-05-09T19:47:06.815Z"
   },
   {
    "duration": 5,
    "start_time": "2023-05-09T19:47:07.074Z"
   },
   {
    "duration": 18,
    "start_time": "2023-05-09T19:47:07.092Z"
   },
   {
    "duration": 64,
    "start_time": "2023-05-09T19:47:07.112Z"
   },
   {
    "duration": 37,
    "start_time": "2023-05-09T19:47:07.178Z"
   },
   {
    "duration": 8,
    "start_time": "2023-05-09T19:47:07.217Z"
   },
   {
    "duration": 1954,
    "start_time": "2023-05-10T09:03:43.911Z"
   },
   {
    "duration": 125,
    "start_time": "2023-05-10T09:03:45.868Z"
   },
   {
    "duration": 29,
    "start_time": "2023-05-10T09:03:45.996Z"
   },
   {
    "duration": 27,
    "start_time": "2023-05-10T09:03:46.028Z"
   },
   {
    "duration": 644,
    "start_time": "2023-05-10T09:03:46.057Z"
   },
   {
    "duration": 34,
    "start_time": "2023-05-10T09:03:46.703Z"
   },
   {
    "duration": 24,
    "start_time": "2023-05-10T09:03:46.739Z"
   },
   {
    "duration": 86,
    "start_time": "2023-05-10T09:03:46.765Z"
   },
   {
    "duration": 27,
    "start_time": "2023-05-10T09:03:46.853Z"
   },
   {
    "duration": 57,
    "start_time": "2023-05-10T09:03:46.884Z"
   },
   {
    "duration": 26,
    "start_time": "2023-05-10T09:03:46.943Z"
   },
   {
    "duration": 21,
    "start_time": "2023-05-10T09:03:46.972Z"
   },
   {
    "duration": 43,
    "start_time": "2023-05-10T09:03:46.996Z"
   },
   {
    "duration": 12,
    "start_time": "2023-05-10T09:03:47.041Z"
   },
   {
    "duration": 13,
    "start_time": "2023-05-10T09:03:47.055Z"
   },
   {
    "duration": 29,
    "start_time": "2023-05-10T09:03:47.070Z"
   },
   {
    "duration": 34,
    "start_time": "2023-05-10T09:03:47.101Z"
   },
   {
    "duration": 82,
    "start_time": "2023-05-10T09:03:47.137Z"
   },
   {
    "duration": 28,
    "start_time": "2023-05-10T09:03:47.221Z"
   },
   {
    "duration": 23,
    "start_time": "2023-05-10T09:03:47.251Z"
   },
   {
    "duration": 126,
    "start_time": "2023-05-10T09:03:47.276Z"
   },
   {
    "duration": 11,
    "start_time": "2023-05-10T09:03:47.404Z"
   },
   {
    "duration": 335,
    "start_time": "2023-05-10T09:03:47.417Z"
   },
   {
    "duration": 19,
    "start_time": "2023-05-10T09:03:47.754Z"
   },
   {
    "duration": 28,
    "start_time": "2023-05-10T09:03:47.775Z"
   },
   {
    "duration": 17,
    "start_time": "2023-05-10T09:03:47.804Z"
   },
   {
    "duration": 108,
    "start_time": "2023-05-10T09:03:47.824Z"
   },
   {
    "duration": 40,
    "start_time": "2023-05-10T09:03:47.937Z"
   },
   {
    "duration": 103,
    "start_time": "2023-05-10T09:03:47.979Z"
   },
   {
    "duration": 17,
    "start_time": "2023-05-10T09:03:48.084Z"
   },
   {
    "duration": 122,
    "start_time": "2023-05-10T09:03:48.103Z"
   },
   {
    "duration": 25,
    "start_time": "2023-05-10T09:03:48.226Z"
   },
   {
    "duration": 100,
    "start_time": "2023-05-10T09:03:48.253Z"
   },
   {
    "duration": 13,
    "start_time": "2023-05-10T09:03:48.355Z"
   },
   {
    "duration": 15,
    "start_time": "2023-05-10T09:03:48.370Z"
   },
   {
    "duration": 185,
    "start_time": "2023-05-10T09:03:48.387Z"
   },
   {
    "duration": 366,
    "start_time": "2023-05-10T09:03:48.574Z"
   },
   {
    "duration": 8,
    "start_time": "2023-05-10T09:03:48.943Z"
   },
   {
    "duration": 292,
    "start_time": "2023-05-10T09:03:48.952Z"
   },
   {
    "duration": 382,
    "start_time": "2023-05-10T09:03:49.246Z"
   },
   {
    "duration": 8,
    "start_time": "2023-05-10T09:03:49.634Z"
   },
   {
    "duration": 274,
    "start_time": "2023-05-10T09:03:49.643Z"
   },
   {
    "duration": 15731,
    "start_time": "2023-05-10T09:03:49.918Z"
   },
   {
    "duration": 25,
    "start_time": "2023-05-10T09:04:05.651Z"
   },
   {
    "duration": 62,
    "start_time": "2023-05-10T09:04:05.678Z"
   },
   {
    "duration": 206,
    "start_time": "2023-05-10T09:04:05.742Z"
   },
   {
    "duration": 298,
    "start_time": "2023-05-10T09:04:05.950Z"
   },
   {
    "duration": 2371,
    "start_time": "2023-05-10T09:04:06.250Z"
   },
   {
    "duration": 9,
    "start_time": "2023-05-10T09:04:08.624Z"
   },
   {
    "duration": 23,
    "start_time": "2023-05-10T09:04:08.635Z"
   },
   {
    "duration": 37,
    "start_time": "2023-05-10T09:04:08.660Z"
   },
   {
    "duration": 45,
    "start_time": "2023-05-10T09:04:08.699Z"
   },
   {
    "duration": 28,
    "start_time": "2023-05-10T09:04:08.746Z"
   },
   {
    "duration": 15,
    "start_time": "2023-05-10T09:04:08.777Z"
   },
   {
    "duration": 40,
    "start_time": "2023-05-10T09:04:08.794Z"
   },
   {
    "duration": 817,
    "start_time": "2023-05-10T09:04:08.836Z"
   },
   {
    "duration": 8,
    "start_time": "2023-05-10T09:04:09.655Z"
   },
   {
    "duration": 151,
    "start_time": "2023-05-10T09:04:09.665Z"
   },
   {
    "duration": 17,
    "start_time": "2023-05-10T09:04:09.819Z"
   },
   {
    "duration": 23,
    "start_time": "2023-05-10T09:04:09.837Z"
   },
   {
    "duration": 45,
    "start_time": "2023-05-10T09:04:09.862Z"
   },
   {
    "duration": 14,
    "start_time": "2023-05-10T09:04:09.909Z"
   },
   {
    "duration": 2801,
    "start_time": "2023-05-10T09:04:09.925Z"
   },
   {
    "duration": 8,
    "start_time": "2023-05-10T09:04:12.728Z"
   },
   {
    "duration": 53,
    "start_time": "2023-05-10T09:04:12.738Z"
   },
   {
    "duration": 47,
    "start_time": "2023-05-10T09:04:12.792Z"
   },
   {
    "duration": 34,
    "start_time": "2023-05-10T09:04:12.842Z"
   },
   {
    "duration": 319,
    "start_time": "2023-05-10T09:04:12.879Z"
   },
   {
    "duration": 5,
    "start_time": "2023-05-10T09:04:13.200Z"
   },
   {
    "duration": 333,
    "start_time": "2023-05-10T09:04:13.210Z"
   },
   {
    "duration": 277,
    "start_time": "2023-05-10T09:04:13.544Z"
   },
   {
    "duration": 4,
    "start_time": "2023-05-10T09:04:13.823Z"
   },
   {
    "duration": 33,
    "start_time": "2023-05-10T09:04:13.833Z"
   },
   {
    "duration": 71,
    "start_time": "2023-05-10T09:04:13.869Z"
   },
   {
    "duration": 21,
    "start_time": "2023-05-10T09:04:13.943Z"
   },
   {
    "duration": 8,
    "start_time": "2023-05-10T09:04:13.966Z"
   },
   {
    "duration": 10,
    "start_time": "2023-05-10T09:08:04.389Z"
   },
   {
    "duration": 94,
    "start_time": "2023-05-10T09:09:22.497Z"
   },
   {
    "duration": 15,
    "start_time": "2023-05-10T09:10:10.288Z"
   },
   {
    "duration": 14,
    "start_time": "2023-05-10T09:10:28.321Z"
   },
   {
    "duration": 26,
    "start_time": "2023-05-10T09:10:50.909Z"
   },
   {
    "duration": 205,
    "start_time": "2023-05-10T09:11:07.953Z"
   },
   {
    "duration": 19,
    "start_time": "2023-05-10T09:12:11.442Z"
   },
   {
    "duration": 16,
    "start_time": "2023-05-10T09:12:19.957Z"
   },
   {
    "duration": 18,
    "start_time": "2023-05-10T09:12:31.744Z"
   },
   {
    "duration": 89,
    "start_time": "2023-05-10T09:12:46.083Z"
   },
   {
    "duration": 109,
    "start_time": "2023-05-10T09:13:51.205Z"
   },
   {
    "duration": 28,
    "start_time": "2023-05-10T09:15:28.469Z"
   },
   {
    "duration": 5,
    "start_time": "2023-05-10T09:16:10.127Z"
   },
   {
    "duration": 15,
    "start_time": "2023-05-10T09:24:20.365Z"
   },
   {
    "duration": 101,
    "start_time": "2023-05-10T09:24:44.172Z"
   },
   {
    "duration": 180,
    "start_time": "2023-05-10T09:25:39.366Z"
   },
   {
    "duration": 104,
    "start_time": "2023-05-10T09:25:50.621Z"
   },
   {
    "duration": 18,
    "start_time": "2023-05-10T09:26:29.417Z"
   },
   {
    "duration": 19,
    "start_time": "2023-05-10T09:26:55.328Z"
   },
   {
    "duration": 18,
    "start_time": "2023-05-10T09:27:07.817Z"
   },
   {
    "duration": 100,
    "start_time": "2023-05-10T09:28:10.881Z"
   },
   {
    "duration": 64,
    "start_time": "2023-05-26T08:46:30.819Z"
   },
   {
    "duration": 1828,
    "start_time": "2023-05-26T08:46:34.110Z"
   },
   {
    "duration": 399,
    "start_time": "2023-05-26T08:46:35.940Z"
   },
   {
    "duration": 27,
    "start_time": "2023-05-26T08:46:37.749Z"
   },
   {
    "duration": 12,
    "start_time": "2023-05-26T08:46:44.906Z"
   },
   {
    "duration": 575,
    "start_time": "2023-05-26T08:47:09.863Z"
   },
   {
    "duration": 6,
    "start_time": "2023-05-26T08:47:23.724Z"
   },
   {
    "duration": 111,
    "start_time": "2023-05-26T08:47:24.419Z"
   },
   {
    "duration": 10,
    "start_time": "2023-05-26T08:49:40.247Z"
   },
   {
    "duration": 114,
    "start_time": "2023-05-26T08:49:43.731Z"
   }
  ],
  "celltoolbar": "Отсутствует",
  "kernelspec": {
   "display_name": "Python 3 (ipykernel)",
   "language": "python",
   "name": "python3"
  },
  "language_info": {
   "codemirror_mode": {
    "name": "ipython",
    "version": 3
   },
   "file_extension": ".py",
   "mimetype": "text/x-python",
   "name": "python",
   "nbconvert_exporter": "python",
   "pygments_lexer": "ipython3",
   "version": "3.11.5"
  },
  "toc": {
   "base_numbering": 1,
   "nav_menu": {},
   "number_sections": true,
   "sideBar": true,
   "skip_h1_title": true,
   "title_cell": "План работы",
   "title_sidebar": "Contents",
   "toc_cell": true,
   "toc_position": {
    "height": "calc(100% - 180px)",
    "left": "10px",
    "top": "150px",
    "width": "225.188px"
   },
   "toc_section_display": true,
   "toc_window_display": true
  }
 },
 "nbformat": 4,
 "nbformat_minor": 4
}
